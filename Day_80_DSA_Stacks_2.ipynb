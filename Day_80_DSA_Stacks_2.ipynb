{
  "nbformat": 4,
  "nbformat_minor": 0,
  "metadata": {
    "colab": {
      "provenance": [],
      "authorship_tag": "ABX9TyOeI0vUVezOto1Di5GXFSe1",
      "include_colab_link": true
    },
    "kernelspec": {
      "name": "python3",
      "display_name": "Python 3"
    },
    "language_info": {
      "name": "python"
    }
  },
  "cells": [
    {
      "cell_type": "markdown",
      "metadata": {
        "id": "view-in-github",
        "colab_type": "text"
      },
      "source": [
        "<a href=\"https://colab.research.google.com/github/Rama27SepIBM/Data-Science-For-Beginners/blob/main/Day_80_DSA_Stacks_2.ipynb\" target=\"_parent\"><img src=\"https://colab.research.google.com/assets/colab-badge.svg\" alt=\"Open In Colab\"/></a>"
      ]
    },
    {
      "cell_type": "markdown",
      "source": [
        "Q1. Min Stack\n",
        "\n",
        "Design a stack that supports push, pop, top, and retrieve the minimum element in constant time.\n",
        "push(x) -- Push element x onto stack.\n",
        "pop() -- Removes the element on top of the stack.\n",
        "top() -- Get the top element.\n",
        "getMin() -- Retrieve the minimum element in the stack.\n",
        "NOTE:\n",
        "All the operations have to be constant time operations.\n",
        "getMin() should return -1 if the stack is empty.\n",
        "pop() should return nothing if the stack is empty.\n",
        "top() should return -1 if the stack is empty.\n",
        "Problem Constraints\n",
        "\n",
        "1 <= Number of Function calls <= 107"
      ],
      "metadata": {
        "id": "j5othPDoz2Ah"
      }
    },
    {
      "cell_type": "code",
      "execution_count": null,
      "metadata": {
        "id": "6leMCyEpz1Nh"
      },
      "outputs": [],
      "source": [
        "class MinStack:\n",
        "    \n",
        "    # @param x, an integer\n",
        "    # @return nothing\n",
        "    def push(self, x):\n",
        "        self.stack.append(x)\n",
        "        if not self.min_stack or x <= self.min_stack[-1]:\n",
        "            self.min_stack.append(x)\n",
        "        \n",
        "\n",
        "    # @return nothing\n",
        "    def pop(self):\n",
        "        if self.stack:\n",
        "            x = self.stack.pop()\n",
        "            if x == self.min_stack[-1]:\n",
        "                self.min_stack.pop()\n",
        "\n",
        "    # @return an integer\n",
        "    def top(self):\n",
        "        if self.stack:\n",
        "            return self.stack[-1]\n",
        "        return -1\n",
        "\n",
        "    # @return an integer\n",
        "    def getMin(self):\n",
        "        if self.min_stack:\n",
        "            return self.min_stack[-1]\n",
        "        return -1\n",
        "        \n",
        "    def __init__(self):\n",
        "        self.stack = []\n",
        "        self.min_stack = []"
      ]
    },
    {
      "cell_type": "markdown",
      "source": [
        "Q2. Nearest Smaller Element\n",
        "\n",
        "Given an array A, find the nearest smaller element G[i] for every element A[i] in the array such that the element has an index smaller than i.\n",
        "\n",
        "More formally,\n",
        "\n",
        "G[i] for an element A[i] = an element A[j] such that\n",
        "\n",
        "j is maximum possible AND\n",
        "\n",
        "j < i AND\n",
        "\n",
        "A[j] < A[i]\n",
        "\n",
        "Elements for which no smaller element exist, consider the next smaller element as -1."
      ],
      "metadata": {
        "id": "Ls7YNxFO0T9M"
      }
    },
    {
      "cell_type": "code",
      "source": [
        "class Solution:\n",
        "\t# @param A : list of integers\n",
        "\t# @return a list of integers\n",
        "\tdef prevSmaller(self, A):\n",
        "        stack = []\n",
        "        G = [-1] * len(A)\n",
        "        for i in range(len(A)):\n",
        "            while stack and A[stack[-1]] >= A[i]:\n",
        "                stack.pop()\n",
        "            if stack:\n",
        "                G[i] = A[stack[-1]]\n",
        "            stack.append(i)\n",
        "        return G"
      ],
      "metadata": {
        "id": "PFrsiULK0do7"
      },
      "execution_count": null,
      "outputs": []
    },
    {
      "cell_type": "markdown",
      "source": [
        "Q3. Largest Rectangle in Histogram\n",
        "\n",
        "Given an array of integers A.\n",
        "\n",
        "A represents a histogram i.e A[i] denotes the height of the ith histogram's bar. Width of each bar is 1.\n",
        "\n",
        "Find the area of the largest rectangle formed by the histogram."
      ],
      "metadata": {
        "id": "T4R-BVNp0jZR"
      }
    },
    {
      "cell_type": "code",
      "source": [
        "class Solution:\n",
        "\t# @param A : list of integers\n",
        "\t# @return an integer\n",
        "\tdef largestRectangleArea(self, A):\n",
        "        d = [-1]\n",
        "        max_area = 0\n",
        "        for i in range(len(A)):\n",
        "            while d and A[d[-1]] > A[i]:\n",
        "                height = A[d.pop()]\n",
        "                width = i if not d else i - d[-1] - 1\n",
        "                area = height * width\n",
        "                max_area = max(max_area, area)\n",
        "            d.append(i)\n",
        "\n",
        "        while d:\n",
        "            height = A[d.pop()]\n",
        "            width = len(A) if not d else len(A) - d[-1] - 1\n",
        "            area = height * width\n",
        "            max_area = max(max_area, area)\n",
        "        return max_area"
      ],
      "metadata": {
        "id": "yRPUviy20tUQ"
      },
      "execution_count": null,
      "outputs": []
    },
    {
      "cell_type": "markdown",
      "source": [
        "Q1. Next Greater\n",
        "\n",
        "Given an array A, find the next greater element G[i] for every element A[i] in the array.\n",
        "The next greater element for an element A[i] is the first greater element on the right side of A[i] in the array, A.\n",
        "\n",
        "More formally:\n",
        "\n",
        "G[i] for an element A[i] = an element A[j] such that \n",
        "    j is minimum possible AND \n",
        "    j > i AND\n",
        "    A[j] > A[i]\n",
        "Elements for which no greater element exists, consider the next greater element as -1."
      ],
      "metadata": {
        "id": "koTxQ8EK00S1"
      }
    },
    {
      "cell_type": "code",
      "source": [
        "class Solution:\n",
        "    # @param A : list of integers\n",
        "    # @return a list of integers\n",
        "    def nextGreater(self, A):\n",
        "        n = len(A)\n",
        "        result = [-1] * n\n",
        "        d =[]\n",
        "        for i in range(n):\n",
        "             while d and A[d[-1]] < A[i]:\n",
        "                 result[d.pop()] = A[i]\n",
        "             d.append(i)\n",
        "        return result"
      ],
      "metadata": {
        "id": "sHlVKVQK0-eC"
      },
      "execution_count": null,
      "outputs": []
    }
  ]
}