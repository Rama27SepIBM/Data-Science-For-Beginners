{
  "nbformat": 4,
  "nbformat_minor": 0,
  "metadata": {
    "colab": {
      "provenance": [],
      "authorship_tag": "ABX9TyMqb7NKB9XetChfh7oRysyF",
      "include_colab_link": true
    },
    "kernelspec": {
      "name": "python3",
      "display_name": "Python 3"
    },
    "language_info": {
      "name": "python"
    }
  },
  "cells": [
    {
      "cell_type": "markdown",
      "metadata": {
        "id": "view-in-github",
        "colab_type": "text"
      },
      "source": [
        "<a href=\"https://colab.research.google.com/github/Rama27SepIBM/Data-Science-For-Beginners/blob/main/Day_95_DSA_Backtracking.ipynb\" target=\"_parent\"><img src=\"https://colab.research.google.com/assets/colab-badge.svg\" alt=\"Open In Colab\"/></a>"
      ]
    },
    {
      "cell_type": "markdown",
      "source": [
        "Q1. NQueens\n",
        "\n",
        "The n-queens puzzle is the problem of placing n queens on an n×n chessboard such that no two queens attack each other.\n",
        "\n",
        "\n",
        "Given an integer A, return all distinct solutions to the n-queens puzzle.\n",
        "\n",
        "Each solution contains a distinct board configuration of the n-queens' placement, where 'Q' and '.' both indicate a queen and an empty space respectively.\n",
        "The final list should be generated in such a way that the indices of the queens in each list should be in reverse lexicographical order."
      ],
      "metadata": {
        "id": "gN3GXPYZJzH9"
      }
    },
    {
      "cell_type": "code",
      "execution_count": null,
      "metadata": {
        "id": "VUqqYMfRJsRZ"
      },
      "outputs": [],
      "source": [
        "import sys\n",
        "sys.setrecursionlimit(10**6)\n",
        "\n",
        "class Solution:\n",
        "    def check(self,matrix,row,col,A):\n",
        "        for i in range(row):\n",
        "            if matrix[i][col]==\"Q\" or matrix[row][i] == \"Q\":\n",
        "                return False\n",
        "        li=row\n",
        "        lj=col\n",
        "        while li>=0 and lj>=0:\n",
        "            if matrix[li][lj]==\"Q\":\n",
        "                return False\n",
        "            li-=1\n",
        "            lj-=1\n",
        "        ri=row\n",
        "        rj=col\n",
        "        while ri>=0 and rj<A:\n",
        "            if matrix[ri][rj]==\"Q\":\n",
        "                return False\n",
        "            ri-=1\n",
        "            rj+=1\n",
        "        return True\n",
        "    def nqueens(self,ans,matrix,A,row):\n",
        "        if row ==A:\n",
        "            stringified_matrix_row=[\"\".join(row) for row in matrix]\n",
        "            ans.append(stringified_matrix_row)\n",
        "            return\n",
        "        for col in range(A):\n",
        "            if self.check(matrix,row,col,A):\n",
        "                matrix[row][col]=\"Q\"\n",
        "                self.nqueens(ans,matrix,A,row+1)\n",
        "                matrix[row][col]=\".\"\n",
        "\n",
        "                    \n",
        "    # @param A : integer\n",
        "    # @return a list of list of strings\n",
        "    def solveNQueens(self, A):\n",
        "        ans=[]\n",
        "        matrix=[[\".\"for i in range(A)] for j in range(A)]\n",
        "        self.nqueens(ans,matrix,A,0)\n",
        "        return ans"
      ]
    },
    {
      "cell_type": "markdown",
      "source": [
        "Q2. Subset\n",
        "\n",
        "Problem Description\n",
        "Given a set of distinct integers A, return all possible subsets.\n",
        "\n",
        "NOTE:\n",
        "\n",
        "Elements in a subset must be in non-descending order.\n",
        "The solution set must not contain duplicate subsets.\n",
        "Also, the subsets should be sorted in ascending ( lexicographic ) order.\n",
        "The list is not necessarily sorted.\n",
        "\n",
        "\n",
        "Problem Constraints\n",
        "1 <= |A| <= 16\n",
        "INTMIN <= A[i] <= INTMAX"
      ],
      "metadata": {
        "id": "Epf-uslTKYPU"
      }
    },
    {
      "cell_type": "code",
      "source": [
        "class Solution:\n",
        "    # @param A : list of integers\n",
        "    # @return a list of list of integers\n",
        "    def subsets(self, A):\n",
        "        A = sorted(A)\n",
        "        n = len(A)\n",
        "        result = []\n",
        "        def backtrack(start, subset):\n",
        "            if start == len(A): # the whole array has been traversed\n",
        "                result.append(subset.copy())\n",
        "                return\n",
        "            \n",
        "            #picking the current element\n",
        "            subset.append(A[start])\n",
        "            backtrack(start + 1, subset)\n",
        "            subset.pop()\n",
        "            \n",
        "            #not picking the current element\n",
        "            backtrack(start + 1, subset)\n",
        "        \n",
        "        backtrack(0, [])\n",
        "        \n",
        "        return sorted(result)"
      ],
      "metadata": {
        "id": "Tdo0yx0yKg77"
      },
      "execution_count": null,
      "outputs": []
    },
    {
      "cell_type": "markdown",
      "source": [
        "Q1. Subsets II\n",
        "\n",
        "Given a collection of integers denoted by array A of size N that might contain duplicates, return all possible subsets.\n",
        "\n",
        "NOTE:\n",
        "\n",
        "Elements in a subset must be in non-descending order.\n",
        "The solution set must not contain duplicate subsets.\n",
        "The subsets must be sorted lexicographically."
      ],
      "metadata": {
        "id": "QlyN5ABXKlT0"
      }
    },
    {
      "cell_type": "code",
      "source": [
        "def createsubset(ans, A, i, N, x):\n",
        "    if i == N:\n",
        "        ans.add(tuple(x.copy()))\n",
        "        return\n",
        "    createsubset(ans, A, i+1, N, x+[A[i]]) \n",
        "    createsubset(ans, A, i+1, N, x)\n",
        "\n",
        "class Solution:\n",
        "\t# @param A : list of integers\n",
        "\t# @return a list of list of integers\n",
        "\tdef subsetsWithDup(self, A):\n",
        "        A.sort()\n",
        "        N = len(A)\n",
        "        ans = set()\n",
        "        createsubset(ans, A, 0, N, []) \n",
        "        ans = list(ans)\n",
        "        ans.sort()\n",
        "        return ans"
      ],
      "metadata": {
        "id": "UWBlm5IsKt4Q"
      },
      "execution_count": null,
      "outputs": []
    },
    {
      "cell_type": "markdown",
      "source": [
        "Q2. Letter Phone\n",
        "\n",
        "Given a digit string A, return all possible letter combinations that the number could represent.\n",
        "\n",
        "A mapping of digit to letters (just like on the telephone buttons) is given below.\n",
        "\n",
        "\n",
        "\n",
        "The digit 0 maps to 0 itself. The digit 1 maps to 1 itself.\n",
        "\n",
        "NOTE: Make sure the returned strings are lexicographically sorted.\n",
        "\n",
        "\n",
        "\n",
        "Problem Constraints\n",
        "1 <= |A| <= 10"
      ],
      "metadata": {
        "id": "mRHq7HSzK4UO"
      }
    },
    {
      "cell_type": "code",
      "source": [
        "def generate(A, x, ans, hm):\n",
        "    if not A:\n",
        "        ans.append(x)\n",
        "        return\n",
        "    for i in hm[A[0]]:\n",
        "        generate(A[1:], x + i, ans, hm)\n",
        "class Solution:\n",
        "\t# @param A : string\n",
        "\t# @return a list of strings\n",
        "\tdef letterCombinations(self, A):\n",
        "        hm = {\n",
        "            '0': '0',\n",
        "            '1': '1',\n",
        "            '2': 'abc',\n",
        "            '3': 'def',\n",
        "            '4': 'ghi',\n",
        "            '5': 'jkl',\n",
        "            '6': 'mno',\n",
        "            '7': 'pqrs',\n",
        "            '8': 'tuv',\n",
        "            '9': 'wxyz'\n",
        "        }\n",
        "        ans = []\n",
        "        generate(A, '', ans, hm)\n",
        "        return ans"
      ],
      "metadata": {
        "id": "zGSV-GjrK821"
      },
      "execution_count": null,
      "outputs": []
    },
    {
      "cell_type": "markdown",
      "source": [],
      "metadata": {
        "id": "OvTsIyrlLB1K"
      }
    }
  ]
}