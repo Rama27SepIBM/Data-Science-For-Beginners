{
  "nbformat": 4,
  "nbformat_minor": 0,
  "metadata": {
    "colab": {
      "provenance": [],
      "authorship_tag": "ABX9TyNuoBU5T7XxxIC6H4XZaeYW",
      "include_colab_link": true
    },
    "kernelspec": {
      "name": "python3",
      "display_name": "Python 3"
    },
    "language_info": {
      "name": "python"
    }
  },
  "cells": [
    {
      "cell_type": "markdown",
      "metadata": {
        "id": "view-in-github",
        "colab_type": "text"
      },
      "source": [
        "<a href=\"https://colab.research.google.com/github/Rama27SepIBM/Data-Science-For-Beginners/blob/main/DSA_81_Stacks_Queues.ipynb\" target=\"_parent\"><img src=\"https://colab.research.google.com/assets/colab-badge.svg\" alt=\"Open In Colab\"/></a>"
      ]
    },
    {
      "cell_type": "code",
      "execution_count": null,
      "metadata": {
        "id": "_VPSZqmGGuvd"
      },
      "outputs": [],
      "source": [
        "class UserQueue:\n",
        "    def __init__(self):\n",
        "        \"\"\"\n",
        "        Initialize your data structure here.\n",
        "        \"\"\"\n",
        "        self.stk1 = []\n",
        "        self.stk2 = []\n",
        "\n",
        "    def push(self, x: int) -> None:\n",
        "        \"\"\"\n",
        "        Push element x to the back of queue.\n",
        "        \"\"\"\n",
        "        self.stk1.append(x)\n",
        "        \n",
        "\n",
        "    def pop(self) -> int:\n",
        "        \"\"\"\n",
        "        Removes the element from in front of queue and returns that element.\n",
        "        \"\"\"\n",
        "        if not self.stk2:\n",
        "            while self.stk1:\n",
        "                self.stk2.append(self.stk1.pop())\n",
        "        return self.stk2.pop()\n",
        "        \n",
        "\n",
        "    def peek(self) -> int:\n",
        "        \"\"\"\n",
        "        Get the front element.\n",
        "        \"\"\"\n",
        "        if not self.stk2:\n",
        "            while self.stk1:\n",
        "                self.stk2.append(self.stk1.pop())\n",
        "        return self.stk2[-1]\n",
        "        \n",
        "\n",
        "    def empty(self) -> bool:\n",
        "        \"\"\"\n",
        "        Returns whether the queue is empty.\n",
        "        \"\"\"\n",
        "        return not self.stk1 and not self.stk2\n",
        "\n",
        "# Your UserQueue object will be instantiated and called as such:\n",
        "# obj = UserQueue()\n",
        "# obj.push(x)\n",
        "# param2 = obj.pop()\n",
        "# param3 = obj.peek()\n",
        "# param4 = obj.empty()"
      ]
    }
  ]
}