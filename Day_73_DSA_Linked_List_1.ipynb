{
  "nbformat": 4,
  "nbformat_minor": 0,
  "metadata": {
    "colab": {
      "provenance": [],
      "authorship_tag": "ABX9TyPw/TTyeHPTLwNzJ5o/mieA",
      "include_colab_link": true
    },
    "kernelspec": {
      "name": "python3",
      "display_name": "Python 3"
    },
    "language_info": {
      "name": "python"
    }
  },
  "cells": [
    {
      "cell_type": "markdown",
      "metadata": {
        "id": "view-in-github",
        "colab_type": "text"
      },
      "source": [
        "<a href=\"https://colab.research.google.com/github/Rama27SepIBM/Data-Science-For-Beginners/blob/main/Day_73_DSA_Linked_List_1.ipynb\" target=\"_parent\"><img src=\"https://colab.research.google.com/assets/colab-badge.svg\" alt=\"Open In Colab\"/></a>"
      ]
    },
    {
      "cell_type": "markdown",
      "source": [
        "Q1. Print Linked List\n",
        "You are given A which is the head of a linked list. Print the linked list in space separated manner.\n",
        "\n",
        "Note : The last node value must also be succeeded by a space and after printing the entire list you should print a new line\n",
        "\n",
        "\n",
        "\n",
        "Problem Constraints\n",
        "1 <= size of linked list <= 105"
      ],
      "metadata": {
        "id": "TIJKAMn-Dex7"
      }
    },
    {
      "cell_type": "code",
      "execution_count": null,
      "metadata": {
        "id": "mljU0zk7Db6-"
      },
      "outputs": [],
      "source": [
        "# Definition for singly-linked list.\n",
        "# class ListNode:\n",
        "#    def __init__(self, x):\n",
        "#        self.val = x\n",
        "#        self.next = None\n",
        "         \n",
        "\n",
        "class Solution:\n",
        "    # @param A : head node of linked list\n",
        "    def solve(self, A):\n",
        "        current = A\n",
        "        while current != None:\n",
        "            print(current.val, end=' ')\n",
        "            current = current.next\n",
        "        print()"
      ]
    },
    {
      "cell_type": "markdown",
      "source": [
        "Q2. Insert in Linked List\n",
        "\n",
        "You are given A which is the head of a linked list. Also given is the value B and position C. Complete the function that should insert a new node with the said value at the given position.\n",
        "\n",
        "Notes:\n",
        "\n",
        "In case the position is more than length of linked list, simply insert the new node at the tail only.\n",
        "In case the pos is 0, simply insert the new node at head only.\n",
        "Follow 0-based indexing for the node numbering."
      ],
      "metadata": {
        "id": "3bxgz8lxDvsN"
      }
    },
    {
      "cell_type": "code",
      "source": [
        "# Definition for singly-linked list.\n",
        "# class ListNode:\n",
        "#    def __init__(self, x):\n",
        "#        self.val = x\n",
        "#        self.next = None\n",
        "\n",
        "class Solution:\n",
        "    # @param A : head node of linked list\n",
        "    # @param B : integer\n",
        "    # @param C : integer\n",
        "    # @return the head node in the linked list\n",
        "    def solve(self, A, B, C):\n",
        "        new_node = ListNode(B)\n",
        "        if C == 0:\n",
        "            new_node.next = A\n",
        "            return new_node\n",
        "        curr_node = A\n",
        "        prev_node = None\n",
        "        count = 0\n",
        "\n",
        "        while curr_node and count < C:\n",
        "            prev_node = curr_node\n",
        "            curr_node = curr_node.next\n",
        "            count += 1\n",
        "\n",
        "        prev_node.next = new_node\n",
        "        new_node.next = curr_node\n",
        "        if not curr_node:\n",
        "            return A\n",
        "        return A"
      ],
      "metadata": {
        "id": "Iw3BfL-CD6gv"
      },
      "execution_count": null,
      "outputs": []
    },
    {
      "cell_type": "markdown",
      "source": [
        "Q3. Delete in Linked List\n",
        "\n",
        "You are given the head of a linked list A and an integer B. Delete the B-th node from the linked list.\n",
        "\n",
        "Note : Follow 0-based indexing for the node numbering.\n",
        "\n",
        "\n",
        "\n",
        "Problem Constraints\n",
        "1 <= size of linked list <= 105"
      ],
      "metadata": {
        "id": "mo8FZ_DOEA8b"
      }
    },
    {
      "cell_type": "code",
      "source": [
        "# Definition for singly-linked list.\n",
        "# class ListNode:\n",
        "#    def __init__(self, x):\n",
        "#        self.val = x\n",
        "#        self.next = None\n",
        "\n",
        "class Solution:\n",
        "    # @param A : head node of linked list\n",
        "    # @param B : integer\n",
        "    # @return the head node in the linked list\n",
        "    def solve(self, A, B):\n",
        "        if B == 0:\n",
        "            return A.next\n",
        "        curr_node = A\n",
        "        prev_node = None\n",
        "        count = 0\n",
        "        while curr_node and count < B:\n",
        "            prev_node = curr_node\n",
        "            curr_node = curr_node.next\n",
        "            count += 1\n",
        "\n",
        "        prev_node.next = curr_node.next\n",
        "\n",
        "        return A"
      ],
      "metadata": {
        "id": "S73xVY2tELQ2"
      },
      "execution_count": null,
      "outputs": []
    },
    {
      "cell_type": "markdown",
      "source": [
        "Q4. Search in Linked List\n",
        "\n",
        "You are given the head of a linked list A and an integer B, check if there is any node which contains this value B.\n",
        "\n",
        "Return 1 if such a node is present else return 0.\n",
        "\n",
        "\n",
        "\n",
        "Problem Constraints\n",
        "1 <= size of linked list <= 105"
      ],
      "metadata": {
        "id": "uUyZ2XevEQ5R"
      }
    },
    {
      "cell_type": "code",
      "source": [
        "# Definition for singly-linked list.\n",
        "# class ListNode:\n",
        "#    def __init__(self, x):\n",
        "#        self.val = x\n",
        "#        self.next = None\n",
        "\n",
        "class Solution:\n",
        "    # @param A : head node of linked list\n",
        "    # @param B : integer\n",
        "    # @return an integer\n",
        "    def solve(self, A, B):\n",
        "        while A is not None:\n",
        "            if A.val == B:\n",
        "                return 1\n",
        "            A = A.next\n",
        "        return 0"
      ],
      "metadata": {
        "id": "Vza-yF8iEaKs"
      },
      "execution_count": null,
      "outputs": []
    },
    {
      "cell_type": "markdown",
      "source": [
        "Q5. Print Reverse Linked List\n",
        "\n",
        "You are given a singly linked list having head node A. You need to print the linked list in reverse order.\n",
        "\n",
        "Note :- The node values must be space separated. You must give a newline after printing all the nodes.\n",
        "\n",
        "\n",
        "\n",
        "Problem Constraints\n",
        "1 <= Length of linked list <= 105\n",
        "\n"
      ],
      "metadata": {
        "id": "zfJ2bsQgEfHy"
      }
    },
    {
      "cell_type": "code",
      "source": [
        "# Definition for singly-linked list.\n",
        "# class ListNode:\n",
        "#    def __init__(self, x):\n",
        "#        self.val = x\n",
        "#        self.next = None\n",
        "import sys\n",
        "sys.setrecursionlimit(10**6)\n",
        "class Solution:\n",
        "    # @param A : head node of linked list\n",
        "    def solve(self, A):\n",
        "        def printLL(A):\n",
        "            if(A == None):\n",
        "                return\n",
        "            printLL(A.next)\n",
        "            print(A.val, end = \" \")\n",
        "        printLL(A)\n",
        "        print()"
      ],
      "metadata": {
        "id": "nvB4RjEeEoPk"
      },
      "execution_count": null,
      "outputs": []
    },
    {
      "cell_type": "markdown",
      "source": [
        "Q6. Reverse Linked List\n",
        "\n",
        "You are given a singly linked list having head node A. You have to reverse the linked list and return the head node of that reversed list.\n",
        "\n",
        "NOTE: You have to do it in-place and in one-pass.\n",
        "\n",
        "\n",
        "\n",
        "Problem Constraints\n",
        "1 <= Length of linked list <= 105\n",
        "\n",
        "Value of each node is within the range of a 32-bit integer."
      ],
      "metadata": {
        "id": "zrzPlIPZEuRw"
      }
    },
    {
      "cell_type": "code",
      "source": [
        "# Definition for singly-linked list.\n",
        "# class ListNode:\n",
        "#\tdef __init__(self, x):\n",
        "#\t\tself.val = x\n",
        "#\t\tself.next = None\n",
        "\n",
        "class Solution:\n",
        "\t# @param A : head node of linked list\n",
        "\t# @return the head node in the linked list\n",
        "\tdef reverseList(self, A):\n",
        "        if A is None or A.next is None:\n",
        "            return A\n",
        "        prev_node = None\n",
        "        curr_node = A\n",
        "        while curr_node is not None:\n",
        "            next_node = curr_node.next\n",
        "            curr_node.next = prev_node\n",
        "            prev_node = curr_node\n",
        "            curr_node = next_node\n",
        "        return prev_node"
      ],
      "metadata": {
        "id": "CYLJtnBJE4dY"
      },
      "execution_count": null,
      "outputs": []
    },
    {
      "cell_type": "markdown",
      "source": [
        "Q7. Middle element of linked list\n",
        "\n",
        "Given a linked list of integers, find and return the middle element of the linked list.\n",
        "\n",
        "NOTE: If there are N nodes in the linked list and N is even then return the (N/2 + 1)th element.\n",
        "\n",
        "\n",
        "\n",
        "Problem Constraints\n",
        "1 <= length of the linked list <= 100000"
      ],
      "metadata": {
        "id": "-bbDapq9E9Ug"
      }
    },
    {
      "cell_type": "code",
      "source": [
        "# Definition for singly-linked list.\n",
        "# class ListNode:\n",
        "#    def __init__(self, x):\n",
        "#        self.val = x\n",
        "#        self.next = None\n",
        "\n",
        "class Solution:\n",
        "    # @param A : head node of linked list\n",
        "    # @return an integer\n",
        "    def solve(self, A):\n",
        "        slow_ptr = A\n",
        "        fast_ptr = A\n",
        "        while fast_ptr is not None and fast_ptr.next is not None:\n",
        "            slow_ptr = slow_ptr.next\n",
        "            fast_ptr = fast_ptr.next.next\n",
        "        return slow_ptr.val"
      ],
      "metadata": {
        "id": "7FdZX7JBFGBp"
      },
      "execution_count": null,
      "outputs": []
    },
    {
      "cell_type": "markdown",
      "source": [
        "Q1. K-th element in linked list\n",
        "\n",
        "You are given the head of a linked list A and an integer B. You need to find the B-th element of the linked list.\n",
        "\n",
        "Note : Follow 0-based indexing for the node numbering.\n",
        "\n",
        "\n",
        "\n",
        "Problem Constraints\n",
        "1 <= size of linked list <= 105"
      ],
      "metadata": {
        "id": "MYe5hMq2FLIB"
      }
    },
    {
      "cell_type": "code",
      "source": [
        "# Definition for singly-linked list.\n",
        "# class ListNode:\n",
        "#    def __init__(self, x):\n",
        "#        self.val = x\n",
        "#        self.next = None\n",
        "\n",
        "class Solution:\n",
        "    # @param A : head node of linked list\n",
        "    # @param B : integer\n",
        "    # @return an integer\n",
        "    def solve(self, A, B):\n",
        "        current = A\n",
        "        count = 0\n",
        "        while current is not None:\n",
        "            if count == B:\n",
        "                return current.val\n",
        "            count += 1\n",
        "            current = current.next\n",
        "        return None"
      ],
      "metadata": {
        "id": "KtcH5-wSFWUs"
      },
      "execution_count": null,
      "outputs": []
    },
    {
      "cell_type": "markdown",
      "source": [
        "Q2. Check sorted Linked List\n",
        "\n",
        "You are given the head of a linked list A. Check if the data inside it exists in non-decreasing order.\n",
        "\n",
        "\n",
        "\n",
        "Problem Constraints\n",
        "1 <= size of linked list <= 105"
      ],
      "metadata": {
        "id": "QL1425IfFbch"
      }
    },
    {
      "cell_type": "code",
      "source": [
        "# Definition for singly-linked list.\n",
        "# class ListNode:\n",
        "#    def __init__(self, x):\n",
        "#        self.val = x\n",
        "#        self.next = None\n",
        "\n",
        "class Solution:\n",
        "    # @param A : head node of linked list\n",
        "    # @return an integer\n",
        "    def solve(self, A):\n",
        "        current = A\n",
        "        if (current == None ) or (current.next == None):\n",
        "            return 1\n",
        "        while current.next is not None:\n",
        "            if current.val > current.next.val:\n",
        "                return 0\n",
        "            current = current.next\n",
        "        return 1"
      ],
      "metadata": {
        "id": "PTZyIvxbFkP9"
      },
      "execution_count": null,
      "outputs": []
    },
    {
      "cell_type": "markdown",
      "source": [
        "Q3. Compare Linked List\n",
        "\n",
        "Given heads of two linked lists A and B, check if they are identical i.e. each of their corresponding nodes should contain the same data. The two given linked lists may or may not be of the same length.\n",
        "\n",
        "\n",
        "Problem Constraints\n",
        "1 <= size of linked lists <= 105"
      ],
      "metadata": {
        "id": "FGJyIp4rFpnc"
      }
    },
    {
      "cell_type": "code",
      "source": [
        "# Definition for singly-linked list.\n",
        "# class ListNode:\n",
        "#    def __init__(self, x):\n",
        "#        self.val = x\n",
        "#        self.next = None\n",
        "\n",
        "class Solution:\n",
        "    # @param A : head node of linked list\n",
        "    # @param B : head node of linked list\n",
        "    # @return an integer\n",
        "    \n",
        "    def solve(self, A, B):\n",
        "        currentA = A\n",
        "        currentB = B\n",
        "        while currentA is not None and currentB is not None:\n",
        "            if currentA.val != currentB.val:\n",
        "                return 0\n",
        "            currentA = currentA.next\n",
        "            currentB = currentB.next\n",
        "\n",
        "            if currentA is None and currentB is None:\n",
        "                return 1"
      ],
      "metadata": {
        "id": "HW19rclhFxnH"
      },
      "execution_count": null,
      "outputs": []
    },
    {
      "cell_type": "markdown",
      "source": [
        "Q4. Reverse Link List II\n",
        "\n",
        "Reverse a linked list A from position B to C.\n",
        "\n",
        "NOTE: Do it in-place and in one-pass.\n",
        "\n",
        "\n",
        "\n",
        "Problem Constraints\n",
        "1 <= |A| <= 106"
      ],
      "metadata": {
        "id": "qU7Gs1__F2TN"
      }
    },
    {
      "cell_type": "code",
      "source": [
        "# Definition for singly-linked list.\n",
        "# class ListNode:\n",
        "#\tdef __init__(self, x):\n",
        "#\t\tself.val = x\n",
        "#\t\tself.next = None\n",
        "\n",
        "class Solution:\n",
        "\t# @param A : head node of linked list\n",
        "\t# @param B : integer\n",
        "\t# @param C : integer\n",
        "\t# @return the head node in the linked list\n",
        "\tdef reverseBetween(self, A, B, C):\n",
        "        head=A\n",
        "        if head== None or head.next==None:\n",
        "            return head\n",
        "        i=1\n",
        "        prev=None\n",
        "        current=head\n",
        "        while i<B:\n",
        "            prev=current\n",
        "            current = current.next\n",
        "            i+=1\n",
        "        n0=prev\n",
        "        n1=current\n",
        "        prev=None\n",
        "        while i <=C:\n",
        "            temp=current.next\n",
        "            current.next=prev\n",
        "            prev=current\n",
        "            current = temp\n",
        "            i+=1\n",
        "        n1.next=current\n",
        "        if n0:\n",
        "            n0.next=prev\n",
        "            return head\n",
        "        else:\n",
        "            return prev"
      ],
      "metadata": {
        "id": "ireOBne5F-WY"
      },
      "execution_count": null,
      "outputs": []
    },
    {
      "cell_type": "markdown",
      "source": [
        "Q5. Remove Nth Node from List End\n",
        "\n",
        "Given a linked list A, remove the B-th node from the end of the list and return its head. For example, Given linked list: 1->2->3->4->5, and B = 2. After removing the second node from the end, the linked list becomes 1->2->3->5. NOTE: If B is greater than the size of the list, remove the first node of the list. NOTE: Try doing it using constant additional space.\n",
        "\n",
        "\n",
        "Problem Constraints\n",
        "1 <= |A| <= 106"
      ],
      "metadata": {
        "id": "IpxCA8R7GIn_"
      }
    },
    {
      "cell_type": "code",
      "source": [
        "# Definition for singly-linked list.\n",
        "# class ListNode:\n",
        "#\tdef __init__(self, x):\n",
        "#\t\tself.val = x\n",
        "#\t\tself.next = None\n",
        "\n",
        "class Solution:\n",
        "\t# @param A : head node of linked list\n",
        "\t# @param B : integer\n",
        "\t# @return the head node in the linked list\n",
        "\tdef removeNthFromEnd(self, A, B):\n",
        "        t1, t2 = A, A\n",
        "        sz = 0\n",
        "        while (t1):\n",
        "            t1 = t1.next\n",
        "            sz += 1\n",
        "        if (B >= sz):\n",
        "            A = A.next\n",
        "        else:\n",
        "            for i in range(sz - B - 1):\n",
        "                t2 = t2.next\n",
        "            t2.next = t2.next.next\n",
        "        return A"
      ],
      "metadata": {
        "id": "-TN9ZoK5GOve"
      },
      "execution_count": null,
      "outputs": []
    }
  ]
}