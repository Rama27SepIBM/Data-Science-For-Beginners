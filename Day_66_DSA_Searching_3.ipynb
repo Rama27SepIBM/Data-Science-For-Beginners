{
  "nbformat": 4,
  "nbformat_minor": 0,
  "metadata": {
    "colab": {
      "provenance": [],
      "authorship_tag": "ABX9TyMWq8CWTg6x6DxMq/eK1xnE",
      "include_colab_link": true
    },
    "kernelspec": {
      "name": "python3",
      "display_name": "Python 3"
    },
    "language_info": {
      "name": "python"
    }
  },
  "cells": [
    {
      "cell_type": "markdown",
      "metadata": {
        "id": "view-in-github",
        "colab_type": "text"
      },
      "source": [
        "<a href=\"https://colab.research.google.com/github/Rama27SepIBM/Data-Science-For-Beginners/blob/main/Day_66_DSA_Searching_3.ipynb\" target=\"_parent\"><img src=\"https://colab.research.google.com/assets/colab-badge.svg\" alt=\"Open In Colab\"/></a>"
      ]
    },
    {
      "cell_type": "markdown",
      "source": [
        "Q1. Painter's Partition Problem\n",
        "\n",
        "Given 2 integers A and B and an array of integers C of size N. Element C[i] represents the length of ith board.\n",
        "You have to paint all N boards [C0, C1, C2, C3 … CN-1]. There are A painters available and each of them takes B units of time to paint 1 unit of the board.\n",
        "\n",
        "Calculate and return the minimum time required to paint all boards under the constraints that any painter will only paint contiguous sections of the board.\n",
        "NOTE:\n",
        "1. 2 painters cannot share a board to paint. That is to say, a board cannot be painted partially by one painter, and partially by another.\n",
        "2. A painter will only paint contiguous boards. This means a configuration where painter 1 paints boards 1 and 3 but not 2 is invalid.\n",
        "\n",
        "Return the ans % 10000003."
      ],
      "metadata": {
        "id": "Yj3eCYjRU0Dw"
      }
    },
    {
      "cell_type": "code",
      "execution_count": null,
      "metadata": {
        "id": "0zsYcDv3UtUw"
      },
      "outputs": [],
      "source": [
        "def get_required_painters(C, time_per_board):\n",
        "    total_time = 0\n",
        "    painters = 1\n",
        "    for board in C:\n",
        "        total_time += board\n",
        "        if total_time > time_per_board:\n",
        "            total_time = board\n",
        "            painters += 1\n",
        "    return painters\n",
        "\n",
        "class Solution:\n",
        "\t# @param A : integer\n",
        "\t# @param B : integer\n",
        "\t# @param C : list of integers\n",
        "\t# @return an integer\n",
        "\tdef paint(self, A, B, C):\n",
        "        low = max(C)\n",
        "        high = sum(C)\n",
        "        while low < high:\n",
        "            mid = (low + high) // 2\n",
        "            required_painters = get_required_painters(C, mid)\n",
        "            if required_painters <= A:\n",
        "                high = mid\n",
        "            else:\n",
        "                low = mid + 1\n",
        "        return (low * B) % 10000003"
      ]
    },
    {
      "cell_type": "markdown",
      "source": [
        "Q2. Aggressive cows\n",
        "\n",
        "Farmer John has built a new long barn with N stalls. Given an array of integers A of size N where each element of the array represents the location of the stall and an integer B which represents the number of cows.\n",
        "\n",
        "His cows don't like this barn layout and become aggressive towards each other once put into a stall. To prevent the cows from hurting each other, John wants to assign the cows to the stalls, such that the minimum distance between any two of them is as large as possible. What is the largest minimum distance?"
      ],
      "metadata": {
        "id": "WPfw_Q_zVC3g"
      }
    },
    {
      "cell_type": "code",
      "source": [
        "def is_possible(N, A, B, distance):\n",
        "    cows_placed = 1\n",
        "    last_cow_position = A[0]\n",
        "    for i in range(1, N):\n",
        "        if A[i] - last_cow_position >= distance:\n",
        "            cows_placed += 1\n",
        "            last_cow_position = A[i]\n",
        "    if cows_placed >= B:\n",
        "            return True\n",
        "    return False\n",
        "class Solution:\n",
        "    # @param A : list of integers\n",
        "    # @param B : integer\n",
        "    # @return an integer\n",
        "    def solve(self, A, B):\n",
        "        A.sort()\n",
        "        low = 1\n",
        "        high = A[-1] - A[0]\n",
        "        N=len(A)\n",
        "        ans=0\n",
        "        while low <= high:\n",
        "            mid = (low + high) // 2\n",
        "            if is_possible(N, A, B, mid):\n",
        "                ans = mid\n",
        "                low = mid + 1\n",
        "            else:\n",
        "                high = mid - 1\n",
        "        return ans"
      ],
      "metadata": {
        "id": "VWqg9dcpVLtC"
      },
      "execution_count": null,
      "outputs": []
    },
    {
      "cell_type": "markdown",
      "source": [
        "Q1. Allocate Books\n",
        "\n",
        "Given an array of integers A of size N and an integer B.\n",
        "\n",
        "The College library has N books. The ith book has A[i] number of pages.\n",
        "\n",
        "You have to allocate books to B number of students so that the maximum number of pages allocated to a student is minimum.\n",
        "\n",
        "A book will be allocated to exactly one student.\n",
        "Each student has to be allocated at least one book.\n",
        "Allotment should be in contiguous order, for example: A student cannot be allocated book 1 and book 3, skipping book 2.\n",
        "Calculate and return that minimum possible number.\n",
        "\n",
        "NOTE: Return -1 if a valid assignment is not possible."
      ],
      "metadata": {
        "id": "pRjpFfxIVRwR"
      }
    },
    {
      "cell_type": "code",
      "source": [
        "def is_valid_allocation(A, B, max_pages):\n",
        "            num_students = 1\n",
        "            pages_assigned = 0\n",
        "            for pages in A:\n",
        "                if pages > max_pages:\n",
        "                    return False\n",
        "                if pages_assigned + pages > max_pages:\n",
        "                    num_students += 1\n",
        "                    pages_assigned = pages\n",
        "                    if num_students > B:\n",
        "                        return False\n",
        "                else:\n",
        "                    pages_assigned += pages\n",
        "            return True\n",
        "class Solution:\n",
        "\t# @param A : list of integers\n",
        "\t# @param B : integer\n",
        "\t# @return an integer\n",
        "\tdef books(self, A, B):\n",
        "        if len(A) < B:\n",
        "            return -1\n",
        "        start = max(A)\n",
        "        end = sum(A)\n",
        "        while start <= end:\n",
        "            mid = (start + end) // 2\n",
        "            if is_valid_allocation(A, B, mid):\n",
        "                end = mid - 1\n",
        "            else:\n",
        "                start = mid + 1\n",
        "        return start if is_valid_allocation(A, B, start) else -1"
      ],
      "metadata": {
        "id": "5ieMiPBOVa2d"
      },
      "execution_count": null,
      "outputs": []
    },
    {
      "cell_type": "markdown",
      "source": [
        "Q2. Special Integer\n",
        "\n",
        "Given an array of integers A and an integer B, find and return the maximum value K such that there is no subarray in A of size K with the sum of elements greater than B."
      ],
      "metadata": {
        "id": "C6zQFG2gVgNE"
      }
    },
    {
      "cell_type": "code",
      "source": [
        "def is_valid_subarray(A, B, size):\n",
        "        sum_so_far = sum(A[:size])\n",
        "        if sum_so_far > B:\n",
        "            return False\n",
        "        for i in range(size, len(A)):\n",
        "            sum_so_far += A[i] - A[i-size]\n",
        "            if sum_so_far > B:\n",
        "                return False\n",
        "        return True\n",
        "class Solution:\n",
        "    # @param A : list of integers\n",
        "    # @param B : integer\n",
        "    # @return an integer\n",
        "    def solve(self, A, B):\n",
        "        start = 1\n",
        "        end = len(A)\n",
        "        max_size = 0\n",
        "        while start <= end:\n",
        "            mid = (start + end) // 2\n",
        "            if is_valid_subarray(A, B, mid):\n",
        "                max_size = mid\n",
        "                start = mid + 1\n",
        "            else:\n",
        "                end = mid - 1\n",
        "        return max_size"
      ],
      "metadata": {
        "id": "4NThwF_aVrdx"
      },
      "execution_count": null,
      "outputs": []
    },
    {
      "cell_type": "markdown",
      "source": [
        "Q1. Allocate Books\n",
        "\n",
        "Given an array of integers A of size N and an integer B.\n",
        "\n",
        "The College library has N books. The ith book has A[i] number of pages.\n",
        "\n",
        "You have to allocate books to B number of students so that the maximum number of pages allocated to a student is minimum.\n",
        "\n",
        "A book will be allocated to exactly one student.\n",
        "Each student has to be allocated at least one book.\n",
        "Allotment should be in contiguous order, for example: A student cannot be allocated book 1 and book 3, skipping book 2.\n",
        "Calculate and return that minimum possible number.\n",
        "\n",
        "NOTE: Return -1 if a valid assignment is not possible."
      ],
      "metadata": {
        "id": "KRLYtSmQVwqt"
      }
    },
    {
      "cell_type": "code",
      "source": [
        "def is_valid_allocation(A, B, max_pages):\n",
        "            num_students = 1\n",
        "            pages_assigned = 0\n",
        "            for pages in A:\n",
        "                if pages > max_pages:\n",
        "                    return False\n",
        "                if pages_assigned + pages > max_pages:\n",
        "                    num_students += 1\n",
        "                    pages_assigned = pages\n",
        "                    if num_students > B:\n",
        "                        return False\n",
        "                else:\n",
        "                    pages_assigned += pages\n",
        "            return True\n",
        "class Solution:\n",
        "\t# @param A : list of integers\n",
        "\t# @param B : integer\n",
        "\t# @return an integer\n",
        "\tdef books(self, A, B):\n",
        "        if len(A) < B:\n",
        "            return -1\n",
        "        start = max(A)\n",
        "        end = sum(A)\n",
        "        while start <= end:\n",
        "            mid = (start + end) // 2\n",
        "            if is_valid_allocation(A, B, mid):\n",
        "                end = mid - 1\n",
        "            else:\n",
        "                start = mid + 1\n",
        "        return start if is_valid_allocation(A, B, start) else -1"
      ],
      "metadata": {
        "id": "EEBPbifHV8Q3"
      },
      "execution_count": null,
      "outputs": []
    }
  ]
}