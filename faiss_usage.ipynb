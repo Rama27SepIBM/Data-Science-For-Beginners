{
  "nbformat": 4,
  "nbformat_minor": 0,
  "metadata": {
    "colab": {
      "provenance": [],
      "include_colab_link": true
    },
    "kernelspec": {
      "name": "python3",
      "display_name": "Python 3"
    }
  },
  "cells": [
    {
      "cell_type": "markdown",
      "metadata": {
        "id": "view-in-github",
        "colab_type": "text"
      },
      "source": [
        "<a href=\"https://colab.research.google.com/github/Rama27SepIBM/Data-Science-For-Beginners/blob/main/faiss_usage.ipynb\" target=\"_parent\"><img src=\"https://colab.research.google.com/assets/colab-badge.svg\" alt=\"Open In Colab\"/></a>"
      ]
    },
    {
      "cell_type": "code",
      "metadata": {
        "id": "RzUter80td8o"
      },
      "source": [
        "%%capture\n",
        "!pip install sentence-transformers\n",
        "!sudo apt-get install libomp-dev\n",
        "!pip install faiss"
      ],
      "execution_count": null,
      "outputs": []
    },
    {
      "cell_type": "markdown",
      "metadata": {
        "id": "aecWwyrutyef"
      },
      "source": [
        "## Encode docs using sentence-transformer"
      ]
    },
    {
      "cell_type": "code",
      "metadata": {
        "id": "eLpFgyStthUM"
      },
      "source": [
        "from sentence_transformers import SentenceTransformer\n",
        "\n",
        "encoder = SentenceTransformer('distilbert-base-nli-stsb-mean-tokens')"
      ],
      "execution_count": null,
      "outputs": []
    },
    {
      "cell_type": "code",
      "metadata": {
        "id": "9Y4cyM65tiUq"
      },
      "source": [
        "data = [\n",
        "    'What is your name?',\n",
        "    'What is your age?',\n",
        "]\n",
        "encoded_data = encoder.encode(data)"
      ],
      "execution_count": null,
      "outputs": []
    },
    {
      "cell_type": "markdown",
      "metadata": {
        "id": "T_WMwbYctjQO"
      },
      "source": [
        "## Add to index"
      ]
    },
    {
      "cell_type": "code",
      "metadata": {
        "id": "C4FiOXnEtl1f"
      },
      "source": [
        "import faiss\n",
        "import numpy as np\n",
        "\n",
        "# IndexFlatIP: Flat inner product (for small datasets)\n",
        "# IndexIDMap: store document ids in the index as well\n",
        "index = faiss.IndexIDMap(faiss.IndexFlatIP(768))\n",
        "index.add_with_ids(encoded_data, np.arange(len(data)))"
      ],
      "execution_count": null,
      "outputs": []
    },
    {
      "cell_type": "markdown",
      "metadata": {
        "id": "0Xjl64n1tnGn"
      },
      "source": [
        "## Search for question"
      ]
    },
    {
      "cell_type": "code",
      "metadata": {
        "id": "tYBDxMtxtoxk",
        "outputId": "cb0d4c28-7eaa-4f2b-8c73-36a0d06ba0ee",
        "colab": {
          "base_uri": "https://localhost:8080/"
        }
      },
      "source": [
        "def search(query, k=1):\n",
        "    query_vector = encoder.encode([query])\n",
        "    top_k = index.search(query_vector, k)\n",
        "    print(top_k)\n",
        "    return [\n",
        "        data[_id] for _id in top_k[1][0]\n",
        "    ]\n",
        "    \n",
        "search(\"How old are you?\")"
      ],
      "execution_count": null,
      "outputs": [
        {
          "output_type": "stream",
          "text": [
            "(array([[214.49094]], dtype=float32), array([[1]]))\n"
          ],
          "name": "stdout"
        },
        {
          "output_type": "execute_result",
          "data": {
            "text/plain": [
              "['What is your age?']"
            ]
          },
          "metadata": {
            "tags": []
          },
          "execution_count": 5
        }
      ]
    },
    {
      "cell_type": "markdown",
      "metadata": {
        "id": "iwaYAjnYtp24"
      },
      "source": [
        "## Save and load index"
      ]
    },
    {
      "cell_type": "code",
      "metadata": {
        "id": "c-oY5Ppptr6A"
      },
      "source": [
        "path = './faiss.index'\n",
        "\n",
        "# Save index\n",
        "faiss.write_index(index, path)"
      ],
      "execution_count": null,
      "outputs": []
    },
    {
      "cell_type": "markdown",
      "metadata": {
        "id": "GD7mU1C7tuMq"
      },
      "source": [
        "## Load index back"
      ]
    },
    {
      "cell_type": "code",
      "metadata": {
        "id": "bVo8cGzTttE3",
        "outputId": "30782778-ee39-4862-df7c-3880cca7b28a",
        "colab": {
          "base_uri": "https://localhost:8080/"
        }
      },
      "source": [
        "index = faiss.read_index(path)\n",
        "search(\"How old are you?\")"
      ],
      "execution_count": null,
      "outputs": [
        {
          "output_type": "stream",
          "text": [
            "(array([[214.49094]], dtype=float32), array([[1]]))\n"
          ],
          "name": "stdout"
        },
        {
          "output_type": "execute_result",
          "data": {
            "text/plain": [
              "['What is your age?']"
            ]
          },
          "metadata": {
            "tags": []
          },
          "execution_count": 7
        }
      ]
    }
  ]
}