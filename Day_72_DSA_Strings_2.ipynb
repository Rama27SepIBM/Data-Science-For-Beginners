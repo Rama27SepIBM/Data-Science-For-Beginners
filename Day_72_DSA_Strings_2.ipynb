{
  "nbformat": 4,
  "nbformat_minor": 0,
  "metadata": {
    "colab": {
      "provenance": [],
      "authorship_tag": "ABX9TyNVIPhurDMDxg6SDS9xGklo",
      "include_colab_link": true
    },
    "kernelspec": {
      "name": "python3",
      "display_name": "Python 3"
    },
    "language_info": {
      "name": "python"
    }
  },
  "cells": [
    {
      "cell_type": "markdown",
      "metadata": {
        "id": "view-in-github",
        "colab_type": "text"
      },
      "source": [
        "<a href=\"https://colab.research.google.com/github/Rama27SepIBM/Data-Science-For-Beginners/blob/main/Day_72_DSA_Strings_2.ipynb\" target=\"_parent\"><img src=\"https://colab.research.google.com/assets/colab-badge.svg\" alt=\"Open In Colab\"/></a>"
      ]
    },
    {
      "cell_type": "markdown",
      "source": [
        "Q1. Longest Substring Without Repeat\n",
        "\n",
        "Given a string A, find the length of the longest substring without repeating characters.\n",
        "\n",
        "Note: Users are expected to solve in O(N) time complexity.\n",
        "\n",
        "\n",
        "\n",
        "Problem Constraints\n",
        "1 <= size(A) <= 106\n",
        "\n",
        "String consists of lowerCase,upperCase characters and digits are also present in the string A."
      ],
      "metadata": {
        "id": "JmxN9Kh8G3BB"
      }
    },
    {
      "cell_type": "code",
      "execution_count": null,
      "metadata": {
        "id": "7CNIPEp7GhCX"
      },
      "outputs": [],
      "source": [
        "class Solution:\n",
        "\t# @param A : string\n",
        "\t# @return an integer\n",
        "\tdef lengthOfLongestSubstring(self, A):\n",
        "        start = 0\n",
        "        end = 0\n",
        "        max_length = 0\n",
        "        char_map = {}\n",
        "        while end < len(A):\n",
        "            if A[end] not in char_map:\n",
        "                char_map[A[end]] = end\n",
        "            else:\n",
        "                if char_map[A[end]] >= start:\n",
        "                    start = char_map[A[end]] + 1\n",
        "                char_map[A[end]] = end\n",
        "            max_length = max(max_length, end - start + 1)\n",
        "            end += 1\n",
        "        return max_length\n"
      ]
    },
    {
      "cell_type": "markdown",
      "source": [
        "Q2. Permutations of A in B\n",
        "\n",
        "You are given two strings, A and B, of size N and M, respectively.\n",
        "\n",
        "You have to find the count of all permutations of A present in B as a substring. You can assume a string will have only lowercase letters.\n",
        "\n",
        "\n",
        "\n",
        "Problem Constraints\n",
        "1 <= N < M <= 105"
      ],
      "metadata": {
        "id": "mQXUJ20VHBJH"
      }
    },
    {
      "cell_type": "code",
      "source": [
        "from collections import Counter\n",
        "class Solution:\n",
        "    # @param A : string\n",
        "    # @param B : string\n",
        "    # @return an integer\n",
        "    def solve(self, A, B):\n",
        "        count = 0\n",
        "        len_a = len(A)\n",
        "        len_b = len(B)\n",
        "        counter_a = Counter(A)\n",
        "        counter_b = Counter()\n",
        "        for i in range(len_b):\n",
        "            counter_b[B[i]] += 1\n",
        "            if i >= len_a:\n",
        "                if counter_b[B[i - len_a]] == 1:\n",
        "                    del counter_b[B[i - len_a]]\n",
        "                else:\n",
        "                    counter_b[B[i - len_a]] -= 1\n",
        "            if counter_a == counter_b:\n",
        "                count += 1\n",
        "        return count"
      ],
      "metadata": {
        "id": "cVErhaXtHK_n"
      },
      "execution_count": null,
      "outputs": []
    },
    {
      "cell_type": "markdown",
      "source": [
        "Q3. Window String\n",
        "\n",
        "Given a string A and a string B, find the window with minimum length in A, which will contain all the characters in B in linear time complexity.\n",
        "Note that when the count of a character c in B is x, then the count of c in the minimum window in A should be at least x.\n",
        "\n",
        "Note:\n",
        "\n",
        "If there is no such window in A that covers all characters in B, return the empty string.\n",
        "If there are multiple such windows, return the first occurring minimum window ( with minimum start index and length )\n",
        "\n",
        "\n",
        "Problem Constraints\n",
        "1 <= size(A), size(B) <= 106"
      ],
      "metadata": {
        "id": "RgH1cFP9HUdF"
      }
    },
    {
      "cell_type": "code",
      "source": [
        "#from collections import Counter\n",
        "\n",
        "class Solution:\n",
        "\t# @param A : string\n",
        "\t# @param B : string\n",
        "\t# @return a strings\n",
        "\tdef Counter(self,s):\n",
        "        chr1={}\n",
        "        for i in range(0,26):\n",
        "            ch1=chr(i+ord('A'))\n",
        "            ch2=chr(i+ord('a'))\n",
        "            chr1[ch1]=0\n",
        "            chr1[ch2]=0\n",
        "        for i in range(10):\n",
        "            ch=chr(i+ord('0'))\n",
        "            chr1[ch]=0\n",
        "        for ch in s:\n",
        "            chr1[ch]+=1\n",
        "        return chr1\n",
        "    def minWindow(self, A, B):\n",
        "        len_a = len(A)\n",
        "        len_b = len(B)\n",
        "        counter_b = {}\n",
        "        for ch in B:\n",
        "            if ch in counter_b:\n",
        "                counter_b[ch]+=1\n",
        "            else:\n",
        "                counter_b[ch]=1\n",
        "        counter_window = self.Counter('')\n",
        "        start = 0\n",
        "        end = 0\n",
        "        min_length = float('inf')\n",
        "        min_start = 0\n",
        "        keys=len(counter_b)\n",
        "        #print(keys)\n",
        "        while end < len_a:\n",
        "            counter_window[A[end]] += 1\n",
        "            if(counter_window[A[end]] == counter_b.get(A[end],0)) and A[end] in counter_b:\n",
        "                keys-=1\n",
        "            while keys==0 :\n",
        "                if end - start + 1 < min_length:\n",
        "                    min_length = end - start + 1\n",
        "                    min_start = start\n",
        "                counter_window[A[start]] -=1\n",
        "                if(counter_window[A[start]] < counter_b.get(A[start],0))and A[start] in counter_b :\n",
        "                    keys+=1\n",
        "                start+=1\n",
        "            end += 1\n",
        "        if min_length == float('inf'):\n",
        "            return \"\"\n",
        "        return A[min_start:min_start+min_length]"
      ],
      "metadata": {
        "id": "Qq14dIWSHc8D"
      },
      "execution_count": null,
      "outputs": []
    },
    {
      "cell_type": "markdown",
      "source": [
        "Q4. Anagrams\n",
        "\n",
        "Given an array A of N strings, return all groups of strings that are anagrams.\n",
        "\n",
        "Represent a group by a list of integers representing the index(1-based) in the original list. Look at the sample case for clarification.\n",
        "\n",
        "NOTE: Anagram is a word, phrase, or name formed by rearranging the letters, such as 'spar', formed from 'rasp'.\n",
        "\n",
        "\n",
        "\n",
        "Problem Constraints\n",
        "1 <= N <= 104"
      ],
      "metadata": {
        "id": "5vbKuoqoHjx4"
      }
    },
    {
      "cell_type": "code",
      "source": [
        "from collections import defaultdict\n",
        "class Solution:\n",
        "\t# @param A : tuple of strings\n",
        "\t# @return a list of list of integers\n",
        "\tdef anagrams(self, A):\n",
        "        anagrams = defaultdict(list)\n",
        "        for i, s in enumerate(A):\n",
        "            sorted_s = ''.join(sorted(s))\n",
        "            anagrams[sorted_s].append(i+1)\n",
        "        result = list(anagrams.values()) \n",
        "        return result"
      ],
      "metadata": {
        "id": "J4zSGVzkHszZ"
      },
      "execution_count": null,
      "outputs": []
    },
    {
      "cell_type": "markdown",
      "source": [
        "Q1. Check anagrams\n",
        "\n",
        "You are given two lowercase strings A and B each of length N. Return 1 if they are anagrams to each other and 0 if not.\n",
        "\n",
        "Note : Two strings A and B are called anagrams to each other if A can be formed after rearranging the letters of B.\n",
        "\n",
        "\n",
        "Problem Constraints\n",
        "1 <= N <= 105"
      ],
      "metadata": {
        "id": "NRxzMS9rHxMR"
      }
    },
    {
      "cell_type": "code",
      "source": [
        "class Solution:\n",
        "    # @param A : string\n",
        "    # @param B : string\n",
        "    # @return an integer\n",
        "    def solve(self, A, B):\n",
        "        A_list = list(A)\n",
        "        B_list = list(B)\n",
        "\n",
        "        A_list.sort()\n",
        "        B_list.sort()\n",
        "\n",
        "        if A_list == B_list:\n",
        "            return 1\n",
        "        else:\n",
        "            return 0"
      ],
      "metadata": {
        "id": "HZkX3Y0qH5U-"
      },
      "execution_count": null,
      "outputs": []
    },
    {
      "cell_type": "markdown",
      "source": [
        "Q2. Check Palindrome - II\n",
        "\n",
        "Given a string A consisting of lowercase characters.\n",
        "\n",
        "Check if characters of the given string can be rearranged to form a palindrome.\n",
        "\n",
        "Return 1 if it is possible to rearrange the characters of the string A such that it becomes a palindrome else return 0.\n",
        "\n",
        "\n",
        "\n",
        "Problem Constraints\n",
        "1 <= |A| <= 105"
      ],
      "metadata": {
        "id": "keiN1ZKvH-O4"
      }
    },
    {
      "cell_type": "code",
      "source": [
        "class Solution:\n",
        "    # @param A : string\n",
        "    # @return an integer\n",
        "    def solve(self, A):\n",
        "        char_freq = {}\n",
        "        for char in A:\n",
        "            if char in char_freq:\n",
        "                char_freq[char] += 1\n",
        "            else:\n",
        "                char_freq[char] = 1\n",
        "        odd_freq_count = 0\n",
        "        for freq in char_freq.values():\n",
        "            if freq % 2 != 0:\n",
        "                odd_freq_count += 1\n",
        "        if odd_freq_count <= 1:\n",
        "            return 1\n",
        "        else:\n",
        "            return 0"
      ],
      "metadata": {
        "id": "03dpDN77IGo0"
      },
      "execution_count": null,
      "outputs": []
    }
  ]
}