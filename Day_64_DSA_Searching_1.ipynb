{
  "nbformat": 4,
  "nbformat_minor": 0,
  "metadata": {
    "colab": {
      "provenance": [],
      "authorship_tag": "ABX9TyMAeplJhbX5rCIb+G7Hfj2+",
      "include_colab_link": true
    },
    "kernelspec": {
      "name": "python3",
      "display_name": "Python 3"
    },
    "language_info": {
      "name": "python"
    }
  },
  "cells": [
    {
      "cell_type": "markdown",
      "metadata": {
        "id": "view-in-github",
        "colab_type": "text"
      },
      "source": [
        "<a href=\"https://colab.research.google.com/github/Rama27SepIBM/Data-Science-For-Beginners/blob/main/Day_64_DSA_Searching_1.ipynb\" target=\"_parent\"><img src=\"https://colab.research.google.com/assets/colab-badge.svg\" alt=\"Open In Colab\"/></a>"
      ]
    },
    {
      "cell_type": "markdown",
      "source": [
        "Q1. Search for a Range\n",
        "\n",
        "Given a sorted array of integers A (0-indexed) of size N, find the starting and the ending position of a given integer B in array A.\n",
        "\n",
        "Your algorithm's runtime complexity must be in the order of O(log n).\n",
        "\n",
        "Return an array of size 2, such that the first element = starting position of B in A and the second element = ending position of B in A, if B is not found in A return [-1, -1]."
      ],
      "metadata": {
        "id": "1PTjeGukX3h9"
      }
    },
    {
      "cell_type": "code",
      "source": [
        "class Solution:\n",
        "    # @param A : tuple of integers\n",
        "    # @param B : integer\n",
        "    # @return a list of integers\n",
        "    def searchRange(self, A, B):\n",
        "        n = len(A)\n",
        "        start = -1\n",
        "        end = -1\n",
        "        low, high = 0, n - 1\n",
        "        while low <= high:\n",
        "            mid = (low + high) // 2\n",
        "            if A[mid] == B:  # and (mid == 0 or A[mid-1] < B):\n",
        "                start = mid\n",
        "            if A[mid] < B:\n",
        "                low = mid + 1\n",
        "            else:\n",
        "                high = mid - 1\n",
        "                \n",
        "        low, high = 0, n - 1\n",
        "        while low <= high:\n",
        "            mid = (low + high) // 2\n",
        "            if A[mid] == B:  # and (mid == n-1 or A[mid+1] > B):\n",
        "                end = mid\n",
        "            if A[mid] > B:\n",
        "                high = mid - 1\n",
        "            else:\n",
        "                low = mid + 1\n",
        "                    \n",
        "        return [start, end]"
      ],
      "metadata": {
        "id": "5fmNbGv8YBAa"
      },
      "execution_count": null,
      "outputs": []
    },
    {
      "cell_type": "markdown",
      "source": [
        "Q2. Find a peak element\n",
        "Given an array of integers A, find and return the peak element in it. An array element is peak if it is NOT smaller than its neighbors.\n",
        "\n",
        "For corner elements, we need to consider only one neighbor. We ensure that answer will be unique.\n",
        "\n",
        "NOTE: Users are expected to solve this in O(log(N)) time. The array may have duplicate elements."
      ],
      "metadata": {
        "id": "3HSQbUhGYJ9c"
      }
    },
    {
      "cell_type": "code",
      "source": [
        "class Solution:\n",
        "    # @param A : list of integers\n",
        "    # @return an integer\n",
        "    def solve(self, A):\n",
        "        N = len(A) # Linear Search\n",
        "        A.append(float(\"-inf\"))\n",
        "        for i in range(1, len(A)):\n",
        "            if A[i] >= A[i - 1] and A[i] >= A[i + 1]: return A[i]\n",
        "        return A[0]\n",
        "        l = 0 # Binary search\n",
        "        r = len(A) - 1\n",
        "        while l < r:\n",
        "            mid = (l+r)//2\n",
        "            if A[mid+1] > A[mid]:\n",
        "                l = mid + 1\n",
        "            else:\n",
        "                r = mid\n",
        "            return A[l]"
      ],
      "metadata": {
        "id": "Zb-rwSpOYSWm"
      },
      "execution_count": null,
      "outputs": []
    },
    {
      "cell_type": "markdown",
      "source": [
        "Q1. Sorted Insert Position\n",
        "Given a sorted array A of size N and a target value B, return the index (0-based indexing) if the target is found.\n",
        "If not, return the index where it would be if it were inserted in order.\n",
        "\n",
        "NOTE: You may assume no duplicates in the array. Users are expected to solve this in O(log(N)) time."
      ],
      "metadata": {
        "id": "VKiotJSiYcIc"
      }
    },
    {
      "cell_type": "code",
      "source": [
        "class Solution:\n",
        "    # @param A : list of integers\n",
        "    # @param B : integer\n",
        "    # @return an integer\n",
        "    def searchInsert(self, A, B):\n",
        "        n = len(A)\n",
        "        low, high = 0, n-1\n",
        "        while low <= high:\n",
        "            mid = (low + high) // 2\n",
        "            if A[mid] == B:\n",
        "                return mid\n",
        "            elif A[mid] < B:\n",
        "                low = mid + 1\n",
        "            else:\n",
        "                high = mid - 1\n",
        "        return low\n",
        "        "
      ],
      "metadata": {
        "id": "xLGkdrLJYgwl"
      },
      "execution_count": null,
      "outputs": []
    },
    {
      "cell_type": "markdown",
      "source": [
        "Q2. Ceiling in a sorted array\n",
        "\n",
        "Given a sorted array B of integers of size A, and a integer value C, return the ceiling of C which is present in array B."
      ],
      "metadata": {
        "id": "1USWke68YlVG"
      }
    },
    {
      "cell_type": "code",
      "source": [
        "class Solution:\n",
        "    # @param A : integer\n",
        "    # @param B : list of integers\n",
        "    # @param C : integer\n",
        "    # @return an integer\n",
        "    def solve(self, A, B, C):\n",
        "        n = len(B)\n",
        "        low, high = 0, n-1\n",
        "        ceil = -1\n",
        "        while low <= high:\n",
        "            mid = (low + high) // 2\n",
        "            if B[mid] == C:\n",
        "                return B[mid]\n",
        "            elif B[mid] < C:\n",
        "                low = mid + 1\n",
        "            else:\n",
        "                ceil = B[mid]\n",
        "                high = mid - 1\n",
        "        return ceil\n"
      ],
      "metadata": {
        "id": "6mx7Ez_5YwNl"
      },
      "execution_count": null,
      "outputs": []
    },
    {
      "cell_type": "markdown",
      "source": [
        "Q3. Matrix Search\n",
        "\n",
        "Given a matrix of integers A of size N x M and an integer B. Write an efficient algorithm that searches for integer B in matrix A.\n",
        "\n",
        "This matrix A has the following properties:\n",
        "\n",
        "Integers in each row are sorted from left to right.\n",
        "The first integer of each row is greater than or equal to the last integer of the previous row.\n",
        "Return 1 if B is present in A, else return 0.\n",
        "\n",
        "NOTE: Rows are numbered from top to bottom, and columns are from left to right."
      ],
      "metadata": {
        "id": "MWPPbpoOZILv"
      }
    },
    {
      "cell_type": "code",
      "source": [
        "class Solution:\n",
        "    # @param A : list of list of integers\n",
        "    # @param B : integer\n",
        "    # @return an integer\n",
        "    def searchMatrix(self, A, B):\n",
        "        n, m = len(A), len(A[0])\n",
        "        low, high = 0, n*m-1\n",
        "\n",
        "        while low <= high:\n",
        "            mid = (low + high) // 2\n",
        "            i, j = divmod(mid, m)\n",
        "            if A[i][j] == B:\n",
        "                return 1\n",
        "            elif A[i][j] < B:\n",
        "                low = mid + 1\n",
        "            else:\n",
        "                high = mid - 1\n",
        "        return 0"
      ],
      "metadata": {
        "id": "dyLDyH8dZNUf"
      },
      "execution_count": null,
      "outputs": []
    },
    {
      "cell_type": "markdown",
      "source": [
        "Q4. Search in Bitonic Array!\n",
        "\n",
        "Given a bitonic sequence A of N distinct elements, write a program to find a given element B in the bitonic sequence in O(logN) time.\n",
        "\n",
        "NOTE:\n",
        "\n",
        "A Bitonic Sequence is a sequence of numbers which is first strictly increasing then after a point strictly decreasing."
      ],
      "metadata": {
        "id": "XHyucwUCZUdW"
      }
    },
    {
      "cell_type": "code",
      "source": [
        "class Solution:\n",
        "    # @param A : list of integers\n",
        "    # @param B : integer\n",
        "    # @return an integer\n",
        "    def solve(self, A, B):\n",
        "        n = len(A)\n",
        "        low, high = 0, n-1\n",
        "\n",
        "        while low < high:\n",
        "            mid = (low + high) // 2\n",
        "            if A[mid] < A[mid+1]:\n",
        "                low = mid + 1\n",
        "            else:\n",
        "                high = mid\n",
        "        peak = low\n",
        "\n",
        "        low, high = 0, peak\n",
        "        while low <= high:\n",
        "            mid = (low + high) // 2\n",
        "            if A[mid] == B:\n",
        "                return mid\n",
        "            elif A[mid] < B:\n",
        "                low = mid + 1\n",
        "            else:\n",
        "                high = mid - 1\n",
        "            \n",
        "        low, high = peak, n-1\n",
        "        while low <= high:\n",
        "            mid = (low + high) // 2\n",
        "            if A[mid] == B:\n",
        "                return mid\n",
        "            elif A[mid] < B:\n",
        "                high = mid - 1\n",
        "            else:\n",
        "                low = mid + 1\n",
        "        return -1"
      ],
      "metadata": {
        "id": "EPeIKHyHZZgm"
      },
      "execution_count": null,
      "outputs": []
    },
    {
      "cell_type": "code",
      "execution_count": null,
      "metadata": {
        "id": "PLZdoJRoXtWR"
      },
      "outputs": [],
      "source": []
    }
  ]
}