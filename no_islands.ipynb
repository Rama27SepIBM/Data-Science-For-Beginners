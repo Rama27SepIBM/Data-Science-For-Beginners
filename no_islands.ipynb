{
  "nbformat": 4,
  "nbformat_minor": 0,
  "metadata": {
    "colab": {
      "provenance": [],
      "authorship_tag": "ABX9TyPakkjMF8xpdWOAX7JVffdH",
      "include_colab_link": true
    },
    "kernelspec": {
      "name": "python3",
      "display_name": "Python 3"
    },
    "language_info": {
      "name": "python"
    }
  },
  "cells": [
    {
      "cell_type": "markdown",
      "metadata": {
        "id": "view-in-github",
        "colab_type": "text"
      },
      "source": [
        "<a href=\"https://colab.research.google.com/github/Rama27SepIBM/Data-Science-For-Beginners/blob/main/no_islands.ipynb\" target=\"_parent\"><img src=\"https://colab.research.google.com/assets/colab-badge.svg\" alt=\"Open In Colab\"/></a>"
      ]
    },
    {
      "cell_type": "code",
      "execution_count": null,
      "metadata": {
        "id": "s4xfZAK_eRq7"
      },
      "outputs": [],
      "source": [
        "from collections import deque\n",
        "class Solution:\n",
        "    # @param A : list of list of integers\n",
        "    # @return an integer\n",
        "    def solve(self, A):\n",
        "        if not A:\n",
        "            return 0\n",
        "        rows , cols = len(A), len(A[0])\n",
        "        visit = set()\n",
        "        islands = 0\n",
        "        # BFS algorithm\n",
        "        def bfs(r,c):\n",
        "            q = deque()\n",
        "            visit.add((r,c))\n",
        "            q.append((r,c))\n",
        "\n",
        "            while q:\n",
        "                row, col = q.popleft()\n",
        "                directions = [(1, 0), (-1, 0), (0, 1), (0, -1), (1, 1), (-1, -1), (1, -1), (-1, 1)]\n",
        "                for dr, dc in directions:\n",
        "                    r, c = row + dr, col + dc\n",
        "                    if (r in range(rows) and\n",
        "                        c in range(cols) and\n",
        "                        A[r][c] == 1 and (r, c) not in visit):\n",
        "                        q.append((r, c))\n",
        "                        visit.add((r, c))\n",
        "\n",
        "        for r in range(rows):\n",
        "            for c in range(cols):\n",
        "                if A[r][c] == 1 and (r,c) not in visit:\n",
        "                    bfs(r, c)\n",
        "                    islands += 1\n",
        "        return islands"
      ]
    }
  ]
}