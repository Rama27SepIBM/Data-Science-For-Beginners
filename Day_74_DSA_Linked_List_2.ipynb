{
  "nbformat": 4,
  "nbformat_minor": 0,
  "metadata": {
    "colab": {
      "provenance": [],
      "authorship_tag": "ABX9TyP2O91uMAWUGwz3ef3/Y0B4",
      "include_colab_link": true
    },
    "kernelspec": {
      "name": "python3",
      "display_name": "Python 3"
    },
    "language_info": {
      "name": "python"
    }
  },
  "cells": [
    {
      "cell_type": "markdown",
      "metadata": {
        "id": "view-in-github",
        "colab_type": "text"
      },
      "source": [
        "<a href=\"https://colab.research.google.com/github/Rama27SepIBM/Data-Science-For-Beginners/blob/main/Day_74_DSA_Linked_List_2.ipynb\" target=\"_parent\"><img src=\"https://colab.research.google.com/assets/colab-badge.svg\" alt=\"Open In Colab\"/></a>"
      ]
    },
    {
      "cell_type": "markdown",
      "source": [
        "Q.1 Merge Two Sorted Lists\n",
        "\n",
        "Merge two sorted linked lists, A and B, and return it as a new list.\n",
        "\n",
        "The new list should be made by splicing together the nodes of the first two lists and should also be sorted."
      ],
      "metadata": {
        "id": "pWFgj-GrekBE"
      }
    },
    {
      "cell_type": "code",
      "source": [
        "# Definition for singly-linked list.\n",
        "# class ListNode:\n",
        "#\tdef __init__(self, x):\n",
        "#\t\tself.val = x\n",
        "#\t\tself.next = None\n",
        "\n",
        "class Solution:\n",
        "\t# @param A : head node of linked list\n",
        "\t# @param B : head node of linked list\n",
        "\t# @return the head node in the linked list\n",
        "\tdef mergeTwoLists(self, A, B):\n",
        "        #dummy = A\n",
        "        tail = ListNode(-1)\n",
        "        ans=tail\n",
        "        while A and B:\n",
        "            if A.val <= B.val:\n",
        "                tail.next = ListNode(A.val)\n",
        "                A = A.next\n",
        "                tail = tail.next\n",
        "            else :\n",
        "                tail.next = ListNode(B.val)\n",
        "                B = B.next\n",
        "                tail = tail.next\n",
        "            \n",
        "        while A is not None:\n",
        "            tail.next = ListNode(A.val)\n",
        "            A = A.next\n",
        "            tail = tail.next\n",
        "        while B is not None:\n",
        "            tail.next = ListNode(B.val)\n",
        "            B = B.next\n",
        "            tail = tail.next\n",
        "        return ans.next"
      ],
      "metadata": {
        "id": "pOrx1s1tewFR"
      },
      "execution_count": null,
      "outputs": []
    },
    {
      "cell_type": "markdown",
      "source": [
        "Q.2  Reorder List\n",
        "\n",
        "Given a singly linked list A\n",
        "\n",
        " A: A0 → A1 → … → An-1 → An \n",
        "reorder it to:\n",
        "\n",
        " A0 → An → A1 → An-1 → A2 → An-2 → … \n",
        "You must do this in-place without altering the nodes' values."
      ],
      "metadata": {
        "id": "OGpXm5b4e1k1"
      }
    },
    {
      "cell_type": "code",
      "source": [
        "# Definition for singly-linked list.\n",
        "# class ListNode:\n",
        "#\tdef __init__(self, x):\n",
        "#\t\tself.val = x\n",
        "#\t\tself.next = None\n",
        "\n",
        "class Solution:\n",
        "\t# @param A : head node of linked list\n",
        "\t# @return the head node in the linked list\n",
        "\tdef reorderList(self, A):\n",
        "        if not A or not A.next:\n",
        "            return A\n",
        "            #[1,2,3] [1,2,3,4]\n",
        "        slow, fast = A, A\n",
        "        while fast and fast.next:\n",
        "            slow = slow.next\n",
        "            fast = fast.next.next\n",
        "            \n",
        "        prev, curr = None, slow\n",
        "        while curr:\n",
        "            next_node = curr.next\n",
        "            curr.next = prev\n",
        "            prev = curr\n",
        "            curr = next_node\n",
        "\n",
        "        first_half, second_half = A, prev\n",
        "        while second_half.next:\n",
        "            next_node = first_half.next\n",
        "            first_half.next = second_half\n",
        "            first_half = next_node\n",
        "\n",
        "            next_node = second_half.next\n",
        "            second_half.next = first_half\n",
        "            second_half = next_node\n",
        "# [1,2,3] [1,2,3,4]\n",
        "# 1->2->3->None1\n",
        "# 1->2->3<-4\n",
        "# 1->4->2\n",
        "        second_half.next = None\n",
        "        return A"
      ],
      "metadata": {
        "id": "_T61jYt-fAyY"
      },
      "execution_count": null,
      "outputs": []
    },
    {
      "cell_type": "markdown",
      "source": [
        "Q3. Remove Loop from Linked List\n",
        "\n",
        "You are given a linked list that contains a loop.\n",
        "You need to find the node, which creates a loop and break it by making the node point to NULL.\n",
        "\n",
        "\n",
        "\n",
        "Problem Constraints\n",
        "1 <= number of nodes <= 1000"
      ],
      "metadata": {
        "id": "D0V1ke3LfIeB"
      }
    },
    {
      "cell_type": "code",
      "source": [
        "# Definition for singly-linked list.\n",
        "# class ListNode:\n",
        "#    def __init__(self, x):\n",
        "#        self.val = x\n",
        "#        self.next = None\n",
        "\n",
        "class Solution:\n",
        "    # @param A : head node of linked list\n",
        "    # @return the head node in the linked list\n",
        "    def solve(self, A):\n",
        "        if not A or not A.next:\n",
        "            return False\n",
        "        slow, fast = A, A.next\n",
        "        while fast and fast.next:\n",
        "            if slow == fast:\n",
        "                break\n",
        "            slow = slow.next\n",
        "            fast = fast.next.next\n",
        "        curr = A\n",
        "        while curr != slow.next:\n",
        "            curr = curr.next\n",
        "            slow = slow.next\n",
        "        slow.next = None\n",
        "\n",
        "        return A"
      ],
      "metadata": {
        "id": "7v271WwwfSrP"
      },
      "execution_count": null,
      "outputs": []
    },
    {
      "cell_type": "markdown",
      "source": [
        "Q4. Intersection of Linked Lists\n",
        "\n",
        "Write a program to find the node at which the intersection of two singly linked lists, A and B, begins. For example, the following two linked lists:\n",
        "\n",
        "A:          a1 → a2\n",
        "                   ↘\n",
        "                     c1 → c2 → c3\n",
        "                   ↗\n",
        "B:     b1 → b2 → b3\n",
        "NOTE:\n",
        "\n",
        "If the two linked lists have no intersection at all, return null.\n",
        "The linked lists must retain their original structure after the function returns.\n",
        "You may assume there are no cycles anywhere in the entire linked structure.\n",
        "Your code should preferably run in O(n) time and use only O(1) memory.\n",
        "The custom input to be given is different than the one explained in the examples. Please be careful.\n",
        "\n",
        "\n",
        "Problem Constraints\n",
        "0 <= |A|, |B| <= 106\n",
        "\n",
        "\n",
        "\n",
        "Input Format\n",
        "The first argument of input contains a pointer to the head of the linked list A.\n",
        "\n",
        "The second argument of input contains a pointer to the head of the linked list B.\n",
        "\n",
        "\n",
        "\n",
        "Output Format\n",
        "Return a pointer to the node after which the linked list is intersecting."
      ],
      "metadata": {
        "id": "irSuG4CjfX0V"
      }
    },
    {
      "cell_type": "code",
      "source": [
        "Definition for singly-linked list\n",
        "class ListNode:\n",
        "   def __init__(self, val):\n",
        "      self.val = val\n",
        "      self.next = None\n",
        "'''\n",
        "class Solution:\n",
        "    def getIntersectionNode(self, A, B):\n",
        "        if not A or not B:\n",
        "            return None\n",
        "        lenA, lenB = 0, 0\n",
        "        currA, currB = A, B\n",
        "\n",
        "        while currA:\n",
        "            lenA += 1\n",
        "            currA = currA.next\n",
        "        while currB:\n",
        "            lenB += 1\n",
        "            currB = currB.next\n",
        "\n",
        "        if lenA < lenB:\n",
        "            A, B = B, A\n",
        "            lenA, lenB = lenB, lenA\n",
        "\n",
        "        diff = lenA - lenB\n",
        "        currA, currB = A, B\n",
        "\n",
        "        for i in range(diff):\n",
        "            currA = currA.next\n",
        "        while currA and currB:\n",
        "            if currA == currB:\n",
        "                return currA\n",
        "            else:\n",
        "                currA = currA.next\n",
        "                currB = currB.next\n",
        "        return None"
      ],
      "metadata": {
        "id": "nO8k4eRmfh0L"
      },
      "execution_count": null,
      "outputs": []
    },
    {
      "cell_type": "markdown",
      "source": [
        "Q1. Palindrome List\n",
        "\n",
        "Given a singly linked list A, determine if it's a palindrome. Return 1 or 0, denoting if it's a palindrome or not, respectively.\n",
        "\n"
      ],
      "metadata": {
        "id": "u1_-xclyfoh-"
      }
    },
    {
      "cell_type": "code",
      "source": [
        "# Definition for singly-linked list.\n",
        "# class ListNode:\n",
        "#\tdef __init__(self, x):\n",
        "#\t\tself.val = x\n",
        "#\t\tself.next = None\n",
        "\n",
        "class Solution:\n",
        "\t# @param A : head node of linked list\n",
        "\t# @return an integer\n",
        "\tdef lPalin(self, A):\n",
        "        values = []\n",
        "        curr = A\n",
        "        while curr is not None:\n",
        "            values.append(curr.val)\n",
        "            curr = curr.next\n",
        "        #return values == values[::-1]\n",
        "        if values == values[::-1]:\n",
        "            return 1\n",
        "        else:\n",
        "            return 0"
      ],
      "metadata": {
        "id": "Zif95Jrpf0s4"
      },
      "execution_count": null,
      "outputs": []
    },
    {
      "cell_type": "markdown",
      "source": [
        "Q2. Add Two Numbers as Lists\n",
        "\n",
        "You are given two linked lists, A and B, representing two non-negative numbers.\n",
        "\n",
        "The digits are stored in reverse order, and each of their nodes contains a single digit.\n",
        "\n",
        "Add the two numbers and return it as a linked list."
      ],
      "metadata": {
        "id": "9hQn1aD-f44l"
      }
    },
    {
      "cell_type": "code",
      "source": [
        "# Definition for singly-linked list.\n",
        "# class ListNode:\n",
        "#\tdef __init__(self, x):\n",
        "#\t\tself.val = x\n",
        "#\t\tself.next = None\n",
        "\n",
        "class Solution:\n",
        "\t# @param A : head node of linked list\n",
        "\t# @param B : head node of linked list\n",
        "\t# @return the head node in the linked list\n",
        "\tdef addTwoNumbers(self, A, B):\n",
        "        carry = 0\n",
        "        dummy = ListNode(-1)\n",
        "        curr = dummy\n",
        "\n",
        "        while A is not None or B is not None:\n",
        "            x = A.val if A is not None else 0\n",
        "            y = B.val if B is not None else 0\n",
        "            sum = x + y + carry\n",
        "            carry = sum // 10\n",
        "            curr.next = ListNode(sum % 10)\n",
        "            curr = curr.next\n",
        "            if A is not None: A = A.next\n",
        "            if B is not None: B = B.next\n",
        "\n",
        "        if carry > 0:\n",
        "            curr.next = ListNode(carry)\n",
        "        return dummy.next"
      ],
      "metadata": {
        "id": "xDUJiZKdgBvf"
      },
      "execution_count": null,
      "outputs": []
    },
    {
      "cell_type": "markdown",
      "source": [
        "Q3. Swap List Nodes in pairs\n",
        "\n",
        "Given a linked list A, swap every two adjacent nodes and return its head.\n",
        "\n",
        "NOTE: Your algorithm should use only constant space. You may not modify the values in the list; only nodes themselves can be changed."
      ],
      "metadata": {
        "id": "Pf7EvydUgGJ1"
      }
    },
    {
      "cell_type": "code",
      "source": [
        "# Definition for singly-linked list.\n",
        "# class ListNode:\n",
        "#\tdef __init__(self, x):\n",
        "#\t\tself.val = x\n",
        "#\t\tself.next = None\n",
        "\n",
        "class Solution:\n",
        "\t# @param A : head node of linked list\n",
        "\t# @return the head node in the linked list\n",
        "\tdef swapPairs(self, A):\n",
        "        dummy = ListNode(0)\n",
        "        dummy.next = A\n",
        "        prev = dummy\n",
        "\n",
        "        while prev.next and prev.next.next :\n",
        "            first_node = prev.next\n",
        "            second_node = prev.next.next\n",
        "            prev.next = second_node\n",
        "            first_node.next = second_node.next\n",
        "            second_node.next = first_node\n",
        "            prev = first_node\n",
        "        return dummy.next"
      ],
      "metadata": {
        "id": "rIte8wWggNwO"
      },
      "execution_count": null,
      "outputs": []
    },
    {
      "cell_type": "markdown",
      "source": [],
      "metadata": {
        "id": "gpyrnNmtgTsF"
      }
    },
    {
      "cell_type": "code",
      "execution_count": null,
      "metadata": {
        "id": "k7B2rL_Febzl"
      },
      "outputs": [],
      "source": []
    }
  ]
}