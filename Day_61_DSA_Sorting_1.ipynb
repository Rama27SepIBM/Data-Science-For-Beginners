{
  "nbformat": 4,
  "nbformat_minor": 0,
  "metadata": {
    "colab": {
      "provenance": [],
      "authorship_tag": "ABX9TyMlT7D9SFrkseXl+E8CY1qI",
      "include_colab_link": true
    },
    "kernelspec": {
      "name": "python3",
      "display_name": "Python 3"
    },
    "language_info": {
      "name": "python"
    }
  },
  "cells": [
    {
      "cell_type": "markdown",
      "metadata": {
        "id": "view-in-github",
        "colab_type": "text"
      },
      "source": [
        "<a href=\"https://colab.research.google.com/github/Rama27SepIBM/Data-Science-For-Beginners/blob/main/Day_61_DSA_Sorting_1.ipynb\" target=\"_parent\"><img src=\"https://colab.research.google.com/assets/colab-badge.svg\" alt=\"Open In Colab\"/></a>"
      ]
    },
    {
      "cell_type": "markdown",
      "source": [
        "Q1. Bubble Sort\n",
        "\n",
        "Implement Bubble Sort in the article below.\n",
        "\n",
        "Given an integer array A of size N, sort the array using bubble sort algorithm.\n",
        "Return the array after sorting.\n",
        "\n",
        "\n",
        "\n",
        "Problem Constraints\n",
        "1 <= N <= 103"
      ],
      "metadata": {
        "id": "4Ua1swbqikam"
      }
    },
    {
      "cell_type": "code",
      "execution_count": null,
      "metadata": {
        "id": "CPyJLLBUiek-"
      },
      "outputs": [],
      "source": [
        "class Solution:\n",
        "    # @param A : list of integers\n",
        "    # @return a list of integers\n",
        "    def bubbleSort(self, A):\n",
        "        n = len(A)\n",
        "        for i in range(n):\n",
        "        # Last i elements are already sorted\n",
        "            for j in range(0, n-i-1):\n",
        "            # Traverse the array from 0 to n-i-1\n",
        "            # Swap if the element found is greater than the next element\n",
        "                if A[j] > A[j+1]:\n",
        "                    A[j], A[j+1] = A[j+1], A[j]\n",
        "        return A\n"
      ]
    },
    {
      "cell_type": "markdown",
      "source": [
        "Q2. Merge Two Sorted Arrays\n",
        "\n",
        "Given two sorted integer arrays A and B, merge B and A as one sorted array and return it as an output."
      ],
      "metadata": {
        "id": "_5lIXDDqi0-D"
      }
    },
    {
      "cell_type": "code",
      "source": [
        "class Solution:\n",
        "    # @param A : tuple of integers\n",
        "    # @param B : tuple of integers\n",
        "    # @return a list of integers\n",
        "    def solve(self, A, B):\n",
        "        m, n = len(A), len(B)\n",
        "        i, j, k = 0, 0, 0\n",
        "        result = [0] * (m + n)\n",
        "\n",
        "        while i < m and j < n:\n",
        "            if A[i] < B[j]:\n",
        "                result[k] = A[i]\n",
        "                i += 1\n",
        "            else:\n",
        "                result[k] = B[j]\n",
        "                j += 1\n",
        "            k += 1\n",
        "        while i < m:\n",
        "            result[k] = A[i]\n",
        "            i += 1\n",
        "            k += 1\n",
        "\n",
        "        while j < n:\n",
        "            result[k] = B[j]\n",
        "            j += 1\n",
        "            k += 1\n",
        "        return result"
      ],
      "metadata": {
        "id": "4ETrMPGpjJDC"
      },
      "execution_count": null,
      "outputs": []
    },
    {
      "cell_type": "markdown",
      "source": [
        "Q3. Merge Sort\n",
        "\n",
        "Given an integer array A, sort the array using Merge Sort.\n",
        "\n",
        "\n",
        "Problem Constraints\n",
        "1 <= |A| <= 105"
      ],
      "metadata": {
        "id": "FzLt_cT1jbvw"
      }
    },
    {
      "cell_type": "code",
      "source": [
        "class Solution:\n",
        "    # @param A : list of integers\n",
        "    # @return a list of integers\n",
        "    def solve(self, A):\n",
        "        n = len(A)\n",
        "        self.mergeSort(A, 0, n-1)\n",
        "        return A\n",
        "    def mergeSort(self, arr, start, end):\n",
        "        if start == end:\n",
        "            return\n",
        "        midElement = (start + end) // 2\n",
        "        self.mergeSort(arr, start, midElement)\n",
        "        self.mergeSort(arr, midElement + 1, end)\n",
        "        self.mergeSubarrays(arr, start, midElement, end)\n",
        "\n",
        "    def mergeSubarrays(self, arr, start, midElement, end):\n",
        "        p1 = start\n",
        "        p2 = midElement + 1\n",
        "        p3 = 0\n",
        "        tempArray = [0] * (end - start + 1)\n",
        "        while (p1 <= midElement and p2 <= end):\n",
        "            if arr[p1] < arr[p2]:\n",
        "                tempArray[p3] = arr[p1]\n",
        "                p1 += 1\n",
        "                p3 += 1\n",
        "            else:\n",
        "                tempArray[p3] = arr[p2]\n",
        "                p2 += 1\n",
        "                p3 += 1\n",
        "        while p1 <= midElement:\n",
        "            tempArray[p3] = arr[p1]\n",
        "            p1 += 1\n",
        "            p3 += 1\n",
        "        while p2 <= end:\n",
        "            tempArray[p3] = arr[p2]\n",
        "            p2 += 1\n",
        "            p3 += 1\n",
        "        i = start\n",
        "        j = 0\n",
        "        while i <= end:\n",
        "            arr[i] = tempArray[j]\n",
        "            i += 1\n",
        "            j += 1"
      ],
      "metadata": {
        "id": "NhPNZJ0VjkW-"
      },
      "execution_count": null,
      "outputs": []
    },
    {
      "cell_type": "markdown",
      "source": [
        "Q1. Array with consecutive elements\n",
        "\n",
        "Given an array of positive integers A, check and return whether the array elements are consecutive or not.\n",
        "NOTE: Try this with O(1) extra space."
      ],
      "metadata": {
        "id": "f51sgkE2jqXm"
      }
    },
    {
      "cell_type": "code",
      "source": [
        "class Solution:\n",
        "    # @param A : list of integers\n",
        "    # @return an integer\n",
        "    def solve(self, A):\n",
        "        n = len(A)\n",
        "        # sort the given array\n",
        "        A.sort()\n",
        "        prev = 0\n",
        "        # check if the elements are consecutive\n",
        "        for i in range(n):\n",
        "            if i == 0:\n",
        "                prev = A[i]\n",
        "            elif prev + 1 != A[i]:\n",
        "                return 0\n",
        "            prev = A[i]\n",
        "        return 1"
      ],
      "metadata": {
        "id": "Z3fo1SQijwD2"
      },
      "execution_count": null,
      "outputs": []
    },
    {
      "cell_type": "markdown",
      "source": [
        "Q2. Insertion Sort\n",
        "\n",
        "Given an array A containing N integers.\n",
        "\n",
        "You need to sort the array and return it.\n",
        "\n",
        "NOTE: Try to use Insertion Sort with Recursion to solve this problem."
      ],
      "metadata": {
        "id": "NWksyzF-jyEs"
      }
    },
    {
      "cell_type": "code",
      "source": [
        "import sys\n",
        "sys.setrecursionlimit(100000000)\n",
        "class Solution:\n",
        "    # @param A : list of integers\n",
        "    # @return a list of integers\n",
        "    def solve(self, A):\n",
        "        if len(A) <= 1:\n",
        "            return A    \n",
        "        p = self.solve(A[:-1])\n",
        "        last = A[-1]\n",
        "        A = p + [A[-1]]\n",
        "        \n",
        "        j = len(A) - 2\n",
        "        while (j >= 0 and A[j] > last):\n",
        "            A[j+1] = A[j]\n",
        "            j -= 1\n",
        "            A[j+1] = last\n",
        "        return A"
      ],
      "metadata": {
        "id": "XOAVnpbOj4s-"
      },
      "execution_count": null,
      "outputs": []
    }
  ]
}