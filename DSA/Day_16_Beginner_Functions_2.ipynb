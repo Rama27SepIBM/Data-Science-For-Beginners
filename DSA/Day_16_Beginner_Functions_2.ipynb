{
  "nbformat": 4,
  "nbformat_minor": 0,
  "metadata": {
    "colab": {
      "provenance": [],
      "authorship_tag": "ABX9TyNZcVmq4kV7ZpUBlmXgNPAJ",
      "include_colab_link": true
    },
    "kernelspec": {
      "name": "python3",
      "display_name": "Python 3"
    },
    "language_info": {
      "name": "python"
    }
  },
  "cells": [
    {
      "cell_type": "markdown",
      "metadata": {
        "id": "view-in-github",
        "colab_type": "text"
      },
      "source": [
        "<a href=\"https://colab.research.google.com/github/Rama27SepIBM/21DaysOfLeetcode/blob/main/Day_16_Beginner_Functions_2.ipynb\" target=\"_parent\"><img src=\"https://colab.research.google.com/assets/colab-badge.svg\" alt=\"Open In Colab\"/></a>"
      ]
    },
    {
      "cell_type": "markdown",
      "source": [
        "Q1. Time to end Corona\n",
        "\n",
        "Given three integers, A, B and C. You have to find the number of days it will take to reach zero cases of Corona in a city.\n",
        "\n",
        "A - Average cases recovered in a day of the corona.\n",
        "B - Number of new cases of corona daily.\n",
        "C - Current active cases of the corona.\n",
        "\n",
        "Return the minimum number of days it will take to reach 0 active cases of Covid."
      ],
      "metadata": {
        "id": "4N6zY6wo3ztt"
      }
    },
    {
      "cell_type": "code",
      "source": [
        "class Solution:\n",
        "    # @param A : integer\n",
        "    # @param B : integer\n",
        "    # @param C : integer\n",
        "    # @return an integer\n",
        "    def solve(self, A, B, C):\n",
        "        days = 0\n",
        "        while C > 0:\n",
        "            C += B\n",
        "            C -= A\n",
        "            days += 1\n",
        "        return days"
      ],
      "metadata": {
        "id": "dCA0YhTM4DB1"
      },
      "execution_count": null,
      "outputs": []
    },
    {
      "cell_type": "markdown",
      "source": [
        "Q2. Is Perfect Square ?\n",
        "\n",
        "You are given a function that takes an integer argument A. Return 1 if A is a perfect square otherwise return 0.\n",
        "\n",
        "\n",
        "Problem Constraints\n",
        "1 <= A <= 108"
      ],
      "metadata": {
        "id": "iWURIl_l4GTn"
      }
    },
    {
      "cell_type": "code",
      "source": [
        "class Solution:\n",
        "    # @param A : integer\n",
        "    # @return an integer\n",
        "    def solve(self, A):\n",
        "        sq= int(A**0.5)\n",
        "        sr=sq*sq\n",
        "        if sr==A:\n",
        "            return 1\n",
        "        else:\n",
        "            return 0"
      ],
      "metadata": {
        "id": "nbp8rJ6o4MsH"
      },
      "execution_count": null,
      "outputs": []
    },
    {
      "cell_type": "markdown",
      "source": [
        "Q3. Rounded Division\n",
        "\n",
        "Given an integer A, find the rounded value of real number A / 200.\n",
        "\n",
        "Rounded value of a real number X is the integer which is nearest to X, with halfway cases rounded away from zero.\n",
        "\n",
        "Some examples:\n",
        "\n",
        "Rounded value of 2.4 = 2\n",
        "Rounded value of 2.5 = 3\n",
        "Rounded value of 2.6 = 3\n",
        "Rounded value of 0.0 = 0\n",
        "Rounded value of -2.4 = -2\n",
        "Rounded value of -2.5 = -3\n",
        "Rounded value of -2.6 = -3"
      ],
      "metadata": {
        "id": "S7rBlSMC4Pe8"
      }
    },
    {
      "cell_type": "code",
      "source": [
        "class Solution:\n",
        "    # @param A : integer\n",
        "    # @return an integer\n",
        "    def solve(self, A):\n",
        "        #A=-2113\n",
        "        A/= 200.00\n",
        "        \n",
        "        if A >= 0:\n",
        "            A += 0.5\n",
        "        else: \n",
        "            A -= 0.5\n",
        "        k = 0\n",
        "        if A >= 0:\n",
        "            k = math.floor(A)\n",
        "        else: \n",
        "            k = math.ceil(A)\n",
        "            \n",
        "        return k"
      ],
      "metadata": {
        "id": "Zj473Smr4Wo8"
      },
      "execution_count": null,
      "outputs": []
    },
    {
      "cell_type": "markdown",
      "source": [
        "Q4. Square root of a number\n",
        "\n",
        "Given a number A. Return square root of the number if it is perfect square otherwise return -1.\n",
        "\n",
        "Problem Constraints\n",
        "\n",
        "1 <= A <= 108\n",
        "Input Format\n",
        "\n",
        "First and the only argument is an integer A.\n",
        "Output Format\n",
        "\n",
        "Return an integer which is the square root of A if A is perfect square otherwise return -1.\n",
        "Example Input\n",
        "\n",
        "Input 1:\n",
        "A = 4"
      ],
      "metadata": {
        "id": "-qQLJFvD4a65"
      }
    },
    {
      "cell_type": "code",
      "source": [
        "class Solution:\n",
        "    # @param A : integer\n",
        "    # @return an integer\n",
        "    def solve(self, A):\n",
        "        for i in range(1,10001):\n",
        "            if i*i==A:\n",
        "                return i\n",
        "        return -1"
      ],
      "metadata": {
        "id": "TQKgloky4hbH"
      },
      "execution_count": null,
      "outputs": []
    },
    {
      "cell_type": "markdown",
      "source": [
        "Q5. Arguments Check\n",
        "\n",
        "Given the following function fun1()\n",
        " def func1(name,age):\n",
        "   print(name,age)\n",
        "   \n",
        "Select all the syntactically correct function calls that display the name followed by the age passed by the user."
      ],
      "metadata": {
        "id": "u0uzH4UB4kVB"
      }
    },
    {
      "cell_type": "code",
      "source": [
        "# fun1(\"Mohit\", age=23). fun1(age =23, name=\"Mohit\") fun1(name=\"Mohit\", 23). fun1(23, \"Mohit\")"
      ],
      "metadata": {
        "id": "useF6CiF49mA"
      },
      "execution_count": null,
      "outputs": []
    },
    {
      "cell_type": "markdown",
      "source": [
        "Q6. Multiple Print Function\n",
        "\n",
        "What is the output of the code?\n",
        "\n",
        "def multiple_print(s, n = 1):\n",
        "    print(s * n, end='')\n",
        "    print() # this prints new line i.e. \\n\n",
        "\n",
        "multiple_print('Hello', 2)\n",
        "multiple_print('Hello')"
      ],
      "metadata": {
        "id": "XZAorVbK5KWY"
      }
    },
    {
      "cell_type": "code",
      "source": [
        "# HelloHelloHello\\n HelloHello\\nHello\\n Hello\\nHello\\nHello\\n Hello\\nHelloHello"
      ],
      "metadata": {
        "id": "PgMmN65H5Qu3"
      },
      "execution_count": null,
      "outputs": []
    },
    {
      "cell_type": "markdown",
      "source": [
        "Q7. Calculate Interest\n",
        "\n",
        "Considering the Interest() function:\n",
        "\n",
        "def Interest(p,c,t=2,r=0.09):\n",
        "  return p*t*r\n",
        "Which of the following function calls are legal?"
      ],
      "metadata": {
        "id": "g59U7MF_5Zoc"
      }
    },
    {
      "cell_type": "code",
      "source": [
        "# Interest(p=1000,c=5). Interest(r=0.05,5000,3). Interest(500,t=2,r=0.05) Interest(c=4,r=0.12,p=5000)"
      ],
      "metadata": {
        "id": "yX1mFpsB5hT9"
      },
      "execution_count": null,
      "outputs": []
    },
    {
      "cell_type": "markdown",
      "source": [
        "Q1. BMI Calculator\n",
        "\n",
        "Given the height (A) and weight (B) of a person as input in centimetres and kilograms.\n",
        "\n",
        "Find the BMI of that person and the classification of the user based on their BMI.\n",
        "\n",
        "Print Underweight if BMI < 18.5\n",
        "Print Normal weight if BMI lies in the range [18.5, 24.9]\n",
        "Print Overweight if BMI lies in the range (24.9, 29.9]\n",
        "Print Obese if BMI is greater than 29.9\n",
        "If x is the weight in kilograms and y is the height in metres.\n",
        "\n",
        "Then, BMI is calculated as x/(y*y).\n",
        "\n",
        "Problem Constraints -\n",
        "\n",
        "1 <= A <= 180\n",
        "\n",
        "1 <= B <= 120\n",
        "\n",
        "Input Format -\n",
        "\n",
        "The first line contains the height of the person in centimetres.\n",
        "\n",
        "The second line of the input contains the weight of the person in kilograms.\n",
        "\n",
        "Output Format -\n",
        "\n",
        "The first line of the output contains the classification of a person based on the BMI value.\n",
        "\n",
        "The second line of the output contains the BMI value of the person.\n",
        "\n",
        "Sample Input -\n",
        "\n",
        "Input 1:\n",
        "\n",
        "101\n",
        "29\n"
      ],
      "metadata": {
        "id": "3z-dFgpp5qF7"
      }
    },
    {
      "cell_type": "code",
      "source": [
        "def main():\n",
        "    # YOUR CODE GOES HERE\n",
        "    y=int(input())\n",
        "    x=int(input())\n",
        "    y=y/100\n",
        "    bmi=x/(y*y)\n",
        "    if bmi >29.9:\n",
        "        print(\"Obese\")\n",
        "        print(round(bmi,1))\n",
        "    elif 24.9<=bmi<29.9:\n",
        "        print(\"Overweight\")\n",
        "        print(round(bmi,1))\n",
        "    elif 18.5<=bmi<24.9:\n",
        "        print(\"Normal\")\n",
        "        print(round(bmi,1))\n",
        "    else:\n",
        "        print(\"Underweight\")\n",
        "        print(round(bmi,1))\n",
        "\n",
        "\n",
        "    # Please take input and print output to standard input/output (stdin/stdout)\n",
        "    # E.g. 'input()/raw_input()' for input & 'print' for output\n",
        "\n",
        "    return 0\n",
        "\n",
        "if __name__ == '__main__':\n",
        "    main()"
      ],
      "metadata": {
        "id": "RonyH72555xD"
      },
      "execution_count": null,
      "outputs": []
    },
    {
      "cell_type": "markdown",
      "source": [
        "Q2. Add the numbers\n",
        "\n",
        "Given two numbers A & B. Return their sum."
      ],
      "metadata": {
        "id": "7dNMK7wb5-zT"
      }
    },
    {
      "cell_type": "code",
      "source": [
        "class Solution:\n",
        "    # @param A : integer\n",
        "    # @param B : integer\n",
        "    # @return an integer\n",
        "    def solve(self, A, B):\n",
        "        return(A+B)"
      ],
      "metadata": {
        "id": "RjEosSVF6Meg"
      },
      "execution_count": null,
      "outputs": []
    },
    {
      "cell_type": "markdown",
      "source": [
        "Q3. Multiply the numbers\n",
        "\n",
        "Given two numbers A & B. Return their product."
      ],
      "metadata": {
        "id": "Y7TBNjQI6PX6"
      }
    },
    {
      "cell_type": "code",
      "source": [
        "class Solution:\n",
        "    # @param A : integer\n",
        "    # @param B : integer\n",
        "    # @return an integer\n",
        "    def solve(self, A, B):\n",
        "        return(A*B)"
      ],
      "metadata": {
        "id": "jz8KL4pY6VMU"
      },
      "execution_count": null,
      "outputs": []
    },
    {
      "cell_type": "markdown",
      "source": [
        "Q4. Square of a number\n",
        "\n",
        "Given a number A. Return square of the number."
      ],
      "metadata": {
        "id": "Cm2UrRo56X_V"
      }
    },
    {
      "cell_type": "code",
      "source": [
        "class Solution:\n",
        "    # @param A : integer\n",
        "    # @return an integer\n",
        "    def solve(self, A):\n",
        "        return(A*A)"
      ],
      "metadata": {
        "id": "ZOY3eDtX6dmY"
      },
      "execution_count": null,
      "outputs": []
    },
    {
      "cell_type": "markdown",
      "source": [
        "Q5. Find The Floor\n",
        "\n",
        "Given an integer A, find the floor value of real number A / 200.\n",
        "\n",
        "Floor value of a real number X is the greatest integer less than or equal to X."
      ],
      "metadata": {
        "id": "38o6r_Ax6gfU"
      }
    },
    {
      "cell_type": "code",
      "source": [
        "class Solution:\n",
        "    # @param A : integer\n",
        "    # @return an integer\n",
        "    \n",
        "    def solve(self, A):\n",
        "        #A=int(input())\n",
        "        return math.floor(A/200)"
      ],
      "metadata": {
        "id": "Mrb4Mv5z6nW9"
      },
      "execution_count": null,
      "outputs": []
    },
    {
      "cell_type": "markdown",
      "source": [
        "Q6. Find The Ceil\n",
        "\n",
        "Given an integer A, find the ceil value of real number A / 200.\n",
        "\n",
        "Ceil value of a real number X is the smallest integer value that is greater than or equal to X."
      ],
      "metadata": {
        "id": "qFB8_fRI6rLr"
      }
    },
    {
      "cell_type": "code",
      "source": [
        "class Solution:\n",
        "    # @param A : integer\n",
        "    # @return an integer\n",
        "    def solve(self, A):\n",
        "        return math.ceil(A/200)"
      ],
      "metadata": {
        "id": "rgG0g8k86y42"
      },
      "execution_count": null,
      "outputs": []
    },
    {
      "cell_type": "markdown",
      "source": [
        "Q7. Division of Integers\n",
        "\n",
        "Given two integers A and B, where A is divisible by B.\n",
        "\n",
        "Print the value of quotient, when A is divided by B."
      ],
      "metadata": {
        "id": "eNPkVvJZ64Vz"
      }
    },
    {
      "cell_type": "code",
      "source": [
        "class Solution:\n",
        "    # @param A : integer\n",
        "    # @param B : integer\n",
        "    # @return an integer\n",
        "    def divide(self, A, B):\n",
        "        return math.floor(A/B)"
      ],
      "metadata": {
        "id": "5t-XBP1e7CBC"
      },
      "execution_count": null,
      "outputs": []
    },
    {
      "cell_type": "markdown",
      "source": [
        "Q8. Power function\n",
        "\n",
        "You are given two integers A and B.\n",
        "\n",
        "You have to find the value of AB.\n",
        "\n",
        "NOTE: The value of answer is always less than or equal to 109.\n",
        "\n",
        "\n",
        "Problem Constraints\n",
        "\n",
        "1 <= A, B <= 1000"
      ],
      "metadata": {
        "id": "CviGvf5P7E0x"
      }
    },
    {
      "cell_type": "code",
      "source": [
        "class Solution:\n",
        "    # @param A : integer\n",
        "    # @param B : integer\n",
        "    # @return an integer\n",
        "    def power(self, A, B):\n",
        "        return (A**B)"
      ],
      "metadata": {
        "id": "7SzMuQhn7OBw"
      },
      "execution_count": null,
      "outputs": []
    },
    {
      "cell_type": "markdown",
      "source": [
        "Q9. Cube It!\n",
        "\n",
        "You are given an integer A.\n",
        "\n",
        "You have to find the value of cube of A i.e, A3."
      ],
      "metadata": {
        "id": "xsQxvC2h7R00"
      }
    },
    {
      "cell_type": "code",
      "source": [
        "class Solution:\n",
        "    # @param A : integer\n",
        "    # @return an integer\n",
        "    def cube(self, A):\n",
        "        return(A**3)"
      ],
      "metadata": {
        "id": "l3U2e6lv7Z6i"
      },
      "execution_count": null,
      "outputs": []
    },
    {
      "cell_type": "markdown",
      "source": [
        "Q10. foo function mystery\n",
        "\n",
        "What does the following program print?\n",
        "\n",
        "\n",
        "x = 5\n",
        "\n",
        "def foo(x):\n",
        "    x = 4\n",
        "\n",
        "foo(x)\n",
        "print(x)"
      ],
      "metadata": {
        "id": "TezgYBCW7c7h"
      }
    },
    {
      "cell_type": "code",
      "source": [
        "# 1 2 3 4 "
      ],
      "metadata": {
        "id": "PjCzkx3Y7jtf"
      },
      "execution_count": null,
      "outputs": []
    },
    {
      "cell_type": "markdown",
      "source": [
        "Q11. Hello World or not?\n",
        "\n",
        "What will be the output of the following code?\n",
        "\n",
        "def foo():\n",
        "    x = \"hello world\"\n",
        "\n",
        "foo()\n",
        "print(x)"
      ],
      "metadata": {
        "id": "dPi7RMrp7nTn"
      }
    },
    {
      "cell_type": "code",
      "source": [
        "# hello world Error  x No Output"
      ],
      "metadata": {
        "id": "uWt4j4st7t8k"
      },
      "execution_count": null,
      "outputs": []
    },
    {
      "cell_type": "markdown",
      "source": [
        "Q12. global or local?\n",
        "\n",
        "What does the following program print?\n",
        "\n",
        "x = \"global\"\n",
        "def foo():\n",
        "    global x\n",
        "    print(x, end=\",\")\n",
        "    x = \"local\"\n",
        "    print(x, end=\",\")\n",
        "\n",
        "foo()\n",
        "print(x, end=\"\")"
      ],
      "metadata": {
        "id": "w_YSo8qh72wA"
      }
    },
    {
      "cell_type": "code",
      "source": [
        "# local,local,local. local,global,local. global,local,global. global,local,local"
      ],
      "metadata": {
        "id": "19ZG50wM7_Eu"
      },
      "execution_count": null,
      "outputs": []
    },
    {
      "cell_type": "markdown",
      "source": [],
      "metadata": {
        "id": "sUi8QY1N8MBT"
      }
    },
    {
      "cell_type": "code",
      "execution_count": null,
      "metadata": {
        "id": "52dt8qvV3tt-"
      },
      "outputs": [],
      "source": []
    }
  ]
}