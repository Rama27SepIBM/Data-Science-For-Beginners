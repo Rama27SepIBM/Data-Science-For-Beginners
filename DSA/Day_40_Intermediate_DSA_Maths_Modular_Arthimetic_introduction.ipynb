{
  "nbformat": 4,
  "nbformat_minor": 0,
  "metadata": {
    "colab": {
      "provenance": [],
      "authorship_tag": "ABX9TyPqIahNPxbZLJHxVPUvO2dM",
      "include_colab_link": true
    },
    "kernelspec": {
      "name": "python3",
      "display_name": "Python 3"
    },
    "language_info": {
      "name": "python"
    }
  },
  "cells": [
    {
      "cell_type": "markdown",
      "metadata": {
        "id": "view-in-github",
        "colab_type": "text"
      },
      "source": [
        "<a href=\"https://colab.research.google.com/github/Rama27SepIBM/21DaysOfLeetcode/blob/main/Day_40_Intermediate_DSA_Maths_Modular_Arthimetic_introduction.ipynb\" target=\"_parent\"><img src=\"https://colab.research.google.com/assets/colab-badge.svg\" alt=\"Open In Colab\"/></a>"
      ]
    },
    {
      "cell_type": "markdown",
      "source": [
        "Q1. Power with Modules\n",
        "\n",
        "You are given A, B and C .\n",
        "Calculate the value of (A ^ B) % C"
      ],
      "metadata": {
        "id": "h8Hi6wcMyeUL"
      }
    },
    {
      "cell_type": "code",
      "source": [
        "class Solution:\n",
        "    # @param A : integer\n",
        "    # @param B : integer\n",
        "    # @param C : integer\n",
        "    # @return an integer\n",
        "    def solve(self, A, B, C):\n",
        "        res = 1\n",
        "\n",
        "        for i in range(B):\n",
        "\n",
        "            res = (res * A) % C\n",
        "\n",
        "        return res"
      ],
      "metadata": {
        "id": "QkZQppObyly4"
      },
      "execution_count": null,
      "outputs": []
    },
    {
      "cell_type": "markdown",
      "source": [
        "Q2. Mod Array\n",
        "\n",
        "You are given a large number in the form of a array A of size N where each element denotes a digit of the number.\n",
        "You are also given a number B. You have to find out the value of A % B and return it."
      ],
      "metadata": {
        "id": "a-UUMUmqyprF"
      }
    },
    {
      "cell_type": "code",
      "source": [
        "class Solution:\n",
        "    # @param A : list of integers\n",
        "    # @param B : integer\n",
        "    # @return an integer\n",
        "    def solve(self, A, B):\n",
        "        mul = 1\n",
        "        ans = 0 \n",
        "        for i in range(len(A)-1,-1,-1):\n",
        "            ans+=(A[i]*mul)%B\n",
        "            mul=(mul*10)%B\n",
        "        return ans%B"
      ],
      "metadata": {
        "id": "h04reU_9zEwl"
      },
      "execution_count": null,
      "outputs": []
    },
    {
      "cell_type": "markdown",
      "source": [
        "Q3. Divisibility by 3\n",
        "\n",
        "Given a number in the form of an array A of size N. Each of the digits of the number is represented by A[i]. Check if the number is divisible by 3."
      ],
      "metadata": {
        "id": "kM0X38rgzIe4"
      }
    },
    {
      "cell_type": "code",
      "source": [
        "class Solution:\n",
        "    # @param A : list of integers\n",
        "    # @return an integer\n",
        "    def solve(self, A):\n",
        "        ans = ''\n",
        "        for i in A:\n",
        "            ans += str(i)\n",
        "        if int(ans) % 3 == 0:\n",
        "            return 1\n",
        "        else:\n",
        "            return 0"
      ],
      "metadata": {
        "id": "VPjWqSXYzQhW"
      },
      "execution_count": null,
      "outputs": []
    },
    {
      "cell_type": "markdown",
      "source": [
        "Q1. Leap year? - III\n",
        "\n",
        "Given an integer A representing a year, Return 1 if it is a leap year else, return 0.\n",
        "\n",
        "A year is a leap year if the following conditions are satisfied:\n",
        "\n",
        "The year is multiple of 400.\n",
        "or the year is multiple of 4 and not multiple of 100.\n"
      ],
      "metadata": {
        "id": "iD2rRbc5zUxP"
      }
    },
    {
      "cell_type": "code",
      "source": [
        "class Solution:\n",
        "    # @param A : integer\n",
        "    # @return an integer\n",
        "    def solve(self, A):\n",
        "        if(A%400==0)and(A%4==0):\n",
        "            return 1\n",
        "        elif(A%4==0)and(A%100!=0):\n",
        "            return 1\n",
        "        else:\n",
        "            return 0"
      ],
      "metadata": {
        "id": "aVKh3HmbzfQ7"
      },
      "execution_count": null,
      "outputs": []
    },
    {
      "cell_type": "markdown",
      "source": [
        "Q2. Divisibility by 8\n",
        "\n",
        "You are given a number A in the form of a string. Check if the number is divisible by eight or not.\n",
        "\n",
        "Return 1 if it is divisible by eight else, return 0.\n"
      ],
      "metadata": {
        "id": "mkKeBUcxzjKn"
      }
    },
    {
      "cell_type": "code",
      "source": [
        "class Solution:\n",
        "    # @param A : string\n",
        "    # @return an integer\n",
        "    def solve(self, A):\n",
        "        N = len(A)    \n",
        "       \n",
        "        if N <= 3:\n",
        "            if (int(A) % 8 == 0):\n",
        "               return(1)\n",
        "\n",
        "        if N > 3:\n",
        "            ans = 0\n",
        "            mul = 1\n",
        "            for i in range(N-1,N-4,-1):\n",
        "                ans += (int(A[i]) * mul)\n",
        "               \n",
        "                mul *= 10\n",
        "           \n",
        "            if (ans % 8 == 0):\n",
        "                return(1)\n",
        "           \n",
        "        return(0)"
      ],
      "metadata": {
        "id": "TevI93WV0L4m"
      },
      "execution_count": null,
      "outputs": []
    },
    {
      "cell_type": "markdown",
      "source": [
        "Q3. Concatenate Three Numbers\n",
        "\n",
        "Given three 2-digit integers, A, B, and C, find out the minimum number obtained by concatenating them in any order.\n",
        "\n",
        "Return the minimum result obtained."
      ],
      "metadata": {
        "id": "XG5nKo2s0PA8"
      }
    },
    {
      "cell_type": "code",
      "source": [
        "class Solution:\n",
        "    # @param A : integer\n",
        "    # @param B : integer\n",
        "    # @param C : integer\n",
        "    # @return an integer\n",
        "    def solve(self, A, B, C):\n",
        "        one_sum = A + B + C\n",
        "        one_maxNum = None\n",
        "        two_2ndMaxNum = None\n",
        "        one_res = None\n",
        "        if A>=B and A>=C:\n",
        "            one_maxNum = A\n",
        "            two_2ndMaxNum = max(B,C)\n",
        "        elif B>=A and B>=C:\n",
        "            one_maxNum = B\n",
        "            two_2ndMaxNum = max(A,C)\n",
        "        else:\n",
        "            one_maxNum = C\n",
        "            two_2ndMaxNum = max(A,B)\n",
        "        # Result\n",
        "        one_res = ((one_sum-one_maxNum-two_2ndMaxNum)*100+two_2ndMaxNum)*100 + one_maxNum\n",
        "        return one_res"
      ],
      "metadata": {
        "id": "iSexGmdK0YTH"
      },
      "execution_count": null,
      "outputs": []
    },
    {
      "cell_type": "markdown",
      "source": [],
      "metadata": {
        "id": "OAeJklTm0e7r"
      }
    },
    {
      "cell_type": "code",
      "execution_count": null,
      "metadata": {
        "id": "AIkaXqswyLiU"
      },
      "outputs": [],
      "source": []
    }
  ]
}