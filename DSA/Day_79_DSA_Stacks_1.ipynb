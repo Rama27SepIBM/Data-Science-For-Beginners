{
  "nbformat": 4,
  "nbformat_minor": 0,
  "metadata": {
    "colab": {
      "provenance": [],
      "authorship_tag": "ABX9TyNjoKXJ33ZLW+hsG2ovGliJ",
      "include_colab_link": true
    },
    "kernelspec": {
      "name": "python3",
      "display_name": "Python 3"
    },
    "language_info": {
      "name": "python"
    }
  },
  "cells": [
    {
      "cell_type": "markdown",
      "metadata": {
        "id": "view-in-github",
        "colab_type": "text"
      },
      "source": [
        "<a href=\"https://colab.research.google.com/github/Rama27SepIBM/Data-Science-For-Beginners/blob/main/Day_79_DSA_Stacks_1.ipynb\" target=\"_parent\"><img src=\"https://colab.research.google.com/assets/colab-badge.svg\" alt=\"Open In Colab\"/></a>"
      ]
    },
    {
      "cell_type": "markdown",
      "source": [
        "Q1. Evaluate Expression\n",
        "\n",
        "An arithmetic expression is given by a string array A of size N. Evaluate the value of an arithmetic expression in Reverse Polish Notation.\n",
        "\n",
        "Valid operators are +, -, *, /. Each string may be an integer or an operator."
      ],
      "metadata": {
        "id": "WvOwowh51djs"
      }
    },
    {
      "cell_type": "code",
      "source": [
        "class Solution:\n",
        "\t# @param A : list of strings\n",
        "\t# @return an integer\n",
        "\tdef evalRPN(self, A):\n",
        "        \n",
        "        stack = []\n",
        "        for token in A:\n",
        "            \n",
        "            if token in [\"+\",\"-\",\"*\",\"/\"]:\n",
        "                right_operand = stack.pop()\n",
        "                left_operand = stack.pop()\n",
        "                if token == \"+\":\n",
        "                    stack.append(left_operand + right_operand)\n",
        "                elif token == \"-\":\n",
        "                    stack.append(left_operand - right_operand)\n",
        "                elif token == \"*\":\n",
        "                    stack.append(left_operand * right_operand)\n",
        "                elif token == \"/\":\n",
        "                    stack.append(int(left_operand / right_operand))\n",
        "            else:\n",
        "                stack.append(int(token))\n",
        "        return stack.pop()"
      ],
      "metadata": {
        "id": "l_oT9A821nOr"
      },
      "execution_count": null,
      "outputs": []
    },
    {
      "cell_type": "markdown",
      "source": [
        "Q2. Balanced Paranthesis\n",
        "\n",
        "Given an expression string A, examine whether the pairs and the orders of “{“,”}”, ”(“,”)”, ”[“,”]” are correct in A.\n",
        "\n",
        "Refer to the examples for more clarity."
      ],
      "metadata": {
        "id": "fjQ11kI21v7C"
      }
    },
    {
      "cell_type": "code",
      "source": [
        "class Solution:\n",
        "    # @param A : string\n",
        "    # @return an integer\n",
        "    def solve(self, A):\n",
        "        stack = []\n",
        "        for char in A:\n",
        "            if char in \"{[(\":\n",
        "                stack.append(char)\n",
        "            elif char in \"}])\":\n",
        "                if not stack:\n",
        "                    return 0\n",
        "                if char == \"}\" and stack[-1] == \"{\" or \\\n",
        "                   char == \"]\" and stack[-1] == \"[\" or \\\n",
        "                   char == \")\" and stack[-1] == \"(\":\n",
        "                    stack.pop()\n",
        "                else:\n",
        "                    return 0\n",
        "        if len(stack) == 0 :\n",
        "            return 1\n",
        "        else:\n",
        "            return 0"
      ],
      "metadata": {
        "id": "I3TnBpoN154w"
      },
      "execution_count": null,
      "outputs": []
    },
    {
      "cell_type": "markdown",
      "source": [
        "Q3. Double Character Trouble\n",
        "\n",
        "You are given a string A.\n",
        "\n",
        "An operation on the string is defined as follows:\n",
        "\n",
        "Remove the first occurrence of the same consecutive characters. eg for a string \"abbcd\", the first occurrence of same consecutive characters is \"bb\".\n",
        "\n",
        "Therefore the string after this operation will be \"acd\".\n",
        "\n",
        "Keep performing this operation on the string until there are no more occurrences of the same consecutive characters and return the final string."
      ],
      "metadata": {
        "id": "C9Kd09nl2D15"
      }
    },
    {
      "cell_type": "code",
      "execution_count": null,
      "metadata": {
        "id": "C_fs6hI71bDM"
      },
      "outputs": [],
      "source": [
        "class Solution:\n",
        "    # @param A : string\n",
        "    # @return a strings\n",
        "    def solve(self, A):\n",
        "        stack = []\n",
        "        for char in A:\n",
        "            if not stack or stack[-1] != char:\n",
        "                stack.append(char)\n",
        "            else:\n",
        "                while stack and stack[-1] == char:\n",
        "                    stack.pop()\n",
        "        return ''.join(stack)\n"
      ]
    },
    {
      "cell_type": "markdown",
      "source": [
        "Q4. Infix to Postfix\n",
        "\n",
        "Given string A denoting an infix expression. Convert the infix expression into a postfix expression.\n",
        "\n",
        "String A consists of ^, /, *, +, -, (, ) and lowercase English alphabets where lowercase English alphabets are operands and ^, /, *, +, - are operators.\n",
        "\n",
        "Find and return the postfix expression of A.\n",
        "\n",
        "NOTE:\n",
        "\n",
        "^ has the highest precedence.\n",
        "/ and * have equal precedence but greater than + and -.\n",
        "+ and - have equal precedence and lowest precedence among given operators."
      ],
      "metadata": {
        "id": "vdkOrpTQ2C4S"
      }
    },
    {
      "cell_type": "code",
      "source": [
        "class Solution:\n",
        "    # @param A : string\n",
        "    # @return a strings\n",
        "    def solve(self, A):\n",
        "            stack = []\n",
        "            output = []\n",
        "            precedence = {'^': 3, '*': 2, '/': 2, '+': 1, '-': 1}\n",
        "            for char in A:\n",
        "                if char.isalpha():\n",
        "                    output.append(char)\n",
        "                else:\n",
        "                    if char == '(':\n",
        "                        stack.append(char)\n",
        "                    elif char == ')':\n",
        "                        while stack and stack[-1] != '(':\n",
        "                            output.append(stack.pop())\n",
        "                        stack.pop()\n",
        "                    else:\n",
        "                        while stack and stack[-1] != '(' and precedence[char] <= precedence[stack[-1]]:\n",
        "                            output.append(stack.pop())\n",
        "                        stack.append(char)\n",
        "            while stack:\n",
        "                output.append(stack.pop())\n",
        "            return ''.join(output)"
      ],
      "metadata": {
        "id": "mAH9Wjuo2csD"
      },
      "execution_count": null,
      "outputs": []
    },
    {
      "cell_type": "markdown",
      "source": [
        "Q1. Passing game\n",
        "\n",
        "There is a football event going on in your city. In this event, you are given A passes and players having ids between 1 and 106.\n",
        "\n",
        "Initially, some player with a given id had the ball in his possession. You have to make a program to display the id of the player who possessed the ball after exactly A passes.\n",
        "\n",
        "There are two kinds of passes:\n",
        "\n",
        "1) ID\n",
        "\n",
        "2) 0\n",
        "\n",
        "For the first kind of pass, the player in possession of the ball passes the ball \"forward\" to the player with id = ID.\n",
        "\n",
        "For the second kind of pass, the player in possession of the ball passes the ball back to the player who had forwarded the ball to him.\n",
        "\n",
        "In the second kind of pass \"0\" just means Back Pass.\n",
        "\n",
        "Return the ID of the player who currently possesses the ball."
      ],
      "metadata": {
        "id": "NQE_k0b_2jDW"
      }
    },
    {
      "cell_type": "code",
      "source": [
        "class Solution:\n",
        "    # @param A : integer\n",
        "    # @param B : integer\n",
        "    # @param C : list of integers\n",
        "    # @return an integer\n",
        "    def solve(self, A, B, C):\n",
        "        d = []\n",
        "        d.append(B)\n",
        "        for i in range(A):\n",
        "            if C[i] != 0:\n",
        "                d.append(C[i])\n",
        "            else:\n",
        "                d.pop()\n",
        "        return d[-1]"
      ],
      "metadata": {
        "id": "7-td2Fqy2vTH"
      },
      "execution_count": null,
      "outputs": []
    },
    {
      "cell_type": "markdown",
      "source": [
        "Q2. Redundant Braces\n",
        "\n",
        "Given a string A denoting an expression. It contains the following operators '+', '-', '*', '/'.\n",
        "\n",
        "Check whether A has redundant braces or not.\n",
        "\n",
        "NOTE: A will be always a valid expression and will not contain any white spaces."
      ],
      "metadata": {
        "id": "rEn4qUKO2z0G"
      }
    },
    {
      "cell_type": "code",
      "source": [
        "class Solution:\n",
        "\t# @param A : string\n",
        "\t# @return an integer\n",
        "\tdef braces(self, A):\n",
        "        stack = []\n",
        "        for char in A:\n",
        "            if char == ')':\n",
        "                top = stack.pop()\n",
        "                c = 0\n",
        "                while top != '(':\n",
        "                    c += 1\n",
        "                    top = stack.pop()\n",
        "                if c == 0:\n",
        "                    return 1\n",
        "            else:\n",
        "                if char in ['+', '-', '*', '/', '(']:\n",
        "                    stack.append(char)\n",
        "        return 0"
      ],
      "metadata": {
        "id": "2kL41I4M28nR"
      },
      "execution_count": null,
      "outputs": []
    }
  ]
}