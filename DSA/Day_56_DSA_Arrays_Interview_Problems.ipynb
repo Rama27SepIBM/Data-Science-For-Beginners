{
  "nbformat": 4,
  "nbformat_minor": 0,
  "metadata": {
    "colab": {
      "provenance": [],
      "authorship_tag": "ABX9TyMnCYZj7S2MUgkmnv3CBZaT",
      "include_colab_link": true
    },
    "kernelspec": {
      "name": "python3",
      "display_name": "Python 3"
    },
    "language_info": {
      "name": "python"
    }
  },
  "cells": [
    {
      "cell_type": "markdown",
      "metadata": {
        "id": "view-in-github",
        "colab_type": "text"
      },
      "source": [
        "<a href=\"https://colab.research.google.com/github/Rama27SepIBM/Data-Science-For-Beginners/blob/main/Day_56_DSA_Arrays_Interview_Problems.ipynb\" target=\"_parent\"><img src=\"https://colab.research.google.com/assets/colab-badge.svg\" alt=\"Open In Colab\"/></a>"
      ]
    },
    {
      "cell_type": "markdown",
      "source": [
        "Q1. Search in a row wise and column wise sorted matrix\n",
        "\n",
        "Given a matrix of integers A of size N x M and an integer B.\n",
        "In the given matrix every row and column is sorted in non-decreasing order. Find and return the position of B in the matrix in the given form:\n",
        "If A[i][j] = B then return (i * 1009 + j)\n",
        "If B is not present return -1.\n",
        "\n",
        "Note 1: Rows are numbered from top to bottom and columns are numbered from left to right.\n",
        "Note 2: If there are multiple B in A then return the smallest value of i*1009 +j such that A[i][j]=B.\n",
        "Note 3: Expected time complexity is linear\n",
        "Note 4: Use 1-based indexing\n"
      ],
      "metadata": {
        "id": "8Ub4_p3PQBhU"
      }
    },
    {
      "cell_type": "code",
      "source": [
        "class Solution:\n",
        "    # @param A : list of list of integers\n",
        "    # @param B : integer\n",
        "    # @return an integer\n",
        "    def solve(self, A, B):\n",
        "        rows = len(A)\n",
        "        cols = len(A[0])\n",
        "        row = 0\n",
        "        col = cols - 1\n",
        "        while row < rows and col >= 0:\n",
        "            if A[row][col] == B:\n",
        "                if col > 0 and A[row][col-1] == B :\n",
        "                    col -=1\n",
        "                    continue\n",
        "                return (row +1) * 1009 + col+1\n",
        "            elif A[row][col] > B:\n",
        "                col -= 1\n",
        "            else:\n",
        "                row += 1\n",
        "        return -1"
      ],
      "metadata": {
        "id": "647-hhqqQR6X"
      },
      "execution_count": null,
      "outputs": []
    },
    {
      "cell_type": "markdown",
      "source": [
        "Q2. Merge Intervals\n",
        "\n",
        "Given a set of non-overlapping intervals, insert a new interval into the intervals (merge if necessary).\n",
        "\n",
        "You may assume that the intervals were initially sorted according to their start times."
      ],
      "metadata": {
        "id": "3enaZ_X_QihQ"
      }
    },
    {
      "cell_type": "code",
      "source": [
        "# Definition for an interval.\n",
        "# class Interval:\n",
        "#     def __init__(self, s=0, e=0):\n",
        "#         self.start = s\n",
        "#         self.end = e\n",
        "\n",
        "class Solution:\n",
        "    # @param intervals, a list of Intervals\n",
        "    # @param newInterval, a Interval\n",
        "    # @return a list of Interval\n",
        "    def insert(self, intervals, newInterval):\n",
        "        s=newInterval.start \n",
        "        e=newInterval.end \n",
        "        l=[]\n",
        "        for i in range(len(intervals)):\n",
        "            s1 = intervals[i].start \n",
        "            e1 = intervals[i].end\n",
        "            if e1<newInterval.start:\n",
        "                l.append(intervals[i]) \n",
        "            elif newInterval.end<s1:\n",
        "                l.append(newInterval)\n",
        "                for j in range(i,len(intervals)):\n",
        "                    l.append(intervals[j]) \n",
        "                return l\n",
        "            else:\n",
        "                newInterval.start=min(s1,newInterval.start)\n",
        "                newInterval.end=max(newInterval.end,e1) \n",
        "        l.append(newInterval)  \n",
        "        return l"
      ],
      "metadata": {
        "id": "uGtCCX3UQrxQ"
      },
      "execution_count": null,
      "outputs": []
    },
    {
      "cell_type": "markdown",
      "source": [
        "Q3. First Missing Integer\n",
        "\n",
        "Given an unsorted integer array, A of size N. Find the first missing positive integer.\n",
        "\n",
        "Note: Your algorithm should run in O(n) time and use constant space."
      ],
      "metadata": {
        "id": "uMHT8a28Q_6y"
      }
    },
    {
      "cell_type": "code",
      "source": [
        "class Solution:\n",
        "    # @param A : list of integers\n",
        "    # @return an integer\n",
        "    def firstMissingPositive(self, A):\n",
        "        n = len(A)\n",
        "        for i in range(n):\n",
        "            while 1 <= A[i] <= n and A[A[i] - 1] != A[i]:\n",
        "                temp = A[i]\n",
        "                A[i] = A[temp - 1]\n",
        "                A[temp - 1] = temp\n",
        "        for i in range(n):\n",
        "            if A[i] != i + 1:\n",
        "                return i + 1\n",
        "        return n + 1\n"
      ],
      "metadata": {
        "id": "LD78MGqZRER9"
      },
      "execution_count": null,
      "outputs": []
    },
    {
      "cell_type": "markdown",
      "source": [
        "Q1. Minimum Swaps 2\n",
        "\n",
        "Given an array of integers A of size N that is a permutation of [0, 1, 2, ..., (N-1)]. It is allowed to swap any two elements (not necessarily consecutive).\n",
        "\n",
        "Find the minimum number of swaps required to sort the array in ascending order."
      ],
      "metadata": {
        "id": "TWpAV-vaRMKz"
      }
    },
    {
      "cell_type": "code",
      "source": [
        "class Solution:\n",
        "    # @param A : list of integers\n",
        "    # @return an integer\n",
        "    def solve(self, A):\n",
        "        n = len(A)\n",
        "        visited = [False] * n\n",
        "        ans = 0\n",
        "        for i in range(n):\n",
        "            if visited[i] or A[i] == i:\n",
        "                continue\n",
        "            cycle_size = 0\n",
        "            j = i\n",
        "            while not visited[j]:\n",
        "                visited[j] = True\n",
        "                j = A[j]\n",
        "                cycle_size += 1\n",
        "            ans += (cycle_size - 1)\n",
        "        return ans"
      ],
      "metadata": {
        "id": "FkX3A_LsRQ_r"
      },
      "execution_count": null,
      "outputs": []
    },
    {
      "cell_type": "markdown",
      "source": [
        "Q2. Minimum Swaps\n",
        "\n",
        "Given an array of integers A and an integer B, find and return the minimum number of swaps required to bring all the numbers less than or equal to B together.\n",
        "\n",
        "Note: It is possible to swap any two elements, not necessarily consecutive."
      ],
      "metadata": {
        "id": "YAst-YaDRbOP"
      }
    },
    {
      "cell_type": "code",
      "execution_count": null,
      "metadata": {
        "id": "zff4daVfQAvj"
      },
      "outputs": [],
      "source": [
        "class Solution:\n",
        "    # @param A : list of integers\n",
        "    # @param B : integer\n",
        "    # @return an integer\n",
        "    def solve(self, A, B):\n",
        "        n = len(A)\n",
        "        count = 0\n",
        "        for i in range(n):\n",
        "            if A[i] <= B:\n",
        "                count += 1\n",
        "        ans = n\n",
        "        current_ans = 0\n",
        "        for i in range(count):\n",
        "            if A[i] <=B:\n",
        "                current_ans +=1\n",
        "        ans = min(ans,count - current_ans)\n",
        "        for right in range(count,n):\n",
        "            left = right - count\n",
        "            if A[right] <= B:\n",
        "                current_ans+=1\n",
        "            if A[left] <= B:\n",
        "                current_ans -=1\n",
        "            ans = min(ans, count - current_ans)\n",
        "            \n",
        "        return ans"
      ]
    }
  ]
}