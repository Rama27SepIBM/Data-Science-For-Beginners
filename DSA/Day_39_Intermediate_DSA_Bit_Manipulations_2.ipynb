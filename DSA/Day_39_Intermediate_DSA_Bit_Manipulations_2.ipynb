{
  "nbformat": 4,
  "nbformat_minor": 0,
  "metadata": {
    "colab": {
      "provenance": [],
      "authorship_tag": "ABX9TyOQL0SjW7U6oLVPieCpIhlE",
      "include_colab_link": true
    },
    "kernelspec": {
      "name": "python3",
      "display_name": "Python 3"
    },
    "language_info": {
      "name": "python"
    }
  },
  "cells": [
    {
      "cell_type": "markdown",
      "metadata": {
        "id": "view-in-github",
        "colab_type": "text"
      },
      "source": [
        "<a href=\"https://colab.research.google.com/github/Rama27SepIBM/21DaysOfLeetcode/blob/main/Day_39_Intermediate_DSA_Bit_Manipulations_2.ipynb\" target=\"_parent\"><img src=\"https://colab.research.google.com/assets/colab-badge.svg\" alt=\"Open In Colab\"/></a>"
      ]
    },
    {
      "cell_type": "markdown",
      "source": [
        "Q1. Check bit\n",
        "\n",
        "You are given two integers A and B.\n",
        "Return 1 if B-th bit in A is set\n",
        "Return 0 if B-th bit in A is unset\n"
      ],
      "metadata": {
        "id": "5i97AnbCzVZl"
      }
    },
    {
      "cell_type": "code",
      "source": [
        "class Solution:\n",
        "    # @param A : integer\n",
        "    # @param B : integer\n",
        "    # @return an integer\n",
        "    def solve(self, A, B):\n",
        "        A=A>>B\n",
        "        if(A&1==1):\n",
        "            return 1\n",
        "        return 0"
      ],
      "metadata": {
        "id": "BNgLotVazcc9"
      },
      "execution_count": null,
      "outputs": []
    },
    {
      "cell_type": "markdown",
      "source": [
        "Q2. Number of 1 Bits\n",
        "\n",
        "Write a function that takes an integer and returns the number of 1 bits it has."
      ],
      "metadata": {
        "id": "bcdy93BFzhKL"
      }
    },
    {
      "cell_type": "code",
      "source": [
        "class Solution:\n",
        "    # @param A : integer\n",
        "    # @return an integer\n",
        "    def numSetBits(self, A):\n",
        "        ans = 0\n",
        "        while(A!=0):\n",
        "            A=A&(A-1)\n",
        "            ans+=1\n",
        "        return ans"
      ],
      "metadata": {
        "id": "d6I7GjYeznbK"
      },
      "execution_count": null,
      "outputs": []
    },
    {
      "cell_type": "markdown",
      "source": [
        "Q3. Set Bit\n",
        "\n",
        "You are given two integers A and B.\n",
        "Set the A-th bit and B-th bit in 0, and return output in decimal."
      ],
      "metadata": {
        "id": "BxvbhoG8zrSY"
      }
    },
    {
      "cell_type": "code",
      "source": [
        "class Solution:\n",
        "    # @param A : integer\n",
        "    # @param B : integer\n",
        "    # @return an integer\n",
        "    def solve(self, A, B):\n",
        "        ans= (1 << A)\n",
        "        if  A != B:\n",
        "            ans += (1 << B)\n",
        "        \n",
        "        return ans"
      ],
      "metadata": {
        "id": "zdc_OvBizyGy"
      },
      "execution_count": null,
      "outputs": []
    },
    {
      "cell_type": "markdown",
      "source": [
        "Q4. Unset i-th bit\n",
        "\n",
        "You are given two integers A and B.\n",
        "If B-th bit in A is set, make it unset\n",
        "If B-th bit in A is unset, leave it as it is\n",
        "Return the updated A value"
      ],
      "metadata": {
        "id": "klulXYJwz2cE"
      }
    },
    {
      "cell_type": "code",
      "source": [
        "class Solution:\n",
        "    # @param A : integer\n",
        "    # @param B : integer\n",
        "    # @return an integer\n",
        "    def solve(self, A, B):\n",
        "        if A&(1<<B):\n",
        "            ans= A&~(1<<B)\n",
        "            return (ans)\n",
        "        else:\n",
        "            return (A)"
      ],
      "metadata": {
        "id": "wHl12flFz_OX"
      },
      "execution_count": null,
      "outputs": []
    },
    {
      "cell_type": "markdown",
      "source": [
        "Q1. Toggle i-th bit\n",
        "\n",
        "You are given two integers A and B.\n",
        "If B-th bit in A is set, make it unset\n",
        "If B-th bit in A is unset, make it set\n",
        "Return the updated A value"
      ],
      "metadata": {
        "id": "pcrc5wOl0CwP"
      }
    },
    {
      "cell_type": "code",
      "source": [
        "class Solution:\n",
        "    # @param A : integer\n",
        "    # @param B : integer\n",
        "    # @return an integer\n",
        "    def solve(self, A, B):\n",
        "        if A&(1<<B):\n",
        "            A=A&~(1<<B)\n",
        "            return A\n",
        "        else:\n",
        "            A=A|(1<<B)\n",
        "            return A"
      ],
      "metadata": {
        "id": "gcIoMwWD0L2d"
      },
      "execution_count": null,
      "outputs": []
    },
    {
      "cell_type": "markdown",
      "source": [
        "Q2. Unset x bits from right\n",
        "\n",
        "Given an integer A. Unset B bits from the right of A in binary.\n",
        "For eg:-\n",
        "A = 93, B = 4\n",
        "A in binary = 1011101\n",
        "A should become = 1010000 = 80. Therefore return 80."
      ],
      "metadata": {
        "id": "a9f-0DRZ0PbK"
      }
    },
    {
      "cell_type": "code",
      "source": [
        "class Solution:\n",
        "    # @param A : long\n",
        "    # @param B : integer\n",
        "     # @return an long\n",
        "    def solve(self, A, B):\n",
        "        \n",
        "        return (A>>B)<<B"
      ],
      "metadata": {
        "id": "eOTjR1sX0WC7"
      },
      "execution_count": null,
      "outputs": []
    },
    {
      "cell_type": "code",
      "execution_count": null,
      "metadata": {
        "id": "7V5ra-pszOFD"
      },
      "outputs": [],
      "source": []
    },
    {
      "cell_type": "markdown",
      "source": [
        "Q3. Help From Sam\n",
        "\n",
        "Alex and Sam are good friends. Alex is doing a lot of programming these days. He has set a target score of A for himself.\n",
        "Initially, Alex's score was zero. Alex can double his score by doing a question, or Alex can seek help from Sam for doing questions that will contribute 1 to Alex's score. Alex wants his score to be precisely A. Also, he does not want to take much help from Sam.\n",
        "\n",
        "Find and return the minimum number of times Alex needs to take help from Sam to achieve a score of A."
      ],
      "metadata": {
        "id": "QIil8Pds0ng4"
      }
    },
    {
      "cell_type": "code",
      "source": [
        "class Solution:\n",
        "    # @param A : integer\n",
        "    # @return an integer\n",
        "    def solve(self, A):\n",
        "        i = 0\n",
        "        num = 0\n",
        "        while A > 0:\n",
        "            if A%2==1:\n",
        "                num+=1\n",
        "\n",
        "            A= A // 2\n",
        "            \n",
        "        return num"
      ],
      "metadata": {
        "id": "QDtEdBcy1ZR8"
      },
      "execution_count": null,
      "outputs": []
    },
    {
      "cell_type": "markdown",
      "source": [
        "Q4. Finding Good Days\n",
        "\n",
        "Alex has a cat named Boomer. He decides to put his cat to the test for eternity.\n",
        "\n",
        "He starts on day 1 with one stash of food unit, every next day, the stash doubles.\n",
        "\n",
        "If Boomer is well behaved during a particular day, only then she receives food worth equal to the stash produced on that day.\n",
        "\n",
        "Boomer receives a net worth of A units of food. What is the number of days she received the stash?"
      ],
      "metadata": {
        "id": "Qg0ANI9A1c9Q"
      }
    },
    {
      "cell_type": "code",
      "source": [
        "class Solution:\n",
        "    # @param A : integer\n",
        "    # @return an integer\n",
        "    def solve(self, A):\n",
        "        count=0\n",
        "        for i in range(32):\n",
        "            if (A>>i&1)==1:\n",
        "                count+=1\n",
        "        return count"
      ],
      "metadata": {
        "id": "8K40784M1lJx"
      },
      "execution_count": null,
      "outputs": []
    },
    {
      "cell_type": "markdown",
      "source": [
        "Q5. Find nth Magic Number\n",
        "\n",
        "Given an integer A, find and return the Ath magic number.\n",
        "\n",
        "A magic number is defined as a number that can be expressed as a power of 5 or a sum of unique powers of 5.\n",
        "\n",
        "First few magic numbers are 5, 25, 30(5 + 25), 125, 130(125 + 5), …."
      ],
      "metadata": {
        "id": "qOLijz1V1qDY"
      }
    },
    {
      "cell_type": "code",
      "source": [
        "class Solution:\n",
        "    # @param A : integer\n",
        "    # @return an integer\n",
        "    def solve(self, A):\n",
        "        ans=0\n",
        "        for i in range(32):\n",
        "            if A>>i&1:\n",
        "                ans=ans+(5**(i+1))\n",
        "        return ans\n"
      ],
      "metadata": {
        "id": "sExVpf0a10fW"
      },
      "execution_count": null,
      "outputs": []
    },
    {
      "cell_type": "markdown",
      "source": [
        "Q6. Reverse Bits\n",
        "\n",
        "Reverse the bits of an 32 bit unsigned integer A."
      ],
      "metadata": {
        "id": "ienQaJhE132U"
      }
    },
    {
      "cell_type": "code",
      "source": [
        "class Solution:\n",
        "    # @param A : unsigned integer\n",
        "    # @return an unsigned integer\n",
        "    def reverse(self, A):\n",
        "        B=\"\"\n",
        "        for i in range(32):\n",
        "            x=A>>i&1\n",
        "            B=B+str(x)\n",
        "        A=0\n",
        "        N=len(B)\n",
        "        x=0\n",
        "        for i in range(N-1, -1, -1):\n",
        "            A=A+int(B[i])*(2**x)\n",
        "            x+=1\n",
        "        return A"
      ],
      "metadata": {
        "id": "rAqyG2Uq194B"
      },
      "execution_count": null,
      "outputs": []
    }
  ]
}