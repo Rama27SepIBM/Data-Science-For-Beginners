{
  "nbformat": 4,
  "nbformat_minor": 0,
  "metadata": {
    "colab": {
      "provenance": [],
      "authorship_tag": "ABX9TyMdIxcVvX0ZRKfAhHJ/PMvC",
      "include_colab_link": true
    },
    "kernelspec": {
      "name": "python3",
      "display_name": "Python 3"
    },
    "language_info": {
      "name": "python"
    }
  },
  "cells": [
    {
      "cell_type": "markdown",
      "metadata": {
        "id": "view-in-github",
        "colab_type": "text"
      },
      "source": [
        "<a href=\"https://colab.research.google.com/github/Rama27SepIBM/Data-Science-For-Beginners/blob/main/Day_57_DSA_Hashing.ipynb\" target=\"_parent\"><img src=\"https://colab.research.google.com/assets/colab-badge.svg\" alt=\"Open In Colab\"/></a>"
      ]
    },
    {
      "cell_type": "markdown",
      "source": [
        "Q1. Shaggy and distances\n",
        "\n",
        "Shaggy has an array A consisting of N elements. We call a pair of distinct indices in that array a special if elements at those indices in the array are equal.\n",
        "\n",
        "Shaggy wants you to find a special pair such that the distance between that pair is minimum. Distance between two indices is defined as |i-j|. If there is no special pair in the array, then return -1.\n",
        "\n",
        "\n",
        "\n",
        "Problem Constraints\n",
        "1 <= |A| <= 105"
      ],
      "metadata": {
        "id": "G-10UWC8O8Qo"
      }
    },
    {
      "cell_type": "code",
      "execution_count": null,
      "metadata": {
        "id": "iCXijwpsO7a4"
      },
      "outputs": [],
      "source": [
        "class Solution:\n",
        "    # @param A : list of integers\n",
        "    # @return an integer\n",
        "    def solve(self, A):\n",
        "        last_index = {}\n",
        "        min_distance = float('inf')\n",
        "        for i, num in enumerate(A):\n",
        "            if num in last_index:\n",
        "                min_distance = min(min_distance, i - last_index[num])\n",
        "            last_index[num] = i\n",
        "        if min_distance == float('inf'):\n",
        "            return -1\n",
        "        else:\n",
        "            return min_distance"
      ]
    },
    {
      "cell_type": "markdown",
      "source": [
        "Q2. Unique 2D points\n",
        "\n",
        "Given a 2D array A of integer points on a 2D plane. Find and return the number of unique points in the array.\n",
        "The ith point in the array is (A[i][0], A[i][1])\n",
        "\n",
        "\n",
        "Problem Constraints\n",
        "1 <= len(A) <= 105"
      ],
      "metadata": {
        "id": "6Newm6NUPPf_"
      }
    },
    {
      "cell_type": "code",
      "source": [
        "class Solution:\n",
        "    # @param A : list of list of integers\n",
        "    # @return an integer\n",
        "    def solve(self, A):\n",
        "        point_set = set((x, y) for x, y in A)\n",
        "        return len(point_set)\n"
      ],
      "metadata": {
        "id": "LVvZ8RQzPYVX"
      },
      "execution_count": null,
      "outputs": []
    },
    {
      "cell_type": "markdown",
      "source": [
        "Q3. Longest Consecutive Sequence\n",
        "\n",
        "Given an unsorted integer array A of size N.\n",
        "\n",
        "Find the length of the longest set of consecutive elements from array A."
      ],
      "metadata": {
        "id": "7xJlLnkTPdHe"
      }
    },
    {
      "cell_type": "code",
      "source": [
        "class Solution:\n",
        "\t# @param A : tuple of integers\n",
        "\t# @return an integer\n",
        "\tdef longestConsecutive(self, A):\n",
        "        A_set = set(A)\n",
        "        max_length = 0\n",
        "        for num in A_set:\n",
        "            if num - 1 not in A_set:\n",
        "                curr_num = num\n",
        "                curr_length = 1\n",
        "                while curr_num + 1 in A_set:\n",
        "                    curr_num += 1\n",
        "                    curr_length += 1\n",
        "                max_length = max(max_length, curr_length)\n",
        "        return max_length"
      ],
      "metadata": {
        "id": "Aq9ETBpZPjxy"
      },
      "execution_count": null,
      "outputs": []
    },
    {
      "cell_type": "markdown",
      "source": [
        "Q1. Colorful Number\n",
        "\n",
        "Given a number A, find if it is COLORFUL number or not.\n",
        "\n",
        "If number A is a COLORFUL number return 1 else, return 0.\n",
        "\n",
        "What is a COLORFUL Number:\n",
        "\n",
        "A number can be broken into different consecutive sequence of digits. \n",
        "The number 3245 can be broken into sequences like 3, 2, 4, 5, 32, 24, 45, 324 and 245. \n",
        "This number is a COLORFUL number, since the product of every consecutive sequence of digits is different\n",
        "\n",
        "\n",
        "Problem Constraints\n",
        "1 <= A <= 2 * 109"
      ],
      "metadata": {
        "id": "Miah5lNfPnd1"
      }
    },
    {
      "cell_type": "code",
      "source": [
        "class Solution:\n",
        "\t# @param A : integer\n",
        "\t# @return an integer\n",
        "\tdef colorful(self, A):\n",
        "        digits = list(str(A))\n",
        "        products = set()\n",
        "        for i in range(len(digits)):\n",
        "            product = 1\n",
        "            for j in range(i, len(digits)):\n",
        "                product *= int(digits[j])\n",
        "                if product in products:\n",
        "                    return 0\n",
        "                products.add(product)\n",
        "        return 1"
      ],
      "metadata": {
        "id": "NrOn-aYwPyNV"
      },
      "execution_count": null,
      "outputs": []
    }
  ]
}