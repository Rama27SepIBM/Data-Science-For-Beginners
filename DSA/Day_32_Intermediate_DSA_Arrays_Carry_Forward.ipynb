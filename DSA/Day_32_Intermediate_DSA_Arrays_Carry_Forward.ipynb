{
  "nbformat": 4,
  "nbformat_minor": 0,
  "metadata": {
    "colab": {
      "provenance": [],
      "authorship_tag": "ABX9TyOmj4CkTUBjtGGlccPLEgBL",
      "include_colab_link": true
    },
    "kernelspec": {
      "name": "python3",
      "display_name": "Python 3"
    },
    "language_info": {
      "name": "python"
    }
  },
  "cells": [
    {
      "cell_type": "markdown",
      "metadata": {
        "id": "view-in-github",
        "colab_type": "text"
      },
      "source": [
        "<a href=\"https://colab.research.google.com/github/Rama27SepIBM/21DaysOfLeetcode/blob/main/Day_32_Intermediate_DSA_Arrays_Carry_Forward.ipynb\" target=\"_parent\"><img src=\"https://colab.research.google.com/assets/colab-badge.svg\" alt=\"Open In Colab\"/></a>"
      ]
    },
    {
      "cell_type": "markdown",
      "source": [
        "Q1. Find all the subarrays\n",
        "\n",
        "Given A = [1, -2, 5, 2, -1, 6]. Choose all the valid subarrays of the array"
      ],
      "metadata": {
        "id": "sG6O6vcM0gql"
      }
    },
    {
      "cell_type": "code",
      "execution_count": null,
      "metadata": {
        "id": "_-fmsf8z0a5i"
      },
      "outputs": [],
      "source": [
        "# [5, 2, -1] [-2, -1, 6] [1, -2, 5, 2] [6]"
      ]
    },
    {
      "cell_type": "markdown",
      "source": [
        "Q2. Special Subsequences \"AG\"\n",
        "\n",
        "You have given a string A having Uppercase English letters.\n",
        "\n",
        "You have to find how many times subsequence \"AG\" is there in the given string.\n",
        "\n",
        "NOTE: Return the answer modulo 109 + 7 as the answer can be very large."
      ],
      "metadata": {
        "id": "zo3aXqbe02qg"
      }
    },
    {
      "cell_type": "code",
      "source": [
        "class Solution:\n",
        "    # @param A : string\n",
        "    # @return an integer\n",
        "    def solve(self, A):\n",
        "        n=len(A)\n",
        "        count=0\n",
        "        ans=0\n",
        "        mod=1000000007\n",
        "        for i in range(0,n):\n",
        "            if A[i]=='A':\n",
        "                count+=1\n",
        "            if A[i]=='G':\n",
        "                ans =(ans+count)%mod\n",
        "        \n",
        "        return ans"
      ],
      "metadata": {
        "id": "ydzCeJYH0_c-"
      },
      "execution_count": null,
      "outputs": []
    },
    {
      "cell_type": "markdown",
      "source": [
        "Q3. Leaders in an array\n",
        "\n",
        "Given an integer array A containing N distinct integers, you have to find all the leaders in array A. An element is a leader if it is strictly greater than all the elements to its right side.\n",
        "\n",
        "NOTE: The rightmost element is always a leader."
      ],
      "metadata": {
        "id": "bZn2SBMR1H2J"
      }
    },
    {
      "cell_type": "code",
      "source": [
        "class Solution:\n",
        "    # @param A : list of integers\n",
        "    # @return a list of integers\n",
        "    \n",
        "\n",
        "    def solve(self, arr):\n",
        "        \n",
        "     \n",
        "        size=len(arr)\n",
        "        ans=[]\n",
        "        max_from_right = arr[size-1]    \n",
        "        ans.append(max_from_right)     \n",
        "        for i in range( size-2, -1, -1):\n",
        "            if max_from_right < arr[i]:\n",
        "                ans.append(arr[i])\n",
        "                max_from_right = arr[i]\n",
        "        return ans"
      ],
      "metadata": {
        "id": "2ugGxw_P1O_h"
      },
      "execution_count": null,
      "outputs": []
    },
    {
      "cell_type": "markdown",
      "source": [
        "Q4. Closest MinMax\n",
        "\n",
        "Given an array A, find the size of the smallest subarray such that it contains at least one occurrence of the maximum value of the array\n",
        "\n",
        "and at least one occurrence of the minimum value of the array."
      ],
      "metadata": {
        "id": "nPtlnXZj1TqD"
      }
    },
    {
      "cell_type": "code",
      "source": [
        "class Solution:\n",
        "    # @param A : list of integers\n",
        "    # @return an integer\n",
        "    \n",
        "    def solve(self, A):\n",
        "        min1=A[0]\n",
        "        max1=A[0]\n",
        "        n=len(A)\n",
        "\n",
        "        for i in range(0,n):\n",
        "            if A[i]>max1:\n",
        "                max1=A[i]\n",
        "            if A[i]< min1:\n",
        "                min1=A[i]\n",
        "\n",
        "\n",
        "        if min1 == max1 :\n",
        "            return 1\n",
        "        else:\n",
        "            ans = n\n",
        "            for i in range(0,n):\n",
        "                if A[i] == min1:\n",
        "                    for j in range(i+1,n):\n",
        "                        if A[j] == max1:\n",
        "                            ans=min(ans,j-i+1)\n",
        "                            break\n",
        "                elif A[i] == max1:\n",
        "                    for j in range(i+1,n):\n",
        "                        if A[j]== min1:\n",
        "                            ans=min(ans,j-i+1)\n",
        "                            break\n",
        "            return ans"
      ],
      "metadata": {
        "id": "tRkAehk91afl"
      },
      "execution_count": null,
      "outputs": []
    },
    {
      "cell_type": "markdown",
      "source": [
        "Q1. Best Time to Buy and Sell Stocks I\n",
        "\n",
        "Say you have an array, A, for which the ith element is the price of a given stock on day i.\n",
        "If you were only permitted to complete at most one transaction (ie, buy one and sell one share of the stock), design an algorithm to find the maximum profit.\n",
        "\n",
        "Return the maximum possible profit."
      ],
      "metadata": {
        "id": "1xmOHLvY1fIx"
      }
    },
    {
      "cell_type": "code",
      "source": [
        "class Solution:\n",
        "\t# @param A : tuple of integers\n",
        "\t# @return an integer\n",
        "\tdef maxProfit(self, A):\n",
        "        greatest_right=0\n",
        "        profit =0\n",
        "        for i in range(len(A)- 1, -1,-1):\n",
        "            greatest_right = max(A[i],greatest_right)\n",
        "            profit = max(profit,greatest_right - A[i])\n",
        "        return profit"
      ],
      "metadata": {
        "id": "Vrd4b6LQ1moD"
      },
      "execution_count": null,
      "outputs": []
    },
    {
      "cell_type": "markdown",
      "source": [
        "Q2. Count Subarrays starting with 'a'\n",
        "\n",
        "Given a string A = \"amazon\", find the number of subarrays starting with the character 'a'."
      ],
      "metadata": {
        "id": "N1wAXZ5j1qYR"
      }
    },
    {
      "cell_type": "code",
      "source": [
        "# 4 6 10 12"
      ],
      "metadata": {
        "id": "CXPTgEPu1zUK"
      },
      "execution_count": null,
      "outputs": []
    },
    {
      "cell_type": "markdown",
      "source": [
        "Q3. Amazing Subarrays\n",
        "\n",
        "You are given a string S, and you have to find all the amazing substrings of S.\n",
        "\n",
        "An amazing Substring is one that starts with a vowel (a, e, i, o, u, A, E, I, O, U).\n",
        "\n",
        "Input\n",
        "\n",
        "Only argument given is string S.\n",
        "Output\n",
        "\n",
        "Return a single integer X mod 10003, here X is the number of Amazing Substrings in given the string."
      ],
      "metadata": {
        "id": "g7nFDto212dS"
      }
    },
    {
      "cell_type": "code",
      "source": [
        "class Solution:\n",
        "    # @param A : string\n",
        "    # @return an integer\n",
        "    def solve(self, A):\n",
        "        se = set(['a', 'e', 'i', 'o', 'u', 'A', 'E', 'I', 'O', 'U'])\n",
        "        ans = 0\n",
        "        for i in range(len(A)):\n",
        "            if(A[i] in se):\n",
        "                ans += len(A) - i\n",
        "        \n",
        "        return int(ans%10003)"
      ],
      "metadata": {
        "id": "hi6DYBUz2KYt"
      },
      "execution_count": null,
      "outputs": []
    },
    {
      "cell_type": "markdown",
      "source": [
        "Q4. Even Subarrays\n",
        "\n",
        "You are given an integer array A.\n",
        "\n",
        "Decide whether it is possible to divide the array into one or more subarrays of even length such that the first and last element of all subarrays will be even.\n",
        "\n",
        "Return \"YES\" if it is possible; otherwise, return \"NO\" (without quotes)."
      ],
      "metadata": {
        "id": "teAKTytx2OY7"
      }
    },
    {
      "cell_type": "code",
      "source": [
        "class Solution:\n",
        "    # @param A : list of integers\n",
        "    # @return a strings\n",
        "    def solve(self, A):\n",
        "        if len(A)%2==0 and A[0]%2==0 and A[-1] %2 ==0:\n",
        "            return \"YES\"\n",
        "        else:\n",
        "            return \"NO\""
      ],
      "metadata": {
        "id": "uEOACacZ2Vf1"
      },
      "execution_count": null,
      "outputs": []
    },
    {
      "cell_type": "markdown",
      "source": [
        "Q5. Is the bulb ON - I\n",
        "\n",
        "Say the bulb is ON initially, after pressing the switch even number of times, what will be the final state of the bulb?"
      ],
      "metadata": {
        "id": "TCGMhEWB2Yu9"
      }
    },
    {
      "cell_type": "code",
      "source": [
        "# ON OFF Can't be determined"
      ],
      "metadata": {
        "id": "N0hWzd4L2fIB"
      },
      "execution_count": null,
      "outputs": []
    },
    {
      "cell_type": "markdown",
      "source": [
        "Q6. Is the bulb ON - II\n",
        "\n",
        "Say the bulb is ON initially, after pressing the switch odd number of times, what will be the final state of the bulb?"
      ],
      "metadata": {
        "id": "6ldyPUAV2kLd"
      }
    },
    {
      "cell_type": "code",
      "source": [
        "# on off Can't be determined"
      ],
      "metadata": {
        "id": "LAmhLoJ62v3H"
      },
      "execution_count": null,
      "outputs": []
    },
    {
      "cell_type": "markdown",
      "source": [
        "Q7. Bulbs\n",
        "\n",
        "A wire connects N light bulbs.\n",
        "\n",
        "Each bulb has a switch associated with it; however, due to faulty wiring, a switch also changes the state of all the bulbs to the right of the current bulb.\n",
        "\n",
        "Given an initial state of all bulbs, find the minimum number of switches you have to press to turn on all the bulbs.\n",
        "\n",
        "You can press the same switch multiple times.\n",
        "\n",
        "Note: 0 represents the bulb is off and 1 represents the bulb is on."
      ],
      "metadata": {
        "id": "3ii48-AD21g9"
      }
    },
    {
      "cell_type": "code",
      "source": [
        "class Solution:\n",
        "\t# @param A : list of integers\n",
        "\t# @return an integer\n",
        "\tdef bulbs(self, A):\n",
        "        n=len(A)\n",
        "        count=0\n",
        "        for i in range(n):\n",
        "            if A[i] == 1 and count % 2 ==0:\n",
        "                continue\n",
        "            elif A[i] == 0 and count % 2 !=0:\n",
        "                continue\n",
        "            elif  A[i] == 1 and count % 2 !=0:\n",
        "                count +=1\n",
        "            elif A[i] == 0 and count % 2 == 0:\n",
        "                count +=1\n",
        "        return count"
      ],
      "metadata": {
        "id": "UH5yVe6I29IP"
      },
      "execution_count": null,
      "outputs": []
    },
    {
      "cell_type": "markdown",
      "source": [
        "Q8. Pick from both sides!\n",
        "\n",
        "You are given an integer array A of size N.\n",
        "\n",
        "You have to perform B operations. In one operation, you can remove either the leftmost or the rightmost element of the array A.\n",
        "\n",
        "Find and return the maximum possible sum of the elements that were removed after B operations.\n",
        "\n",
        "NOTE: Suppose B = 4, and array A contains 10 elements, then\n",
        "\n",
        "You can remove the first four elements or can remove the last four elements, or can remove 1 from front and 3 from the back, etc. You need to return the maximum possible sum of elements you can remove."
      ],
      "metadata": {
        "id": "661m9quJ3Bin"
      }
    },
    {
      "cell_type": "code",
      "source": [
        "class Solution:\n",
        "    # @param A : list of integers\n",
        "    # @param B : integer\n",
        "    # @return an integer\n",
        "    def solve(self, A, B):\n",
        "        curr_Sum = sum(A[:B])\n",
        "        inc = len(A) - 1\n",
        "        exc = B - 1\n",
        "        max_sum = curr_Sum\n",
        "        while B > 0:\n",
        "            curr_Sum += A[inc]\n",
        "            curr_Sum -= A[exc]\n",
        "            max_sum = max(max_sum, curr_Sum)\n",
        "            B -= 1\n",
        "            inc -= 1\n",
        "            exc -= 1\n",
        "        return max_sum"
      ],
      "metadata": {
        "id": "KEbdBps83Lau"
      },
      "execution_count": null,
      "outputs": []
    }
  ]
}