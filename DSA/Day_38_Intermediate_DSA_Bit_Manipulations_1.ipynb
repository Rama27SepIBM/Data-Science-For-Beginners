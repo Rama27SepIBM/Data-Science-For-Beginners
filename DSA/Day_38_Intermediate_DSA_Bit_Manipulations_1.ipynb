{
  "nbformat": 4,
  "nbformat_minor": 0,
  "metadata": {
    "colab": {
      "provenance": [],
      "authorship_tag": "ABX9TyN9Jma64b/JXy3Qww10WFnF",
      "include_colab_link": true
    },
    "kernelspec": {
      "name": "python3",
      "display_name": "Python 3"
    },
    "language_info": {
      "name": "python"
    }
  },
  "cells": [
    {
      "cell_type": "markdown",
      "metadata": {
        "id": "view-in-github",
        "colab_type": "text"
      },
      "source": [
        "<a href=\"https://colab.research.google.com/github/Rama27SepIBM/21DaysOfLeetcode/blob/main/Day_38_Intermediate_DSA_Bit_Manipulations_1.ipynb\" target=\"_parent\"><img src=\"https://colab.research.google.com/assets/colab-badge.svg\" alt=\"Open In Colab\"/></a>"
      ]
    },
    {
      "cell_type": "markdown",
      "source": [
        "Q1. Binary Addition\n",
        "\n",
        "Given two binary numbers A = 1001011 and B = 11001001. What is their sum?\n"
      ],
      "metadata": {
        "id": "U1gmBZrF2XJA"
      }
    },
    {
      "cell_type": "code",
      "source": [
        "# 100100100.  100010100.     101000100.  100010010"
      ],
      "metadata": {
        "id": "0VFBJeC72gRx"
      },
      "execution_count": null,
      "outputs": []
    },
    {
      "cell_type": "markdown",
      "source": [
        "Q2. Binary to Decimal - III\n",
        "\n",
        "Which of the following is the correct conversion of 10101101(base 2) to decimal?"
      ],
      "metadata": {
        "id": "InuxZjKN2t92"
      }
    },
    {
      "cell_type": "code",
      "source": [
        "# 175 173 171 169 "
      ],
      "metadata": {
        "id": "So4KaHgk2125"
      },
      "execution_count": null,
      "outputs": []
    },
    {
      "cell_type": "markdown",
      "source": [
        "Q3. Decimal to Binary - MCQ\n",
        "\n",
        "Which of the following is a correct conversion of 76 (base 10) to binary?"
      ],
      "metadata": {
        "id": "Ab2c360K3FKn"
      }
    },
    {
      "cell_type": "code",
      "source": [
        "# 1010000. 1001010. 1001100. 1001110"
      ],
      "metadata": {
        "id": "CM6SQWdH3IyK"
      },
      "execution_count": null,
      "outputs": []
    },
    {
      "cell_type": "markdown",
      "source": [
        "Q4. Bit Operations\n",
        "\n",
        "Given a = 1010011 and b = 1001001, their OR, XOR and AND are -"
      ],
      "metadata": {
        "id": "fl7Iq06U3UXB"
      }
    },
    {
      "cell_type": "code",
      "source": [
        "#OR = 1011011 , XOR = 0011010 , AND = 1000001\n",
        "#OR = 1011101 , XOR = 1011010 , AND = 1000001\n",
        "#OR = 1011011 , XOR = 1000001 , AND = 0011010\n",
        "#OR = 1011101 , XOR = 1000001 , AND = 0011010"
      ],
      "metadata": {
        "id": "2v8WYR6U3f41"
      },
      "execution_count": null,
      "outputs": []
    },
    {
      "cell_type": "markdown",
      "source": [
        "Q5. Bit Operations - 1\n",
        "\n",
        "If a&1 = 1, then a is?"
      ],
      "metadata": {
        "id": "5rxqOy7R3zpO"
      }
    },
    {
      "cell_type": "code",
      "source": [
        "#even. odd can be either odd or even"
      ],
      "metadata": {
        "id": "FGlYBm9X34MF"
      },
      "execution_count": null,
      "outputs": []
    },
    {
      "cell_type": "markdown",
      "source": [
        "Q6. Bit Operations - 5\n",
        "\n",
        "What are the values of a&a, a|a, a^a?"
      ],
      "metadata": {
        "id": "UMT-virc3-d2"
      }
    },
    {
      "cell_type": "code",
      "source": [
        "#a&a = a , a|a = a , a^a = a\n",
        "#a&a = a , a|a = a , a^a = 0\n",
        "#a&a = 0 , a|a = a , a^a = a\n",
        "#a&a = 0 , a|a = a , a^a = 0"
      ],
      "metadata": {
        "id": "Cs5bJSUT4FgU"
      },
      "execution_count": null,
      "outputs": []
    },
    {
      "cell_type": "markdown",
      "source": [
        "Q7. Any base to decimal\n",
        "\n",
        "You are given a number A. You are also given a base B. A is a number on base B.\n",
        "You are required to convert the number A into its corresponding value in decimal number system.\n"
      ],
      "metadata": {
        "id": "hQRJc2TZ4Qqd"
      }
    },
    {
      "cell_type": "code",
      "source": [
        "class Solution:\n",
        "    # @param A : integer\n",
        "    # @param B : integer\n",
        "    # @return an integer\n",
        "    def solve(self, A, B):\n",
        "        i = 0\n",
        "        num = 0\n",
        "        while A > 0:\n",
        "            digit = A % 10\n",
        "            num += digit * (B**i)\n",
        "            A = A//10\n",
        "            i += 1\n",
        "        return num"
      ],
      "metadata": {
        "id": "kidkM2w84XJ9"
      },
      "execution_count": null,
      "outputs": []
    },
    {
      "cell_type": "markdown",
      "source": [
        "Q8. Decimal to Any Base\n",
        "\n",
        "Given a decimal number A and a base B, convert it into its equivalent number in base B."
      ],
      "metadata": {
        "id": "Evt6shKd4bHj"
      }
    },
    {
      "cell_type": "code",
      "source": [
        "class Solution:\n",
        "    # @param A : integer\n",
        "    # @param B : integer\n",
        "    # @return an integer\n",
        "    def DecimalToAnyBase(self, A, B):\n",
        "        m=0\n",
        "        if A == 0:\n",
        "            return A\n",
        "        num = ''\n",
        "        while A > 0:\n",
        "            m=A%B\n",
        "            num += str(m)\n",
        "            A = A//B\n",
        "        return int(num[::-1])"
      ],
      "metadata": {
        "id": "1buhJ7fQ4iIA"
      },
      "execution_count": null,
      "outputs": []
    },
    {
      "cell_type": "markdown",
      "source": [
        "Q9. Single Number\n",
        "\n",
        "Given an array of integers A, every element appears twice except for one. Find that integer that occurs once.\n",
        "\n",
        "NOTE: Your algorithm should have a linear runtime complexity. Could you implement it without using extra memory?"
      ],
      "metadata": {
        "id": "YYc5SjTu4l0h"
      }
    },
    {
      "cell_type": "code",
      "source": [
        "class Solution:\n",
        "    # @param A : tuple of integers\n",
        "    # @return an integer\n",
        "    def singleNumber(self, A):\n",
        "        ans = 0\n",
        "        for i in range(0,len(A)):\n",
        "            ans = ans ^ A[i]\n",
        "        return ans"
      ],
      "metadata": {
        "id": "pQ2r5yPV4yLE"
      },
      "execution_count": null,
      "outputs": []
    },
    {
      "cell_type": "markdown",
      "source": [
        "Q1. XOR Sum\n",
        "\n",
        "Given two integers A and B. Find the minimum value (A ⊕ X) + (B ⊕ X) that can be achieved for any X.\n",
        "\n",
        "where P ⊕ Q is the bitwise XOR operation of the two numbers P and Q."
      ],
      "metadata": {
        "id": "IaKboLBd41Oc"
      }
    },
    {
      "cell_type": "code",
      "source": [
        "class Solution:\n",
        "    # @param A : integer\n",
        "    # @param B : integer\n",
        "    # @return an integer\n",
        "    def solve(self, A, B):\n",
        "        ans=0\n",
        "        for i in range(32):\n",
        "            if ((A>>i)&1)!=((B>>i)&1):\n",
        "                ans=ans+2**i\n",
        "        return ans"
      ],
      "metadata": {
        "id": "SfAvlpu0Z6v1"
      },
      "execution_count": null,
      "outputs": []
    },
    {
      "cell_type": "markdown",
      "source": [
        "Q2. Interesting Array\n",
        "\n",
        "You have an array A with N elements. We have two types of operation available on this array :\n",
        "We can split an element B into two elements, C and D, such that B = C + D.\n",
        "We can merge two elements, P and Q, to one element, R, such that R = P ^ Q i.e., XOR of P and Q.\n",
        "You have to determine whether it is possible to convert array A to size 1, containing a single element equal to 0 after several splits and/or merge?"
      ],
      "metadata": {
        "id": "VbyllMRTZ-q0"
      }
    },
    {
      "cell_type": "code",
      "source": [
        "class Solution:\n",
        "    # @param A : list of integers\n",
        "    # @return a strings\n",
        "    def solve(self, A):\n",
        "        cnt = 0\n",
        "        for val in A:\n",
        "            if val % 2:\n",
        "                cnt += 1\n",
        "        if cnt % 2 == 0:\n",
        "            return \"Yes\"\n",
        "        else:\n",
        "            return \"No\""
      ],
      "metadata": {
        "id": "lgSh85QgaFwG"
      },
      "execution_count": null,
      "outputs": []
    },
    {
      "cell_type": "markdown",
      "source": [
        "Q3. Subarrays with Bitwise OR 1\n",
        "\n",
        "Given an array B of length A with elements 1 or 0. Find the number of subarrays such that the bitwise OR of all the elements present in the subarray is 1."
      ],
      "metadata": {
        "id": "DI2RLoNlaKAf"
      }
    },
    {
      "cell_type": "code",
      "source": [
        "class Solution:\n",
        "    # @param A : integer\n",
        "    # @param B : list of integers\n",
        "     # @return an long\n",
        "    def solve(self, A, B):\n",
        "        ans = 0\n",
        "        prev_subarray_count = 0\n",
        "        for i in range(A):\n",
        "            if B[i] == 1:\n",
        "                current_subarray_count = i+1\n",
        "                ans += current_subarray_count\n",
        "                prev_subarray_count = current_subarray_count\n",
        "            else:\n",
        "                ans += prev_subarray_count\n",
        "        return(ans)"
      ],
      "metadata": {
        "id": "I7S-Q4a0aQpI"
      },
      "execution_count": null,
      "outputs": []
    },
    {
      "cell_type": "markdown",
      "source": [
        "Q4. Bit Operations - 2\n",
        "\n",
        "Given a=10, what will be the 0-th bit in a|1 ?"
      ],
      "metadata": {
        "id": "mw4eJoA_aWEr"
      }
    },
    {
      "cell_type": "code",
      "source": [
        "# 0 1 Cannot be determined"
      ],
      "metadata": {
        "id": "266Jo7sPaiah"
      },
      "execution_count": null,
      "outputs": []
    },
    {
      "cell_type": "markdown",
      "source": [
        "Q5. Bit Operations - 3\n",
        "\n",
        "What happens to the 0-th bit in a when we perform a = a^1 ?"
      ],
      "metadata": {
        "id": "rRHF3IpAaoyk"
      }
    },
    {
      "cell_type": "code",
      "source": [
        "# a)It gets toggled b)It gets unset c)It gets set d)It remains same"
      ],
      "metadata": {
        "id": "QyysKJ2WatRA"
      },
      "execution_count": null,
      "outputs": []
    },
    {
      "cell_type": "markdown",
      "source": [],
      "metadata": {
        "id": "ADilQZ4RbAMO"
      }
    },
    {
      "cell_type": "code",
      "execution_count": null,
      "metadata": {
        "id": "Z8kUhpGV2O9r"
      },
      "outputs": [],
      "source": []
    }
  ]
}