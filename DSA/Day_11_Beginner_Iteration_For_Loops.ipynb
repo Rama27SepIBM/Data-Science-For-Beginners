{
  "nbformat": 4,
  "nbformat_minor": 0,
  "metadata": {
    "colab": {
      "provenance": [],
      "authorship_tag": "ABX9TyNNU9EHs4RwYDQTPvN862td",
      "include_colab_link": true
    },
    "kernelspec": {
      "name": "python3",
      "display_name": "Python 3"
    },
    "language_info": {
      "name": "python"
    }
  },
  "cells": [
    {
      "cell_type": "markdown",
      "metadata": {
        "id": "view-in-github",
        "colab_type": "text"
      },
      "source": [
        "<a href=\"https://colab.research.google.com/github/Rama27SepIBM/21DaysOfLeetcode/blob/main/Day_11_Beginner_Iteration_For_Loops.ipynb\" target=\"_parent\"><img src=\"https://colab.research.google.com/assets/colab-badge.svg\" alt=\"Open In Colab\"/></a>"
      ]
    },
    {
      "cell_type": "markdown",
      "source": [
        "Q1. find x in loop\n",
        "\n",
        "What will be the value of x at the end of each iteration in the given program if executed?\n",
        "\n",
        "x = 2\n",
        "for i in range(0, 4):\n",
        "    if x%2:\n",
        "       x = x*2\n",
        "    else:\n",
        "       x = x+1"
      ],
      "metadata": {
        "id": "zGZM0CbTn65s"
      }
    },
    {
      "cell_type": "code",
      "source": [
        "# 3 -> 4 -> 7 -> 14\n",
        "# 11 -> 12 -> 13 -> 14\n",
        "# 4 -> 3 -> 6 -> 7 -> 14\n",
        "# 3 -> 6 -> 7 -> 14"
      ],
      "metadata": {
        "id": "e9O-9ZkGoFm-"
      },
      "execution_count": null,
      "outputs": []
    },
    {
      "cell_type": "markdown",
      "source": [
        "Q2. frequency of even\n",
        "\n",
        "Which of the following codes can be used to find the frequency of even numbers in the range 0-10 inclusive?\n",
        "\n",
        "A.\n",
        "print((10//2)+1)\n",
        "\n",
        "B.\n",
        "c=0\n",
        "for i in range(0, 10):\n",
        "    if i%2:\n",
        "        c=c+1\n",
        "print(c)\n",
        "\n",
        "C.\n",
        "c=0\n",
        "for i in range(0, 10):\n",
        "    if i%2==0:\n",
        "        c=c+1\n",
        "print(c)\n",
        "\n",
        "D.\n",
        "c=0\n",
        "for i in range(0, 11):\n",
        "    if i%2==0:\n",
        "        c=c+1\n",
        "print(c)"
      ],
      "metadata": {
        "id": "npavvyBNoRHa"
      }
    },
    {
      "cell_type": "code",
      "source": [
        "# BC  ABC. AD. ABD"
      ],
      "metadata": {
        "id": "jj8R0g3BoZFo"
      },
      "execution_count": null,
      "outputs": []
    },
    {
      "cell_type": "markdown",
      "source": [
        "Q3. get iteration number\n",
        "\n",
        "What would be the output of the following code ?\n",
        "\n",
        "x = 1\n",
        "for i in range(x):\n",
        "    x=x+1\n",
        "    print(i, end= \" \")"
      ],
      "metadata": {
        "id": "2hRvG47woisr"
      }
    },
    {
      "cell_type": "code",
      "source": [
        "# Infinite loop.    0   01.     0 2"
      ],
      "metadata": {
        "id": "0UPjHie1opW-"
      },
      "execution_count": null,
      "outputs": []
    },
    {
      "cell_type": "markdown",
      "source": [
        "Q4. for loop output\n",
        "\n",
        "What will be the output of the following code:\n",
        "\n",
        "for i in range(-6, -10, -1):\n",
        "     print(i, end =\" \")"
      ],
      "metadata": {
        "id": "NL42bmkDo14j"
      }
    },
    {
      "cell_type": "code",
      "source": [
        "# -6 -7 -8 -9\n",
        "# -7 -8 -9 -10\n",
        "# -6 -7 -8 -9 -10\n",
        "# Infinite loop"
      ],
      "metadata": {
        "id": "LHrcPYn3o-p5"
      },
      "execution_count": null,
      "outputs": []
    },
    {
      "cell_type": "markdown",
      "source": [
        "Q5. From top to down\n",
        "Write a program to print all Natural numbers from 1 to N where you have to take N as input from user\n",
        "\n",
        "Problem Constraints\n",
        "\n",
        "1 <= N <= 1000000\n",
        "\n",
        "Input Format\n",
        "\n",
        "A single line representing N\n",
        "\n",
        "Output Format\n",
        "\n",
        "N space separated integers from 1 to N."
      ],
      "metadata": {
        "id": "q_wp0WVDpNbm"
      }
    },
    {
      "cell_type": "code",
      "source": [
        "N = int(input())\n",
        "\n",
        "for i in range (1,N+1,1):\n",
        "    print(i,end=\" \")"
      ],
      "metadata": {
        "id": "yOkIaWlnpZD9"
      },
      "execution_count": null,
      "outputs": []
    },
    {
      "cell_type": "markdown",
      "source": [
        "Q6. Summation Game\n",
        "\n",
        "Write a program to find sum all Natural numbers from 1 to N where you have to take N as input from user\n",
        "\n",
        "Problem Constraints\n",
        "\n",
        "1 <= N <= 1000\n",
        "\n",
        "Input Format\n",
        "\n",
        "A single line representing N\n"
      ],
      "metadata": {
        "id": "MR-pcG7ype-u"
      }
    },
    {
      "cell_type": "code",
      "source": [
        "N = int(input())\n",
        "sum = 0\n",
        "for i in range (1,N+1,1):\n",
        "    sum += i\n",
        "print(sum)"
      ],
      "metadata": {
        "id": "RjlffOAYppRE"
      },
      "execution_count": null,
      "outputs": []
    },
    {
      "cell_type": "markdown",
      "source": [
        "Q7. From down to top\n",
        "\n",
        "Write a program to print all Natural numbers from N to 1 where you have to take N as input from user\n",
        "\n",
        "Problem Constraints\n",
        "1 <= N <= 10000000\n",
        "Input Format\n",
        "A single line representing N"
      ],
      "metadata": {
        "id": "LD4yN49kpr-u"
      }
    },
    {
      "cell_type": "code",
      "source": [
        "N = int(input())\n",
        "\n",
        "for i in range (N,0,-1):\n",
        "    print(i, end=\" \")"
      ],
      "metadata": {
        "id": "I0Djxzxyp2b2"
      },
      "execution_count": null,
      "outputs": []
    },
    {
      "cell_type": "markdown",
      "source": [
        "Q1. divisor and remainder\n",
        "\n",
        "Fill in the missing piece of code to get the value of ‘a’ as 5. (choose the block names)\n",
        "a = 0\n",
        "while True:\n",
        "    ___________\n",
        "    if a == 5:\n",
        "        break\n",
        "\n",
        "A.\n",
        "a = a+1\n",
        "a %= 5\n",
        "a += 1\n",
        "\n",
        "B.\n",
        "a = a + 2\n",
        "a %= 5\n",
        "a += 1\n",
        "\n",
        "C.\n",
        "a = a + 1\n",
        "a %= 5\n",
        "a += 2\n",
        "\n",
        "D.\n",
        "a = a + 5\n",
        "a %= 5\n",
        "a += 5"
      ],
      "metadata": {
        "id": "NjNyBfWPp5to"
      }
    },
    {
      "cell_type": "code",
      "source": [
        "# A B C D"
      ],
      "metadata": {
        "id": "QT96BFNQqLY_"
      },
      "execution_count": null,
      "outputs": []
    },
    {
      "cell_type": "markdown",
      "source": [
        "Q2. print i:j\n",
        "\n",
        "What will be the output of the following?\n",
        "i = 0\n",
        "j = 0\n",
        "while i <= 2:\n",
        "   if j%2:\n",
        "       j += 1\n",
        "   print(i, \":\", j, end=\" \")\n",
        "   i+=1\n",
        "   j+=1"
      ],
      "metadata": {
        "id": "Uyf9Q-NOqQGX"
      }
    },
    {
      "cell_type": "code",
      "source": [
        "# 0:0 1:1 2:2.   0:0 1:2 2:4.     0:1 1:2 2:3.   0:1 1:2 2:2"
      ],
      "metadata": {
        "id": "OlYkAfWcqouI"
      },
      "execution_count": null,
      "outputs": []
    },
    {
      "cell_type": "markdown",
      "source": [
        "Q3. pass statement\n",
        "\n",
        "What can be the output of the following code ?\n",
        "\n",
        "i=0\n",
        "if i==0:\n",
        "   pass\n",
        "   print(i, end=\" \")\n",
        "i+=1\n",
        "print(i, end=\" \")"
      ],
      "metadata": {
        "id": "RTCOdjfmq0J6"
      }
    },
    {
      "cell_type": "code",
      "source": [
        "# 01.   Error.   0.  1"
      ],
      "metadata": {
        "id": "ajLJD_Ehq6dg"
      },
      "execution_count": null,
      "outputs": []
    },
    {
      "cell_type": "markdown",
      "source": [
        "Q4. Threes or not\n",
        "\n",
        "What will be the output of the following Python code?\n",
        "\n",
        "for a in range(10):\n",
        "   if (a % 3 == 0):\n",
        "      continue\n",
        "   print(a, 'end')"
      ],
      "metadata": {
        "id": "5jMl4rWnrBtj"
      }
    },
    {
      "cell_type": "code",
      "source": [
        "# 1 2 4 5 7 8\n",
        "# 1 2 4 5 7 8 10\n",
        "# 3 6 9\n",
        "# 1 2 4 5 7 8 9"
      ],
      "metadata": {
        "id": "5dBLymbXro-D"
      },
      "execution_count": null,
      "outputs": []
    },
    {
      "cell_type": "markdown",
      "source": [
        "Q5. even between 0 to 5\n",
        "\n",
        "What would be the output of the following ?\n",
        "\n",
        "i=0\n",
        "while i<=5:\n",
        "     if i%2:\n",
        "        pass\n",
        "     else:\n",
        "        print(i, end=\" \")\n",
        "     i+=1"
      ],
      "metadata": {
        "id": "je73-Enlr0Bb"
      }
    },
    {
      "cell_type": "code",
      "source": [
        "# 1 2 3\n",
        "# 0 2 4\n",
        "# 1 3 5\n",
        "# 2 4 3"
      ],
      "metadata": {
        "id": "SeNt5Ua7r8RN"
      },
      "execution_count": null,
      "outputs": []
    },
    {
      "cell_type": "markdown",
      "source": [
        "Q6. Division by subtraction\n",
        "\n",
        "We want to find the Quotient(q), and Remainder(r) of the division of 2 numbers, i.e. x is divided by y.\n",
        "\n",
        "Which of the following code blocks can be used for this? Assume that the code before blocks is common for all the blocks.\n",
        "\n",
        "x = int(input())\n",
        "y = int(input())\n",
        "\n",
        "q = 0\n",
        "r = 0\n",
        "\n",
        "# Block A\n",
        "while x > y:\n",
        "    x -= y\n",
        "    q += 1\n",
        "print(q, r)\n",
        "# Block B\n",
        "while x >= y:\n",
        "    x -= y\n",
        "    q += 1\n",
        "print(q, y)\n",
        "\n",
        "# Block C\n",
        "while x >= y:\n",
        "    x -= y\n",
        "    q += 1\n",
        "print(q, x)"
      ],
      "metadata": {
        "id": "dUKOLLgwsJhb"
      }
    },
    {
      "cell_type": "code",
      "source": [
        "# Block A. Block B. Block C. None of the blocks"
      ],
      "metadata": {
        "id": "naNQef2ysVbn"
      },
      "execution_count": null,
      "outputs": []
    },
    {
      "cell_type": "markdown",
      "source": [
        "Q7. Sum of Odds - Easy\n",
        "\n",
        "Take an integer A as input. You have to print the sum of all odd numbers in the range [1, A].\n",
        "\n",
        "Problem Constraints\n",
        "1 <= A <= 1000\n",
        "Input Format\n",
        "First and only line contains a single positive integer A."
      ],
      "metadata": {
        "id": "OZr03d_IsinW"
      }
    },
    {
      "cell_type": "code",
      "source": [
        "A=int(input())\n",
        "sum=0\n",
        "for i in range(1,A+1,2):\n",
        "    sum=sum+i\n",
        "print(sum)"
      ],
      "metadata": {
        "id": "3kFeCqHgsutC"
      },
      "execution_count": null,
      "outputs": []
    },
    {
      "cell_type": "markdown",
      "source": [
        "Q8. Print N stars\n",
        "\n",
        "Problem Description\n",
        "Given an integer N, print N stars in a single line.\n",
        "\n",
        "For example if N = 5 then pattern will be like:\n",
        "\n",
        "*****\n",
        "Problem Constraints\n",
        "2 <= N <= 100\n",
        "\n",
        "Input Format\n",
        "Single line input contains a single integer N.\n",
        "Output Format\n",
        "Output N stars in a single line."
      ],
      "metadata": {
        "id": "83hry30PsxLf"
      }
    },
    {
      "cell_type": "code",
      "source": [
        "N=int(input())\n",
        "\n",
        "for i in range(1,N+1):\n",
        "    print(\"*\",end=\"\")"
      ],
      "metadata": {
        "id": "kn6qkU-ptCXJ"
      },
      "execution_count": null,
      "outputs": []
    },
    {
      "cell_type": "markdown",
      "source": [],
      "metadata": {
        "id": "ZWPzTBh6tFn_"
      }
    },
    {
      "cell_type": "code",
      "execution_count": null,
      "metadata": {
        "id": "MbhE2lwqn4ia"
      },
      "outputs": [],
      "source": []
    }
  ]
}