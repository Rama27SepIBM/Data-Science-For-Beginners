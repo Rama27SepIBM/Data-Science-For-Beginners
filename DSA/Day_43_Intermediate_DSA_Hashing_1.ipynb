{
  "nbformat": 4,
  "nbformat_minor": 0,
  "metadata": {
    "colab": {
      "provenance": [],
      "authorship_tag": "ABX9TyOeAYvG44UlDUkgtkZvPxyY",
      "include_colab_link": true
    },
    "kernelspec": {
      "name": "python3",
      "display_name": "Python 3"
    },
    "language_info": {
      "name": "python"
    }
  },
  "cells": [
    {
      "cell_type": "markdown",
      "metadata": {
        "id": "view-in-github",
        "colab_type": "text"
      },
      "source": [
        "<a href=\"https://colab.research.google.com/github/Rama27SepIBM/21DaysOfLeetcode/blob/main/Day_43_Intermediate_DSA_Hashing_1.ipynb\" target=\"_parent\"><img src=\"https://colab.research.google.com/assets/colab-badge.svg\" alt=\"Open In Colab\"/></a>"
      ]
    },
    {
      "cell_type": "markdown",
      "source": [
        "Q1. Frequency of element query\n",
        "\n",
        "Given an array A. You have some integers given in the array B.\n",
        "\n",
        "For the i-th number, find the frequency of B[i] in the array A and return a list containing all the frequencies."
      ],
      "metadata": {
        "id": "-eB3qpz_eJ7-"
      }
    },
    {
      "cell_type": "code",
      "source": [
        "class Solution:\n",
        "    # @param A : list of integers\n",
        "    # @param B : list of integers\n",
        "    # @return a list of integers\n",
        "    def solve(self, A, B):\n",
        "        C={}\n",
        "        ans=[]\n",
        "        for j in A:\n",
        "            if j in C:\n",
        "                C[j]+=1\n",
        "            else:\n",
        "                C[j]=1\n",
        "        for i in B:\n",
        "            if i in C:\n",
        "                ans.append(C[i])\n",
        "            else:\n",
        "                ans.append(0)\n",
        "        return ans"
      ],
      "metadata": {
        "id": "DqoangeHeTeU"
      },
      "execution_count": null,
      "outputs": []
    },
    {
      "cell_type": "markdown",
      "source": [
        "Q2. First Repeating element\n",
        "\n",
        "Given an integer array A of size N, find the first repeating element in it.\n",
        "\n",
        "We need to find the element that occurs more than once and whose index of the first occurrence is the smallest.\n",
        "\n",
        "If there is no repeating element, return -1."
      ],
      "metadata": {
        "id": "7MhqIwnYeY9V"
      }
    },
    {
      "cell_type": "code",
      "source": [
        "class Solution:\n",
        "    # @param A : list of integers\n",
        "    # @return an integer\n",
        "    def solve(self, A):\n",
        "        repeatingElements = {}\n",
        "        for i in range(len(A)):\n",
        "            if repeatingElements.get(A[i]) == None:\n",
        "                repeatingElements[A[i]] = 1\n",
        "            else:\n",
        "                repeatingElements[A[i]] += 1\n",
        "        for i in range(len(A)):\n",
        "                if repeatingElements.get(A[i]) <= 1:\n",
        "                    continue\n",
        "                else:\n",
        "                    return A[i]\n",
        "        return -1"
      ],
      "metadata": {
        "id": "mB9c7ufMegJr"
      },
      "execution_count": null,
      "outputs": []
    },
    {
      "cell_type": "markdown",
      "source": [
        "Q3. Sub-array with 0 sum\n",
        "\n",
        "Given an array of integers A, find and return whether the given array contains a non-empty subarray with a sum equal to 0.\n",
        "\n",
        "If the given array contains a sub-array with sum zero return 1, else return 0."
      ],
      "metadata": {
        "id": "24l7hhAMekS-"
      }
    },
    {
      "cell_type": "code",
      "source": [
        "class Solution:\n",
        "    # @param A : list of integers\n",
        "    # @return an integer\n",
        "    def solve(self, A):\n",
        "        prefix_sums = set()\n",
        "        current_sum = 0\n",
        "        prefix_sums.add(current_sum)\n",
        "        for num in A:\n",
        "            current_sum += num\n",
        "            if current_sum in prefix_sums:\n",
        "                return 1\n",
        "            prefix_sums.add(current_sum)  \n",
        "        return 0"
      ],
      "metadata": {
        "id": "Cv_J9sSEeroa"
      },
      "execution_count": null,
      "outputs": []
    },
    {
      "cell_type": "markdown",
      "source": [
        "Q4. Time Complexity - 6 - II\n",
        "\n",
        "What is the time complexity of the following:\n",
        "\n",
        "C++\n",
        "Java\n",
        "Python\n",
        "\n",
        "s= set()\n",
        "for j in range(n):\n",
        "s.add(j)\n",
        "a) O(n) b) O(logn) c) O(n(logn)) d) O(n^2) e) none of the above"
      ],
      "metadata": {
        "id": "ORqxtc2yeuqS"
      }
    },
    {
      "cell_type": "markdown",
      "source": [
        "Q5. Count distinct elements\n",
        "\n",
        "You are given an array A of N integers. You will have to return number of distinct elements of the array."
      ],
      "metadata": {
        "id": "2KvqyDxSgBHt"
      }
    },
    {
      "cell_type": "code",
      "source": [
        "class Solution:\n",
        "    # @param A : list of integers\n",
        "    # @return an integer\n",
        "    def solve(self, A):\n",
        "        return len(set(A))"
      ],
      "metadata": {
        "id": "jgFvad_6gFNc"
      },
      "execution_count": null,
      "outputs": []
    },
    {
      "cell_type": "markdown",
      "source": [
        "Q1. Count Subarray Zero Sum\n",
        "\n",
        "\n",
        "Given an array A of N integers.\n",
        "\n",
        "Find the count of the subarrays in the array which sums to zero. Since the answer can be very large, return the remainder on dividing the result with 109+7"
      ],
      "metadata": {
        "id": "XVO6rgDngI9d"
      }
    },
    {
      "cell_type": "code",
      "source": [
        "class Solution:\n",
        "    # @param A : list of integers\n",
        "    # @return an integer\n",
        "    def solve(self, A):\n",
        "        MOD = 10**9 + 7\n",
        "        prefix_sum = [0] * (len(A) + 1)\n",
        "        prefix_sum_count = {0: 1}\n",
        "        count = 0\n",
        "        for i in range(1, len(A) + 1):\n",
        "            prefix_sum[i] = (prefix_sum[i-1] + A[i-1]) % MOD\n",
        "            if prefix_sum[i] in prefix_sum_count:\n",
        "                count += prefix_sum_count[prefix_sum[i]]\n",
        "                prefix_sum_count[prefix_sum[i]] += 1\n",
        "            else:\n",
        "                prefix_sum_count[prefix_sum[i]] = 1\n",
        "        return count % MOD"
      ],
      "metadata": {
        "id": "AYAATD0-gQ0I"
      },
      "execution_count": null,
      "outputs": []
    },
    {
      "cell_type": "markdown",
      "source": [
        "Q2. Common Elements\n",
        "\n",
        "Given two integer arrays, A and B of size N and M, respectively. Your task is to find all the common elements in both the array.\n",
        "\n",
        "NOTE:\n",
        "\n",
        "Each element in the result should appear as many times as it appears in both arrays.\n",
        "The result can be in any order."
      ],
      "metadata": {
        "id": "Aq10D0YlgVJd"
      }
    },
    {
      "cell_type": "code",
      "source": [
        "class Solution:\n",
        "    # @param A : list of integers\n",
        "    # @param B : list of integers\n",
        "    # @return a list of integers\n",
        "    def solve(self, A, B):\n",
        "        occurrences_A = {}\n",
        "        for element in A:\n",
        "            if element in occurrences_A:\n",
        "                occurrences_A[element] += 1\n",
        "            else:\n",
        "                occurrences_A[element] = 1\n",
        "        occurrences_B = {}\n",
        "        for element in B:\n",
        "            if element in occurrences_B:\n",
        "                occurrences_B[element] += 1\n",
        "            else:\n",
        "                occurrences_B[element] = 1\n",
        "        common_elements = []\n",
        "        for element in occurrences_A:\n",
        "            if element in occurrences_B:\n",
        "                common_elements.extend([element] * min(occurrences_A[element], occurrences_B[element]))\n",
        "        return common_elements  "
      ],
      "metadata": {
        "id": "44q3WFergeDC"
      },
      "execution_count": null,
      "outputs": []
    },
    {
      "cell_type": "markdown",
      "source": [
        "Q3. Colorful Number\n",
        "\n",
        "Given a number A, find if it is COLORFUL number or not.\n",
        "\n",
        "If number A is a COLORFUL number return 1 else, return 0.\n",
        "\n",
        "What is a COLORFUL Number:\n",
        "\n",
        "A number can be broken into different consecutive sequence of digits. \n",
        "The number 3245 can be broken into sequences like 3, 2, 4, 5, 32, 24, 45, 324 and 245. \n",
        "This number is a COLORFUL number, since the product of every consecutive sequence of digits is different"
      ],
      "metadata": {
        "id": "sHdEB0dKgi5z"
      }
    },
    {
      "cell_type": "code",
      "source": [
        "def findProd(A):\n",
        "    ret = 1\n",
        "    for a in A:\n",
        "        ret *= int(a)\n",
        "    return str(ret)\n",
        "class Solution:\n",
        "\t# @param A : integer\n",
        "\t# @return an integer\n",
        "\tdef colorful(self, A):\n",
        "        numbers = dict()\n",
        "        strA = str(A)\n",
        "        for a in strA:\n",
        "            if a in numbers:\n",
        "                return 0\n",
        "            else:\n",
        "                numbers[a] = 1\n",
        "                n = len(strA)\n",
        "        for i in range(2, n + 1):\n",
        "            for j in range(n - i + 1):\n",
        "                num = strA[j : j + i]\n",
        "                ret = findProd(num)\n",
        "                # check if the product is unique\n",
        "                if ret in numbers:\n",
        "                    return 0\n",
        "                else:\n",
        "                    numbers[ret] = 1\n",
        "        return 1"
      ],
      "metadata": {
        "id": "KenC85qRgqq6"
      },
      "execution_count": null,
      "outputs": []
    },
    {
      "cell_type": "markdown",
      "source": [
        "Q4. Count unique elements\n",
        "\n",
        "You are given an array A of N integers. Return the count of elements with frequncy 1 in the given array.\n"
      ],
      "metadata": {
        "id": "g0IABzJUgvoU"
      }
    },
    {
      "cell_type": "code",
      "source": [
        "class Solution:\n",
        "    # @param A : list of integers\n",
        "    # @return an integer\n",
        "    def solve(self, A):\n",
        "        frqcy_map = {}\n",
        "        for x in A:\n",
        "            if x in frqcy_map:\n",
        "                frqcy_map[x] += 1\n",
        "            else:\n",
        "                frqcy_map[x] = 1\n",
        "        count = 0\n",
        "        for x in frqcy_map:\n",
        "            if frqcy_map[x] ==1:\n",
        "                count +=1\n",
        "        return count"
      ],
      "metadata": {
        "id": "gm3XpQ-Lg5Lz"
      },
      "execution_count": null,
      "outputs": []
    },
    {
      "cell_type": "markdown",
      "source": [
        "Q1. Count Subarray Zero Sum\n",
        "Given an array A of N integers.\n",
        "\n",
        "Find the count of the subarrays in the array which sums to zero. Since the answer can be very large, return the remainder on dividing the result with 109+7\n"
      ],
      "metadata": {
        "id": "116XDbLWg7Bq"
      }
    },
    {
      "cell_type": "code",
      "source": [
        "class Solution:\n",
        "    # @param A : list of integers\n",
        "    # @return an integer\n",
        "    def solve(self, A):\n",
        "        MOD = 10**9 + 7\n",
        "        prefix_sum = [0] * (len(A) + 1)\n",
        "        prefix_sum_count = {0: 1}\n",
        "        count = 0\n",
        "        for i in range(1, len(A) + 1):\n",
        "            prefix_sum[i] = (prefix_sum[i-1] + A[i-1]) % MOD\n",
        "            if prefix_sum[i] in prefix_sum_count:\n",
        "                count += prefix_sum_count[prefix_sum[i]]\n",
        "                prefix_sum_count[prefix_sum[i]] += 1\n",
        "            else:\n",
        "                prefix_sum_count[prefix_sum[i]] = 1\n",
        "        return count % MOD"
      ],
      "metadata": {
        "id": "VpXsiddlhCtm"
      },
      "execution_count": null,
      "outputs": []
    },
    {
      "cell_type": "markdown",
      "source": [
        "Q2. Common Elements\n",
        "\n",
        "Given two integer arrays, A and B of size N and M, respectively. Your task is to find all the common elements in both the array.\n",
        "\n",
        "NOTE:\n",
        "\n",
        "Each element in the result should appear as many times as it appears in both arrays.\n",
        "The result can be in any order."
      ],
      "metadata": {
        "id": "RN-pcW5rhG31"
      }
    },
    {
      "cell_type": "code",
      "source": [
        "class Solution:\n",
        "    # @param A : list of integers\n",
        "    # @param B : list of integers\n",
        "    # @return a list of integers\n",
        "    def solve(self, A, B):\n",
        "        occurrences_A = {}\n",
        "        for element in A:\n",
        "            if element in occurrences_A:\n",
        "                occurrences_A[element] += 1\n",
        "            else:\n",
        "                occurrences_A[element] = 1\n",
        "        occurrences_B = {}\n",
        "        for element in B:\n",
        "            if element in occurrences_B:\n",
        "                occurrences_B[element] += 1\n",
        "            else:\n",
        "                occurrences_B[element] = 1\n",
        "        common_elements = []\n",
        "        for element in occurrences_A:\n",
        "            if element in occurrences_B:\n",
        "                common_elements.extend([element] * min(occurrences_A[element], occurrences_B[element]))\n",
        "        return common_elements  "
      ],
      "metadata": {
        "id": "6HwhClZqhS1V"
      },
      "execution_count": null,
      "outputs": []
    },
    {
      "cell_type": "markdown",
      "source": [
        "Q3. Colorful Number\n",
        "\n",
        "Given a number A, find if it is COLORFUL number or not.\n",
        "\n",
        "If number A is a COLORFUL number return 1 else, return 0.\n",
        "\n",
        "What is a COLORFUL Number:\n",
        "\n",
        "A number can be broken into different consecutive sequence of digits. \n",
        "The number 3245 can be broken into sequences like 3, 2, 4, 5, 32, 24, 45, 324 and 245. \n",
        "This number is a COLORFUL number, since the product of every consecutive sequence of digits is different"
      ],
      "metadata": {
        "id": "n03vhAmbhRt1"
      }
    },
    {
      "cell_type": "code",
      "source": [
        "def findProd(A):\n",
        "    ret = 1\n",
        "    for a in A:\n",
        "        ret *= int(a)\n",
        "    return str(ret)\n",
        "class Solution:\n",
        "\t# @param A : integer\n",
        "\t# @return an integer\n",
        "\tdef colorful(self, A):\n",
        "        numbers = dict()\n",
        "        strA = str(A)\n",
        "        for a in strA:\n",
        "            if a in numbers:\n",
        "                return 0\n",
        "            else:\n",
        "                numbers[a] = 1\n",
        "                n = len(strA)\n",
        "        for i in range(2, n + 1):\n",
        "            for j in range(n - i + 1):\n",
        "                num = strA[j : j + i]\n",
        "                ret = findProd(num)\n",
        "                # check if the product is unique\n",
        "                if ret in numbers:\n",
        "                    return 0\n",
        "                else:\n",
        "                    numbers[ret] = 1\n",
        "        return 1"
      ],
      "metadata": {
        "id": "n9kjsk--hek-"
      },
      "execution_count": null,
      "outputs": []
    },
    {
      "cell_type": "markdown",
      "source": [
        "Q4. Count unique elements\n",
        "\n",
        "You are given an array A of N integers. Return the count of elements with frequncy 1 in the given array.\n"
      ],
      "metadata": {
        "id": "opyg0uhahjbC"
      }
    },
    {
      "cell_type": "code",
      "source": [
        "class Solution:\n",
        "    # @param A : list of integers\n",
        "    # @return an integer\n",
        "    def solve(self, A):\n",
        "        frqcy_map = {}\n",
        "        for x in A:\n",
        "            if x in frqcy_map:\n",
        "                frqcy_map[x] += 1\n",
        "            else:\n",
        "                frqcy_map[x] = 1\n",
        "        count = 0\n",
        "        for x in frqcy_map:\n",
        "            if frqcy_map[x] ==1:\n",
        "                count +=1\n",
        "        return count"
      ],
      "metadata": {
        "id": "-MMBv-cohrAp"
      },
      "execution_count": null,
      "outputs": []
    },
    {
      "cell_type": "code",
      "execution_count": null,
      "metadata": {
        "id": "w7sax4PpeCMv"
      },
      "outputs": [],
      "source": []
    }
  ]
}