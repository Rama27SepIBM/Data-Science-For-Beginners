{
  "nbformat": 4,
  "nbformat_minor": 0,
  "metadata": {
    "colab": {
      "provenance": [],
      "authorship_tag": "ABX9TyMNqzB+W9bNZ904pBS3V6fu",
      "include_colab_link": true
    },
    "kernelspec": {
      "name": "python3",
      "display_name": "Python 3"
    },
    "language_info": {
      "name": "python"
    }
  },
  "cells": [
    {
      "cell_type": "markdown",
      "metadata": {
        "id": "view-in-github",
        "colab_type": "text"
      },
      "source": [
        "<a href=\"https://colab.research.google.com/github/Rama27SepIBM/21DaysOfLeetcode/blob/main/Day_13_Beginner_Iteration_Nested_Loopsipynb.ipynb\" target=\"_parent\"><img src=\"https://colab.research.google.com/assets/colab-badge.svg\" alt=\"Open In Colab\"/></a>"
      ]
    },
    {
      "cell_type": "markdown",
      "source": [
        "Q1. Reverse Game\n",
        "\n",
        "Write a program that accepts T numbers(N) from the user and find reverse of the given number(N).\n",
        "\n",
        "\n",
        "Problem Constraints\n",
        "\n",
        "1 <= T <= 100\n",
        "\n",
        "1 <= N <= 100000000\n",
        "\n",
        "\n",
        "\n",
        "Input Format\n",
        "\n",
        "First line is T which means number of test cases.\n",
        "\n",
        "Each next N lines contain an integer N.\n",
        "\n",
        "\n",
        "\n",
        "Output Format\n",
        "\n",
        "T lines each containing reverse of the input integer.\n",
        "\n",
        "\n",
        "\n",
        "Example Input\n",
        "\n",
        "Input 1:\n",
        "\n",
        "2\n",
        "101\n",
        "105"
      ],
      "metadata": {
        "id": "Pt0RjbwOQVXp"
      }
    },
    {
      "cell_type": "code",
      "source": [
        "T = int(input())\n",
        "for i in range(T):\n",
        "    N = int(input())\n",
        "    reverse = 0\n",
        "    D = len(str(N))\n",
        "    for j in range (D):\n",
        "        LD=N%10\n",
        "        reverse = reverse*10+LD\n",
        "        N//=10\n",
        "    print(reverse)"
      ],
      "metadata": {
        "id": "q5QK-iHDQema"
      },
      "execution_count": null,
      "outputs": []
    },
    {
      "cell_type": "markdown",
      "source": [
        "Q2. Palindromic Integer\n",
        "\n",
        "Take an integer A as input, determine whether it is palindromic or not.\n",
        "\n",
        "A palindrome integer is an integer X for which reverse(X) = X where reverse(X) is X with its digits reversed. For e.g., reverse(123) = 321. Note : There will be no zeros at the start of a number.\n",
        "\n",
        "\n",
        "Problem Constraints\n",
        "\n",
        "1 <= A <= 106"
      ],
      "metadata": {
        "id": "gnZCci-FQhbF"
      }
    },
    {
      "cell_type": "code",
      "source": [
        "N = int(input())\n",
        "OG = N\n",
        "reverse = 0\n",
        "while N>0:\n",
        "    LD = N % 10\n",
        "    reverse = reverse * 10 + LD\n",
        "    N //= 10\n",
        "if OG == reverse:\n",
        "    print(\"Yes\")\n",
        "else:\n",
        "    print(\"No\")"
      ],
      "metadata": {
        "id": "sJPc_mInQoup"
      },
      "execution_count": null,
      "outputs": []
    },
    {
      "cell_type": "markdown",
      "source": [
        "Q3. For loop-2 MCQ E\n",
        "\n",
        "A Highest Common Factor (HCF) of a,b is defined as _______."
      ],
      "metadata": {
        "id": "Qdm4DCzSQrTq"
      }
    },
    {
      "cell_type": "code",
      "source": [
        "# It is the smallest integer divisible by both a and b\n",
        "# It is the greatest integer divisor of both a and b\n",
        "# It is the sum of the number a and b\n",
        "# None of the above"
      ],
      "metadata": {
        "id": "kJMjM5ljQ2ol"
      },
      "execution_count": null,
      "outputs": []
    },
    {
      "cell_type": "markdown",
      "source": [
        "Q4. HCF using Loop\n",
        "\n",
        "Write a program to input an integer T which represents the number of test cases. For each test case input two integers A and B in two different lines. For each pair of A and B print the HCF of the given two numbers.\n",
        "\n",
        "\n",
        "Problem Constraints\n",
        "1 <= T <= 1000\n",
        "\n",
        "1 <= A,B <= 1000000\n",
        "\n",
        "\n",
        "\n",
        "Input Format\n",
        "The first line of input contains T which means number of test cases.\n",
        "\n",
        "Next 2T lines contains input A and B for each testcase.\n",
        "First line of each testcase contain an integer A and second line of the testcase contains input B."
      ],
      "metadata": {
        "id": "z8jJyeoKRJFm"
      }
    },
    {
      "cell_type": "code",
      "source": [
        "T = int(input())\n",
        "while T>0:\n",
        "    A = int(input())\n",
        "    B = int(input())\n",
        "    for j in range(B,0,-1):\n",
        "        if A%j==0 and B%j==0:\n",
        "            print(j)\n",
        "            break\n",
        "    T=T-1"
      ],
      "metadata": {
        "id": "-VEHFV0-RQzf"
      },
      "execution_count": null,
      "outputs": []
    },
    {
      "cell_type": "markdown",
      "source": [
        "Q5. GCD and LCM\n",
        "\n",
        "What is the relationship between GCD, LCM of numbers a and b?"
      ],
      "metadata": {
        "id": "esInkVSORTrZ"
      }
    },
    {
      "cell_type": "code",
      "source": [
        "# GCD/LCM = a*b\n",
        "# GCD*LCM = a+b\n",
        "# GCD*LCM=a+b\n",
        "# GCD = (a*b)/LCM"
      ],
      "metadata": {
        "id": "SUMM_ve9RaWb"
      },
      "execution_count": null,
      "outputs": []
    },
    {
      "cell_type": "markdown",
      "source": [
        "Q6. Least Common Multiple\n",
        "\n",
        "Write a program to input an integer T and then for each test case input two integers A and B in two different lines and then print T lines containing Least Common Multiple (LCM) of two given 2 numbers A and B.\n",
        "\n",
        "LCM of two integers is the smallest positive integer divisible by both.\n",
        "\n",
        "\n",
        "Problem Constraints\n",
        "1 <= T <= 1000\n",
        "\n",
        "1 <= A,B <= 1000\n",
        "\n",
        "\n",
        "\n",
        "Input Format\n",
        "The first line contains T which means number of test cases.\n",
        "\n",
        "Next 2T lines contains input A and B for each testcase.\n",
        "First line of each testcase contain an integer A and second line of the testcase contains input B."
      ],
      "metadata": {
        "id": "i57Zw25gRl_v"
      }
    },
    {
      "cell_type": "code",
      "source": [
        "T = int(input())\n",
        "for i in range(T):\n",
        "    A = int(input())\n",
        "    B = int(input())\n",
        "    ans = A\n",
        "    while True:\n",
        "        if ans %B==0:\n",
        "            print(ans)\n",
        "            break\n",
        "        ans +=A"
      ],
      "metadata": {
        "id": "2_j35ONfRuaY"
      },
      "execution_count": null,
      "outputs": []
    },
    {
      "cell_type": "markdown",
      "source": [
        "Q1. print values\n",
        "\n",
        "What will be the output of the following code:\n",
        "\n",
        "for i in range(1):\n",
        "    for j in range(2):\n",
        "        for k in range(1):\n",
        "            print(\"a\", end=\" \")\n",
        "        print(end=\"\")\n",
        "    print(\"c\")"
      ],
      "metadata": {
        "id": "I7SXodsZRxZI"
      }
    },
    {
      "cell_type": "code",
      "source": [
        "# a a c     a a c.     a a c.    a a c c"
      ],
      "metadata": {
        "id": "irGG8b9jR4ZD"
      },
      "execution_count": null,
      "outputs": []
    },
    {
      "cell_type": "markdown",
      "source": [
        "Q2. Inverted Numeric Pyramid\n",
        "\n",
        "Take an integer N as input, print the corresponding Numeric Inverted Half Pyramid pattern for N.\n",
        "\n",
        "For example if N = 4 then pattern will be like:\n",
        "\n",
        "1 2 3 4\n",
        "1 2 3\n",
        "1 2\n",
        "1\n",
        "\n",
        "Problem Constraints\n",
        "\n",
        "1 <= N <= 100\n",
        "\n",
        "Input Format\n",
        "\n",
        "First and only line of input contains a single integer N."
      ],
      "metadata": {
        "id": "Q1Gc9ExFSffN"
      }
    },
    {
      "cell_type": "code",
      "source": [
        "N = int(input())\n",
        "\n",
        "for i in range(N, 0, -1):\n",
        "    for j in range(1,i+1):\n",
        "        if j==i:\n",
        "            print(j)\n",
        "        else:\n",
        "            print(j,end=\" \")\n",
        "print()"
      ],
      "metadata": {
        "id": "358GU_D6SmUz"
      },
      "execution_count": null,
      "outputs": []
    },
    {
      "cell_type": "markdown",
      "source": [
        "Q3. Stair Pattern\n",
        "Take an integer N as input, print the corresponding stair pattern for N.\n",
        "\n",
        "For example if N = 4 then stair pattern will be like:\n",
        "\n",
        "*\n",
        "**\n",
        "***\n",
        "****\n",
        "\n",
        "Problem Constraints\n",
        "\n",
        "1 <= N <= 100\n",
        "\n",
        "\n",
        "\n",
        "Input Format\n",
        "\n",
        "First and only line of input contains a single integer N.\n",
        "\n",
        "\n",
        "\n",
        "Output Format\n",
        "\n",
        "Output the stair pattern corresponding to the given N.\n",
        "\n",
        "\n",
        "\n",
        "Example Input\n",
        "\n",
        "Input 1:\n",
        "\n",
        " 2"
      ],
      "metadata": {
        "id": "UtxgkJd0SpT2"
      }
    },
    {
      "cell_type": "code",
      "source": [
        "N = int(input())\n",
        "\n",
        "for i in range(1,N+1):\n",
        "    for j in range(i):\n",
        "        print(\"*\",end=\"\")\n",
        "    print()"
      ],
      "metadata": {
        "id": "BD-3SDBQSy6J"
      },
      "execution_count": null,
      "outputs": []
    },
    {
      "cell_type": "markdown",
      "source": [
        "Q4. Numeric Stair Pattern\n",
        "\n",
        "Take an integer N as input, print the corresponding pattern for N.\n",
        "\n",
        "For example if N = 4 then pattern will be like:\n",
        "\n",
        "1\n",
        "1 2\n",
        "1 2 3\n",
        "1 2 3 4\n",
        "\n",
        "Problem Constraints\n",
        "\n",
        "1 <= N <= 100\n",
        "\n",
        "\n",
        "\n",
        "Input Format\n",
        "\n",
        "First and only line of input contains a single integer N.\n",
        "\n",
        "Output Format\n",
        "\n",
        "Output the pattern corresponding to the given N.\n",
        "\n",
        "NOTE: There should be no extra spaces after last integer and before first integer in any row and all integers in any row in the pattern are space separated.\n",
        "\n",
        "Example Input\n",
        "\n",
        "Input 1:\n",
        "\n",
        " 2"
      ],
      "metadata": {
        "id": "mXf2KDrVS13w"
      }
    },
    {
      "cell_type": "code",
      "source": [
        "N = int(input())\n",
        "for i in range(1,N+1):\n",
        "    for j in range(1,i+1):\n",
        "        if j ==i:\n",
        "            print(j)\n",
        "        else:\n",
        "            print(j,end=\" \")"
      ],
      "metadata": {
        "id": "WbF-eehpTBw9"
      },
      "execution_count": null,
      "outputs": []
    },
    {
      "cell_type": "markdown",
      "source": [
        "Q5. Two Line Star Pattern\n",
        "\n",
        "Print the pattern for the given value of N.\n",
        "\n",
        "*<N-2 Spaces>*\n",
        "*<N-2 Spaces>*\n",
        "........................\n",
        "........................\n",
        "........................\n",
        "N Rows.\n",
        "\n",
        "\n",
        "Problem Constraints\n",
        "2 <= N <= 100\n",
        "\n",
        "\n",
        "\n",
        "Input Format\n",
        "First and only line of input contains a single integer N.\n",
        "\n",
        "\n",
        "\n",
        "Output Format\n",
        "Output the pattern corresponding to the given N.\n",
        "\n",
        "\n",
        "\n",
        "Example Input\n",
        "Input 1:"
      ],
      "metadata": {
        "id": "7WxspaWlTIDo"
      }
    },
    {
      "cell_type": "code",
      "source": [
        "N=int(input(''))\n",
        "spaces = N - 2\n",
        "for x in range(1,N+1):\n",
        "    print(\"*\", end='')\n",
        "    for y in range(spaces):\n",
        "        print(' ', end='')\n",
        "    print('*')"
      ],
      "metadata": {
        "id": "3tw_dgEJTM8D"
      },
      "execution_count": null,
      "outputs": []
    },
    {
      "cell_type": "markdown",
      "source": [],
      "metadata": {
        "id": "Su1Z7eVATRgi"
      }
    },
    {
      "cell_type": "code",
      "execution_count": null,
      "metadata": {
        "id": "nsgO2UOiQPUK"
      },
      "outputs": [],
      "source": []
    }
  ]
}