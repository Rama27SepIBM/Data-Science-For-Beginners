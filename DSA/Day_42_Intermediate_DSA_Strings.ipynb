{
  "nbformat": 4,
  "nbformat_minor": 0,
  "metadata": {
    "colab": {
      "provenance": [],
      "authorship_tag": "ABX9TyMVkGcYMEISOpzE/ZngXOIf",
      "include_colab_link": true
    },
    "kernelspec": {
      "name": "python3",
      "display_name": "Python 3"
    },
    "language_info": {
      "name": "python"
    }
  },
  "cells": [
    {
      "cell_type": "markdown",
      "metadata": {
        "id": "view-in-github",
        "colab_type": "text"
      },
      "source": [
        "<a href=\"https://colab.research.google.com/github/Rama27SepIBM/21DaysOfLeetcode/blob/main/Day_42_Intermediate_DSA_Strings.ipynb\" target=\"_parent\"><img src=\"https://colab.research.google.com/assets/colab-badge.svg\" alt=\"Open In Colab\"/></a>"
      ]
    },
    {
      "cell_type": "markdown",
      "source": [
        "Q1. tolower()\n",
        "\n",
        "You are given a function to_lower() which takes a character array A as an argument.\n",
        "\n",
        "Convert each character of A into lowercase characters if it exists. If the lowercase of a character does not exist, it remains unmodified.\n",
        "The uppercase letters from A to Z are converted to lowercase letters from a to z respectively.\n",
        "\n",
        "Return the lowercase version of the given character array."
      ],
      "metadata": {
        "id": "qWrHEgHiiFJo"
      }
    },
    {
      "cell_type": "code",
      "source": [
        "class Solution:\n",
        "    # @param A : list of characters\n",
        "    # @return a list of characters\n",
        "    def to_lower(self, A):\n",
        "        n = len(A)\n",
        "        for i in range(n):\n",
        "            if ord(A[i]) >= 65 and ord(A[i])<=90:\n",
        "                A[i] = chr(ord(A[i]) + 32)\n",
        "\n",
        "        return A  "
      ],
      "metadata": {
        "id": "H6ngoQStiNVx"
      },
      "execution_count": null,
      "outputs": []
    },
    {
      "cell_type": "markdown",
      "source": [
        "Q2. toupper()\n",
        "\n",
        "You are given a function to_upper() consisting of a character array A.\n",
        "\n",
        "Convert each charater of A into Uppercase character if it exists. If the Uppercase of a character does not exist, it remains unmodified.\n",
        "The lowercase letters from a to z is converted to uppercase letters from A to Z respectively.\n",
        "\n",
        "Return the uppercase version of the given character array."
      ],
      "metadata": {
        "id": "2pRutPfpiQqT"
      }
    },
    {
      "cell_type": "code",
      "source": [
        "class Solution:\n",
        "    # @param A : list of characters\n",
        "    # @return a list of characters\n",
        "    def to_upper(self, A):\n",
        "        for i in range(len(A)):\n",
        "            if A[i].isalpha():\n",
        "                if A[i].islower():\n",
        "                    A[i] = A[i].upper()\n",
        "        return A"
      ],
      "metadata": {
        "id": "mXetr5-ziYZC"
      },
      "execution_count": null,
      "outputs": []
    },
    {
      "cell_type": "markdown",
      "source": [
        "Q3. Toggle Case\n",
        "\n",
        "You are given a character string A having length N, consisting of only lowercase and uppercase latin letters.\n",
        "\n",
        "You have to toggle case of each character of string A. For e.g 'A' is changed to 'a', 'e' is changed to 'E', etc."
      ],
      "metadata": {
        "id": "9B0_0AqdjdU7"
      }
    },
    {
      "cell_type": "code",
      "source": [
        "lass Solution:\n",
        "    # @param A : string\n",
        "    # @return a strings\n",
        "    def solve(self, A):\n",
        "        return A.swapcase()"
      ],
      "metadata": {
        "id": "2Z__8q9CjhbM"
      },
      "execution_count": null,
      "outputs": []
    },
    {
      "cell_type": "markdown",
      "source": [
        "Q4. Count Sort\n",
        "\n",
        "Given an array A. Sort this array using Count Sort Algorithm and return the sorted array."
      ],
      "metadata": {
        "id": "40ER5ZY1kOvy"
      }
    },
    {
      "cell_type": "code",
      "source": [
        "class Solution:\n",
        "    # @param A : list of integers\n",
        "    # @return a list of integers\n",
        "    def solve(self, A):\n",
        "        max_val = max(A)\n",
        "        output=[]\n",
        "        count = [0] * (max_val + 1)\n",
        "        for elem in A:\n",
        "            count[elem] += 1\n",
        "        for i in range(max_val+1):\n",
        "            for j in range(count[i]):\n",
        "                output.append(i)\n",
        "\n",
        "            \n",
        "        return output"
      ],
      "metadata": {
        "id": "Cbd_a1bRkVNs"
      },
      "execution_count": null,
      "outputs": []
    },
    {
      "cell_type": "markdown",
      "source": [
        "Q5. Simple Reverse\n",
        "\n",
        "Given a string A, you are asked to reverse the string and return the reversed string."
      ],
      "metadata": {
        "id": "bgV-Y-TPkaI6"
      }
    },
    {
      "cell_type": "code",
      "source": [
        "class Solution:\n",
        "    # @param A : string\n",
        "    # @return a strings\n",
        "    def solve(self, A):\n",
        "        reversed_string = ''.join(reversed(A))\n",
        "        reversed_string = A[::-1]\n",
        "        return reversed_string"
      ],
      "metadata": {
        "id": "RQWgjunykpWQ"
      },
      "execution_count": null,
      "outputs": []
    },
    {
      "cell_type": "markdown",
      "source": [
        "Q6. Reverse the String\n",
        "\n",
        "You are given a string A of size N.\n",
        "\n",
        "Return the string A after reversing the string word by word.\n",
        "\n",
        "NOTE:\n",
        "\n",
        "A sequence of non-space characters constitutes a word.\n",
        "Your reversed string should not contain leading or trailing spaces, even if it is present in the input string.\n",
        "If there are multiple spaces between words, reduce them to a single space in the reversed string."
      ],
      "metadata": {
        "id": "uOywY1eIks3w"
      }
    },
    {
      "cell_type": "code",
      "source": [
        "class Solution:\n",
        "    # @param A : string\n",
        "    # @return a strings\n",
        "    def solve(self, A):\n",
        "        words = A.split()\n",
        "        words = words[::-1]\n",
        "        reversed_string = ' '.join(words)\n",
        "        reversed_string = reversed_string.strip()\n",
        "        return reversed_string"
      ],
      "metadata": {
        "id": "5tV5b0QBk3Li"
      },
      "execution_count": null,
      "outputs": []
    },
    {
      "cell_type": "markdown",
      "source": [
        "Q7. Longest Palindromic Substring\n",
        "\n",
        "Given a string A of size N, find and return the longest palindromic substring in A.\n",
        "\n",
        "Substring of string A is A[i...j] where 0 <= i <= j < len(A)\n",
        "\n",
        "Palindrome string:\n",
        "A string which reads the same backwards. More formally, A is palindrome if reverse(A) = A.\n",
        "\n",
        "Incase of conflict, return the substring which occurs first ( with the least starting index)."
      ],
      "metadata": {
        "id": "UCkCrGw9k6vG"
      }
    },
    {
      "cell_type": "code",
      "source": [
        "def expandAroundCenter(left, right):\n",
        "            while left >= 0 and right < n and A[left] == A[right]:\n",
        "                left -= 1\n",
        "                right += 1\n",
        "            return right - left - 1\n",
        "        n = len(A)\n",
        "        if n < 2:\n",
        "            return len(A)\n",
        "        start, end = 0, 0\n",
        "        \n",
        "class Solution:\n",
        "\t# @param A : string\n",
        "\t# @return a strings\n",
        "\tdef longestPalindrome(self, A):\n",
        "        \n",
        "        for i in range(n):\n",
        "            len1 = expandAroundCenter(i, i)\n",
        "            len2 = expandAroundCenter(i, i + 1)\n",
        "            max_len = max(len1, len2)\n",
        "            if max_len > end - start:\n",
        "                start = i - (max_len - 1) // 2\n",
        "                end = i + max_len // 2\n",
        "            return A[start:end+1]"
      ],
      "metadata": {
        "id": "9toFNJzZlDHV"
      },
      "execution_count": null,
      "outputs": []
    },
    {
      "cell_type": "markdown",
      "source": [
        "Q1. Longest Common Prefix\n",
        "\n",
        "Given the array of strings A, you need to find the longest string S, which is the prefix of ALL the strings in the array.\n",
        "\n",
        "The longest common prefix for a pair of strings S1 and S2 is the longest string S which is the prefix of both S1 and S2.\n",
        "\n",
        "Example: the longest common prefix of \"abcdefgh\" and \"abcefgh\" is \"abc\"."
      ],
      "metadata": {
        "id": "uJtCHrfZnAJV"
      }
    },
    {
      "cell_type": "code",
      "source": [
        "class Solution:\n",
        "\t# @param A : list of strings\n",
        "\t# @return a strings\n",
        "\tdef longestCommonPrefix(self, A):\n",
        "        n=len(A)\n",
        "        if n<1: \n",
        "            return \"\"\n",
        "        ans=A[0]\n",
        "        max_var=len(ans)\n",
        "        for i in range(1,n):\n",
        "            j=0\n",
        "            while j < min(max_var,len(A[i])):\n",
        "                if ans[j]!=A[i][j]:\n",
        "                    break\n",
        "                j+=1\n",
        "            if j<max_var:\n",
        "                ans=ans[:j]\n",
        "                max_var=j\n",
        "        return ans"
      ],
      "metadata": {
        "id": "wxk3jYdurLIL"
      },
      "execution_count": null,
      "outputs": []
    },
    {
      "cell_type": "markdown",
      "source": [
        "Q2. Isalnum()\n",
        "\n",
        "You are given a function isalpha() consisting of a character array A.\n",
        "\n",
        "Return 1 if all the characters of a character array are alphanumeric (a-z, A-Z, and 0-9) else, return 0."
      ],
      "metadata": {
        "id": "CBYccqlFrQI_"
      }
    },
    {
      "cell_type": "code",
      "source": [
        "class Solution:\n",
        "    # @param A : list of characters\n",
        "    # @return an integer\n",
        "    def solve(self, A):\n",
        "        for ch in A:\n",
        "            if not ch.isalnum():\n",
        "                return 0\n",
        "        return 1"
      ],
      "metadata": {
        "id": "lULf5aD_rds6"
      },
      "execution_count": null,
      "outputs": []
    },
    {
      "cell_type": "markdown",
      "source": [
        "Q3. String operations\n",
        "\n",
        "Akash likes playing with strings. One day he thought of applying following operations on the string in the given order:\n",
        "\n",
        "Concatenate the string with itself.\n",
        "Delete all the uppercase letters.\n",
        "Replace each vowel with '#'.\n",
        "You are given a string A of size N consisting of lowercase and uppercase alphabets. Return the resultant string after applying the above operations.\n",
        "\n",
        "NOTE: 'a' , 'e' , 'i' , 'o' , 'u' are defined as vowels."
      ],
      "metadata": {
        "id": "wW8zqZrhrqch"
      }
    },
    {
      "cell_type": "code",
      "source": [
        "class Solution:\n",
        "    # @param A : string\n",
        "    # @return a strings\n",
        "    def solve(self, A):\n",
        "        A = A + A\n",
        "        A = ''.join([c for c in A if c.islower()])\n",
        "        A = ''.join(['#' if c in 'aeiou' else c for c in A])\n",
        "        return A"
      ],
      "metadata": {
        "id": "3ud29WDbr3-w"
      },
      "execution_count": null,
      "outputs": []
    },
    {
      "cell_type": "markdown",
      "source": [
        "Q4. Change character\n",
        "\n",
        "You are given a string A of size N consisting of lowercase alphabets.\n",
        "\n",
        "You can change at most B characters in the given string to any other lowercase alphabet such that the number of distinct characters in the string is minimized.\n",
        "\n",
        "Find the minimum number of distinct characters in the resulting string."
      ],
      "metadata": {
        "id": "U3_tPS8asBWR"
      }
    },
    {
      "cell_type": "code",
      "source": [
        "class Solution:\n",
        "    # @param A : string\n",
        "    # @param B : integer\n",
        "    # @return an integer\n",
        "    def solve(self, A, B):\n",
        "        n = len(A)\n",
        "        arr = [0]*26\n",
        "        ans = 0\n",
        "        for i in A:\n",
        "            arr[ord(i)-97] += 1\n",
        "            if(arr[ord(i)-97] == 1):\n",
        "                ans += 1\n",
        "        arr.sort()\n",
        "        for i in range(26):\n",
        "            if(B-arr[i] >= 0 and arr[i] != 0):\n",
        "                ans -= 1\n",
        "                B -= arr[i]\n",
        "        ans = max(ans, 1)\n",
        "        return ans "
      ],
      "metadata": {
        "id": "9xa839jNsFnz"
      },
      "execution_count": null,
      "outputs": []
    },
    {
      "cell_type": "markdown",
      "source": [
        "Q5. Count Occurrences\n",
        "\n",
        "Find the number of occurrences of bob in string A consisting of lowercase English alphabets."
      ],
      "metadata": {
        "id": "6Wdw5NizsI9F"
      }
    },
    {
      "cell_type": "code",
      "source": [
        "class Solution:\n",
        "    # @param A : string\n",
        "    # @return an integer\n",
        "    def solve(self, A):\n",
        "        sb = 'bob'\n",
        "        results = 0\n",
        "        sub_len = len(sb)\n",
        "        for i in range(len(A)):\n",
        "            if A[i:i+sub_len] == sb:\n",
        "                results += 1\n",
        "        return results"
      ],
      "metadata": {
        "id": "4PchNGCZsQGG"
      },
      "execution_count": null,
      "outputs": []
    },
    {
      "cell_type": "markdown",
      "source": [
        "Q6. Check anagrams\n",
        "\n",
        "You are given two lowercase strings A and B each of length N. Return 1 if they are anagrams to each other and 0 if not.\n",
        "\n",
        "Note : Two strings A and B are called anagrams to each other if A can be formed after rearranging the letters of B.\n"
      ],
      "metadata": {
        "id": "y3-Gh5WXsVYU"
      }
    },
    {
      "cell_type": "code",
      "source": [
        "class Solution:\n",
        "    # @param A : string\n",
        "    # @param B : string\n",
        "    # @return an integer\n",
        "    def solve(self, A, B):\n",
        "        charCountA = [0 for i in range(26)]\n",
        "        charCountB = [0 for i in range(26)]\n",
        "        for char in A:\n",
        "            charCountA[ord(char)-ord('a')]+=1\n",
        "        for char in B:\n",
        "            charCountB[ord(char)-ord('a')]+=1\n",
        "        for i in range(26):\n",
        "            if charCountA[i] != charCountB[i]:\n",
        "                return 0\n",
        "\n",
        "        return 1"
      ],
      "metadata": {
        "id": "QrOIVBvqsca1"
      },
      "execution_count": null,
      "outputs": []
    },
    {
      "cell_type": "markdown",
      "source": [
        "Q7. Add Binary Strings\n",
        "\n",
        "Given two binary strings A and B. Return their sum (also a binary string)."
      ],
      "metadata": {
        "id": "-SB4FASUsiPP"
      }
    },
    {
      "cell_type": "code",
      "source": [
        "class Solution:\n",
        "\t# @param A : string\n",
        "\t# @param B : string\n",
        "\t# @return a strings\n",
        "\tdef addBinary(self, A, B):\n",
        "        result = ''\n",
        "        carry_over = 0\n",
        "        for i in range(max(len(A), len(B))):\n",
        "            \n",
        "            if i < len(A):\n",
        "                a = int(A[-(i+1)])\n",
        "            else: \n",
        "                a=0\n",
        "            if i < len(B):\n",
        "                b = int(B[-(i+1)])\n",
        "            else: \n",
        "                b=0\n",
        "            s = a + b + carry_over\n",
        "            result = str(s % 2) + result\n",
        "            carry_over = s // 2\n",
        "        if carry_over:\n",
        "            result = '1' + result\n",
        "        return result"
      ],
      "metadata": {
        "id": "u6Yb_NSRsuAB"
      },
      "execution_count": null,
      "outputs": []
    },
    {
      "cell_type": "code",
      "execution_count": null,
      "metadata": {
        "id": "MQPKCd0Qh2LR"
      },
      "outputs": [],
      "source": []
    }
  ]
}