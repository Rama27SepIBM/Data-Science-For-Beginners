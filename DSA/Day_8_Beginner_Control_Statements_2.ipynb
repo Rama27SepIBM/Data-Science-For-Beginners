{
  "nbformat": 4,
  "nbformat_minor": 0,
  "metadata": {
    "colab": {
      "provenance": [],
      "authorship_tag": "ABX9TyOR/HXDl+ar7IV/vxCEsY3h",
      "include_colab_link": true
    },
    "kernelspec": {
      "name": "python3",
      "display_name": "Python 3"
    },
    "language_info": {
      "name": "python"
    }
  },
  "cells": [
    {
      "cell_type": "markdown",
      "metadata": {
        "id": "view-in-github",
        "colab_type": "text"
      },
      "source": [
        "<a href=\"https://colab.research.google.com/github/Rama27SepIBM/21DaysOfLeetcode/blob/main/Day_8_Beginner_Control_Statements_2.ipynb\" target=\"_parent\"><img src=\"https://colab.research.google.com/assets/colab-badge.svg\" alt=\"Open In Colab\"/></a>"
      ]
    },
    {
      "cell_type": "code",
      "execution_count": null,
      "metadata": {
        "id": "pmbl5W7O3fTJ"
      },
      "outputs": [],
      "source": []
    },
    {
      "cell_type": "markdown",
      "source": [
        "Q1. Categorise the number\n",
        "\n",
        "Write a program to input a number(A) from user and print\n",
        "\n",
        "1 if it is positive,\n",
        "-1 if it is negative,\n",
        "0 if it's neither positive nor negative.\n",
        "\n",
        "Problem Constraints\n",
        "\n",
        "1 <= A <= 1000000\n",
        "Input Format\n",
        "One line containing an integer A.\n",
        "Output Format\n",
        "One line each 0/1/-1 as per the question."
      ],
      "metadata": {
        "id": "B8KIe69O3kqj"
      }
    },
    {
      "cell_type": "code",
      "source": [
        "A = int(input())\n",
        "if A > 0:\n",
        "    print(1)\n",
        "elif A < 0:\n",
        "    print(-1)\n",
        "else:\n",
        "    print(0)\n",
        "    # Please take input and print output to standard input/output (stdin/stdout)\n",
        "    # E.g. 'input()/raw_input()' for input & 'print' for outpu"
      ],
      "metadata": {
        "id": "yGIvQX2Q3zY8"
      },
      "execution_count": null,
      "outputs": []
    },
    {
      "cell_type": "markdown",
      "source": [
        "Q2. Your Favourite Programming Lanugage?\n",
        "\n",
        "Write a program that asks the user to input their favorite programming language and output a specific string based on their answer. Based on the user inputs these are the outputs to be shown to the user.\n",
        "\n",
        "Programming Language\t          Output\n",
        "Python or Java\t           Nice choice!\n",
        "Golang\t              You're a cool person I see..\n",
        "JavaScript\t       Okay so you are our web developer!\n",
        "C++\t                   Too old school...\n",
        "Anything else\t        I don't know that language.\n",
        "\n",
        "Note: The input will be case sensitive and exact as mentioned in the above list\n",
        "\n",
        "Input Format\n",
        "There is only 1 single line in the input, which is the string containing favorite programming language of the user.\n",
        "Output Format\n",
        "Output the relevant string from the table shown above."
      ],
      "metadata": {
        "id": "S4MaX76130z9"
      }
    },
    {
      "cell_type": "code",
      "source": [
        "fav = input()\n",
        "if fav == \"Python\" or fav == \"Java\":\n",
        "    print(\"Nice choice!\")\n",
        "elif fav == \"Golang\":\n",
        "    print(\"You're a cool person I see...\")\n",
        "elif fav == \"JavaScript\":\n",
        "    print(\"Okay so you are our web developer!\")\n",
        "elif fav == \"C++\":\n",
        "    print(\"Too old school...\")\n",
        "else:\n",
        "    print(\"I don't know that language.\")"
      ],
      "metadata": {
        "id": "AVNsfV495VOv"
      },
      "execution_count": null,
      "outputs": []
    },
    {
      "cell_type": "markdown",
      "source": [
        "Q3. Fizz Buzz\n",
        "\n",
        "Write a program that takes in a number N as input and does the following:\n",
        "\n",
        "if N is a multiple of 3, print Fizz\n",
        "if N is a multiple of 5, print Buzz\n",
        "if N is a multiple of both 3 and 5, print FizzBuzz\n",
        "Problem Constraints:\n",
        "\n",
        "1 <= N <= 1000\n",
        "\n",
        "Input Format\n",
        "\n",
        "There is only 1 single line in the input, which is the integer N.\n",
        "\n",
        "Output Format\n",
        "\n",
        "Print Fizz / Buzz / FizzBuzz depending on the value N."
      ],
      "metadata": {
        "id": "UCVmKm5S5WXp"
      }
    },
    {
      "cell_type": "code",
      "source": [
        "n = int(input())\n",
        "\n",
        "if n % 5 == 0 and n % 3 == 0:\n",
        "    print(\"FizzBuzz\")\n",
        "elif n % 5 == 0:\n",
        "    print(\"Buzz\")\n",
        "elif n % 3 == 0:\n",
        "    print(\"Fizz\")"
      ],
      "metadata": {
        "id": "qhBYaMdM5fGj"
      },
      "execution_count": null,
      "outputs": []
    },
    {
      "cell_type": "markdown",
      "source": [
        "Q4. Nested If Else Coding\n",
        "\n",
        "Write a program that asks the user to input a number N. If N is between 10 and 20, your program should ask the user to enter another number M and then:-\n",
        "\n",
        "Print the sum of the two numbers.\n",
        "If the sum is greater than equal to 100, your program should also print \"That is a large sum!\" on a new line.\n",
        "If N is not between 10 and 20, your program should print -1.\n",
        "Problem Constraints:\n",
        "\n",
        "1 <= N <= 100\n",
        "1 <= M <= 100\n",
        "Input Format\n",
        "\n",
        "The first line in the input is an integer N.\n",
        "If N is between 10 and 20 (both included), then the second line is there in the input containing another integer M."
      ],
      "metadata": {
        "id": "VkKDgatU5icz"
      }
    },
    {
      "cell_type": "code",
      "source": [
        "N = int(input())\n",
        "if 10 <= N <= 20:\n",
        "    M = int(input())\n",
        "    if N + M >= 100:\n",
        "        print (N + M)\n",
        "        print (\"That is a large sum!\")\n",
        "    else:\n",
        "        print (N + M)\n",
        "else:\n",
        "    print(-1)"
      ],
      "metadata": {
        "id": "G0fX5kBj5qfd"
      },
      "execution_count": null,
      "outputs": []
    },
    {
      "cell_type": "markdown",
      "source": [
        "Q5. Leap Year III\n",
        "\n",
        "Given an integer A representing an year, Return 1 if it is a leap year else return 0.\n",
        "\n",
        "A year is leap year if the following conditions are satisfied:\n",
        "\n",
        "Year is multiple of 400.\n",
        "Else the year is multiple of 4 and not multiple of 100.\n",
        "\n",
        "\n",
        "Problem Constraints\n",
        "1 <= A <= 109\n",
        "Input Format\n",
        "First and only argument is an integer A"
      ],
      "metadata": {
        "id": "T10EPbk15tOm"
      }
    },
    {
      "cell_type": "code",
      "source": [
        "year = int(input())\n",
        "if (year % 400 == 0): \n",
        "    print(1)\n",
        "elif (year % 4 == 0) and (year % 100 != 0):\n",
        "    print (1)\n",
        "else:\n",
        "    print(0)"
      ],
      "metadata": {
        "id": "6tcr5ase52n9"
      },
      "execution_count": null,
      "outputs": []
    },
    {
      "cell_type": "markdown",
      "source": [
        "Q6. Which condition?\n",
        "\n",
        "Which of the if-elif-else statements will get executed if the following code snippet is run?\n",
        "\n",
        "if False:                                       #1\n",
        "    print(\"Artificial Intelligence\")\n",
        "elif True:                                      #2\n",
        "    print(\"Machine Learning\")\n",
        "elif True:                                      #3\n",
        "    print(\"Data Science\")\n",
        "else:                                           #4\n",
        "    print(\"Deep Learning\")                      \n",
        "Mark the correct option."
      ],
      "metadata": {
        "id": "u4gmk0PO55op"
      }
    },
    {
      "cell_type": "code",
      "source": [
        "# 1.    2.      3.       4"
      ],
      "metadata": {
        "id": "XwXDCoEc6ArF"
      },
      "execution_count": null,
      "outputs": []
    },
    {
      "cell_type": "markdown",
      "source": [
        "Q7. Scaler. ML. Python. DS\n",
        "\n",
        "What would be the output of the following code:\n",
        "a = 1\n",
        "b = 0\n",
        "c = 1\n",
        "if (a and b):\n",
        "    print(\"Scaler is awesome\")\n",
        "elif (a and c):\n",
        "    print(\"ML is fun\")\n",
        "if (a and b and c):\n",
        "    print(\"Python is amazing\")\n",
        "if (a or b or c):\n",
        "    print(\"I love DS\")\n",
        "\n",
        "a.\n",
        "Scaler is awesome\n",
        "ML is fun\n",
        "Python is amazing\n",
        "I love DS\n",
        "\n",
        "b.\n",
        "ML is fun\n",
        "I love DS\n",
        "\n",
        "c.\n",
        "ML is fun\n",
        "Python is amazing\n",
        "I love DS\n",
        "\n",
        "d.\n",
        "No output"
      ],
      "metadata": {
        "id": "2KLL8lHx6Esr"
      }
    },
    {
      "cell_type": "code",
      "source": [
        "a.     b.      c.    d"
      ],
      "metadata": {
        "id": "tATkYo8n6hrh"
      },
      "execution_count": null,
      "outputs": []
    },
    {
      "cell_type": "markdown",
      "source": [
        "Q8. Nested If-Else\n",
        "\n",
        "Given the nested if-else structure below, what will be the value of \"a\" after code execution completes\n",
        "\n",
        "a = 4\n",
        "b = -5\n",
        "if a > 0:\n",
        "    if b < 0:\n",
        "        a = a - 2 \n",
        "    elif a > 5:\n",
        "        a = a - 4\n",
        "    else:\n",
        "        a = a + 3\n",
        "else:\n",
        "    b = b + 2"
      ],
      "metadata": {
        "id": "T-33B6Lj6t6W"
      }
    },
    {
      "cell_type": "code",
      "source": [
        "# 2.      0.        7.      4"
      ],
      "metadata": {
        "id": "zxRJZ02q699L"
      },
      "execution_count": null,
      "outputs": []
    },
    {
      "cell_type": "markdown",
      "source": [
        "Q9. Type of triangles\n",
        "\n",
        "Complete the code snippet in order to classify the triangle into equilateral, isosceles, and scalene on the basis of its sides a, b and c.\n",
        "\n",
        "if (a==b __1__ a==c) and b==c:\n",
        "  print(\"equilateral\")\n",
        "elif a==b __2__ b==c or c==a:\n",
        "  print(\"isosceles\")\n",
        "else:\n",
        "  print('scalene')\n",
        "Which of the options can be placed at the first blank __1__ and the second blank __2__ to get the correct output?"
      ],
      "metadata": {
        "id": "rxAZsJC27Bbl"
      }
    },
    {
      "cell_type": "code",
      "source": [
        "#.  1 = and, 2 = or.     1 = or, 2 = and.    1 = and, 2 = and.   1 = or, 2 = or"
      ],
      "metadata": {
        "id": "WDS0rbtz7Lf4"
      },
      "execution_count": null,
      "outputs": []
    },
    {
      "cell_type": "markdown",
      "source": [
        "Q1. Music Certification\n",
        "\n",
        "A programmer for a music company is developing a program to determine the highest level of certification for an album.\n",
        "The program needs to follow this table of thresholds for each certification level:\n",
        "\n",
        "Minimum albums       sold\tCertification\n",
        "500000 (5*105)\t     gold\n",
        "1000000 (106)\t       platinum\n",
        "10000000 (107\t       diamond\n",
        "\n",
        "Given the albums sold(N) as input, print the certification for the album.\n",
        "Problem Constraints:\n",
        "\n",
        "1 <= N <= 109\n",
        "Input Format\n",
        "There is only 1 single line in the input, which is the integer denoting the no. of albums sold.\n",
        "Output Format\n",
        "Output the certification either diamond, platinum or gold.\n",
        "If no certification, print None."
      ],
      "metadata": {
        "id": "UPRMbScP7U5_"
      }
    },
    {
      "cell_type": "code",
      "source": [
        "A=int(input())\n",
        "\n",
        "if A >=10000000:\n",
        "    print(\"diamond\")\n",
        "elif A>=1000000:\n",
        "    print(\"platinum\")\n",
        "elif A>=500000:\n",
        "    print(\"gold\")\n",
        "else:\n",
        "    print(\"None\")"
      ],
      "metadata": {
        "id": "xj6u4sqb7z6B"
      },
      "execution_count": null,
      "outputs": []
    },
    {
      "cell_type": "markdown",
      "source": [
        "Q2. Pac-man\n",
        "\n",
        "In this exercise, you need to implement some rules from Pac-Man, the classic 1980s-era arcade-game.\n",
        "\n",
        "You have to answer whether the Pac-Man loses or not.\n",
        "\n",
        "Your are given the following integer inputs (0 / 1) one in each line:\n",
        "\n",
        "1. Does the Pac-Man have a power pellect active?\n",
        "\n",
        "2. Is the Pac-Man touching a ghost?\n",
        "\n",
        "The Pac-Man loses if it is touching a ghost and does not have a power pellet active.\n",
        "\n"
      ],
      "metadata": {
        "id": "h2etoGeu8eb_"
      }
    },
    {
      "cell_type": "code",
      "source": [
        "powerPelletActive = int(input())\n",
        "touchingGost = int(input())\n",
        "if(powerPelletActive == False and touchingGost == True):\n",
        "        print(1)\n",
        "else:\n",
        "        print(0)"
      ],
      "metadata": {
        "id": "TDNTChuJ8p0N"
      },
      "execution_count": null,
      "outputs": []
    },
    {
      "cell_type": "markdown",
      "source": [
        "Q3. Coding Rating\n",
        "\n",
        "Write a program to input from user an integer(A) representing the rating of a person on a platform.\n",
        "\n",
        "You have to print the category of that person.\n",
        "\n",
        "If the rating is greater than or equal to 2100 then that person is \"grand master\".\n",
        "If the rating is greater than or equal to 1900 then that person is \"candidate master\".\n",
        "If the rating is greater than or equal to 1600 then that person is \"expert\".\n",
        "If the rating is greater than or equal to 1400 then that person is \"pupil\".\n",
        "If the rating is smaller than 1400 then that person is \"newbie\".\n",
        "NOTE: Print all the chars of the category of the person in lowercase if rating is odd otherwise print in UPPERCASE\n",
        "\n",
        "Problem Constraints\n",
        "1000 <= A <= 2500\n",
        "\n",
        "Input Format\n",
        "One line containing an integerA.\n",
        "Output Format\n",
        "A string representing the category of the person"
      ],
      "metadata": {
        "id": "UDqwvswk8qt2"
      }
    },
    {
      "cell_type": "code",
      "source": [
        "rating = int(input())\n",
        "if(rating >= 2100):\n",
        "  if(rating %2==0):\n",
        "    print(\"GRAND MASTER\")\n",
        "  else:\n",
        "    print(\"grand master\") \n",
        "elif(rating >= 1900 and rating < 2100):\n",
        "  if(rating %2 == 0):\n",
        "    print(\"CANDIDATE MASTER\")\n",
        "  else:\n",
        "    print(\"candidate master\")\n",
        "elif(rating >= 1600 and rating < 1900):\n",
        "  if(rating %2==0):\n",
        "    print(\"EXPERT\")\n",
        "  else:\n",
        "    print(\"expert\") \n",
        "elif(rating >= 1400 and rating < 1600):\n",
        "  if(rating %2 == 0):\n",
        "    print(\"PUPIL\")\n",
        "  else:\n",
        "    print(\"pupil\")\n",
        "else:\n",
        "    if(rating %2 == 0):\n",
        "      print(\"NEWBIE\")\n",
        "    else:\n",
        "      print(\"newbie\")"
      ],
      "metadata": {
        "id": "PtivCWEJ81o0"
      },
      "execution_count": null,
      "outputs": []
    },
    {
      "cell_type": "markdown",
      "source": [
        "Q4. Which Month?\n",
        "\n",
        "Write a program to input an integer(A) from user and print the Ath month of the year.\n",
        "\n",
        "Months list: {January, February, March, April, May, June, July, August, September, October, November, December}\n",
        "\n",
        "\n",
        "Problem Constraints\n",
        "1 <= A <= 12\n",
        "\n",
        "Input Format\n",
        "One line containing an integer integer A.\n",
        "\n",
        "Output Format\n",
        "One line containing the Ath month of the year."
      ],
      "metadata": {
        "id": "vonIO6pW85ac"
      }
    },
    {
      "cell_type": "code",
      "source": [
        "A=int(input())\n",
        "if A==1:\n",
        "    print (\"January\")\n",
        "\n",
        "if A==2:\n",
        "    print(\"February\")\n",
        "if A==3:\n",
        "    print (\"March\")\n",
        "\n",
        "if A==4:\n",
        "    print(\"April\")\n",
        "\n",
        "if A==5:\n",
        "    print (\"May\")\n",
        "\n",
        "if A==6:\n",
        "    print(\"June\")\n",
        "\n",
        "if A==7:\n",
        "    print (\"July\")\n",
        "\n",
        "if A==8:\n",
        "    print(\"August\")\n",
        "\n",
        "if A==9:\n",
        "    print (\"September\")\n",
        "\n",
        "if A==10:\n",
        "    print(\"October\")\n",
        "if A==11:\n",
        "    print (\"November\")\n",
        "\n",
        "if A==12:\n",
        "    print(\"December\")"
      ],
      "metadata": {
        "id": "jMNJ1gJB9EmN"
      },
      "execution_count": null,
      "outputs": []
    },
    {
      "cell_type": "markdown",
      "source": [
        "Q5. Days In Month\n",
        "\n",
        "You are given an integer A.\n",
        "\n",
        "You have to tell how many days are there in the month denoted by A in a non-leap year.\n",
        "\n",
        "Months are denoted as follows:\n",
        "\n",
        "January : 1\n",
        "February : 2\n",
        "March : 3\n",
        "April : 4\n",
        "May : 5\n",
        "June : 6\n",
        "July : 7\n",
        "August : 8\n",
        "September : 9\n",
        "October : 10\n",
        "November : 11\n",
        "December : 12\n",
        "\n",
        "Problem Constraints\n",
        "1 <= A <= 12\n",
        "\n",
        "Input Format\n",
        "The input contains a single integer A.\n",
        "\n",
        "Output Format\n",
        "Print a single integer denoting the number of days on a single line."
      ],
      "metadata": {
        "id": "YJ2V_riq9IoP"
      }
    },
    {
      "cell_type": "code",
      "source": [
        "A = int(input())\n",
        "\n",
        "if A == 1:\n",
        "    print(31)\n",
        "if A == 2:\n",
        "    print(28)\n",
        "if A == 3:\n",
        "    print(31)\n",
        "if A == 4:\n",
        "    print(30)\n",
        "if A == 5:\n",
        "    print(31)\n",
        "if A == 6:\n",
        "    print(30)\n",
        "if A == 7:\n",
        "    print(31)\n",
        "if A == 8:\n",
        "    print(31)\n",
        "if A == 9:\n",
        "    print(30)\n",
        "if A == 10:\n",
        "    print(31)\n",
        "if A == 11:\n",
        "    print(30)\n",
        "if A == 12:\n",
        "    print(31)"
      ],
      "metadata": {
        "id": "6VaKpvTs9XWs"
      },
      "execution_count": null,
      "outputs": []
    },
    {
      "cell_type": "markdown",
      "source": [
        "Q6. Max of three\n",
        "\n",
        "Write a program to input three numbers(A, B & C) from user and print the maximum element among A, B & C in each line.\n",
        "\n",
        "Problem Constraints\n",
        "1 <= A <= 1000000\n",
        "1 <= B <= 1000000\n",
        "1 <= C <= 1000000\n",
        "\n",
        "Input Format\n",
        "First line is a single integer A.\n",
        "Second line is a single integer B.\n",
        "Third line is a single integer C.\n",
        "\n",
        "Output Format\n",
        "One line containing an integer as per the question.\n",
        "\n",
        "Example Input\n",
        "Input 1:\n",
        "\n",
        "5 6 7"
      ],
      "metadata": {
        "id": "s1hA34zZ9b_M"
      }
    },
    {
      "cell_type": "code",
      "source": [
        "A=int(input())\n",
        "B=int(input())\n",
        "C=int(input())\n",
        "if(A>B and A>C):\n",
        "    print(A)\n",
        "elif(B>C ):\n",
        "    print(B)\n",
        "else:\n",
        "    print(C)"
      ],
      "metadata": {
        "id": "HPYRsxx59rMi"
      },
      "execution_count": null,
      "outputs": []
    },
    {
      "cell_type": "markdown",
      "source": [
        "Q7. Min of three\n",
        "\n",
        "Write a program to input three numbers(A, B & C) from user and print the minimum element among A, B & C.\n",
        "\n",
        "Problem Constraints\n",
        "1 <= A <= 1000000\n",
        "1 <= B <= 1000000\n",
        "1 <= C <= 1000000\n",
        "\n",
        "\n",
        "Input Format\n",
        "First line is a single integer A.\n",
        "Second line is a single integer B.\n",
        "Third line is a single integer C.\n",
        "\n",
        "Output Format\n",
        "One line containing an integer as per the question."
      ],
      "metadata": {
        "id": "ILX_nr2T9y9p"
      }
    },
    {
      "cell_type": "code",
      "source": [
        "A=int(input())\n",
        "B=int(input())\n",
        "C=int(input())\n",
        "\n",
        "if A<B and  A<C:\n",
        "    print(A)\n",
        "elif B<C:\n",
        "    print(B)\n",
        "else:\n",
        "    print(C)"
      ],
      "metadata": {
        "id": "2MHqatqw-BAQ"
      },
      "execution_count": null,
      "outputs": []
    },
    {
      "cell_type": "markdown",
      "source": [
        "Q8. If Boolean\n",
        "\n",
        "What will be the output of the following code:\n",
        "\n",
        "if False:\n",
        "  print(\"1\")\n",
        "elif True:\n",
        "  print(\"2\")\n",
        "elif True:\n",
        "  print(\"3\")\n",
        "else:\n",
        "  print(\"4\")"
      ],
      "metadata": {
        "id": "vp-hEkT8-Bub"
      }
    },
    {
      "cell_type": "code",
      "source": [
        "#. 1.     2.      3.      4"
      ],
      "metadata": {
        "id": "nI6Jfotu-IkQ"
      },
      "execution_count": null,
      "outputs": []
    },
    {
      "cell_type": "markdown",
      "source": [],
      "metadata": {
        "id": "iI3Hxh1B-Ojs"
      }
    }
  ]
}