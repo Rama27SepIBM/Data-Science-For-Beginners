{
  "nbformat": 4,
  "nbformat_minor": 0,
  "metadata": {
    "colab": {
      "provenance": [],
      "authorship_tag": "ABX9TyNw/BpWrXRZ9A96K5KDUg4q",
      "include_colab_link": true
    },
    "kernelspec": {
      "name": "python3",
      "display_name": "Python 3"
    },
    "language_info": {
      "name": "python"
    }
  },
  "cells": [
    {
      "cell_type": "markdown",
      "metadata": {
        "id": "view-in-github",
        "colab_type": "text"
      },
      "source": [
        "<a href=\"https://colab.research.google.com/github/Rama27SepIBM/21DaysOfLeetcode/blob/main/Day_31_Intermediate_DSA_Arrays_Prefix_Sum.ipynb\" target=\"_parent\"><img src=\"https://colab.research.google.com/assets/colab-badge.svg\" alt=\"Open In Colab\"/></a>"
      ]
    },
    {
      "cell_type": "markdown",
      "source": [
        "Q1. Prefix Sum Formula\n",
        "The prefix sum formula for an array A of N integers is given by :-"
      ],
      "metadata": {
        "id": "1MlpHQjI3cJ0"
      }
    },
    {
      "cell_type": "code",
      "execution_count": null,
      "metadata": {
        "id": "-Klj8ijT3XY-"
      },
      "outputs": [],
      "source": [
        "# prefSum[i] = prefSum[i] + A[i]\n",
        "# prefSum[i] = prefSum[i - 1] + A[i]\n",
        "# prefSum[i - 1] = prefSum[i] + A[i]\n",
        "# prefSum[i - 1] = prefSum[i - 1] + A[i]"
      ]
    },
    {
      "cell_type": "markdown",
      "source": [
        "Q2. Time Complexity of Prefix Sum\n",
        "\n",
        "What is the time complexity of creating the prefix sum array of an array A of N integers ?"
      ],
      "metadata": {
        "id": "P_NoDInm3yUy"
      }
    },
    {
      "cell_type": "code",
      "source": [
        "# O(1) O(N) O(N^2) O(N^3)"
      ],
      "metadata": {
        "id": "dq6xY9Xp35Z2"
      },
      "execution_count": null,
      "outputs": []
    },
    {
      "cell_type": "markdown",
      "source": [
        "Q3. Range Sum Query\n",
        "\n",
        "\n",
        "You are given an integer array A of length N.\n",
        "You are also given a 2D integer array B with dimensions M x 2, where each row denotes a [L, R] query.\n",
        "For each query, you have to find the sum of all elements from L to R indices in A (0 - indexed).\n",
        "More formally, find A[L] + A[L + 1] + A[L + 2] +... + A[R - 1] + A[R] for each query."
      ],
      "metadata": {
        "id": "QUy7l3IJK9u8"
      }
    },
    {
      "cell_type": "code",
      "source": [
        "lass Solution:\n",
        "    # @param A : list of integers\n",
        "    # @param B : list of list of integers\n",
        "     # @return an list of long\n",
        "    def rangeSum(self, A, B):\n",
        "        n=len(A)\n",
        "        p=[0]*n\n",
        "        p[0]=A[0]\n",
        "        for i in range(1 , n):\n",
        "            p[i]=p[i-1] + A[i]\n",
        "\n",
        "        result=[]\n",
        "        for i in range(len(B)):\n",
        "\n",
        "            l=B[i][0]-1\n",
        "            r=B[i][1]-1\n",
        "            sum1=p[r]\n",
        "\n",
        "            if l>0:\n",
        "                sum1-=p[l-1]\n",
        "            result.append(sum1)\n",
        "        \n",
        "        return result"
      ],
      "metadata": {
        "id": "UBIZ_nSeLCwB"
      },
      "execution_count": null,
      "outputs": []
    },
    {
      "cell_type": "markdown",
      "source": [
        "Q4. In-place Prefix Sum\n",
        "\n",
        "Given an array A of N integers. Construct prefix sum of the array in the given array itself."
      ],
      "metadata": {
        "id": "v4xo9nA5LGze"
      }
    },
    {
      "cell_type": "code",
      "source": [
        "class Solution:\n",
        "    # @param A : list of integers\n",
        "    # @return a list of integers\n",
        "    def solve(self, A):\n",
        "        n=len(A)\n",
        "        for i in range(1,n):\n",
        "\n",
        "            A[i] = A[i] + A[i-1]\n",
        "\n",
        "        return A"
      ],
      "metadata": {
        "id": "zPqQ6BpbLMdp"
      },
      "execution_count": null,
      "outputs": []
    },
    {
      "cell_type": "markdown",
      "source": [
        "Q5. Equilibrium index of an array\n",
        "\n",
        "You are given an array A of integers of size N.\n",
        "\n",
        "Your task is to find the equilibrium index of the given array\n",
        "\n",
        "The equilibrium index of an array is an index such that the sum of elements at lower indexes is equal to the sum of elements at higher indexes.\n",
        "\n",
        "If there are no elements that are at lower indexes or at higher indexes, then the corresponding sum of elements is considered as 0.\n",
        "\n",
        "Note:\n",
        "\n",
        "Array indexing starts from 0.\n",
        "If there is no equilibrium index then return -1.\n",
        "If there are more than one equilibrium indexes then return the minimum index."
      ],
      "metadata": {
        "id": "j6KWrdUFLQX7"
      }
    },
    {
      "cell_type": "code",
      "source": [
        "class Solution:\n",
        "    # @param A : list of integers\n",
        "    # @return an integer\n",
        "    def solve(self, A):\n",
        "        leftsum = 0\n",
        "        rightsum = 0\n",
        "        n=len(A)\n",
        "        ps=[0] * n\n",
        "        ps[0] = A[0]\n",
        "        for i in range (1,n):\n",
        "            ps[i]= ps[i-1]+A[i]\n",
        "        for i in range(len(A)):\n",
        "            #leftsum += A[j]\n",
        "            #comment\n",
        "            rightsum = ps[n-1]- ps[i]\n",
        "            \n",
        "            if leftsum == rightsum:\n",
        "                return i\n",
        "            leftsum += A[i]\n",
        "        return -1"
      ],
      "metadata": {
        "id": "-dbPuu4LLXXV"
      },
      "execution_count": null,
      "outputs": []
    },
    {
      "cell_type": "markdown",
      "source": [
        "Q6. Even numbers in a range\n",
        "\n",
        "You are given an array A of length N and Q queries given by the 2D array B of size Q×2.\n",
        "\n",
        "Each query consists of two integers B[i][0] and B[i][1].\n",
        "\n",
        "For every query, your task is to find the count of even numbers in the range from A[B[i][0]] to A[B[i][1]]."
      ],
      "metadata": {
        "id": "I_ZqSfvXLbN8"
      }
    },
    {
      "cell_type": "code",
      "source": [
        "class Solution:\n",
        "    # @param A : list of integers\n",
        "    # @param B : list of list of integers\n",
        "    # @return a list of integers\n",
        "    def solve(self, A, B):\n",
        "        n = len(A)\n",
        "        p = [0] * n\n",
        "        \n",
        "        if A[0] % 2 == 0:\n",
        "            p[0] = 1\n",
        "        \n",
        "        for i in range(1, n):\n",
        "            if A[i] % 2 == 0:\n",
        "                p[i] = p[i - 1] + 1\n",
        "            else:\n",
        "                p[i] = p[i - 1]"
      ],
      "metadata": {
        "id": "kpB8AWYeLh6U"
      },
      "execution_count": null,
      "outputs": []
    },
    {
      "cell_type": "markdown",
      "source": [
        "Q1. Prefix Sum - I\n",
        "\n",
        "Given the prefix sum of an array, prefSum = [-2, 4, 1, 5, 2]\n",
        "\n",
        "What is the sum of the original array from index 0 to 2 (0-based) ?"
      ],
      "metadata": {
        "id": "PnwONGdsLm3Q"
      }
    },
    {
      "cell_type": "code",
      "source": [
        "# 3 4 1 5"
      ],
      "metadata": {
        "id": "jr7Zc3T0LuTC"
      },
      "execution_count": null,
      "outputs": []
    },
    {
      "cell_type": "markdown",
      "source": [
        "Q2. Prefix Sum - II\n",
        "\n",
        "Given the prefix sum of an array, prefSum = [-2, 4, 1, 5, 2]\n",
        "\n",
        "What is the sum of the original array from index 2 to 4 (0-based) ?"
      ],
      "metadata": {
        "id": "A4fIuiVALzY2"
      }
    },
    {
      "cell_type": "code",
      "source": [
        "# 2 1 -2 8"
      ],
      "metadata": {
        "id": "CxlszNieL6Ll"
      },
      "execution_count": null,
      "outputs": []
    },
    {
      "cell_type": "markdown",
      "source": [
        "Q3. Prefix Sum - III\n",
        "\n",
        "Given the prefix sum of an array, prefSum = [-2, 4, 1, 5, 2]\n",
        "\n",
        "What is the sum of the original array from index 1 to 2 (0-based) ?"
      ],
      "metadata": {
        "id": "4PpWVL5vL-f6"
      }
    },
    {
      "cell_type": "code",
      "source": [
        "# 5 -3 3 -5"
      ],
      "metadata": {
        "id": "W-LgpV39MEgE"
      },
      "execution_count": null,
      "outputs": []
    },
    {
      "cell_type": "markdown",
      "source": [
        "Q4. Product array puzzle\n",
        "\n",
        "Given an array of integers A, find and return the product array of the same size where the ith element of the product array will be equal to the product of all the elements divided by the ith element of the array.\n",
        "\n",
        "Note: It is always possible to form the product array with integer (32 bit) values. Solve it without using the division operator.\n",
        "\n"
      ],
      "metadata": {
        "id": "vYG89yAsMNv4"
      }
    },
    {
      "cell_type": "code",
      "source": [
        "class Solution:\n",
        "# @param A : list of integers\n",
        "# @return a list of integers\n",
        "    def solve(self, A):\n",
        "        n=len(A)\n",
        "        if(n == 1):\n",
        "            return ([0])\n",
        "        #comment\n",
        "        left = [0]*n\n",
        "        right = [0]*n\n",
        "        prod = [0]*n\n",
        "        left[0] = 1\n",
        "        right[n - 1] = 1  #4\n",
        "        for i in range(1, n):\n",
        "            left[i] = A[i - 1] * left[i - 1] #arr[0]* left[0] ,arr[1]* left[1] ,arr[2]* left[2] ,arr[3]* left[3]\n",
        "        for j in range(n-2, -1, -1): #3 2 1 0\n",
        "            right[j] = A[j + 1] * right[j + 1]\n",
        "        for i in range(n):\n",
        "            prod[i] = left[i] * right[i]\n",
        "        return prod"
      ],
      "metadata": {
        "id": "0qPJGnZiMSQr"
      },
      "execution_count": null,
      "outputs": []
    },
    {
      "cell_type": "markdown",
      "source": [],
      "metadata": {
        "id": "rgiw3Y-ZMWx2"
      }
    }
  ]
}