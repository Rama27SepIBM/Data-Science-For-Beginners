{
  "nbformat": 4,
  "nbformat_minor": 0,
  "metadata": {
    "colab": {
      "provenance": [],
      "authorship_tag": "ABX9TyOx0P2NurA+d5e3hTziXh/W",
      "include_colab_link": true
    },
    "kernelspec": {
      "name": "python3",
      "display_name": "Python 3"
    },
    "language_info": {
      "name": "python"
    }
  },
  "cells": [
    {
      "cell_type": "markdown",
      "metadata": {
        "id": "view-in-github",
        "colab_type": "text"
      },
      "source": [
        "<a href=\"https://colab.research.google.com/github/Rama27SepIBM/21DaysOfLeetcode/blob/main/Day_33_Intermediate_DSA_Arrays_Subarrays.ipynb\" target=\"_parent\"><img src=\"https://colab.research.google.com/assets/colab-badge.svg\" alt=\"Open In Colab\"/></a>"
      ]
    },
    {
      "cell_type": "markdown",
      "source": [
        "Q1. Total Number of Subarrays\n",
        "Given an array of size 21, find the total number of subarrays of the array."
      ],
      "metadata": {
        "id": "3fy8NtBsx2KS"
      }
    },
    {
      "cell_type": "code",
      "execution_count": null,
      "metadata": {
        "id": "5Wptqa5jxpxn"
      },
      "outputs": [],
      "source": [
        "# 254 231 369 441 "
      ]
    },
    {
      "cell_type": "markdown",
      "source": [
        "Q2. Time and Space Complexity - I\n",
        "\n",
        "What is the time and space complexity for printing the sum of each subarray?\n",
        "\n",
        "void printSums(int ar[]){\n",
        "\n",
        "int n = ar.length;\n",
        "\n",
        "for(int i = 0 ; i < n ; i++){\n",
        "\n",
        "int sum = 0;\n",
        "\n",
        "for(int j = i ; j < n ; j++){\n",
        "\n",
        "sum = sum + ar[j];\n",
        "\n",
        "print(sum)\n",
        "\n",
        "}\n",
        "\n",
        "}\n",
        "\n",
        "}"
      ],
      "metadata": {
        "id": "clZ1vf-LyMge"
      }
    },
    {
      "cell_type": "code",
      "source": [
        "# TC = O(N) , SC = O(1)\n",
        "# TC = O(N^2) , SC = O(1)\n",
        "# TC = O(N) , SC = O(N)\n",
        "# TC = O(N^2) , SC = O(N)"
      ],
      "metadata": {
        "id": "AKLVFFvQySUe"
      },
      "execution_count": null,
      "outputs": []
    },
    {
      "cell_type": "markdown",
      "source": [
        "Q3. Time and Space Complexity - II\n",
        "\n",
        "Find the time and space complexity for printing sum of each subarray?\n",
        "\n",
        "void printSums(int ar[]){\n",
        "\n",
        "int n = ar.length;\n",
        "\n",
        "int pf[N];\n",
        "\n",
        "pf[0] = ar[0];\n",
        "\n",
        "for(int i = 1 ; i < n ; i++){\n",
        "\n",
        "pf[i] = pf[i - 1] + ar[i];\n",
        "\n",
        "}\n",
        "\n",
        "for(int i = 0 ; i < n ; i++){\n",
        "\n",
        "for(int j = i ; j < n ; j++){\n",
        "\n",
        "if(i == 0){\n",
        "\n",
        "print(pf[j]);\n",
        "\n",
        "}\n",
        "\n",
        "else{\n",
        "\n",
        "print(pf[j] - pf[i - 1]);\n",
        "\n",
        "}\n",
        "\n",
        "}\n",
        "\n",
        "}\n",
        "\n",
        "}"
      ],
      "metadata": {
        "id": "ZI50Z4f6ygA_"
      }
    },
    {
      "cell_type": "code",
      "source": [
        "# TC = O(N) , SC = O(N)\n",
        "# TC = O(N^2) , SC = O(N)\n",
        "# TC = O(N) , SC = O(N^2)\n",
        "# TC = O(N^2) , SC = O(N^2)"
      ],
      "metadata": {
        "id": "4ES0tderytmh"
      },
      "execution_count": null,
      "outputs": []
    },
    {
      "cell_type": "markdown",
      "source": [
        "Q4. Subarray in given range\n",
        "\n",
        "Given an array A of length N, return the subarray from B to C"
      ],
      "metadata": {
        "id": "1G-J15zFy7-t"
      }
    },
    {
      "cell_type": "code",
      "source": [
        "# \n",
        "class Solution:\n",
        "    # @param A : list of integers\n",
        "    # @param B : integer\n",
        "    # @param C : integer\n",
        "    # @return a list of integers\n",
        "    def solve(self, A, B, C):\n",
        "        temp=[]\n",
        "        for j in range(B, C+1):\n",
        "            temp.append(A[j])\n",
        "                \n",
        "\n",
        "        return temp\n"
      ],
      "metadata": {
        "id": "aktHQbxZzD4c"
      },
      "execution_count": null,
      "outputs": []
    },
    {
      "cell_type": "markdown",
      "source": [
        "Q5. Maximum Subarray Easy\n",
        "\n",
        "You are given an integer array C of size A. Now you need to find a subarray (contiguous elements) so that the sum of contiguous elements is maximum.\n",
        "But the sum must not exceed B."
      ],
      "metadata": {
        "id": "PNW0cLK6zI9R"
      }
    },
    {
      "cell_type": "code",
      "source": [
        "class Solution:\n",
        "    # @param A : integer\n",
        "    # @param B : integer\n",
        "    # @param C : list of integers\n",
        "    # @return an integer\n",
        "    def maxSubarray(self, A, B, C):\n",
        "        ans = 0\n",
        "        for i in range(A):\n",
        "            sum = 0\n",
        "            for j in range(i, A):\n",
        "                sum += C[j]\n",
        "                if (sum <= B):\n",
        "                    ans = max(ans, sum)\n",
        "                else:\n",
        "                    break\n",
        "        return ans"
      ],
      "metadata": {
        "id": "rlU-AIHazPPB"
      },
      "execution_count": null,
      "outputs": []
    },
    {
      "cell_type": "markdown",
      "source": [
        "Q6. Sum of All Subarrays\n",
        "\n",
        "You are given an integer array A of length N.\n",
        "You have to find the sum of all subarray sums of A.\n",
        "More formally, a subarray is defined as a contiguous part of an array which we can obtain by deleting zero or more elements from either end of the array.\n",
        "A subarray sum denotes the sum of all the elements of that subarray."
      ],
      "metadata": {
        "id": "vm1NL6_JzTck"
      }
    },
    {
      "cell_type": "code",
      "source": [
        "class Solution:\n",
        "    # @param A : list of integers\n",
        "     # @return an long\n",
        "    def subarraySum(self, A):\n",
        "        ans = 0\n",
        "        for i in range(len(A)):\n",
        "            ans += A[i] * (i + 1) * ((len(A)) - i);\n",
        "        return ans"
      ],
      "metadata": {
        "id": "u2RK5WLpzas4"
      },
      "execution_count": null,
      "outputs": []
    },
    {
      "cell_type": "markdown",
      "source": [
        "Q7. Generate all subarrays\n",
        "\n",
        "You are given an array A of N integers.\n",
        "Return a 2D array consisting of all the subarrays of the array"
      ],
      "metadata": {
        "id": "Ow0Udg_bzdoX"
      }
    },
    {
      "cell_type": "code",
      "source": [
        "class Solution:\n",
        "    # @param A : list of integers\n",
        "    # @return a list of list of integers\n",
        "    def solve(self, A):\n",
        "        n=len(A)\n",
        "        list = []\n",
        "        for i in range(0,n):           \n",
        "            for sz in range(i,n):\n",
        "                v=[]\n",
        "                for j in range(i, sz+1):\n",
        "                    v.append(A[j])\n",
        "                list.append(v)\n",
        "\n",
        "\n",
        "        return list"
      ],
      "metadata": {
        "id": "0nVTQVqVzkdN"
      },
      "execution_count": null,
      "outputs": []
    },
    {
      "cell_type": "markdown",
      "source": [
        "Q1. Alternating Subarrays Easy\n",
        "\n",
        "You are given an integer array A of length N comprising of 0's & 1's, and an integer B.\n",
        "\n",
        "You have to tell all the indices of array A that can act as a center of 2 * B + 1 length 0-1 alternating subarray.\n",
        "\n",
        "A 0-1 alternating array is an array containing only 0's & 1's, and having no adjacent 0's or 1's. For e.g. arrays [0, 1, 0, 1], [1, 0] and [1] are 0-1 alternating, while [1, 1] and [0, 1, 0, 0, 1] are not."
      ],
      "metadata": {
        "id": "OnJ2t09MzoJe"
      }
    },
    {
      "cell_type": "code",
      "source": [
        "class Solution:\n",
        "    # @param A : list of integers\n",
        "    # @param B : integer\n",
        "    # @return a list of integers\n",
        "    def solve(self, A, B):\n",
        "        l1 = []\n",
        "        n = len(A)\n",
        "        length = 2 * B + 1\n",
        "        for i in range(n - length + 1):\n",
        "            curr = -1\n",
        "            flag = 1\n",
        "            for j in range(i, i + length):\n",
        "                if (A[j] == curr):\n",
        "                    flag = 0\n",
        "                    break\n",
        "                curr = A[j]\n",
        "            if (flag == 1):\n",
        "                l1.append(i + B)\n",
        "        return l1"
      ],
      "metadata": {
        "id": "WqRurcLgzwTK"
      },
      "execution_count": null,
      "outputs": []
    },
    {
      "cell_type": "markdown",
      "source": [
        "Q2. Good Subarrays Easy\n",
        "\n",
        "Given an array of integers A, a subarray of an array is said to be good if it fulfills any one of the criteria:\n",
        "1. Length of the subarray is be even, and the sum of all the elements of the subarray must be less than B.\n",
        "2. Length of the subarray is be odd, and the sum of all the elements of the subarray must be greater than B.\n",
        "Your task is to find the count of good subarrays in A."
      ],
      "metadata": {
        "id": "sBEbbzjFz0QD"
      }
    },
    {
      "cell_type": "code",
      "source": [
        "class Solution:\n",
        "    # @param A : list of integers\n",
        "    # @param B : integer\n",
        "    # @return an integer\n",
        "    def solve(self, A, B):\n",
        "        count = 0\n",
        "        n = len(A)\n",
        "        for i in range(len(A)):\n",
        "            sum = 0\n",
        "            for j in range(i, len(A)):\n",
        "                sum += A[j]\n",
        "                length = j - i + 1\n",
        "                if(length % 2 == 0 and sum < B):\n",
        "                    count+=1\n",
        "                elif (length % 2 == 1 and sum > B) :\n",
        "                    count+=1\n",
        "        return count"
      ],
      "metadata": {
        "id": "iuZGz5f_z6pf"
      },
      "execution_count": null,
      "outputs": []
    },
    {
      "cell_type": "markdown",
      "source": [
        "Q3. Counting Subarrays Easy\n",
        "\n",
        "Given an array A of N non-negative numbers and a non-negative number B,\n",
        "you need to find the number of subarrays in A with a sum less than B.\n",
        "We may assume that there is no overflow."
      ],
      "metadata": {
        "id": "34WZj07_0BNS"
      }
    },
    {
      "cell_type": "code",
      "source": [
        "class Solution:\n",
        "    # @param A : list of integers\n",
        "    # @param B : integer\n",
        "    # @return an integer\n",
        "    def solve(self, A, B):\n",
        "    \n",
        "        ans=0\n",
        "        \n",
        "        for i in range(len(A)): \n",
        "            curr_sum = 0\n",
        "      \n",
        "            j = i\n",
        "      \n",
        "            \n",
        "            while j < len(A):\n",
        "                curr_sum = curr_sum + A[j]       \n",
        "                if curr_sum < B :\n",
        "                    ans +=1\n",
        "                j += 1\n",
        "  \n",
        "        return ans"
      ],
      "metadata": {
        "id": "cCvjddov0IAw"
      },
      "execution_count": null,
      "outputs": []
    }
  ]
}