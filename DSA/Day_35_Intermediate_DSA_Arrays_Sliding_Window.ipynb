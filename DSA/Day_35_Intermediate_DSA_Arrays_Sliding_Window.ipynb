{
  "nbformat": 4,
  "nbformat_minor": 0,
  "metadata": {
    "colab": {
      "provenance": [],
      "authorship_tag": "ABX9TyOkCkYC8pMj0oNAAv2eC9KG",
      "include_colab_link": true
    },
    "kernelspec": {
      "name": "python3",
      "display_name": "Python 3"
    },
    "language_info": {
      "name": "python"
    }
  },
  "cells": [
    {
      "cell_type": "markdown",
      "metadata": {
        "id": "view-in-github",
        "colab_type": "text"
      },
      "source": [
        "<a href=\"https://colab.research.google.com/github/Rama27SepIBM/21DaysOfLeetcode/blob/main/Day_35_Intermediate_DSA_Arrays_Sliding_Window.ipynb\" target=\"_parent\"><img src=\"https://colab.research.google.com/assets/colab-badge.svg\" alt=\"Open In Colab\"/></a>"
      ]
    },
    {
      "cell_type": "markdown",
      "source": [
        "Q1. Subarray with given sum and length\n",
        "\n",
        "Given an array A of length N. Also given are integers B and C.\n",
        "\n",
        "Return 1 if there exists a subarray with length B having sum C and 0 otherwise"
      ],
      "metadata": {
        "id": "UgawGHFpf_fh"
      }
    },
    {
      "cell_type": "code",
      "source": [
        "class Solution:\n",
        "    # @param A : list of integers\n",
        "    # @param B : integer\n",
        "    # @param C : integer\n",
        "    # @return an integer\n",
        "    def solve(self, A, B, C):\n",
        "        sum1 = 0\n",
        "        for i in range(len(A)):\n",
        "            sum1 += A[i]\n",
        "            if(i >= B):\n",
        "                sum1 -= A[i - B]\n",
        "            if(sum1 == C and i >= B - 1):\n",
        "                return 1\n",
        "        return 0"
      ],
      "metadata": {
        "id": "HVP2IEqmgG82"
      },
      "execution_count": null,
      "outputs": []
    },
    {
      "cell_type": "markdown",
      "source": [
        "Q2. Minimum Swaps\n",
        "\n",
        "Given an array of integers A and an integer B, find and return the minimum number of swaps required to bring all the numbers less than or equal to B together.\n",
        "\n",
        "Note: It is possible to swap any two elements, not necessarily consecutive."
      ],
      "metadata": {
        "id": "zGrgrcmegLHW"
      }
    },
    {
      "cell_type": "code",
      "source": [
        "class Solution:\n",
        "    # @param A : list of integers\n",
        "    # @param B : integer\n",
        "    # @return an integer\n",
        "    def solve(self, A, B):\n",
        "        n = len(A)\n",
        "        cnt = 0\n",
        "        # count number of elements <= B\n",
        "        for x in A:\n",
        "            if(x <= B):\n",
        "                cnt += 1\n",
        "        if(cnt <= 1):\n",
        "            return 0\n",
        "        else:\n",
        "            l, r , x = 0,0,0\n",
        "            while(r < cnt):\n",
        "                if(A[r] > B):\n",
        "                    x += 1\n",
        "                r += 1\n",
        "            ans =x\n",
        "                # find the number of swaps required for each window\n",
        "            while(r < n):\n",
        "                if(A[r] > B):\n",
        "                    x += 1\n",
        "                if(A[l] > B):\n",
        "                    x -= 1\n",
        "                ans = min(ans, x)\n",
        "                r += 1\n",
        "                l += 1\n",
        "            return ans"
      ],
      "metadata": {
        "id": "_QYeC1HngR7S"
      },
      "execution_count": null,
      "outputs": []
    },
    {
      "cell_type": "markdown",
      "source": [
        "Q3. Spiral Order Matrix II\n",
        "\n",
        "Given an integer A, generate a square matrix filled with elements from 1 to A2 in spiral order and return the generated square matrix."
      ],
      "metadata": {
        "id": "p6kT2zpogWK7"
      }
    },
    {
      "cell_type": "code",
      "source": [
        "class Solution:\n",
        "\t# @param A : integer\n",
        "\t# @return a list of list of integers\n",
        "\tdef generateMatrix(self, A):\n",
        "        matrix = [[0 for i in range(A)] for j in range(A)]\n",
        "        value = 1\n",
        "        Rstart = 0\n",
        "        Rend = A-1\n",
        "        Cstart = 0\n",
        "        Cend = A-1\n",
        "        while Rstart <= Rend and Cstart <= Cend:\n",
        "            for i in range(Cstart, Cend+1):\n",
        "                matrix[Rstart][i] = value\n",
        "                value += 1\n",
        "            Rstart += 1\n",
        "            for i in range(Rstart, Rend+1):\n",
        "                matrix[i][Cend] = value\n",
        "                value += 1\n",
        "            Cend -= 1\n",
        "            for i in range(Cend, Cstart-1, -1):\n",
        "                matrix[Rend][i] = value\n",
        "                value += 1\n",
        "            Rend -= 1\n",
        "            for i in range(Rend, Rstart-1, -1):\n",
        "                matrix[i][Cstart] = value\n",
        "                value += 1\n",
        "            Cstart += 1\n",
        "        return matrix"
      ],
      "metadata": {
        "id": "rMvCpusMgc4D"
      },
      "execution_count": null,
      "outputs": []
    },
    {
      "cell_type": "markdown",
      "source": [
        "Q1. Subarray with least average\n",
        "\n",
        "Given an array of size N, find the subarray of size K with the least average."
      ],
      "metadata": {
        "id": "MMgMAhvmgh7C"
      }
    },
    {
      "cell_type": "code",
      "source": [
        "class Solution:\n",
        "    # @param A : list of integers\n",
        "    # @param B : integer\n",
        "    # @return an integer\n",
        "    def solve(self, A, B):\n",
        "        rows = len(A)\n",
        "        k=0\n",
        "        sum1 =0 \n",
        "        k=0\n",
        "        mn= 1e11\n",
        "\n",
        "        for i in range(0,B):\n",
        "            sum1 +=A[i]\n",
        "        mn= min(mn,sum1/B)\n",
        "        for i in range(B,rows):\n",
        "            sum1 = sum1+A[i]- A[i - B]\n",
        "            if mn>sum1/B:\n",
        "                mn=sum1/B \n",
        "                k=i-B+1\n",
        "        return k"
      ],
      "metadata": {
        "id": "TrABxn4ugqVd"
      },
      "execution_count": null,
      "outputs": []
    },
    {
      "cell_type": "code",
      "execution_count": null,
      "metadata": {
        "id": "zZyqWTgXf6LU"
      },
      "outputs": [],
      "source": []
    }
  ]
}