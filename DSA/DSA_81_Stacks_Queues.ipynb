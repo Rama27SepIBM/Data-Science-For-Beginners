{
  "nbformat": 4,
  "nbformat_minor": 0,
  "metadata": {
    "colab": {
      "provenance": [],
      "authorship_tag": "ABX9TyOkM60ZMCwgjcU8ud/5+n3y",
      "include_colab_link": true
    },
    "kernelspec": {
      "name": "python3",
      "display_name": "Python 3"
    },
    "language_info": {
      "name": "python"
    }
  },
  "cells": [
    {
      "cell_type": "markdown",
      "metadata": {
        "id": "view-in-github",
        "colab_type": "text"
      },
      "source": [
        "<a href=\"https://colab.research.google.com/github/Rama27SepIBM/Data-Science-For-Beginners/blob/main/DSA_81_Stacks_Queues.ipynb\" target=\"_parent\"><img src=\"https://colab.research.google.com/assets/colab-badge.svg\" alt=\"Open In Colab\"/></a>"
      ]
    },
    {
      "cell_type": "markdown",
      "source": [
        "Q1. Queue Using Stacks  \n",
        "Implement a First In First Out (FIFO) queue using stacks only.\n",
        "\n",
        "The implemented queue should support all the functions of a normal queue (push, peek, pop, and empty).\n",
        "\n",
        "Implement the UserQueue class:\n",
        "\n",
        "void push(int X) : Pushes element X to the back of the queue.\n",
        "int pop() : Removes the element from the front of the queue and returns it.\n",
        "int peek() : Returns the element at the front of the queue.\n",
        "boolean empty() : Returns true if the queue is empty, false otherwise.\n",
        "NOTES:\n",
        "\n",
        "You must use only standard operations of a stack, which means only push to top, peek/pop from top, size, and is empty operations are valid.\n",
        "Depending on your language, the stack may not be supported natively. You may simulate a stack using a list or deque (double-ended queue) as long as you use o **bold text**only a stack's standard operations."
      ],
      "metadata": {
        "id": "7CF8S2ag2DIF"
      }
    },
    {
      "cell_type": "code",
      "execution_count": null,
      "metadata": {
        "id": "_VPSZqmGGuvd"
      },
      "outputs": [],
      "source": [
        "class UserQueue:\n",
        "    def __init__(self):\n",
        "        \"\"\"\n",
        "        Initialize your data structure here.\n",
        "        \"\"\"\n",
        "        self.stk1 = []\n",
        "        self.stk2 = []\n",
        "\n",
        "    def push(self, x: int) -> None:\n",
        "        \"\"\"\n",
        "        Push element x to the back of queue.\n",
        "        \"\"\"\n",
        "        self.stk1.append(x)\n",
        "        \n",
        "\n",
        "    def pop(self) -> int:\n",
        "        \"\"\"\n",
        "        Removes the element from in front of queue and returns that element.\n",
        "        \"\"\"\n",
        "        if not self.stk2:\n",
        "            while self.stk1:\n",
        "                self.stk2.append(self.stk1.pop())\n",
        "        return self.stk2.pop()\n",
        "        \n",
        "\n",
        "    def peek(self) -> int:\n",
        "        \"\"\"\n",
        "        Get the front element.\n",
        "        \"\"\"\n",
        "        if not self.stk2:\n",
        "            while self.stk1:\n",
        "                self.stk2.append(self.stk1.pop())\n",
        "        return self.stk2[-1]\n",
        "        \n",
        "\n",
        "    def empty(self) -> bool:\n",
        "        \"\"\"\n",
        "        Returns whether the queue is empty.\n",
        "        \"\"\"\n",
        "        return not self.stk1 and not self.stk2\n",
        "\n",
        "# Your UserQueue object will be instantiated and called as such:\n",
        "# obj = UserQueue()\n",
        "# obj.push(x)\n",
        "# param2 = obj.pop()\n",
        "# param3 = obj.peek()\n",
        "# param4 = obj.empty()"
      ]
    },
    {
      "cell_type": "markdown",
      "source": [
        "Q2. N integers containing only 1, 2 & 3\n",
        "\n",
        "Given an integer, A. Find and Return first positive A integers in ascending order containing only digits 1,2,& 3.\n",
        "NOTE: All the A integers will fit in 32-bit integers.\n",
        "\n",
        "Problem Constraints\n",
        "1 <= A <= 29500"
      ],
      "metadata": {
        "id": "TT02vJDy2sIN"
      }
    },
    {
      "cell_type": "code",
      "source": [
        "from queue import Queue\n",
        "class Solution:\n",
        "# @param A : integer\n",
        "# @return a list of integers\n",
        "    def solve(self, A):\n",
        "        q = Queue()\n",
        "        q.put(1)\n",
        "        q.put(2)\n",
        "        q.put(3)\n",
        "\n",
        "        count = 0\n",
        "        put=3\n",
        "        result = []\n",
        "        while count < A:\n",
        "            number = q.get()\n",
        "            result.append(number)\n",
        "            count += 1\n",
        "            if(put >= A):\n",
        "                continue\n",
        "\n",
        "            q.put(number*10 + 1)\n",
        "            q.put(number*10 + 2)\n",
        "            q.put(number*10 + 3)\n",
        "            put += 3\n",
        "        return result"
      ],
      "metadata": {
        "id": "aD9xbUDp208-"
      },
      "execution_count": null,
      "outputs": []
    },
    {
      "cell_type": "markdown",
      "source": [
        "Q.3 Perfect Numbers\n",
        "\n",
        " Given an integer A, you have to find the Ath Perfect Number.\n",
        "\n",
        "A Perfect Number has the following properties:\n",
        "\n",
        "It comprises only 1 and 2.\n",
        "\n",
        "The number of digits in a Perfect number is even.\n",
        "\n",
        "It is a palindrome number.\n",
        "\n",
        "For example, 11, 22, 112211 are Perfect numbers, where 123, 121, 782, 1 are not.\n",
        "\n",
        "Problem Constraints\n",
        "1 <= A <= 100000"
      ],
      "metadata": {
        "id": "J_GlS8jM3mE4"
      }
    },
    {
      "cell_type": "code",
      "source": [
        "from collections import deque\n",
        "class Solution:\n",
        "# @param A : integer\n",
        "# @return a strings\n",
        "    def solve(self, A):\n",
        "        s = [\"\" for i in range(0, 100005)]\n",
        "        s[1] = \"1\"\n",
        "        s[2] = \"2\"\n",
        "        q = deque()\n",
        "        q.append(s[1])\n",
        "        q.append(s[2])\n",
        "        idx = 3\n",
        "        while idx < (A + 3):\n",
        "            ss = q.popleft()\n",
        "            s[idx] = ss + \"1\"\n",
        "            idx = idx + 1\n",
        "            q.append(ss + \"1\")\n",
        "            s[idx] = ss + \"2\"\n",
        "            idx = idx + 1\n",
        "            q.append(ss + \"2\")\n",
        "        # s[A] has the first half of our final answer\n",
        "        ans = s[A]\n",
        "        anss = ans\n",
        "        ans = anss[::-1]\n",
        "        return anss + ans"
      ],
      "metadata": {
        "id": "oxdO2QfQ3b9V"
      },
      "execution_count": null,
      "outputs": []
    },
    {
      "cell_type": "markdown",
      "source": [
        "Q4. Reversing Elements Of Queue\n",
        "\n",
        "Given an array of integers A and an integer B, we need to reverse the order of the first B elements of the array, leaving the other elements in the same relative order.\n",
        "\n",
        "NOTE: You are required to the first insert elements into an auxiliary queue then perform Reversal of first B elements.\n",
        "\n",
        "Problem Constraints\n",
        "1 <= B <= length of the array <= 500000\n",
        "1 <= A[i] <= 100000"
      ],
      "metadata": {
        "id": "PWrV4D_n3zHW"
      }
    },
    {
      "cell_type": "code",
      "source": [
        "class Solution:\n",
        "# @param A : list of integers\n",
        "# @param B : integer\n",
        "# @return a list of integers\n",
        "    def solve(self, A, B):\n",
        "        n = len(A)\n",
        "        if B > n:\n",
        "            return A\n",
        "        q = []\n",
        "        for i in range(B):\n",
        "            q.append(A[i])\n",
        "        for i in range(B):\n",
        "            A[i] = q.pop()\n",
        "        return A"
      ],
      "metadata": {
        "id": "PutRluIv4F67"
      },
      "execution_count": null,
      "outputs": []
    },
    {
      "cell_type": "code",
      "source": [],
      "metadata": {
        "id": "5OKhWX2L378I"
      },
      "execution_count": null,
      "outputs": []
    }
  ]
}