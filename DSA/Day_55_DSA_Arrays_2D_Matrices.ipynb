{
  "nbformat": 4,
  "nbformat_minor": 0,
  "metadata": {
    "colab": {
      "provenance": [],
      "authorship_tag": "ABX9TyOeQozhrauZaeJoVXpm3cGY",
      "include_colab_link": true
    },
    "kernelspec": {
      "name": "python3",
      "display_name": "Python 3"
    },
    "language_info": {
      "name": "python"
    }
  },
  "cells": [
    {
      "cell_type": "markdown",
      "metadata": {
        "id": "view-in-github",
        "colab_type": "text"
      },
      "source": [
        "<a href=\"https://colab.research.google.com/github/Rama27SepIBM/Data-Science-For-Beginners/blob/main/Day_55_DSA_Arrays_2D_Matrices.ipynb\" target=\"_parent\"><img src=\"https://colab.research.google.com/assets/colab-badge.svg\" alt=\"Open In Colab\"/></a>"
      ]
    },
    {
      "cell_type": "markdown",
      "source": [
        "Q1. Sub-matrix Sum Queries\n",
        "\n",
        "Given a matrix of integers A of size N x M and multiple queries Q, for each query, find and return the submatrix sum.\n",
        "\n",
        "Inputs to queries are top left (b, c) and bottom right (d, e) indexes of submatrix whose sum is to find out.\n",
        "\n",
        "NOTE:\n",
        "\n",
        "Rows are numbered from top to bottom, and columns are numbered from left to right.\n",
        "Sum may be large, so return the answer mod 109 + 7."
      ],
      "metadata": {
        "id": "7dHKvs9BRyN7"
      }
    },
    {
      "cell_type": "code",
      "source": [
        "class Solution:\n",
        "    # @param A : list of list of integers\n",
        "    # @param B : list of integers\n",
        "    # @param C : list of integers\n",
        "    # @param D : list of integers\n",
        "    # @param E : list of integers\n",
        "    # @return a list of integers\n",
        "    def solve(self, A, B, C, D, E):\n",
        "        result = []\n",
        "        rows = len(A)\n",
        "        cols= len(A[0])\n",
        "        for i in range(rows):\n",
        "            for j in range(cols):\n",
        "                if i > 0:\n",
        "                    A[i][j] += A[i-1][j]\n",
        "                if j > 0:\n",
        "                    A[i][j] += A[i][j-1]\n",
        "                if i > 0 and j > 0:\n",
        "                    A[i][j] -= A[i-1][j-1]\n",
        "\n",
        "        for i in range(len(B)):\n",
        "            topLeft_i , topLeft_j = B[i]-1 , C[i]-1\n",
        "            bottom_right_p , bottom_right_q = D[i]-1 , E[i]-1\n",
        "            totalSum = A[bottom_right_p][bottom_right_q]\n",
        "            # Removing the top part of the sum from total sum\n",
        "            if topLeft_i > 0:\n",
        "                totalSum -= A[topLeft_i-1][bottom_right_q]\n",
        "            # Removing the bottom part of the sum from total sum    \n",
        "            if topLeft_j > 0:\n",
        "                totalSum -= A[bottom_right_p][topLeft_j-1]\n",
        "            # Neutraizing the extra remove part of the sum from the total sum    \n",
        "            if topLeft_i > 0 and topLeft_j > 0:\n",
        "                totalSum += A[topLeft_i-1][topLeft_j-1]\n",
        "           \n",
        "            result.append(totalSum % (10**9 + 7))\n",
        "        return result"
      ],
      "metadata": {
        "id": "j0PjDGCbR6m4"
      },
      "execution_count": null,
      "outputs": []
    },
    {
      "cell_type": "markdown",
      "source": [
        "Q2. Sum of all Submatrices\n",
        "\n",
        "Given a 2D Matrix A of dimensions N*N, we need to return the sum of all possible submatrices."
      ],
      "metadata": {
        "id": "22zmAfRUSBFB"
      }
    },
    {
      "cell_type": "code",
      "source": [
        "class Solution:\n",
        "    # @param A : list of list of integers\n",
        "    # @return an integer\n",
        "    def solve(self, A):  \n",
        "        n = len(A)\n",
        "        prefix_sum = [[0] * (n + 1) for i in range(n + 1)]\n",
        "        for i in range(1, n + 1):\n",
        "            for j in range(1, n + 1):\n",
        "                prefix_sum[i][j] = prefix_sum[i - 1][j] + prefix_sum[i][j - 1] - prefix_sum[i - 1][j - 1] + A[i - 1][j - 1]\n",
        "\n",
        "        result = 0\n",
        "        for i1 in range(n):\n",
        "            for j1 in range(n):\n",
        "                for i2 in range(i1 + 1, n + 1):\n",
        "                    for j2 in range(j1 + 1, n + 1):\n",
        "                        result += prefix_sum[i2][j2] - prefix_sum[i1][j2] - prefix_sum[i2][j1] + prefix_sum[i1][j1]\n",
        "        return result"
      ],
      "metadata": {
        "id": "w2tYFhDdSO1j"
      },
      "execution_count": null,
      "outputs": []
    },
    {
      "cell_type": "markdown",
      "source": [
        "Q3. Maximum Submatrix\n",
        "\n",
        "Given an matrix A of size NxM, which is row-wise and column-wise sorted. Find a submatrix such that sum of its elements is maximum and return this sum."
      ],
      "metadata": {
        "id": "NOMD0fTNSU2M"
      }
    },
    {
      "cell_type": "code",
      "source": [
        "def max_sum_subarray(nums):\n",
        "        max_sum = float('-inf')\n",
        "        cur_sum = 0\n",
        "        for num in nums:\n",
        "            cur_sum += num\n",
        "            max_sum = max(max_sum, cur_sum)\n",
        "            cur_sum = max(cur_sum, 0)\n",
        "        return max_sum\n",
        "class Solution:\n",
        "    # @param A : list of list of integers\n",
        "    # @return an long\n",
        "    def solve(self, A):\n",
        "        n = len(A)\n",
        "        m = len(A[0])\n",
        "        max_sum = float('-inf')\n",
        "        for left in range(m):\n",
        "            sums = [0] * n\n",
        "            for right in range(left, m):\n",
        "                for i in range(n):\n",
        "                    sums[i] += A[i][right]\n",
        "                max_sum = max(max_sum, max_sum_subarray(sums))\n",
        "        return max_sum"
      ],
      "metadata": {
        "id": "ucFR9zAHScLo"
      },
      "execution_count": null,
      "outputs": []
    },
    {
      "cell_type": "markdown",
      "source": [
        "Q4. Search in a row wise and column wise sorted matrix\n",
        "\n",
        "Given a matrix of integers A of size N x M and an integer B.\n",
        "In the given matrix every row and column is sorted in non-decreasing order. Find and return the position of B in the matrix in the given form:\n",
        "If A[i][j] = B then return (i * 1009 + j)\n",
        "If B is not present return -1.\n",
        "\n",
        "Note 1: Rows are numbered from top to bottom and columns are numbered from left to right.\n",
        "Note 2: If there are multiple B in A then return the smallest value of i*1009 +j such that A[i][j]=B.\n",
        "Note 3: Expected time complexity is linear\n",
        "Note 4: Use 1-based indexing"
      ],
      "metadata": {
        "id": "aISTGHfYSmbq"
      }
    },
    {
      "cell_type": "code",
      "source": [
        "class Solution:\n",
        "    # @param A : list of list of integers\n",
        "    # @param B : integer\n",
        "    # @return an integer\n",
        "    def solve(self, A, B):\n",
        "        n = len(A)\n",
        "        m = len(A[0])\n",
        "        i = 0\n",
        "        max1=100000000\n",
        "        j = m - 1\n",
        "        while i < n and j >= 0:\n",
        "            if A[i][j] == B:\n",
        "                max1=min(max1,(i + 1) * 1009 + (j + 1))\n",
        "                j -=1\n",
        "            elif A[i][j] > B:\n",
        "                j -= 1\n",
        "            else:\n",
        "                i += 1\n",
        "        if max1 == 100000000:\n",
        "            return -1\n",
        "        return max1"
      ],
      "metadata": {
        "id": "P1csh5thSwvK"
      },
      "execution_count": null,
      "outputs": []
    },
    {
      "cell_type": "markdown",
      "source": [
        "Q1. Row with maximum number of ones\n",
        "\n",
        "Given a binary sorted matrix A of size N x N. Find the row with the maximum number of 1.\n",
        "\n",
        "NOTE:\n",
        "\n",
        "If two rows have the maximum number of 1 then return the row which has a lower index.\n",
        "Rows are numbered from top to bottom and columns are numbered from left to right.\n",
        "Assume 0-based indexing.\n",
        "Assume each row to be sorted by values.\n",
        "Expected time complexity is O(rows + columns)."
      ],
      "metadata": {
        "id": "aNbHCsbPS8mg"
      }
    },
    {
      "cell_type": "code",
      "source": [
        "class Solution:\n",
        "    # @param A : list of list of integers\n",
        "    # @return an integer\n",
        "    def solve(self, A):\n",
        "        row = 0\n",
        "        \n",
        "        col = len(A[0]) - 1\n",
        "        max_row = 0\n",
        "        max_count = 0\n",
        "        while row < len(A) and col >= 0:\n",
        "            if A[row][col] == 1:\n",
        "                count = 0\n",
        "                j = col\n",
        "                while j < len(A[0]) and A[row][j] == 1:\n",
        "                    count += 1\n",
        "                    j += 1\n",
        "                if count > max_count:\n",
        "                    max_count = count\n",
        "                    max_row = row\n",
        "                col -= 1\n",
        "            else:\n",
        "                row += 1\n",
        "        return max_row"
      ],
      "metadata": {
        "id": "VTTqW_WyTE5q"
      },
      "execution_count": null,
      "outputs": []
    },
    {
      "cell_type": "code",
      "execution_count": null,
      "metadata": {
        "id": "GOIStWHxRuMm"
      },
      "outputs": [],
      "source": []
    }
  ]
}