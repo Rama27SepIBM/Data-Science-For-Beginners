{
  "nbformat": 4,
  "nbformat_minor": 0,
  "metadata": {
    "colab": {
      "provenance": [],
      "authorship_tag": "ABX9TyMqJHXj57nqVO2v/pBQ94Wo",
      "include_colab_link": true
    },
    "kernelspec": {
      "name": "python3",
      "display_name": "Python 3"
    },
    "language_info": {
      "name": "python"
    }
  },
  "cells": [
    {
      "cell_type": "markdown",
      "metadata": {
        "id": "view-in-github",
        "colab_type": "text"
      },
      "source": [
        "<a href=\"https://colab.research.google.com/github/Rama27SepIBM/Data-Science-For-Beginners/blob/main/Day_65_DSA_Searching_2ipynb.ipynb\" target=\"_parent\"><img src=\"https://colab.research.google.com/assets/colab-badge.svg\" alt=\"Open In Colab\"/></a>"
      ]
    },
    {
      "cell_type": "markdown",
      "source": [
        "Q1. Single Element in Sorted Array\n",
        "\n",
        "Given a sorted array of integers A where every element appears twice except for one element which appears once, find and return this single element that appears only once.\n",
        "\n",
        "NOTE: Users are expected to solve this in O(log(N)) time."
      ],
      "metadata": {
        "id": "wQSKwzr7Wjcz"
      }
    },
    {
      "cell_type": "code",
      "source": [
        "class Solution:\n",
        "    # @param A : list of integers\n",
        "    # @return an integer\n",
        "    def solve(self, A):\n",
        "        left, right = 0, len(A) - 1\n",
        "        while left < right:\n",
        "            mid = (left + right) // 2\n",
        "            if mid % 2 == 1:\n",
        "                mid -= 1\n",
        "            if A[mid] != A[mid+1]:\n",
        "                right = mid\n",
        "            else:\n",
        "                left = mid + 2\n",
        "        return A[left]"
      ],
      "metadata": {
        "id": "OwGHyICcWtWd"
      },
      "execution_count": null,
      "outputs": []
    },
    {
      "cell_type": "markdown",
      "source": [
        "Q2. Rotated Sorted Array Search\n",
        "\n",
        "Given a sorted array of integers A of size N and an integer B.\n",
        "\n",
        "array A is rotated at some pivot unknown to you beforehand.\n",
        "\n",
        "(i.e., 0 1 2 4 5 6 7 might become 4 5 6 7 0 1 2 ).\n",
        "\n",
        "You are given a target value B to search. If found in the array, return its index otherwise, return -1.\n",
        "\n",
        "You may assume no duplicate exists in the array.\n",
        "\n",
        "NOTE: Users are expected to solve this in O(log(N)) time."
      ],
      "metadata": {
        "id": "6T7_iDUNWySr"
      }
    },
    {
      "cell_type": "code",
      "source": [
        "class Solution:\n",
        "    # @param A : tuple of integers\n",
        "    # @param B : integer\n",
        "    # @return an integer\n",
        "    def search(self, A, B):\n",
        "        left, right = 0, len(A) - 1\n",
        "        while left <= right:\n",
        "            mid = (left + right) // 2\n",
        "            if A[mid] == B:\n",
        "                return mid\n",
        "            if A[left] <= A[mid]:\n",
        "                if A[left] <= B and B < A[mid]:\n",
        "                    right = mid - 1\n",
        "                else:\n",
        "                    left = mid + 1\n",
        "            else:\n",
        "                if A[mid] < B and B <= A[right]:\n",
        "                    left = mid + 1\n",
        "                else:\n",
        "                    right = mid - 1\n",
        "        return -1"
      ],
      "metadata": {
        "id": "vreXmCksW5Qn"
      },
      "execution_count": null,
      "outputs": []
    },
    {
      "cell_type": "markdown",
      "source": [
        "Q3. Square Root of Integer\n",
        "\n",
        "Given an integer A.\n",
        "\n",
        "Compute and return the square root of A.\n",
        "\n",
        "If A is not a perfect square, return floor(sqrt(A)).\n",
        "\n",
        "DO NOT USE SQRT FUNCTION FROM THE STANDARD LIBRARY.\n",
        "\n",
        "NOTE: Do not use the sqrt function from the standard library. Users are expected to solve this in O(log(A)) time.\n",
        "\n",
        "\n",
        "\n",
        "Problem Constraints\n",
        "0 <= A <= 1010"
      ],
      "metadata": {
        "id": "jLwlwty7XB_f"
      }
    },
    {
      "cell_type": "code",
      "source": [
        "class Solution:\n",
        "    # @param A : integer\n",
        "    # @return an integer\n",
        "    def sqrt(self, A):\n",
        "        if A == 0 or A == 1:\n",
        "            return A\n",
        "        left, right = 1, A // 2\n",
        "        while left <= right:\n",
        "            mid = (left + right) // 2\n",
        "            if mid * mid == A:\n",
        "                return mid\n",
        "            elif mid * mid < A:\n",
        "                left = mid + 1\n",
        "                ans = mid\n",
        "            else:\n",
        "                right = mid - 1\n",
        "\n",
        "        return ans"
      ],
      "metadata": {
        "id": "h4Vh8Zn4XLgY"
      },
      "execution_count": null,
      "outputs": []
    },
    {
      "cell_type": "markdown",
      "source": [
        "Q1. Ath Magical Number\n",
        "\n",
        "You are given three positive integers, A, B, and C.\n",
        "\n",
        "Any positive integer is magical if divisible by either B or C.\n",
        "\n",
        "Return the Ath smallest magical number. Since the answer may be very large, return modulo 109 + 7.\n",
        "\n",
        "\n",
        "\n",
        "Problem Constraints\n",
        "1 <= A <= 109"
      ],
      "metadata": {
        "id": "wM11wVMFXQyY"
      }
    },
    {
      "cell_type": "code",
      "source": [
        "class Solution:\n",
        "    # @param A : integer\n",
        "    # @param B : integer\n",
        "    # @param C : integer\n",
        "    # @return an integer\n",
        "    def solve(self, A, B, C):\n",
        "        # find the GCD of B and C\n",
        "        def gcd(x, y):\n",
        "            if y == 0:\n",
        "                return x\n",
        "            return gcd(y, x % y)\n",
        "        lcm = B * C // gcd(B, C)\n",
        "\n",
        "        left, right = min(B, C), A * min(B, C)\n",
        "        mod = 10**9 + 7\n",
        "        while left <= right:\n",
        "            mid = (left + right) // 2\n",
        "            count = mid // B + mid // C - mid // lcm\n",
        "            if count >= A:\n",
        "                right = mid - 1\n",
        "            else:\n",
        "                left = mid + 1\n",
        "        return left % mod"
      ],
      "metadata": {
        "id": "wMFa1_FnXZLW"
      },
      "execution_count": null,
      "outputs": []
    },
    {
      "cell_type": "code",
      "execution_count": null,
      "metadata": {
        "id": "sVxjzXA4WblD"
      },
      "outputs": [],
      "source": []
    }
  ]
}