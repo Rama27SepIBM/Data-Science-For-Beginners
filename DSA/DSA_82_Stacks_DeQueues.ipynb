{
  "nbformat": 4,
  "nbformat_minor": 0,
  "metadata": {
    "colab": {
      "provenance": [],
      "authorship_tag": "ABX9TyPmByt6kGhnv2dpxuCfI1Pp",
      "include_colab_link": true
    },
    "kernelspec": {
      "name": "python3",
      "display_name": "Python 3"
    },
    "language_info": {
      "name": "python"
    }
  },
  "cells": [
    {
      "cell_type": "markdown",
      "metadata": {
        "id": "view-in-github",
        "colab_type": "text"
      },
      "source": [
        "<a href=\"https://colab.research.google.com/github/Rama27SepIBM/Data-Science-For-Beginners/blob/main/DSA_82_Stacks_DeQueues.ipynb\" target=\"_parent\"><img src=\"https://colab.research.google.com/assets/colab-badge.svg\" alt=\"Open In Colab\"/></a>"
      ]
    },
    {
      "cell_type": "markdown",
      "source": [
        "**Q1**. First non-repeating character\n",
        "\n",
        "Given a string A denoting a stream of lowercase alphabets, you have to make a new string B.\n",
        "B is formed such that we have to find the first non-repeating character each time a character is inserted to the stream and append it at the end to B. If no non-repeating character is found, append '#' at the end of B."
      ],
      "metadata": {
        "id": "pao-OwDYw2lR"
      }
    },
    {
      "cell_type": "code",
      "execution_count": null,
      "metadata": {
        "id": "8gRo29OIwsTa"
      },
      "outputs": [],
      "source": [
        "from collections import deque, defaultdict\n",
        "class Solution:\n",
        "# @param A : string\n",
        "# @return a strings\n",
        "    def solve(self, A):\n",
        "        B = \"\"\n",
        "        char_freq = defaultdict(int)\n",
        "        queue = deque()\n",
        "\n",
        "        for char in A:\n",
        "            char_freq[char] += 1\n",
        "            queue.append(char)\n",
        "\n",
        "            while queue and char_freq[queue[0]] > 1:\n",
        "                queue.popleft()\n",
        "            if queue:\n",
        "                B += queue[0]\n",
        "            else:\n",
        "                B += queue[0] if queue else \"#\"\n",
        "        return B"
      ]
    },
    {
      "cell_type": "markdown",
      "source": [
        "Q2. Sliding Window Maximum\n",
        "\n",
        "Given an array of integers A. There is a sliding window of size B, moving from the very left of the array to the very right. You can only see the B numbers in the window. Each time the sliding window moves rightwards by one position. You have to find the maximum for each window.\n",
        "\n",
        "Return an array C, where C[i] is the maximum value in the array from A[i] to A[i+B-1].\n",
        "\n",
        "Refer to the given example for clarity.\n",
        "\n",
        "NOTE: If B > length of the array, return 1 element with the max of the array."
      ],
      "metadata": {
        "id": "sdmAkHCjwznc"
      }
    },
    {
      "cell_type": "code",
      "source": [
        "from collections import deque\n",
        "class Solution:\n",
        "# @param A : tuple of integers\n",
        "# @param B : integer\n",
        "# @return a list of integers\n",
        "\tdef slidingMaximum(self, A, B):\n",
        "        n = len(A)\n",
        "        C = []\n",
        "        dq = deque()\n",
        "\n",
        "        # Handle the case when B > n\n",
        "        if B > n:\n",
        "            return [max(A)]\n",
        "        # Process the first window separately\n",
        "        for i in range(B):\n",
        "            while dq and A[i] > dq[-1]:\n",
        "                dq.pop()\n",
        "            dq.append(A[i])\n",
        "        C.append(dq[0])\n",
        "\n",
        "        # Process the remaining windows\n",
        "        for i in range(B, n):\n",
        "            # Remove elements that are no longer in the window\n",
        "            if dq and dq[0] == A[i - B]:\n",
        "                dq.popleft()\n",
        "            # Add the current element to the deque\n",
        "            while dq and A[i] > dq[-1]:\n",
        "                dq.pop()\n",
        "            dq.append(A[i])\n",
        "            # Append the maximum element to the result list\n",
        "            C.append(dq[0])\n",
        "        return C"
      ],
      "metadata": {
        "id": "xOZ6zTYvxiDj"
      },
      "execution_count": null,
      "outputs": []
    },
    {
      "cell_type": "markdown",
      "source": [
        "Q1. Sum of min and max\n",
        "\n",
        "Given an array A of both positive and negative integers.\n",
        "\n",
        "Your task is to compute the sum of minimum and maximum elements of all sub-array of size B.\n",
        "\n",
        "NOTE: Since the answer can be very large, you are required to return the sum modulo 109 + 7."
      ],
      "metadata": {
        "id": "1qFd71h-xzp9"
      }
    },
    {
      "cell_type": "code",
      "source": [
        "from collections import deque\n",
        "def remove_outside_elements(dq, i, k):\n",
        "    while dq and dq[0] < i - k + 1:\n",
        "        dq.popleft()     \n",
        "\n",
        "class Solution:\n",
        "# @param A : list of integers\n",
        "# @param B : integer\n",
        "# @return an integer\n",
        "    def solve(self, A, B):\n",
        "        MOD = 10**9 + 7\n",
        "        n = len(A)\n",
        "        min_max_sum = 0\n",
        "        dq_min = deque()\n",
        "        dq_max = deque()\n",
        "\n",
        "        for i in range(n):\n",
        "            remove_outside_elements(dq_min, i, B)\n",
        "            remove_outside_elements(dq_max, i, B)\n",
        "\n",
        "            while dq_min and A[dq_min[-1]] > A[i]:\n",
        "                dq_min.pop()\n",
        "            while dq_max and A[dq_max[-1]] < A[i]:\n",
        "                dq_max.pop()\n",
        "            dq_min.append(i)\n",
        "            dq_max.append(i)\n",
        "            if i >= B - 1:\n",
        "                min_val = A[dq_min[0]]\n",
        "                max_val = A[dq_max[0]]\n",
        "                min_max_sum += (min_val + max_val)\n",
        "\n",
        "        return min_max_sum % MOD"
      ],
      "metadata": {
        "id": "qnqMl1-eyAkW"
      },
      "execution_count": null,
      "outputs": []
    }
  ]
}