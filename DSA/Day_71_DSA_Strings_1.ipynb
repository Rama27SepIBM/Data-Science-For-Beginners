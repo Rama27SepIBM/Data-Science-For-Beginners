{
  "nbformat": 4,
  "nbformat_minor": 0,
  "metadata": {
    "colab": {
      "provenance": [],
      "authorship_tag": "ABX9TyMjkQcqChBHP2Rox0BQMrc3",
      "include_colab_link": true
    },
    "kernelspec": {
      "name": "python3",
      "display_name": "Python 3"
    },
    "language_info": {
      "name": "python"
    }
  },
  "cells": [
    {
      "cell_type": "markdown",
      "metadata": {
        "id": "view-in-github",
        "colab_type": "text"
      },
      "source": [
        "<a href=\"https://colab.research.google.com/github/Rama27SepIBM/Data-Science-For-Beginners/blob/main/Day_71_DSA_Strings_1.ipynb\" target=\"_parent\"><img src=\"https://colab.research.google.com/assets/colab-badge.svg\" alt=\"Open In Colab\"/></a>"
      ]
    },
    {
      "cell_type": "markdown",
      "source": [
        "Q1. Hidden Pattern\n",
        "\n",
        "Given two strings - a text A and a pattern B, having lower-case alphabetic characters. You have to determine the number of occurrences of pattern B in text A as its substring. i.e. the number of times B occurs as a substring in A.\n",
        "\n",
        "\n",
        "\n",
        "Problem Constraints\n",
        "\n",
        "1 <= |B| <= |A| <= 105"
      ],
      "metadata": {
        "id": "9zcRy2E3IYWH"
      }
    },
    {
      "cell_type": "code",
      "execution_count": null,
      "metadata": {
        "id": "W3mM8NQ1ITOd"
      },
      "outputs": [],
      "source": [
        "class Solution:\n",
        "    # @param A : string\n",
        "    # @param B : string\n",
        "    # @return an integer\n",
        "    def solve(self, A, B):\n",
        "        count = 0\n",
        "        for i in range(len(A)):\n",
        "            if A[i:i+len(B)] == B:\n",
        "                count += 1\n",
        "        return count"
      ]
    },
    {
      "cell_type": "markdown",
      "source": [
        "Q1. Closest Palindrome\n",
        "\n",
        "Groot has a profound love for palindrome which is why he keeps fooling around with strings.\n",
        "A palindrome string is one that reads the same backward as well as forward.\n",
        "\n",
        "Given a string A of size N consisting of lowercase alphabets, he wants to know if it is possible to make the given string a palindrome by changing exactly one of its character.\n",
        "\n",
        "\n",
        "\n",
        "Problem Constraints\n",
        "1 <= N <= 105"
      ],
      "metadata": {
        "id": "qJpLfK-2InL_"
      }
    },
    {
      "cell_type": "code",
      "source": [
        "class Solution:\n",
        "    # @param A : string\n",
        "    # @return a strings\n",
        "    def solve(self, A):\n",
        "        n = len(A)\n",
        "        mismatch_count = 0\n",
        "        for i in range(n // 2):\n",
        "            if A[i] != A[n - 1 - i]:\n",
        "                mismatch_count += 1\n",
        "                if mismatch_count > 1:\n",
        "                    return \"NO\"\n",
        "        if mismatch_count == 0 and len(A)%2==1:\n",
        "            return \"YES\"\n",
        "        if mismatch_count == 1:\n",
        "            return \"YES\"\n",
        "            \n",
        "        return \"NO\""
      ],
      "metadata": {
        "id": "2wpOBWMiIvp2"
      },
      "execution_count": null,
      "outputs": []
    }
  ]
}