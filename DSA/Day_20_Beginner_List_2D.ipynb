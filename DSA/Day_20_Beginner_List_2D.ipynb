{
  "nbformat": 4,
  "nbformat_minor": 0,
  "metadata": {
    "colab": {
      "provenance": [],
      "authorship_tag": "ABX9TyOb2WsREUXiGFyx9veK4z0k",
      "include_colab_link": true
    },
    "kernelspec": {
      "name": "python3",
      "display_name": "Python 3"
    },
    "language_info": {
      "name": "python"
    }
  },
  "cells": [
    {
      "cell_type": "markdown",
      "metadata": {
        "id": "view-in-github",
        "colab_type": "text"
      },
      "source": [
        "<a href=\"https://colab.research.google.com/github/Rama27SepIBM/21DaysOfLeetcode/blob/main/Day_20_Beginner_List_2D.ipynb\" target=\"_parent\"><img src=\"https://colab.research.google.com/assets/colab-badge.svg\" alt=\"Open In Colab\"/></a>"
      ]
    },
    {
      "cell_type": "markdown",
      "source": [
        "Q1. Operations on list\n",
        "\n",
        "Given two arrays, some operations are performed on these arrays, and the following three arrays are obtained after the operations as output.\n",
        "What are those operations that are performed on the arrays?\n",
        "\n",
        "arr1 = [1,2,3]\n",
        "arr2 = [6,5,4]\n",
        "\n",
        "I.   arr1   = [1,2,3,6,5,4]\n",
        "II.  arr1   = [1,2,3,[6,5,4]]\n",
        "III. arr2  = [4,5,6]"
      ],
      "metadata": {
        "id": "U4P03gLkiVdP"
      }
    },
    {
      "cell_type": "code",
      "source": [
        "# append, extend, sort\n",
        "# extend, append, sort\n",
        "# append, sort, extend\n",
        "# None of the above"
      ],
      "metadata": {
        "id": "jFVmNKr8ikd7"
      },
      "execution_count": null,
      "outputs": []
    },
    {
      "cell_type": "markdown",
      "source": [
        "Q2. Matrix Scalar Product\n",
        "\n",
        "You are given a matrix A and and an integer B, you have to perform scalar multiplication of matrix A with an integer B.\n",
        "\n",
        "\n",
        "\n",
        "Problem Constraints\n",
        "\n",
        "1 <= A.size() <= 1000"
      ],
      "metadata": {
        "id": "o_UVeM_Aiwun"
      }
    },
    {
      "cell_type": "code",
      "source": [
        "class Solution:\n",
        "    # @param A : list of list of integers\n",
        "    # @param B : integer\n",
        "    # @return a list of list of integers\n",
        "    def solve(self, A, B):\n",
        "        for i in range(len(A)):\n",
        "            for j in range(len(A[i])):\n",
        "                A[i][j]*=B\n",
        "        return A"
      ],
      "metadata": {
        "id": "pjkIoUTwi72N"
      },
      "execution_count": null,
      "outputs": []
    },
    {
      "cell_type": "markdown",
      "source": [
        "Q3. Are Matrices Same ?\n",
        "\n",
        "You are given two matrices A & B of equal dimensions and you have to check whether two matrices are equal or not.\n",
        "\n",
        "NOTE: Both matrices are equal if A[i][j] == B[i][j] for all i and j in the given range.\n",
        "\n",
        "\n",
        "\n",
        "Problem Constraints\n",
        "1 <= A.size(), B.size() <= 1000"
      ],
      "metadata": {
        "id": "HONONQ6Xi_D7"
      }
    },
    {
      "cell_type": "code",
      "source": [
        "class Solution:\n",
        "    # @param A : list of list of integers\n",
        "    # @param B : list of list of integers\n",
        "    # @return an integer\n",
        "    def solve(self, A, B):\n",
        "        if A == B:\n",
        "            return 1\n",
        "        else:\n",
        "            return 0"
      ],
      "metadata": {
        "id": "ZUvraXxMjIAF"
      },
      "execution_count": null,
      "outputs": []
    },
    {
      "cell_type": "markdown",
      "source": [
        "Q4. Row Sum\n",
        "\n",
        "You are given a 2D integer matrix A, return a 1D integer array containing row-wise sums of original matrix.\n",
        "\n",
        "\n",
        "\n",
        "Problem Constraints\n",
        "\n",
        "1 <= A.size() <= 103"
      ],
      "metadata": {
        "id": "cckc8AEZjMF2"
      }
    },
    {
      "cell_type": "code",
      "source": [
        "class Solution:\n",
        "    # @param A : list of list of integers\n",
        "    # @return a list of integers\n",
        "    def solve(self, A):\n",
        "        B=[]\n",
        "        for i in A:\n",
        "            B.append(sum(i))\n",
        "        return B"
      ],
      "metadata": {
        "id": "LgETcdQtjT36"
      },
      "execution_count": null,
      "outputs": []
    },
    {
      "cell_type": "markdown",
      "source": [],
      "metadata": {
        "id": "FIhDP2JxjXhG"
      }
    },
    {
      "cell_type": "code",
      "execution_count": null,
      "metadata": {
        "id": "KcVzvnjMiTlZ"
      },
      "outputs": [],
      "source": []
    }
  ]
}