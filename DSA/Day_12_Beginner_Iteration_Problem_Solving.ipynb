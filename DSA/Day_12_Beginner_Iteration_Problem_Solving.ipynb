{
  "nbformat": 4,
  "nbformat_minor": 0,
  "metadata": {
    "colab": {
      "provenance": [],
      "authorship_tag": "ABX9TyMR+sh1QVqox5IwQfLrGYm5",
      "include_colab_link": true
    },
    "kernelspec": {
      "name": "python3",
      "display_name": "Python 3"
    },
    "language_info": {
      "name": "python"
    }
  },
  "cells": [
    {
      "cell_type": "markdown",
      "metadata": {
        "id": "view-in-github",
        "colab_type": "text"
      },
      "source": [
        "<a href=\"https://colab.research.google.com/github/Rama27SepIBM/21DaysOfLeetcode/blob/main/Day_12_Beginner_Iteration_Problem_Solving.ipynb\" target=\"_parent\"><img src=\"https://colab.research.google.com/assets/colab-badge.svg\" alt=\"Open In Colab\"/></a>"
      ]
    },
    {
      "cell_type": "markdown",
      "source": [
        "Q1. Print Squares of Given Numbers\n",
        "\n",
        "Using a loop, Print the squares of the following numbers: 1, 3, 6, 10, 15, 21. Print each of the number in a new line.\n",
        "\n",
        "Input Format\n",
        "\n",
        "No input.\n",
        "Output Format\n",
        "\n",
        "Square of numbers as specified in the description."
      ],
      "metadata": {
        "id": "IeJNXLullS_Y"
      }
    },
    {
      "cell_type": "code",
      "source": [
        "list=[1,3,6,10,15,21]\n",
        "for i in list:\n",
        "    sq1=i**2\n",
        "    print(sq1)"
      ],
      "metadata": {
        "id": "M5zsMoSQlmHH"
      },
      "execution_count": null,
      "outputs": []
    },
    {
      "cell_type": "markdown",
      "source": [
        "Q2. Is It Prime?\n",
        "\n",
        "Take an integer A as input, you have to tell whether it is a prime number or not.\n",
        "\n",
        "A prime number is a natural number greater than 1 which is divisible only by 1 and itself.\n",
        "\n",
        "\n",
        "Problem Constraints\n",
        "\n",
        "1 <= A <= 106"
      ],
      "metadata": {
        "id": "tHK9r8cylp56"
      }
    },
    {
      "cell_type": "code",
      "source": [
        "N = int(input())\n",
        "\n",
        "count = 0\n",
        "\n",
        "for i in range(1, N + 1):\n",
        "  if N % i == 0:\n",
        "    count += 1\n",
        "\n",
        "if count == 2:\n",
        "  print(\"YES\")\n",
        "else:\n",
        "  print(\"NO\")"
      ],
      "metadata": {
        "id": "BD8ECEAklxpL"
      },
      "execution_count": null,
      "outputs": []
    },
    {
      "cell_type": "markdown",
      "source": [
        "Q3. break in loop\n",
        "\n",
        "What is the output of the following program?\n",
        "\n",
        "i=2\n",
        "if i==2:\n",
        "    i+=1\n",
        "for j in range(i):\n",
        "    pass\n",
        "    break\n",
        "    i+=1\n",
        "print(i)"
      ],
      "metadata": {
        "id": "ptohnkRKl35c"
      }
    },
    {
      "cell_type": "code",
      "source": [
        "# 3 1 Infinite Loop 2 "
      ],
      "metadata": {
        "id": "GFuffPahl_gQ"
      },
      "execution_count": null,
      "outputs": []
    },
    {
      "cell_type": "markdown",
      "source": [
        "Q4. continue in loop\n",
        "\n",
        "What would be the output of the following program?\n",
        "\n",
        "n=8\n",
        "while n>=0:\n",
        "   n -= 2\n",
        "   if n%2==0:\n",
        "       continue\n",
        "   print(n, end=\" \")\n",
        "else:\n",
        "   print(\"Exec\", end=\" \")"
      ],
      "metadata": {
        "id": "wO181JakmFUA"
      }
    },
    {
      "cell_type": "code",
      "source": [
        "# Exec. 8 6 4 2 0. 8 6 4 2 0 Exec No output"
      ],
      "metadata": {
        "id": "ALjaNYdlmMe6"
      },
      "execution_count": null,
      "outputs": []
    },
    {
      "cell_type": "markdown",
      "source": [
        "Q1. Print Integer in Words\n",
        "\n",
        "Take an integer A as input. You have to print A in word form.\n",
        "\n",
        "Following are the words that should be replaced in place of a digit:\n",
        "\n",
        "For digit = 0, word = zero\n",
        "For digit = 1, word = one\n",
        "For digit = 2, word = two\n",
        "For digit = 3, word = three\n",
        "For digit = 4, word = four\n",
        "For digit = 5, word = five\n",
        "For digit = 6, word = six\n",
        "For digit = 7, word = seven\n",
        "For digit = 8, word = eight\n",
        "For digit = 9, word = nine\n",
        "\n",
        "For eg., If A = 2634, you should print two six three four.\n",
        "\n",
        "NOTE: Words should be seperated by a single space. Also, the output is case sensitive. There will be no zeros at the start of a number."
      ],
      "metadata": {
        "id": "BL4tvA6omWhG"
      }
    },
    {
      "cell_type": "code",
      "source": [
        "A = int(input())\n",
        "\n",
        "D = int(len(str(A)))\n",
        "Reverse = 0\n",
        "while A>0:\n",
        "    Reminder = A % 10\n",
        "    Reverse = (Reverse * 10) + Reminder\n",
        "    A=A//10\n",
        "\n",
        "A = Reverse\n",
        "while D>=0:\n",
        "    ld = A % 10\n",
        "    A = A // 10\n",
        "    #print(ld)\n",
        "    for i in range(1,D+1):\n",
        "        if ld == 0: print(\"zero\", end=\" \")\n",
        "        if ld == 1: print(\"one\", end=\" \")\n",
        "        if ld == 2: print(\"two\", end=\" \")\n",
        "        if ld == 3: print(\"three\", end=\" \")\n",
        "        if ld == 4: print(\"four\", end=\" \")\n",
        "        if ld == 5: print(\"five\", end=\" \")\n",
        "        if ld == 6: print(\"six\", end=\" \")\n",
        "        if ld == 7: print(\"seven\", end=\" \")\n",
        "        if ld == 8: print(\"eight\", end=\" \")\n",
        "        if ld == 9: print(\"nine\", end=\" \")\n",
        "        break\n",
        "    D -= 1"
      ],
      "metadata": {
        "id": "JizmKh0tmkhF"
      },
      "execution_count": null,
      "outputs": []
    },
    {
      "cell_type": "markdown",
      "source": [
        "Q2. Print the Primes!\n",
        "\n",
        "You are given an integer N you need to print all the Prime Numbers between 1 and N.\n",
        "\n",
        "Prime numbers are numbers that have only 2 factors: 1 and themselves. For example, the first 5 prime numbers are 2, 3, 5, 7, and 11.\n",
        "\n",
        "\n",
        "Problem Constraints\n",
        "\n",
        "1 <= N <= 300\n",
        "\n",
        "\n",
        "\n",
        "Input Format\n",
        "\n",
        "First and only line of input contains a single integer N."
      ],
      "metadata": {
        "id": "fC_zHR6omr9T"
      }
    },
    {
      "cell_type": "code",
      "source": [
        "N = int(input())\n",
        "for i in range(2,N+1):\n",
        "    count = 2\n",
        "    for j in range(2,i):\n",
        "        if i%j==0:\n",
        "            count+=1\n",
        "\n",
        "    if count==2:\n",
        "        print (i)"
      ],
      "metadata": {
        "id": "iWyyeleom2wB"
      },
      "execution_count": null,
      "outputs": []
    },
    {
      "cell_type": "markdown",
      "source": [
        "Q3. Is It Perfect?\n",
        "\n",
        "Take T (number of test cases) as input.\n",
        "\n",
        "For each test case, take integer N as input, you have to tell whether it is a perfect number or not.\n",
        "\n",
        "A perfect number is a positive integer that is equal to the sum of its proper positive divisors (excluding the number itself). A positive proper divisor divides a number without leaving any remainder.\n",
        "\n",
        "Problem Constraints\n",
        "\n",
        "1 <= T <= 10\n",
        "\n",
        "1 <= N <= 106\n",
        "\n",
        "Input Format\n",
        "\n",
        "The first line of the input contains a single integer T.\n",
        "\n",
        "Each of the next T lines contains a single integer N."
      ],
      "metadata": {
        "id": "NXTm5AJlm7nE"
      }
    },
    {
      "cell_type": "code",
      "source": [
        "A = int(input())\n",
        "l = 1\n",
        "while l <= A:\n",
        "    l += 1\n",
        "    N = int(input())\n",
        "    sum1 = 0\n",
        "    for i in range(1, N):\n",
        "        if N % i == 0:\n",
        "            sum1= sum1+i\n",
        "    if sum1 == N:\n",
        "        print(\"YES\")\n",
        "    else:\n",
        "        print(\"NO\")"
      ],
      "metadata": {
        "id": "iD7Ok4ZznG24"
      },
      "execution_count": null,
      "outputs": []
    },
    {
      "cell_type": "markdown",
      "source": [
        "Q4. Perfect Numbers - II\n",
        "\n",
        "Take an integer A as input.\n",
        "\n",
        "You have to print all the perfect numbers which lie in the range [1, A] in ascending order.\n",
        "\n",
        "Perfect number is a positive integer which is equal to the sum of its proper positive divisors.\n",
        "\n",
        "A proper divisor of a natural number is the divisor that is strictly less than the number.\n",
        "Problem Constraints\n",
        "1 <= A <= 1000\n",
        "Input Format\n",
        "First and only line of the input contains a single positive integer A.\n",
        "Output Format\n",
        "Print the perfect numbers in ascending order in separate lines."
      ],
      "metadata": {
        "id": "aUInOrq9nKDq"
      }
    },
    {
      "cell_type": "code",
      "source": [
        "A = int(input())\n",
        "\n",
        "for i in range(1, A+1):\n",
        "    sum1 = 0\n",
        "    for j in range(1,i):\n",
        "        if i%j == 0:\n",
        "            sum1+=j\n",
        "    if sum1==i:\n",
        "        print(i)"
      ],
      "metadata": {
        "id": "85jDIeymnanp"
      },
      "execution_count": null,
      "outputs": []
    },
    {
      "cell_type": "markdown",
      "source": [],
      "metadata": {
        "id": "5X9G0qQSndq8"
      }
    },
    {
      "cell_type": "code",
      "execution_count": null,
      "metadata": {
        "id": "HIP-XKW8Ti_v"
      },
      "outputs": [],
      "source": []
    }
  ]
}