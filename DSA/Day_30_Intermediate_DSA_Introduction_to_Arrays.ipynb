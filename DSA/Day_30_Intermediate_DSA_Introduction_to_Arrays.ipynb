{
  "nbformat": 4,
  "nbformat_minor": 0,
  "metadata": {
    "colab": {
      "provenance": [],
      "authorship_tag": "ABX9TyO9cH4C+oo6E3JRveKHVtlP",
      "include_colab_link": true
    },
    "kernelspec": {
      "name": "python3",
      "display_name": "Python 3"
    },
    "language_info": {
      "name": "python"
    }
  },
  "cells": [
    {
      "cell_type": "markdown",
      "metadata": {
        "id": "view-in-github",
        "colab_type": "text"
      },
      "source": [
        "<a href=\"https://colab.research.google.com/github/Rama27SepIBM/21DaysOfLeetcode/blob/main/Day_30_Intermediate_DSA_Introduction_to_Arrays.ipynb\" target=\"_parent\"><img src=\"https://colab.research.google.com/assets/colab-badge.svg\" alt=\"Open In Colab\"/></a>"
      ]
    },
    {
      "cell_type": "markdown",
      "source": [
        "Q1. Count of elements\n",
        "\n",
        "Given an array A of N integers. Count the number of elements that have at least 1 elements greater than itself."
      ],
      "metadata": {
        "id": "CTzJhqaqMqnT"
      }
    },
    {
      "cell_type": "code",
      "execution_count": null,
      "metadata": {
        "id": "AXkcNvMZMlLD"
      },
      "outputs": [],
      "source": [
        "class Solution:\n",
        "    # @param A : list of integers\n",
        "    # @return an integer\n",
        "    def solve(self, A):\n",
        "        count = 0\n",
        "        n=len(A)\n",
        "        for i in range(n):\n",
        "            for j in range(0,n):\n",
        "                if A[j] > A[i]:\n",
        "                    count+=1\n",
        "                    break\n",
        "        return count"
      ]
    },
    {
      "cell_type": "markdown",
      "source": [
        "Q2. Good Pair\n",
        "\n",
        "Given an array A and an integer B. A pair(i, j) in the array is a good pair if i != j and (A[i] + A[j] == B). Check if any good pair exist or not."
      ],
      "metadata": {
        "id": "HjGlJwQcM7Ka"
      }
    },
    {
      "cell_type": "code",
      "source": [
        "class Solution:\n",
        "    # @param A : list of integers\n",
        "    # @param B : integer\n",
        "    # @return an integer\n",
        "    def solve(self, A, B):\n",
        "        n=len(A)\n",
        "        for i in range(0,n):\n",
        "            for j in range(0,n):\n",
        "                if (A[i]+A[j]==B and i!=j):\n",
        "                    return 1\n",
        "        return 0"
      ],
      "metadata": {
        "id": "aErYj63INBtA"
      },
      "execution_count": null,
      "outputs": []
    },
    {
      "cell_type": "markdown",
      "source": [
        "Q3. Reverse in a range\n",
        "\n",
        "Given an array A of N integers. Also given are two integers B and C. Reverse the array A in the given range [B, C]"
      ],
      "metadata": {
        "id": "bv58gr9dNFFx"
      }
    },
    {
      "cell_type": "code",
      "source": [
        "class Solution:\n",
        "    # @param A : list of integers\n",
        "    # @param B : integer\n",
        "    # @param C : integer\n",
        "    # @return a list of integers\n",
        "    def solve(self, A, B, C):\n",
        "        A=list(A)\n",
        "        while B <C:\n",
        "            A[B],A[C]=A[C],A[B]\n",
        "            B+=1\n",
        "            C-=1\n",
        "        return A"
      ],
      "metadata": {
        "id": "d3SHm_m1NMhj"
      },
      "execution_count": null,
      "outputs": []
    },
    {
      "cell_type": "markdown",
      "source": [
        "Q4. Reverse the Array\n",
        "\n",
        "You are given a constant array A.\n",
        "\n",
        "You are required to return another array which is the reversed form of the input array."
      ],
      "metadata": {
        "id": "d74BI0UeNPsw"
      }
    },
    {
      "cell_type": "code",
      "source": [
        "class Solution:\n",
        "    # @param A : tuple of integers\n",
        "    # @return a list of integers\n",
        "    def solve(self, A):\n",
        "        return A[::-1]"
      ],
      "metadata": {
        "id": "MLN9NQARNVqy"
      },
      "execution_count": null,
      "outputs": []
    },
    {
      "cell_type": "markdown",
      "source": [
        "Q5. Array Rotation\n",
        "\n",
        "Given an integer array A of size N and an integer B, you have to return the same array after rotating it B times towards the right."
      ],
      "metadata": {
        "id": "V83Hw1L8NZMf"
      }
    },
    {
      "cell_type": "code",
      "source": [
        "def reverse(A, start, end):\n",
        "        i, j = start, end\n",
        "        while(i < j):\n",
        "            temp = A[i]\n",
        "            A[i] = A[j]\n",
        "            A[j] = temp\n",
        "            i, j = i+1, j - 1\n",
        "\n",
        "class Solution:\n",
        "    # @param A : list of integers\n",
        "    # @param B : integer\n",
        "    # @return a list of integers\n",
        "    def solve(self, A, B):\n",
        "        N = len(A)\n",
        "        B = B % N\n",
        "        reverse(A,0,N-1)\n",
        "        reverse(A,0,B-1)\n",
        "        reverse(A,B,N-1)\n",
        "        return A"
      ],
      "metadata": {
        "id": "Ngb42pEqNfFK"
      },
      "execution_count": null,
      "outputs": []
    },
    {
      "cell_type": "markdown",
      "source": [
        "Q6. Time Complexity - Arrays\n",
        "\n",
        "What is the time complexity for inserting/deleting at the beginning of the array?"
      ],
      "metadata": {
        "id": "yMC6jxH9NkRs"
      }
    },
    {
      "cell_type": "code",
      "source": [
        "# O(1) O(N) O(logN) O(N^2)"
      ],
      "metadata": {
        "id": "Ge2eIg8HNrR4"
      },
      "execution_count": null,
      "outputs": []
    },
    {
      "cell_type": "markdown",
      "source": [
        "Q1. Max Min of an Array\n",
        "\n",
        "Given an array A of size N. You need to find the sum of Maximum and Minimum element in the given array."
      ],
      "metadata": {
        "id": "VTT_QJcBN0qj"
      }
    },
    {
      "cell_type": "code",
      "source": [
        "cass Solution:\n",
        "    # @param A : list of integers\n",
        "    # @return an integer\n",
        "    def solve(self, A):\n",
        "        mx=-10000000000\n",
        "        mn= 10000000000\n",
        "        for i in A:\n",
        "            mx=max(mx,i)\n",
        "            mn=min(mn,i)\n",
        "        return mx+mn"
      ],
      "metadata": {
        "id": "CECJO8K0N8q6"
      },
      "execution_count": null,
      "outputs": []
    },
    {
      "cell_type": "markdown",
      "source": [
        "Q2. Linear Search - Multiple Occurences\n",
        "\n",
        "Given an array A and an integer B, find the number of occurrences of B in A."
      ],
      "metadata": {
        "id": "tYwtRVjsOAdf"
      }
    },
    {
      "cell_type": "code",
      "source": [
        "class Solution:\n",
        "    # @param A : list of integers\n",
        "    # @param B : integer\n",
        "    # @return an integer\n",
        "    def solve(self, A, B):\n",
        "        count = 0\n",
        "        n = len(A)\n",
        "        for i in range(0,n):\n",
        "            if (A[i]==B):\n",
        "                count += 1\n",
        "        return count"
      ],
      "metadata": {
        "id": "1YZN2v14OGbu"
      },
      "execution_count": null,
      "outputs": []
    },
    {
      "cell_type": "markdown",
      "source": [
        "Q3. Second Largest\n",
        "\n",
        "You are given an integer array A. You have to find the second largest element/value in the array or report that no such element exists."
      ],
      "metadata": {
        "id": "6N2LM62dOKAh"
      }
    },
    {
      "cell_type": "code",
      "source": [
        "class Solution:\n",
        "    # @param A : list of integers\n",
        "    # @return an integer\n",
        "    def solve(self, A):\n",
        "        if len(A) == 1:\n",
        "            return -1\n",
        "        else:\n",
        "            max_element = max(A)\n",
        "            min_element = min(A)\n",
        "            if max_element == min_element :\n",
        "                return -1\n",
        "            else:\n",
        "                A = list(set(A))\n",
        "                A.sort()\n",
        "                return A[-2]"
      ],
      "metadata": {
        "id": "UF-o-FMDOQTo"
      },
      "execution_count": null,
      "outputs": []
    },
    {
      "cell_type": "markdown",
      "source": [
        "Q4. Range Sum Query - II\n",
        "\n",
        "You are given an integer array A of length N.\n",
        "You are also given a 2D integer array B with dimensions M x 2, where each row denotes a [L, R] query.\n",
        "For each query, you have to find the sum of all elements from L to R indices in A (0 - indexed).\n",
        "More formally, find A[L] + A[L + 1] + A[L + 2] +... + A[R - 1] + A[R] for each query."
      ],
      "metadata": {
        "id": "iifISd4xOUgc"
      }
    },
    {
      "cell_type": "code",
      "source": [
        "class Solution:\n",
        "    # @param A : list of integers\n",
        "    # @param B : list of list of integers\n",
        "    # @return a list of integers\n",
        "    def solve(self, A, B):\n",
        "        result = list()\n",
        "        for i in range(len(B)):\n",
        "            l=B[i][0] -  1\n",
        "            r=B[i][1] - 1\n",
        "            sum1=0\n",
        "            for j in range(l,r+1):\n",
        "                sum1+=A[j]\n",
        "            result.append(sum1)\n",
        "        return result"
      ],
      "metadata": {
        "id": "fsyPw0mdObS_"
      },
      "execution_count": null,
      "outputs": []
    },
    {
      "cell_type": "markdown",
      "source": [
        "Q5. Time to equality\n",
        "\n",
        "Given an integer array A of size N. In one second, you can increase the value of one element by 1.\n",
        "\n",
        "Find the minimum time in seconds to make all elements of the array equal."
      ],
      "metadata": {
        "id": "q5U_4Ie9Of6i"
      }
    },
    {
      "cell_type": "code",
      "source": [
        "class Solution:\n",
        "    # @param A : list of integers\n",
        "    # @return an integer\n",
        "    def solve(self, A):\n",
        "        time = 0\n",
        "        max_element = max(A)\n",
        "        for  x in range(len(A)):\n",
        "            if A[x] != max_element:\n",
        "                time = time + (max_element - A[x])\n",
        "        return time"
      ],
      "metadata": {
        "id": "2xW72PTVOlut"
      },
      "execution_count": null,
      "outputs": []
    },
    {
      "cell_type": "markdown",
      "source": [
        "Q6. Problems on 1D Arrays-2 MCQ D\n",
        "\n",
        "What will be the output of the following code?\n",
        "\n",
        "class Main {\n",
        "\n",
        "   static void fun(int[]arr) {\n",
        "\n",
        "       arr[3] = 98;\n",
        "\n",
        "       return;\n",
        "\n",
        "   }\n",
        "\n",
        "  \n",
        "\n",
        "   public static void main(String args[]) {\n",
        "\n",
        "       int[]arr = {10,20,30,40,50};\n",
        "\n",
        "       fun(arr);\n",
        "\n",
        "       System.out.println(arr[3]);\n",
        "\n",
        "   }\n",
        "\n",
        "}"
      ],
      "metadata": {
        "id": "0HVN_5RSOpxd"
      }
    },
    {
      "cell_type": "code",
      "source": [
        "# 40 30 98 error"
      ],
      "metadata": {
        "id": "_m9iNswxOwrv"
      },
      "execution_count": null,
      "outputs": []
    }
  ]
}