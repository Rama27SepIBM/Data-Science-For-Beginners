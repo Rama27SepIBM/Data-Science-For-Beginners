{
  "nbformat": 4,
  "nbformat_minor": 0,
  "metadata": {
    "colab": {
      "provenance": [],
      "authorship_tag": "ABX9TyNB3eDC6h3vAln5Gj4Hzr1W",
      "include_colab_link": true
    },
    "kernelspec": {
      "name": "python3",
      "display_name": "Python 3"
    },
    "language_info": {
      "name": "python"
    }
  },
  "cells": [
    {
      "cell_type": "markdown",
      "metadata": {
        "id": "view-in-github",
        "colab_type": "text"
      },
      "source": [
        "<a href=\"https://colab.research.google.com/github/Rama27SepIBM/Data-Science-For-Beginners/blob/main/Day_70_DSA_Two_Pointers.ipynb\" target=\"_parent\"><img src=\"https://colab.research.google.com/assets/colab-badge.svg\" alt=\"Open In Colab\"/></a>"
      ]
    },
    {
      "cell_type": "markdown",
      "source": [
        "Q1. Container With Most Water\n",
        "\n",
        "Given n non-negative integers A[0], A[1], ..., A[n-1] , where each represents a point at coordinate (i, A[i]).\n",
        "\n",
        "N vertical lines are drawn such that the two endpoints of line i is at (i, A[i]) and (i, 0).\n",
        "\n",
        "Find two lines, which together with x-axis forms a container, such that the container contains the most water.\n",
        "\n",
        "Note: You may not slant the container.\n",
        "\n",
        "\n",
        "\n",
        "Problem Constraints\n",
        "0 <= N <= 105"
      ],
      "metadata": {
        "id": "bKQ5o2OfJDTV"
      }
    },
    {
      "cell_type": "code",
      "execution_count": null,
      "metadata": {
        "id": "L9qsqmS6I9TG"
      },
      "outputs": [],
      "source": [
        "class Solution:\n",
        "\t# @param A : list of integers\n",
        "\t# @return an integer\n",
        "\tdef maxArea(self, A):\n",
        "        left, right = 0, len(A) - 1\n",
        "        maxArea = 0\n",
        "        while left < right:\n",
        "            current_area = min(A[left], A[right]) * (right - left)\n",
        "            maxArea = max(maxArea, current_area)\n",
        "\n",
        "            if A[left] < A[right]:\n",
        "                left += 1\n",
        "            else:\n",
        "                right -= 1\n",
        "        return maxArea"
      ]
    },
    {
      "cell_type": "markdown",
      "source": [
        "Q1. Pairs with given sum II\n",
        "\n",
        "Given a sorted array of integers (not necessarily distinct) A and an integer B, find and return how many pair of integers ( A[i], A[j] ) such that i != j have sum equal to B.\n",
        "\n",
        "Since the number of such pairs can be very large, return number of such pairs modulo (109 + 7).\n",
        "\n",
        "\n",
        "\n",
        "Problem Constraints\n",
        "1 <= |A| <= 100000"
      ],
      "metadata": {
        "id": "QWpgNytTJWhb"
      }
    },
    {
      "cell_type": "code",
      "source": [
        "class Solution:\n",
        "    # @param A : list of integers\n",
        "    # @param B : integer\n",
        "    # @return an integer\n",
        "    def solve(self, A, B):\n",
        "        MOD = 10**9 + 7\n",
        "        n = len(A)\n",
        "        i = 0\n",
        "        j = n - 1\n",
        "        count = 0\n",
        "        while i < j:\n",
        "            curr_sum = A[i] + A[j]\n",
        "            if curr_sum == B:\n",
        "                if A[i] != A[j]:\n",
        "                    count_A_i = 1\n",
        "                    count_A_j = 1\n",
        "                    while i+1 < n and A[i] == A[i+1]:\n",
        "                        count_A_i += 1\n",
        "                        i += 1\n",
        "                        \n",
        "                    while j-1 >= 0 and A[j] == A[j-1]:\n",
        "                        count_A_j += 1\n",
        "                        j -= 1\n",
        "                    \n",
        "                    count = (int)((count + (count_A_i * count_A_j)) % MOD)\n",
        "                else:\n",
        "                    count_A_i = 1\n",
        "                    while i+1 < n and A[i] == A[i+1]:\n",
        "                        count_A_i += 1\n",
        "                        i += 1\n",
        "                        \n",
        "                    count = (int)((count + (count_A_i * (count_A_i-1)) / 2) % MOD)\n",
        "                i += 1\n",
        "                j -= 1\n",
        "            elif curr_sum < B:\n",
        "                i += 1\n",
        "            else:\n",
        "                j -= 1\n",
        "        return count"
      ],
      "metadata": {
        "id": "W3qpZWtOJemj"
      },
      "execution_count": null,
      "outputs": []
    },
    {
      "cell_type": "markdown",
      "source": [
        "Q2. Another Count Rectangles\n",
        "\n",
        "Given a sorted array of distinct integers A and an integer B, find and return how many rectangles with distinct configurations can be created using elements of this array as length and breadth whose area is lesser than B.\n",
        "\n",
        "(Note that a rectangle of 2 x 3 is different from 3 x 2 if we take configuration into view)\n",
        "\n",
        "\n",
        "\n",
        "Problem Constraints\n",
        "\n",
        "1 <= |A| <= 100000"
      ],
      "metadata": {
        "id": "IzK8JrpdJj4y"
      }
    },
    {
      "cell_type": "code",
      "source": [
        "class Solution:\n",
        "    # @param A : list of integers\n",
        "    # @param B : integer\n",
        "    # @return an integer\n",
        "    def solve(self, A, B):\n",
        "        n = len(A)\n",
        "        i = 0\n",
        "        j = n - 1\n",
        "        res = 0\n",
        "        \n",
        "        while(i < n and j >= 0):\n",
        "            if(A[i] * A[j] >= B):\n",
        "                j -= 1\n",
        "            else:\n",
        "                # A[i] can form rectangles with any of A[0..j]\n",
        "                res += j + 1; \n",
        "                i += 1\n",
        "        return res %(1000000000+7)"
      ],
      "metadata": {
        "id": "DPlPAPH1JsUR"
      },
      "execution_count": null,
      "outputs": []
    },
    {
      "cell_type": "markdown",
      "source": [
        "Q3. 3 Sum\n",
        "\n",
        "Given an array A of N integers, find three integers in A such that the sum is closest to a given number B. Return the sum of those three integers.\n",
        "\n",
        "Assume that there will only be one solution.\n",
        "\n",
        "\n",
        "\n",
        "Problem Constraints\n",
        "-108 <= B <= 108"
      ],
      "metadata": {
        "id": "vGmCyw7eJw3A"
      }
    },
    {
      "cell_type": "code",
      "source": [
        "class Solution:\n",
        "\t# @param A : list of integers\n",
        "\t# @param B : integer\n",
        "\t# @return an integer\n",
        "\tdef threeSumClosest(self, A, B):\n",
        "        n = len(A)\n",
        "        A.sort()\n",
        "        closest_sum = float('inf')\n",
        "        for i in range(n-2):\n",
        "            j = i+1\n",
        "            k = n-1\n",
        "            while j < k:\n",
        "                curr_sum = A[i] + A[j] + A[k]\n",
        "                if abs(curr_sum - B) < abs(closest_sum - B):\n",
        "                    closest_sum = curr_sum\n",
        "                if curr_sum < B:\n",
        "                    j += 1\n",
        "                else:\n",
        "                    k -= 1\n",
        "                    \n",
        "        return closest_sum"
      ],
      "metadata": {
        "id": "l9v95kp7J6Fq"
      },
      "execution_count": null,
      "outputs": []
    },
    {
      "cell_type": "markdown",
      "source": [
        "Q4. Pairs with Given Difference\n",
        "\n",
        "Given an one-dimensional integer array A of size N and an integer B.\n",
        "\n",
        "Count all distinct pairs with difference equal to B.\n",
        "\n",
        "Here a pair is defined as an integer pair (x, y), where x and y are both numbers in the array and their absolute difference is B.\n",
        "\n",
        "\n",
        "\n",
        "Problem Constraints\n",
        "1 <= N <= 104"
      ],
      "metadata": {
        "id": "62nF1VKDJ_Qa"
      }
    },
    {
      "cell_type": "code",
      "source": [
        "class Solution:\n",
        "    # @param A : list of integers\n",
        "    # @param B : integer\n",
        "    # @return an integer\n",
        "    def solve(self, A, B):\n",
        "        n = len(A)\n",
        "        count = 0\n",
        "        num_set = set()\n",
        "        if (B == 0):\n",
        "            dic = {}\n",
        "            for num in A:\n",
        "                if num in dic :\n",
        "                    dic[num] = dic[num] + 1\n",
        "                else : # first time\n",
        "                    dic[num] = 1\n",
        "            for key in dic :\n",
        "                if dic[key] >= 2:\n",
        "                    count +=1\n",
        "            return count\n",
        "        for num in A:\n",
        "            if num in num_set :\n",
        "                continue\n",
        "            if num - B in num_set:\n",
        "                count += 1\n",
        "            if num + B in num_set:\n",
        "                count += 1\n",
        "            num_set.add(num)\n",
        "        return count "
      ],
      "metadata": {
        "id": "LTIzQ1yLKHbZ"
      },
      "execution_count": null,
      "outputs": []
    },
    {
      "cell_type": "markdown",
      "source": [
        "Q5. 3 Sum Zero\n",
        "\n",
        "Given an array A of N integers, are there elements a, b, c in S such that a + b + c = 0\n",
        "\n",
        "Find all unique triplets in the array which gives the sum of zero.\n",
        "\n",
        "Note:\n",
        "\n",
        "Elements in a triplet (a,b,c) must be in non-descending order. (ie, a ≤ b ≤ c) The solution set must not contain duplicate triplets.\n",
        "\n",
        "\n",
        "\n",
        "Problem Constraints\n",
        "\n",
        "0 <= N <= 7000\n",
        "\n"
      ],
      "metadata": {
        "id": "QOAW5tHnKQIJ"
      }
    },
    {
      "cell_type": "code",
      "source": [
        "class Solution:\n",
        "\t# @param A : list of integers\n",
        "\t# @return a list of list of integers\n",
        "\tdef threeSum(self, A):\n",
        "        n = len(A)\n",
        "        A.sort()\n",
        "        triplets = []\n",
        "        for i in range(n-2):\n",
        "            if i > 0 and A[i] == A[i-1]:\n",
        "                continue\n",
        "            j = i+1\n",
        "            k = n-1\n",
        "            while j < k:\n",
        "                curr_sum = A[i] + A[j] + A[k]\n",
        "                if curr_sum == 0:\n",
        "                    triplets.append([A[i], A[j], A[k]])\n",
        "                    j += 1\n",
        "                    k -= 1\n",
        "                    while j < k and A[j] == A[j-1]:\n",
        "                        j += 1\n",
        "                    while j < k and A[k] == A[k+1]:\n",
        "                        k -= 1\n",
        "                elif curr_sum < 0:\n",
        "                    j += 1\n",
        "                else:\n",
        "                    k -= 1\n",
        "        return triplets"
      ],
      "metadata": {
        "id": "2sziqDb4KVbj"
      },
      "execution_count": null,
      "outputs": []
    },
    {
      "cell_type": "markdown",
      "source": [
        "Q6. Sort by Color\n",
        "\n",
        "Given an array with N objects colored red, white, or blue, sort them so that objects of the same color are adjacent, with the colors in the order red, white, and blue.\n",
        "\n",
        "We will use the integers 0, 1, and 2 to represent red, white, and blue, respectively.\n",
        "\n",
        "Note: Using the library sort function is not allowed.\n",
        "\n",
        "\n",
        "\n",
        "Problem Constraints\n",
        "1 <= N <= 1000000"
      ],
      "metadata": {
        "id": "BoqCo0UOKbLK"
      }
    },
    {
      "cell_type": "code",
      "source": [
        "class Solution:\n",
        "    # @param A : list of integers\n",
        "    # @return a list of integers\n",
        "    def sortColors(self, A):\n",
        "        n = len(A)\n",
        "        left = 0\n",
        "        right = n - 1\n",
        "        mid = 0\n",
        "        while mid <= right:\n",
        "            if A[mid] == 0:\n",
        "                A[left], A[mid] = A[mid], A[left]\n",
        "                left += 1\n",
        "                mid += 1\n",
        "            elif A[mid] == 1:\n",
        "                mid += 1\n",
        "            else:\n",
        "                A[mid], A[right] = A[right], A[mid]\n",
        "                right -= 1\n",
        "        return A"
      ],
      "metadata": {
        "id": "IfqWXwN7KizG"
      },
      "execution_count": null,
      "outputs": []
    }
  ]
}