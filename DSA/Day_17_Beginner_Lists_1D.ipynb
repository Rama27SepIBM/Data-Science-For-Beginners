{
  "nbformat": 4,
  "nbformat_minor": 0,
  "metadata": {
    "colab": {
      "provenance": [],
      "authorship_tag": "ABX9TyP7++x44w7ropmpWjlI4DTx",
      "include_colab_link": true
    },
    "kernelspec": {
      "name": "python3",
      "display_name": "Python 3"
    },
    "language_info": {
      "name": "python"
    }
  },
  "cells": [
    {
      "cell_type": "markdown",
      "metadata": {
        "id": "view-in-github",
        "colab_type": "text"
      },
      "source": [
        "<a href=\"https://colab.research.google.com/github/Rama27SepIBM/21DaysOfLeetcode/blob/main/Day_17_Beginner_Lists_1D.ipynb\" target=\"_parent\"><img src=\"https://colab.research.google.com/assets/colab-badge.svg\" alt=\"Open In Colab\"/></a>"
      ]
    },
    {
      "cell_type": "markdown",
      "source": [
        "Q1. Difference of even and odd\n",
        "\n",
        "Write a program to find the difference between the sum of all even elements and the sum of all odd elements from the given list.\n",
        "\n",
        "Input Format:\n",
        "\n",
        "A list containing integers.\n",
        "Output Format:\n",
        "\n",
        "The difference of the even and odd elements sum in integer format.\n",
        "Sample Input:\n",
        "\n",
        "1\n",
        "56 63 87 24 32 13 15 19 44 52\n",
        "Sample Output:\n",
        "\n",
        "11\n",
        "Sample explanation:\n",
        "\n",
        "The sum of even elements is: 56 + 24 + 32 + 44 + 52 = 208. \n",
        "The sum of odd elements is: 63 + 87 + 13 + 15 + 19 = 197. \n",
        "Difference between even elements and odd elements sum is 208 - 197 = 11."
      ],
      "metadata": {
        "id": "Hdec34tD0krJ"
      }
    },
    {
      "cell_type": "code",
      "source": [
        "def even_odd(lst):\n",
        "    diff = 0\n",
        "    ''' input:lst-List of elements\n",
        "         output:Return diff in integer format which stores difference'''\n",
        "    \n",
        "    # YOUR CODE GOES HERe\n",
        "    i=0\n",
        "    even=0\n",
        "    odd=0\n",
        "    for num in lst:\n",
        "        if lst[i]%2==0:\n",
        "            even+=num\n",
        "            i+=1\n",
        "        else:\n",
        "            odd+=num\n",
        "            i+=1\n",
        "    diff=even-odd\n",
        "    \n",
        "    return diff"
      ],
      "metadata": {
        "id": "gwgwcdUv0wSG"
      },
      "execution_count": null,
      "outputs": []
    },
    {
      "cell_type": "markdown",
      "source": [
        "Q2. Sum the Array\n",
        "\n",
        "Write a program to print sum of elements of the input array A of size N."
      ],
      "metadata": {
        "id": "IbXF94B60zq6"
      }
    },
    {
      "cell_type": "code",
      "source": [
        "def calculate_sum(input_list):\n",
        "    # Write your code here, no need to take input\n",
        "    # Input argument: input_list\n",
        "    # Return: sum of elements in input_list\n",
        "    return sum(input_list)"
      ],
      "metadata": {
        "id": "yV_n31Dg06nA"
      },
      "execution_count": null,
      "outputs": []
    },
    {
      "cell_type": "markdown",
      "source": [
        "Q3. Finding average\n",
        "\n",
        "Ram has written the following code for finding the average of the numbers in the list.\n",
        "\n",
        "numbers = [10, 20, 30, 40, 50]\n",
        "total = 0\n",
        "for _______________:         #blank, Here we want to go through each element of the numbers, i refers to those elements\n",
        "  total = total + i\n",
        "\n",
        "num_size = len(numbers)\n",
        "avg = total/num_size\n",
        "print(avg)\n",
        "Complete the code by choosing the correct option to fill in the blank."
      ],
      "metadata": {
        "id": "L2IRnETU09Vp"
      }
    },
    {
      "cell_type": "code",
      "source": [
        "# i in range(len(numbers))\n",
        "# i in numbers\n",
        "# i in range(numbers)\n",
        "# i in len(numbers)"
      ],
      "metadata": {
        "id": "0J_vQWzH1EGu"
      },
      "execution_count": null,
      "outputs": []
    },
    {
      "cell_type": "markdown",
      "source": [
        "Q4. for loop output\n",
        "\n",
        "What will be the output of the following code:\n",
        "\n",
        "for i in range(-6, -10, -1):\n",
        "     print(i, end =\" \")"
      ],
      "metadata": {
        "id": "SwAHOTaT1PQg"
      }
    },
    {
      "cell_type": "code",
      "source": [
        "# -6 -7 -8 -9  -7 -8 -9 -10. -6 -7 -8 -9 -10. Infinite loop"
      ],
      "metadata": {
        "id": "8UDy3G7D1Vgg"
      },
      "execution_count": null,
      "outputs": []
    },
    {
      "cell_type": "markdown",
      "source": [
        "Q5. Filtering Evens\n",
        "\n",
        "Consider the following code for filtering even numbers from a list of numbers:\n",
        "\n",
        "numbers = [ 1,2,3,4,5,6,7]\n",
        "\n",
        "even = []\n",
        "for i in numbers:\n",
        "   if ????:\n",
        "   even.append(i)\n",
        "print(even)\n",
        "\n",
        "Which of the following can be the condition that can be placed at ???? to check if the given number is an even number?"
      ],
      "metadata": {
        "id": "z2XJeIWi1fag"
      }
    },
    {
      "cell_type": "code",
      "source": [
        "# i % 2 != 0. i % 2 == 0. numbers[i] % 2 != 0. numbers[i] % 2 == 0"
      ],
      "metadata": {
        "id": "0kIicqgJ2JgX"
      },
      "execution_count": null,
      "outputs": []
    },
    {
      "cell_type": "markdown",
      "source": [
        "Q1. Consecutive Duplicate\n",
        "\n",
        "Write a function to check if the input list has consecutive duplicate elements or not.\n",
        "Return True if there are consecutive duplicate elements in the list else return False.\n",
        "\n",
        "Here by consecutive duplicates, we mean duplicates that are present at consecutive indices in the array\n",
        "\n",
        "Input Format:\n",
        "\n",
        "An integer array A as the function argument.\n",
        "Output Format:\n",
        "\n",
        "Return True or False\n",
        "Sample Input:\n",
        "\n",
        "1\n",
        "4\n",
        "1 2 3 3"
      ],
      "metadata": {
        "id": "W2c7a_TM2S2u"
      }
    },
    {
      "cell_type": "code",
      "source": [
        "def duplicate(ls,n):\n",
        "    ans = None\n",
        "    ''' input:ls-List of elements and n-indicates the length of list\n",
        "         output:Return ans as True or False'''\n",
        "    \n",
        "    # YOUR CODE GOES HERE\n",
        "    if len(ls)==1:\n",
        "        ans=False\n",
        "    ns = ls\n",
        "    for i in range(len(ls)-1):\n",
        "        j=i+1\n",
        "        if ls[i] == ns[j] or ls[0]==ls[len(ls)-1]:\n",
        "            ans = True\n",
        "        else:\n",
        "            ans = False\n",
        "    \n",
        "\n",
        "    return ans"
      ],
      "metadata": {
        "id": "QKa9wJqB2bcZ"
      },
      "execution_count": null,
      "outputs": []
    },
    {
      "cell_type": "markdown",
      "source": [
        "Q2. First Multiple\n",
        "\n",
        "Write a program for a given integer x and a list ls to return the first multiple of x that occurs in the list, and if there isn’t any multiple of x in the list then return -1.\n",
        "\n",
        "Input Format:\n",
        "\n",
        "The first input to the function is a list ls and the second input is the integer x.\n",
        "Output Format:\n",
        "\n",
        "Return the multiple of x from the list in integer format, else return -1.\n",
        "Sample Input:\n",
        "\n",
        "1\n",
        "4\n",
        "2 1 2 4 3 5"
      ],
      "metadata": {
        "id": "hiynNkKA2e12"
      }
    },
    {
      "cell_type": "code",
      "source": [
        "def first_multiple(ls,x):\n",
        "    ans = -1\n",
        "    ''' input:ls-List of elements and x-indicates the integer\n",
        "         output:Return ans from the list that is divisible by x'''\n",
        "    \n",
        "    # YOUR CODE GOES HERE\n",
        "    for y in ls:\n",
        "        if y%x==0:\n",
        "            return y\n",
        "\n",
        "    \n",
        "    return ans"
      ],
      "metadata": {
        "id": "FDOELf5K2qHd"
      },
      "execution_count": null,
      "outputs": []
    },
    {
      "cell_type": "markdown",
      "source": [
        "Q3. True about lists\n",
        "\n",
        "Which of the following statements is true for Python lists?"
      ],
      "metadata": {
        "id": "TbeJ2MoX2tjH"
      }
    },
    {
      "cell_type": "code",
      "source": [
        "# All elements in list must be of same data type.\n",
        "# There is a limit to the size of list\n",
        "# [1,2,3] and [3,1,2] are same lists\n",
        "# Same object in a list can be repeated more than once"
      ],
      "metadata": {
        "id": "Y8wgsWXb20YN"
      },
      "execution_count": null,
      "outputs": []
    },
    {
      "cell_type": "markdown",
      "source": [
        "Q4. Loop through lists\n",
        "\n",
        "What will be the output of the following code?\n",
        "\n",
        "x = [1, 2]\n",
        "y = [2, 3]\n",
        "\n",
        "for i in x:\n",
        "    for j in y:\n",
        "        print(i, j, end= \" \")"
      ],
      "metadata": {
        "id": "XgKZTLj33EUM"
      }
    },
    {
      "cell_type": "code",
      "source": [
        "# 1 2 1 3 2 2 2 3. 1 2 2 3 2 3. 1 2 2 2 13 2 3. 1 2 2 3 1 3 2 2\n"
      ],
      "metadata": {
        "id": "Xx9lRWvU3LKe"
      },
      "execution_count": null,
      "outputs": []
    },
    {
      "cell_type": "code",
      "execution_count": null,
      "metadata": {
        "id": "SsgIWiSP0cVx"
      },
      "outputs": [],
      "source": []
    }
  ]
}