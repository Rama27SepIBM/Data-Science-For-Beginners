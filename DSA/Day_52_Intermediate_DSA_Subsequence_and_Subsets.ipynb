{
  "nbformat": 4,
  "nbformat_minor": 0,
  "metadata": {
    "colab": {
      "provenance": [],
      "authorship_tag": "ABX9TyOxtxhgvxJuDpkf+H9+hlNy",
      "include_colab_link": true
    },
    "kernelspec": {
      "name": "python3",
      "display_name": "Python 3"
    },
    "language_info": {
      "name": "python"
    }
  },
  "cells": [
    {
      "cell_type": "markdown",
      "metadata": {
        "id": "view-in-github",
        "colab_type": "text"
      },
      "source": [
        "<a href=\"https://colab.research.google.com/github/Rama27SepIBM/Data-Science-For-Beginners/blob/main/Day_52_Intermediate_DSA_Subsequence_and_Subsets.ipynb\" target=\"_parent\"><img src=\"https://colab.research.google.com/assets/colab-badge.svg\" alt=\"Open In Colab\"/></a>"
      ]
    },
    {
      "cell_type": "markdown",
      "source": [
        "Q1. Little Ponny and 2-Subsequence\n",
        "\n",
        "Little Ponny has been given a string A, and he wants to find out the lexicographically minimum subsequence from it of size >= 2. Can you help him?\n",
        "\n",
        "A string a is lexicographically smaller than string b, if the first different letter in a and b is smaller in a. For example, \"abc\" is lexicographically smaller than \"acc\" because the first different letter is 'b' and 'c' which is smaller in \"abc\".\n",
        "\n"
      ],
      "metadata": {
        "id": "x1boO3kdYFBO"
      }
    },
    {
      "cell_type": "code",
      "source": [
        "import sys\n",
        "sys.setrecursionlimit(10**6)\n",
        "class Solution:\n",
        "    # @param A : string\n",
        "    # @return a strings\n",
        "    def solve(self, A):\n",
        "        res = ''\n",
        "        ans = [0]*len(A)\n",
        "        lastminindex = -1\n",
        "        for i in range(1,-1,-1):\n",
        "            currentminimum = ord('z')\n",
        "            for j in range(lastminindex+1,len(A)-i):\n",
        "                if( ord(A[j]) < currentminimum ):\n",
        "                    currentminimum = ord(A[j])\n",
        "                    lastminindex = j\n",
        "            res+=A[lastminindex]\n",
        "        return res"
      ],
      "metadata": {
        "id": "85XS3g0kYNLV"
      },
      "execution_count": null,
      "outputs": []
    },
    {
      "cell_type": "markdown",
      "source": [
        "Q1. Subset\n",
        "\n",
        "Given a set of distinct integers A, return all possible subsets.\n",
        "\n",
        "NOTE:\n",
        "\n",
        "Elements in a subset must be in non-descending order.\n",
        "The solution set must not contain duplicate subsets.\n",
        "Also, the subsets should be sorted in ascending ( lexicographic ) order.\n",
        "The list is not necessarily sorted."
      ],
      "metadata": {
        "id": "-wb1KrOJY02z"
      }
    },
    {
      "cell_type": "code",
      "source": [
        "class Solution:\n",
        "    def __init__(self):\n",
        "        self.result = None\n",
        "\n",
        "    def subsets(self, A):\n",
        "       \n",
        "        A.sort()\n",
        "        self.result = set()\n",
        "        self.calcsubsets(A, [], 0)\n",
        "\n",
        "        return sorted(self.result)\n",
        "\n",
        "    def calcsubsets(self, nums, subset, index):\n",
        "        if index == len(nums):\n",
        "            sub = tuple(sorted(subset.copy()))\n",
        "            self.result.add(sub)\n",
        "            return\n",
        "\n",
        "        # Take the number at index\n",
        "        subset.append(nums[index])\n",
        "        self.calcsubsets(nums, subset, index + 1)\n",
        "        subset.pop()\n",
        "\n",
        "        # Dont take the number\n",
        "        self.calcsubsets(nums, subset, index + 1)"
      ],
      "metadata": {
        "id": "RBjb3MKsY41l"
      },
      "execution_count": null,
      "outputs": []
    },
    {
      "cell_type": "markdown",
      "source": [
        "Q2. Sum the Difference\n",
        "\n",
        "Given an integer array, A of size N.\n",
        "You have to find all possible non-empty subsequences of the array of numbers and then, for each subsequence, find the difference between the largest and smallest numbers in that subsequence. Then add up all the differences to get the number.\n",
        "\n",
        "As the number may be large, output the number modulo 1e9 + 7 (1000000007).\n",
        "\n",
        "NOTE: Subsequence can be non-contiguous."
      ],
      "metadata": {
        "id": "lQzsPl_0ZdQ7"
      }
    },
    {
      "cell_type": "code",
      "source": [
        "class Solution:\n",
        "\t# @param A : list of integers\n",
        "\t# @return an integer\n",
        "\tdef solve(self, A):\n",
        "        mod = 1e9+7\n",
        "        _max = 0\n",
        "        _min = 0\n",
        "        n = len(A)\n",
        "        # sort the array\n",
        "        A.sort()\n",
        "        # summation of smallest numbers over all subsequences\n",
        "        for i in range(n):\n",
        "            _min = (_min * 2) %mod\n",
        "            _min += A[i]\n",
        "            _min %= mod\n",
        "        # summation of largest numbers over all subsequences\n",
        "        for i in range(n - 1, -1, -1):\n",
        "            _max = (_max * 2)\n",
        "            _max += A[i]\n",
        "            _max %= mod\n",
        "        ans= _max - _min + mod\n",
        "        ans %= mod\n",
        "        return int(ans)"
      ],
      "metadata": {
        "id": "SYL1q87SZhld"
      },
      "execution_count": null,
      "outputs": []
    },
    {
      "cell_type": "code",
      "execution_count": null,
      "metadata": {
        "id": "_8U3WP53YBpd"
      },
      "outputs": [],
      "source": []
    }
  ]
}