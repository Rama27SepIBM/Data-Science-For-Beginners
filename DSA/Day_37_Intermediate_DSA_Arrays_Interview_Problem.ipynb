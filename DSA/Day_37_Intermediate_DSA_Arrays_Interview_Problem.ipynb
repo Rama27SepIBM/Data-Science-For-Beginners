{
  "nbformat": 4,
  "nbformat_minor": 0,
  "metadata": {
    "colab": {
      "provenance": [],
      "authorship_tag": "ABX9TyNS1Lst+A+4qZ6KjZA51Jnu",
      "include_colab_link": true
    },
    "kernelspec": {
      "name": "python3",
      "display_name": "Python 3"
    },
    "language_info": {
      "name": "python"
    }
  },
  "cells": [
    {
      "cell_type": "markdown",
      "metadata": {
        "id": "view-in-github",
        "colab_type": "text"
      },
      "source": [
        "<a href=\"https://colab.research.google.com/github/Rama27SepIBM/21DaysOfLeetcode/blob/main/Day_37_Intermediate_DSA_Arrays_Interview_Problem.ipynb\" target=\"_parent\"><img src=\"https://colab.research.google.com/assets/colab-badge.svg\" alt=\"Open In Colab\"/></a>"
      ]
    },
    {
      "cell_type": "markdown",
      "source": [
        "Q1. Sum of even indices\n",
        "\n",
        "You are given an array A of length N and Q queries given by the 2D array B of size Q*2. Each query consists of two integers B[i][0] and B[i][1].\n",
        "For every query, the task is to calculate the sum of all even indices in the range A[B[i][0]…B[i][1]].\n",
        "\n",
        "Note : Use 0-based indexing"
      ],
      "metadata": {
        "id": "8a5A5qwWbVXJ"
      }
    },
    {
      "cell_type": "code",
      "source": [
        "class Solution:\n",
        "    # @param A : list of integers\n",
        "    # @param B : list of list of integers\n",
        "    # @return a list of integers\n",
        "    def solve(self, A, B):\n",
        "        N = len(A)\n",
        "        Q=len(B)\n",
        "        # Calculate pfEven\n",
        "        pfEven = []\n",
        "        pfEven.append(A[0])\n",
        "        for i in range(1, N):\n",
        "            if i % 2 == 0:\n",
        "                pfEven.append(pfEven[i-1]+A[i])\n",
        "            else:\n",
        "                pfEven.append(pfEven[i-1])\n",
        "        # Calculate sum for query\n",
        "        res = []\n",
        "        for i in range(len(B)):\n",
        "            l = B[i][0]\n",
        "            r = B[i][1]\n",
        "            if l > 0:\n",
        "                res.append(pfEven[r] - pfEven[l-1])\n",
        "            else:\n",
        "                res.append(pfEven[r])\n",
        "        return res"
      ],
      "metadata": {
        "id": "2xBbDDJBbdhe"
      },
      "execution_count": null,
      "outputs": []
    },
    {
      "cell_type": "markdown",
      "source": [
        "Q2. Sum of odd indices\n",
        "\n",
        "You are given an array A of length N and Q queries given by the 2D array B of size Q*2. Each query consists of two integers B[i][0] and B[i][1].\n",
        "For every query, the task is to calculate the sum of all odd indices in the range A[B[i][0]…B[i][1]].\n",
        "\n",
        "Note : Use 0-based indexing\n"
      ],
      "metadata": {
        "id": "fBZFkOu1bjiC"
      }
    },
    {
      "cell_type": "code",
      "source": [
        "class Solution:\n",
        "    # @param A : list of integers\n",
        "    # @param B : list of list of integers\n",
        "    # @return a list of integers\n",
        "    def solve(self, A, B):\n",
        "        n = len(A)\n",
        "        oddPrefix=[0]*len(A)\n",
        "        oddPrefix[0]=0\n",
        "        for i in range(len(A)):\n",
        "            if i % 2 == 1:\n",
        "                oddPrefix[i]= A[i]+oddPrefix[i-1]\n",
        "            else:\n",
        "                oddPrefix[i]=oddPrefix[i-1]\n",
        "        output=[]\n",
        "        for i in range(len(B)):\n",
        "            L=B[i][0]\n",
        "            R=B[i][1]\n",
        "            ans=0\n",
        "            if L==0:\n",
        "                ans=oddPrefix[R]\n",
        "            else:\n",
        "                ans=oddPrefix[R]-oddPrefix[L-1]\n",
        "            output.append(ans)\n",
        "\n",
        "        return output"
      ],
      "metadata": {
        "id": "j3QCxM0dbqZG"
      },
      "execution_count": null,
      "outputs": []
    },
    {
      "cell_type": "markdown",
      "source": [
        "Q3. Special Index\n",
        "\n",
        "Given an array, arr[] of size N, the task is to find the count of array indices such that removing an element from these indices makes the sum of even-indexed and odd-indexed array elements equal."
      ],
      "metadata": {
        "id": "2so0n-Sobuos"
      }
    },
    {
      "cell_type": "code",
      "source": [
        "class Solution:\n",
        "    # @param A : list of integers\n",
        "    # @return an integer\n",
        "    def solve(self, A):\n",
        "        N = len(A)\n",
        "        odd = [0] * N\n",
        "        even = [0] * N\n",
        "        even[0] = A[0]\n",
        "        count=0\n",
        "        for i in range(1, N):\n",
        "            odd[i] = odd[i - 1]\n",
        "            even[i] = even[i - 1]\n",
        "            if (i % 2 == 0):\n",
        "                even[i] += A[i]\n",
        "            else:\n",
        "                odd[i] += A[i]\n",
        "        find = False\n",
        "        p = odd[N - 1]\n",
        "        q = even[N - 1] - A[0]\n",
        "        if (p == q):\n",
        "            count+=1\n",
        "            find = True\n",
        "        for i in range(1, N):\n",
        "            if (i % 2 == 0):\n",
        "                p = even[N - 1] - even[i - 1] - A[i] + odd[i - 1];\n",
        "                q = odd[N - 1] - odd[i - 1] + even[i - 1]\n",
        "            else:\n",
        "                q = odd[N - 1] - odd[i - 1] - A[i] + even[i - 1]\n",
        "                p = even[N - 1] - even[i - 1] + odd[i - 1]\n",
        "            if (p == q):\n",
        "                find = True\n",
        "                count+=1\n",
        "        return count"
      ],
      "metadata": {
        "id": "N_jpMRIYb5lv"
      },
      "execution_count": null,
      "outputs": []
    },
    {
      "cell_type": "markdown",
      "source": [
        "Q4. Majority Element\n",
        "\n",
        "Given an array of size N, find the majority element. The majority element is the element that appears more than floor(n/2) times.\n",
        "You may assume that the array is non-empty and the majority element always exists in the array."
      ],
      "metadata": {
        "id": "LPnlePhnb-Gs"
      }
    },
    {
      "cell_type": "code",
      "source": [
        "class Solution:\n",
        "    # @param A : tuple of integers\n",
        "    # @return an integer\n",
        "    def majorityElement(self, A):\n",
        "        maj_index = 0\n",
        "        count = 0\n",
        "        for i in range(len(A)):\n",
        "            if A[maj_index] == A[i]:\n",
        "                count += 1\n",
        "            else:\n",
        "                count -= 1\n",
        "            if count == 0:\n",
        "                maj_index = i\n",
        "                count = 1\n",
        "        return A[maj_index]"
      ],
      "metadata": {
        "id": "8wuHsmzicF2p"
      },
      "execution_count": null,
      "outputs": []
    },
    {
      "cell_type": "markdown",
      "source": [
        "Q1. N/3 Repeat Number\n",
        "\n",
        "You're given a read-only array of N integers. Find out if any integer occurs more than N/3 times in the array in linear time and constant additional space.\n",
        "If so, return the integer. If not, return -1.\n",
        "\n",
        "If there are multiple solutions, return any one.\n",
        "\n",
        "Note: Read-only array means that the input array should not be modified in the process of solving the problem"
      ],
      "metadata": {
        "id": "V2C_gx38cKQV"
      }
    },
    {
      "cell_type": "code",
      "source": [
        "class Solution:\n",
        "    # @param A : tuple of integers\n",
        "    # @return an integer\n",
        "    def repeatedNumber(self, A):\n",
        "        N=len(A) \n",
        "        bat,super1= -1,-1\n",
        "        count1,count2=0,0\n",
        "        for i in A:\n",
        "            if i==bat:\n",
        "                count1+=1\n",
        "            elif i==super1:\n",
        "                count2+=1\n",
        "            elif count1==0:\n",
        "                bat=i\n",
        "                count1=1\n",
        "            elif count2==0:\n",
        "                super1=i\n",
        "                count2=1\n",
        "            else: \n",
        "                count1-=1 \n",
        "                count2-=1\n",
        "        count1,count2=0,0\n",
        "        for i in A:\n",
        "            if i==bat:\n",
        "                count1+=1\n",
        "            elif i==super1:\n",
        "                count2+=1\n",
        "            if count1>N/3:\n",
        "                return bat\n",
        "            elif count2>N/3:\n",
        "                return super1\n",
        "        return -1"
      ],
      "metadata": {
        "id": "krpkxkWIcTNX"
      },
      "execution_count": null,
      "outputs": []
    },
    {
      "cell_type": "markdown",
      "source": [
        "Q2. Color of the last ball\n",
        "\n",
        "You have 20 blue balls and 14 red balls in a bag. You put your hand in and remove 2 at a time.\n",
        "\n",
        "If they’re of the same color, you add a blue ball to the bag.\n",
        "If they’re of different colors, you add a red ball to the bag.\n",
        "( Assume you have a big supply of blue & red balls for this purpose).\n",
        "\n",
        "Note: When you take the two balls out, you don’t put them back in, so the number of balls in the bag keeps decreasing.\n",
        "\n",
        "What will be the color of the last ball left in the bag?"
      ],
      "metadata": {
        "id": "VOq-B723caKN"
      }
    },
    {
      "cell_type": "code",
      "source": [
        "# a)red b)blue c)Indeterministic"
      ],
      "metadata": {
        "id": "tdbkw8FEckSD"
      },
      "execution_count": null,
      "outputs": []
    },
    {
      "cell_type": "markdown",
      "source": [
        "Q3. Color of the last ball II\n",
        "\n",
        "You have 20 blue balls and 13 red balls in a bag. You put your hand in and remove two at a time.\n",
        "\n",
        "If they’re of the same color, you add a blue ball to the bag.\n",
        "If they’re of different colors, you add a red ball to the bag.\n",
        "Assume you have an enormous supply of blue & red balls for this purpose.\n",
        "\n",
        "Note: When you take the two balls out, you don’t put them back in, so the number of balls in the bag keeps decreasing.\n",
        "\n",
        "What will be the color of the last ball left in the bag?"
      ],
      "metadata": {
        "id": "XAVOJu8VctyB"
      }
    },
    {
      "cell_type": "code",
      "source": [
        "# a)red b)blue c)Indeterministic"
      ],
      "metadata": {
        "id": "7IH51RGIc5Gr"
      },
      "execution_count": null,
      "outputs": []
    },
    {
      "cell_type": "markdown",
      "source": [
        "Q4. Ratio of Boys and Girls\n",
        "\n",
        "In a country where everyone wants a boy, each family continues having babies till they have a boy. After a long time, what is the proportion of boys to girls in the country? (Assuming probability of having a boy or a girl is the same) > Round off your answer to two decimal places and output the answer as I.xx where I is the integer part of your answer, and xx is the first two decimal places of the rounded-off answer."
      ],
      "metadata": {
        "id": "G4DaRKiUc7Om"
      }
    },
    {
      "cell_type": "code",
      "execution_count": null,
      "metadata": {
        "id": "jJRMv5djbKtL"
      },
      "outputs": [],
      "source": []
    }
  ]
}