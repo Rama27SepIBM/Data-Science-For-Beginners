{
  "nbformat": 4,
  "nbformat_minor": 0,
  "metadata": {
    "colab": {
      "provenance": [],
      "authorship_tag": "ABX9TyP7vivJYSPt09tkMB2PEfzG",
      "include_colab_link": true
    },
    "kernelspec": {
      "name": "python3",
      "display_name": "Python 3"
    },
    "language_info": {
      "name": "python"
    }
  },
  "cells": [
    {
      "cell_type": "markdown",
      "metadata": {
        "id": "view-in-github",
        "colab_type": "text"
      },
      "source": [
        "<a href=\"https://colab.research.google.com/github/Rama27SepIBM/21DaysOfLeetcode/blob/main/Day_14_Beginner_Iteration_Pattern_Printingipynb.ipynb\" target=\"_parent\"><img src=\"https://colab.research.google.com/assets/colab-badge.svg\" alt=\"Open In Colab\"/></a>"
      ]
    },
    {
      "cell_type": "markdown",
      "source": [
        "Q1. Two Line Star Pattern\n",
        "\n",
        "Problem Description\n",
        "Print the pattern for the given value of N.\n",
        "\n",
        "*<N-2 Spaces>*\n",
        "*<N-2 Spaces>*\n",
        "........................\n",
        "........................\n",
        "........................\n",
        "N Rows.\n",
        "\n",
        "\n",
        "Problem Constraints\n",
        "2 <= N <= 100\n",
        "\n",
        "\n",
        "\n",
        "Input Format\n",
        "First and only line of input contains a single integer N.\n",
        "\n",
        "\n",
        "\n",
        "Output Format\n",
        "Output the pattern corresponding to the given N."
      ],
      "metadata": {
        "id": "myerAGGRM99F"
      }
    },
    {
      "cell_type": "code",
      "execution_count": null,
      "metadata": {
        "id": "dPS7X-_YM4_f"
      },
      "outputs": [],
      "source": [
        "N = int(input())\n",
        "for i in range(N):\n",
        "    print(\"*\",end=\"\")\n",
        "    for j in range(N-2):\n",
        "        print(\" \",end=\"\")\n",
        "    print(\"*\")"
      ]
    },
    {
      "cell_type": "markdown",
      "source": [
        "Q2. Leading spaces inverted pyramid\n",
        "\n",
        "Take an integer N as input, print the corresponding pattern for N.\n",
        "\n",
        "For example if N = 5 then pattern will be like:\n",
        "\n",
        "*****\n",
        "_****\n",
        "__***\n",
        "___**\n",
        "____*\n",
        "Note : Here '_' represents space for explanation purpose only. You have to print space in your code.\n",
        "\n",
        "\n",
        "\n",
        "Problem Constraints\n",
        "1 <= N <= 100\n",
        "\n",
        "\n",
        "\n",
        "Input Format\n",
        "First and only line of input contains a single integer N."
      ],
      "metadata": {
        "id": "dhULIqykNN69"
      }
    },
    {
      "cell_type": "code",
      "source": [
        "n=int(input())\n",
        "for i in range(n, 0, -1):\n",
        "  for k in range(n - i):\n",
        "    print(\" \", end = \"\")\n",
        "  for k in range(i):\n",
        "    print(\"*\", end = \"\")\n",
        "  print()"
      ],
      "metadata": {
        "id": "yOfWz0HWNZqV"
      },
      "execution_count": null,
      "outputs": []
    },
    {
      "cell_type": "markdown",
      "source": [
        "Q3. Full pyramid\n",
        "\n",
        "Take an integer N, print the corresponding Full Pyramid pattern for N."
      ],
      "metadata": {
        "id": "fvA8hAw4NcLm"
      }
    },
    {
      "cell_type": "code",
      "source": [
        "n = int(input())\n",
        "\n",
        "k = 0\n",
        "\n",
        "for i in range(1, n + 1):\n",
        "    for space in range(1, (n - i) + 1):\n",
        "        print(end=\" \")\n",
        "\n",
        "    while k< i:\n",
        "        print(\"* \", end=\"\")\n",
        "        k += 1\n",
        "\n",
        "    k = 0\n",
        "    print()"
      ],
      "metadata": {
        "id": "xZLxAAjDNk0A"
      },
      "execution_count": null,
      "outputs": []
    },
    {
      "cell_type": "markdown",
      "source": [
        "Q4. Leading spaces pyramid\n",
        "\n",
        "Take an integer N as input, print the corresponding pattern for N.\n",
        "\n",
        "For example if N = 5 then pattern will be like:\n",
        "\n",
        "____*\n",
        "___**\n",
        "__***\n",
        "_****\n",
        "*****\n",
        "Note : Here '_' represents space for explanation purpose only. You have to print space in your code.\n",
        "\n",
        "\n",
        "Problem Constraints\n",
        "1 <= N <= 100\n",
        "\n",
        "\n",
        "\n",
        "Input Format\n",
        "First and only line of input contains a single integer N.\n",
        "\n",
        "\n",
        "\n",
        "Output Format\n",
        "Output the pattern corresponding to the given N.\n",
        "\n",
        "\n",
        "\n",
        "Example Input\n",
        "Input 1:\n",
        "\n",
        " 2\n",
        "Input 2:\n",
        "\n",
        " 3\n",
        "\n",
        "\n",
        "Example Output\n",
        "Output 1:\n",
        "\n",
        " *\n",
        "**\n",
        "Output 2:\n",
        "\n",
        "  *\n",
        " **\n",
        "***"
      ],
      "metadata": {
        "id": "qxtzqNS_NnNx"
      }
    },
    {
      "cell_type": "code",
      "source": [
        "rows = int(input())\n",
        "\n",
        "k = 0\n",
        "\n",
        "for i in range(1, rows + 1):\n",
        "    for space in range(1, (rows - i) + 1):\n",
        "        print(end=\" \")\n",
        "\n",
        "    while k< i:\n",
        "        print(\"*\", end=\"\")\n",
        "        k += 1\n",
        "\n",
        "    k = 0\n",
        "    print()"
      ],
      "metadata": {
        "id": "IsHa6RjCNvU5"
      },
      "execution_count": null,
      "outputs": []
    },
    {
      "cell_type": "markdown",
      "source": [
        "Q5. Skip Even Numbers Half Pyramid\n",
        "\n",
        "Take an integer N as input, print the corresponding pattern for N.\n",
        "\n",
        "For example if N = 5 then pattern will be like:\n",
        "\n",
        "1\n",
        "1_\n",
        "1_3\n",
        "1_3_\n",
        "1_3_5\n",
        "Note : Here '_' represents space for explanation purpose only. You have to print space in your code.\n",
        "\n",
        "\n",
        "Problem Constraints\n",
        "1 <= N <= 100\n",
        "\n",
        "\n",
        "\n",
        "Input Format\n",
        "First and only line of input contains a single integer N."
      ],
      "metadata": {
        "id": "AnNWkyyUN4iX"
      }
    },
    {
      "cell_type": "code",
      "source": [
        "n = int(input())\n",
        "\n",
        "k = 0\n",
        "\n",
        "for i in range(1, n + 1):\n",
        "    for space in range(1, (n - i) + 1):\n",
        "        print(end=\"\")\n",
        "\n",
        "    for k in range(1,i+1):\n",
        "        if k%2!=0:\n",
        "            print(k, end=\"\")\n",
        "        else:\n",
        "            print(\" \", end=\"\")\n",
        "    print()"
      ],
      "metadata": {
        "id": "Jv69mDSwOAVK"
      },
      "execution_count": null,
      "outputs": []
    },
    {
      "cell_type": "markdown",
      "source": [
        "Q6. Print a matrix of stars\n",
        "\n",
        "Given two integers N and M as inputs, print a rectangle of N * M stars.\n",
        "For example if N = 3, M = 4 then pattern will be like:\n",
        "\n",
        "****\n",
        "****\n",
        "****\n",
        "\n",
        "\n",
        "Problem Constraints\n",
        "2 <= N, M <= 100\n",
        "\n",
        "\n",
        "\n",
        "Input Format\n",
        "First line of input contains an integers N (no of rows).\n",
        "\n",
        "Second line of input contains an integer M (no of cols)."
      ],
      "metadata": {
        "id": "YVrii28SODrk"
      }
    },
    {
      "cell_type": "code",
      "source": [
        "n = int(input())\n",
        "m = int(input())\n",
        "\n",
        "for i in range(n):\n",
        "    for j in range(m):\n",
        "        print(\"*\",end=\"\")\n",
        "    print()"
      ],
      "metadata": {
        "id": "kwYOG7v6OQkj"
      },
      "execution_count": null,
      "outputs": []
    },
    {
      "cell_type": "markdown",
      "source": [
        "Q7. Inverse Half Pyramid Pattern\n",
        "\n",
        "Take an Integer N as input. Print an Inverse half pyramid of N lines using *.\n",
        "For example for N = 5, the output should be the following pattern:-\n",
        "\n",
        "*****\n",
        "****\n",
        "***\n",
        "**\n",
        "*\n",
        "Note: There should be no space after the last * in each line of the output.\n",
        "\n",
        "Input Format\n",
        "\n",
        "The input contains a single integer N.\n",
        "Output Format\n",
        "\n",
        "The output contains the pattern described.\n",
        "Sample Input\n",
        "\n",
        "3\n",
        "Sample Output\n",
        "\n",
        "***\n",
        "**\n",
        "*"
      ],
      "metadata": {
        "id": "_li3U0xAOX-9"
      }
    },
    {
      "cell_type": "code",
      "source": [
        "n = int(input())\n",
        "\n",
        "for i in range(n):\n",
        "  for j in range(n - i):\n",
        "    print(\"*\", end= \"\")\n",
        "  print()"
      ],
      "metadata": {
        "id": "5G9Lnd31Od9n"
      },
      "execution_count": null,
      "outputs": []
    },
    {
      "cell_type": "markdown",
      "source": [
        "Q1. Hollow pyramid pattern\n",
        "\n",
        "Take an integer N as input, print the corresponding pattern for N.\n",
        "\n",
        "For example if N = 5 then pattern will be like:\n",
        "\n",
        "********** // 0 spaces\n",
        "\n",
        "****__**** // 2 spaces\n",
        "\n",
        "***____*** // 4 spaces\n",
        "\n",
        "**______** // 6 spaces\n",
        "\n",
        "*________* // 8 spaces\n",
        "NOTE: Here '_' is used to represent spaces. You have to print spaces in your code.\n",
        "\n",
        "\n",
        "\n",
        "Problem Constraints\n",
        "2 <= N <= 100"
      ],
      "metadata": {
        "id": "pd_lMMm1Og7T"
      }
    },
    {
      "cell_type": "code",
      "source": [
        "n = int(input())\n",
        "\n",
        "for i in range(1, n + 1):\n",
        "  for k in range(n - i + 1):\n",
        "    print(\"*\", end = \"\")\n",
        "\n",
        "  for k in range(2*(i-1)):\n",
        "    print(\" \", end = \"\")\n",
        "\n",
        "  for k in range(n - i + 1):\n",
        "    print(\"*\", end = \"\")\n",
        "  print()"
      ],
      "metadata": {
        "id": "5x3m2fkEOy0s"
      },
      "execution_count": null,
      "outputs": []
    },
    {
      "cell_type": "markdown",
      "source": [
        "Q2. Hollow inverted pyramid pattern\n",
        "\n",
        "Take an integer N as input, print the corresponding pattern for N.\n",
        "\n",
        "For example if N = 5 then pattern will be like:\n",
        "\n",
        "*________* // 8 spaces\n",
        "\n",
        "**______** // 6 spaces\n",
        "\n",
        "***____*** // 4 spaces\n",
        "\n",
        "****__**** // 2 spaces\n",
        "\n",
        "********** // 0 spaces\n",
        "\n",
        "NOTE: Here '_' is used to represent spaces. You have to print spaces in your code.\n",
        "\n",
        "\n",
        "Problem Constraints\n",
        "2 <= N <= 100\n",
        "\n",
        "\n",
        "\n",
        "Input Format\n",
        "First and only line of input contains a single integer N."
      ],
      "metadata": {
        "id": "s2cF8beKO2Re"
      }
    },
    {
      "cell_type": "code",
      "source": [
        "n = int(input())\n",
        "\n",
        "for i in range(n, 0, -1):\n",
        "  for k in range(n - i + 1):\n",
        "    print(\"*\", end = \"\")\n",
        "\n",
        "  for k in range(2*(i-1)):\n",
        "    print(\" \", end = \"\")\n",
        "\n",
        "  for k in range(n - i + 1):\n",
        "    print(\"*\", end = \"\")\n",
        "  print()"
      ],
      "metadata": {
        "id": "JfFojdg7O9o0"
      },
      "execution_count": null,
      "outputs": []
    },
    {
      "cell_type": "markdown",
      "source": [
        "Q3. Half Diamond\n",
        "\n",
        "Take an integer N as input, print the corresponding Half Diamond pattern with 2*N - 1 rows.\n",
        "\n",
        "For example if N = 5 then pattern will be like:\n",
        "\n",
        "* \n",
        "**\n",
        "***\n",
        "****\n",
        "*****\n",
        "****\n",
        "***\n",
        "**\n",
        "*\n",
        "NOTE: There should be no spaces after any *"
      ],
      "metadata": {
        "id": "gvguiSjiPAUz"
      }
    },
    {
      "cell_type": "code",
      "source": [
        "x=int(input())\n",
        "for i in range(1,x+1):\n",
        "  for k in range(1,i+1):\n",
        "    print(\"*\",end='')\n",
        "  print(\"\")\n",
        "  \n",
        "for i in range(x-1,0,-1):\n",
        "  for k in range(1,i+1):\n",
        "    print(\"*\",end='')\n",
        "  print(\"\")"
      ],
      "metadata": {
        "id": "0R8M-ChAPKcq"
      },
      "execution_count": null,
      "outputs": []
    },
    {
      "cell_type": "markdown",
      "source": [
        "Q4. Photo Frame Pattern\n",
        "\n",
        "Take an integer N as input, print the corresponding pattern for N.\n",
        "\n",
        "For example if N = 5 then pattern will be like:\n",
        "\n",
        "*****\n",
        "*   *\n",
        "*   *\n",
        "*   *\n",
        "*****\n",
        "Note : Except for the first line and the last line, every line will have N-2 spaces between the two stars.\n",
        "\n",
        "\n",
        "Problem Constraints\n",
        "3 <= N <= 100\n",
        "\n",
        "\n",
        "Input Format\n",
        "First and only line of input contains a single integer N.\n",
        "\n",
        "\n",
        "\n",
        "Output Format\n",
        "Output the pattern corresponding to the given N."
      ],
      "metadata": {
        "id": "o37P-9LlPNVD"
      }
    },
    {
      "cell_type": "code",
      "source": [
        "N = int(input())\n",
        "for i in range(1, N + 1):\n",
        "    if i == 1:\n",
        "        print(\"*\" * (N - 1), end=\"\")\n",
        "    elif i == N:\n",
        "        print(\"*\" * (N - 1), end=\"\")\n",
        "    else:\n",
        "        print(\"*\", end=\"\")\n",
        "        for j in range(2, N):\n",
        "            print(\" \", end=\"\")\n",
        "    print(\"*\")"
      ],
      "metadata": {
        "id": "br35ksYzPU4I"
      },
      "execution_count": null,
      "outputs": []
    },
    {
      "cell_type": "markdown",
      "source": [
        "Q5. Hollow Inverted Half Pyramid\n",
        "\n",
        "Given an integer N as input, print the corresponding Hollow Inverted Half Pyramid pattern for N.\n",
        "\n",
        "For example if N = 6 then pattern will be like:\n",
        "\n",
        "******\n",
        "*   *\n",
        "*  *\n",
        "* *\n",
        "**\n",
        "*\n",
        "\n",
        "\n",
        "Problem Constraints\n",
        "\n",
        "1 <= N <= 100\n",
        "\n",
        "\n",
        "\n",
        "Input Format\n",
        "\n",
        "First and only line of input contains a single integer N.\n",
        "\n",
        "\n",
        "\n",
        "Output Format\n",
        "\n",
        "Output the Hollow Inverted Half Pyramid pattern corresponding to the given N."
      ],
      "metadata": {
        "id": "kdSYzE5LPYPQ"
      }
    },
    {
      "cell_type": "code",
      "source": [
        "n = int(input())\n",
        "\n",
        "for i in range(n, 0, -1):\n",
        "\n",
        "    if i == 1:\n",
        "        print(\"\", end=\"\")\n",
        "    elif i == 2:\n",
        "        print(\"\", end=\"*\")\n",
        "    elif i == n:\n",
        "        print(\"*\" * (n - 1), end=\"\")\n",
        "    else:\n",
        "        for j in range(i - 1):\n",
        "            if j == 0:\n",
        "                print(\"*\", end=\"\")\n",
        "            else:\n",
        "                print(\" \", end=\"\")\n",
        "    print(\"*\")"
      ],
      "metadata": {
        "id": "3VipUdeUPgt3"
      },
      "execution_count": null,
      "outputs": []
    },
    {
      "cell_type": "markdown",
      "source": [
        "Q6. Different Number Triangle\n",
        "\n",
        "Take an integer N as input, print the corresponding Full Numeric Pyramid pattern for N.\n",
        "\n",
        "For example if N = 5 then pattern will be like:\n",
        "\n",
        "0 0 0 0 5 0 0 0 0 \n",
        "0 0 0 4 8 12 0 0 0 \n",
        "0 0 3 6 9 12 15 0 0\n",
        "0 2 4 6 8 10 12 14 0\n",
        "1 2 3 4 5 6 7 8 9 \n",
        "NOTE: There should be exactly one extra space after each number for each row.\n",
        "\n",
        "\n",
        "Problem Constraints\n",
        "2 <= N <= 100"
      ],
      "metadata": {
        "id": "s393f1_CPkt0"
      }
    },
    {
      "cell_type": "code",
      "source": [
        "N = int(input())\n",
        "\n",
        "for i in range(1, N + 1):\n",
        "    for zero in range(1, (N - i) + 1):\n",
        "        print(0, end=\" \")\n",
        "    for j in range(1,(2*i+1)-1):\n",
        "        print(j*((N - i) + 1),end=\" \")\n",
        "\n",
        "\n",
        "    print(\"0 \"*(N-i))"
      ],
      "metadata": {
        "id": "hE8YaXWWPsYk"
      },
      "execution_count": null,
      "outputs": []
    },
    {
      "cell_type": "markdown",
      "source": [
        "Q7. Inverted Full Pyramid\n",
        "\n",
        "\n",
        "Take an integer N as input, and print the corresponding Inverted Full Pyramid pattern for N.\n",
        "\n",
        "For example if N = 5 then pattern will be like:\n",
        "\n",
        "* * * * * \n",
        " * * * * \n",
        "  * * * \n",
        "   * *    \n",
        "    * \n",
        "NOTE: There should be exactly one extra space after each * for each row.\n",
        "\n",
        "\n",
        "\n",
        "Problem Constraints\n",
        "\n",
        "2 <= N <= 100\n",
        "\n",
        "\n",
        "\n",
        "Input Format\n",
        "\n",
        "First and only line of input contains a single integer N.\n",
        "\n",
        "\n",
        "\n",
        "Output Format\n",
        "\n",
        "Output the Inverted Full Pyramid pattern corresponding to the given N."
      ],
      "metadata": {
        "id": "G-PsVb6gPu0N"
      }
    },
    {
      "cell_type": "code",
      "source": [
        "n = int(input())\n",
        "\n",
        "k = 0\n",
        "\n",
        "for i in range(n,0,-1 ):\n",
        "    for space in range(1, (n - i) + 1):\n",
        "        print(end=\" \")\n",
        "\n",
        "    while k< i:\n",
        "        print(\"* \", end=\"\")\n",
        "        k += 1\n",
        "\n",
        "    k = 0\n",
        "    print()"
      ],
      "metadata": {
        "id": "ep2vBs-2P3aV"
      },
      "execution_count": null,
      "outputs": []
    },
    {
      "cell_type": "markdown",
      "source": [
        "Q8. Full Numeric Pyramid\n",
        "\n",
        "\n",
        "Given an integer N as input, print the corresponding Full Numeric Pyramid pattern for N.\n",
        "\n",
        "For example if N = 5 then pattern will be like:\n",
        "\n",
        "0 0 0 0 1 0 0 0 0 \n",
        "0 0 0 2 3 2 0 0 0 \n",
        "0 0 3 4 5 4 3 0 0\n",
        "0 4 5 6 7 6 5 4 0\n",
        "5 6 7 8 9 8 7 6 5 \n",
        "\n",
        "NOTE: There should be exactly one extra space after each number for each row."
      ],
      "metadata": {
        "id": "696FZ3-OP7Bb"
      }
    },
    {
      "cell_type": "code",
      "source": [
        "rows = int(input())\n",
        "\n",
        "k = 0\n",
        "count = 0\n",
        "count1 = 0\n",
        "\n",
        "for i in range(1, rows + 1):\n",
        "    for zero in range(1, (rows - i) + 1):\n",
        "        print(0, end=\" \")\n",
        "        count += 1\n",
        "\n",
        "    while k != ((2 * i) - 1):\n",
        "        if count <= rows - 1:\n",
        "            print(i + k, end=\" \")\n",
        "            count += 1\n",
        "        else:\n",
        "            count1 += 1\n",
        "            print(i + k - (2 * count1), end=\" \")\n",
        "        k += 1\n",
        "\n",
        "    count1 = count = k = 0\n",
        "    print(\"0 \"*(rows-i))"
      ],
      "metadata": {
        "id": "JKaDdKdnQCOB"
      },
      "execution_count": null,
      "outputs": []
    }
  ]
}