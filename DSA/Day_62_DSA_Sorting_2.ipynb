{
  "nbformat": 4,
  "nbformat_minor": 0,
  "metadata": {
    "colab": {
      "provenance": [],
      "authorship_tag": "ABX9TyPC+Gh/EabHNScGdVm1yTA9",
      "include_colab_link": true
    },
    "kernelspec": {
      "name": "python3",
      "display_name": "Python 3"
    },
    "language_info": {
      "name": "python"
    }
  },
  "cells": [
    {
      "cell_type": "markdown",
      "metadata": {
        "id": "view-in-github",
        "colab_type": "text"
      },
      "source": [
        "<a href=\"https://colab.research.google.com/github/Rama27SepIBM/Data-Science-For-Beginners/blob/main/Day_62_DSA_Sorting_2.ipynb\" target=\"_parent\"><img src=\"https://colab.research.google.com/assets/colab-badge.svg\" alt=\"Open In Colab\"/></a>"
      ]
    },
    {
      "cell_type": "markdown",
      "source": [
        "Q1. Inversion count in an array\n",
        "\n",
        "Given an array of integers A. If i < j and A[i] > A[j], then the pair (i, j) is called an inversion of A. Find the total number of inversions of A modulo (109 + 7).\n",
        "\n",
        "\n",
        "\n",
        "Problem Constraints\n",
        "1 <= length of the array <= 105"
      ],
      "metadata": {
        "id": "2c5UK6r2axWW"
      }
    },
    {
      "cell_type": "code",
      "execution_count": null,
      "metadata": {
        "id": "Y_tN6UNlaoa7"
      },
      "outputs": [],
      "source": [
        "class Solution:\n",
        "    # @param A : list of integers\n",
        "    # @return an integer\n",
        "    def solve(self, A):\n",
        "        n = len(A)\n",
        "        mod = 10**9 + 7\n",
        "        result = self._mergeSort(A, [0]*n, 0, n-1)\n",
        "        return result % mod\n",
        "    \n",
        "    def _mergeSort(self, arr, temp_arr, left, right):\n",
        "        inv_count = 0\n",
        "        if left < right:\n",
        "            mid = (left + right) // 2\n",
        "            inv_count += self._mergeSort(arr, temp_arr, left, mid)\n",
        "            inv_count += self._mergeSort(arr, temp_arr, mid + 1, right)\n",
        "            inv_count += self.merge(arr, temp_arr, left, mid, right)\n",
        "        return inv_count\n",
        "    \n",
        "    def merge(self, arr, temp_arr, left, mid, right):\n",
        "        i = left\n",
        "        j = mid + 1\n",
        "        k = left\n",
        "        inv_count = 0\n",
        "        \n",
        "        while i <= mid and j <= right:\n",
        "            if arr[i] <= arr[j]:\n",
        "                temp_arr[k] = arr[i]\n",
        "                k += 1\n",
        "                i += 1\n",
        "            else:\n",
        "                temp_arr[k] = arr[j]\n",
        "                inv_count += mid - i + 1\n",
        "                k += 1\n",
        "                j += 1\n",
        "        \n",
        "        while i <= mid:\n",
        "            temp_arr[k] = arr[i]\n",
        "            k += 1\n",
        "            i += 1\n",
        "        \n",
        "        while j <= right:\n",
        "            temp_arr[k] = arr[j]\n",
        "            k += 1\n",
        "            j += 1\n",
        "        \n",
        "        for loop_var in range(left, right + 1):\n",
        "            arr[loop_var] = temp_arr[loop_var]\n",
        "        \n",
        "        return inv_count"
      ]
    },
    {
      "cell_type": "markdown",
      "source": [
        "Q2. Factors sort\n",
        "\n",
        "You are given an array A of N elements. Sort the given array in increasing order of number of distinct factors of each element, i.e., element having the least number of factors should be the first to be displayed and the number having highest number of factors should be the last one. If 2 elements have same number of factors, then number with less value should come first.\n",
        "\n",
        "Note: You cannot use any extra space\n"
      ],
      "metadata": {
        "id": "ebwJ6Jr_bFG8"
      }
    },
    {
      "cell_type": "code",
      "source": [
        "class Solution:\n",
        "    # @param A : list of integers\n",
        "    # @return a list of integers\n",
        "    def solve(self, A):\n",
        "\n",
        "        def factorCount(N):\n",
        "            sqr = round(math.sqrt(N))\n",
        "            count = 0\n",
        "            \n",
        "            for i in range(1, sqr + 1):\n",
        "                if N % i == 0:\n",
        "                    count += 2\n",
        "                if i * i == N:\n",
        "                    count -= 1\n",
        "\n",
        "            return (count, N)\n",
        "                    \n",
        "        A.sort(key=factorCount)\n",
        "\n",
        "        return A"
      ],
      "metadata": {
        "id": "Ro42vuSDbXk9"
      },
      "execution_count": null,
      "outputs": []
    },
    {
      "cell_type": "markdown",
      "source": [
        "Q3. Largest Number\n",
        "\n",
        "Given an array A of non-negative integers, arrange them such that they form the largest number.\n",
        "\n",
        "Note: The result may be very large, so you need to return a string instead of an integer."
      ],
      "metadata": {
        "id": "YhdE10MybdYL"
      }
    },
    {
      "cell_type": "code",
      "source": [
        "from functools import cmp_to_key\n",
        "class Solution:\n",
        "    # Function to compare two numbers in the order they should be in the final array\n",
        "    def compare(self, a, b):\n",
        "        return int(str(b) + str(a)) - int(str(a) + str(b))\n",
        "\n",
        "    def largestNumber(self, A):\n",
        "        # Convert integers to strings\n",
        "        A = list(map(str, A))\n",
        "\n",
        "        # Sort the array using the custom compare function\n",
        "        A.sort(key=cmp_to_key(self.compare))\n",
        "\n",
        "        # Join the array into a single string and convert back to an integer\n",
        "        result = int(''.join(A))\n",
        "\n",
        "        # Edge case for when the input is all zeros\n",
        "        if result == 0:\n",
        "            return \"0\"\n",
        "\n",
        "        return str(result)"
      ],
      "metadata": {
        "id": "LZZ8136Ccdha"
      },
      "execution_count": null,
      "outputs": []
    },
    {
      "cell_type": "markdown",
      "source": [
        "Q1. B Closest Points to Origin\n",
        "We have a list A of points (x, y) on the plane. Find the B closest points to the origin (0, 0).\n",
        "\n",
        "Here, the distance between two points on a plane is the Euclidean distance.\n",
        "\n",
        "You may return the answer in any order. The answer is guaranteed to be unique (except for the order that it is in.)\n",
        "\n",
        "NOTE: Euclidean distance between two points P1(x1, y1) and P2(x2, y2) is sqrt( (x1-x2)2 + (y1-y2)2 )."
      ],
      "metadata": {
        "id": "X88T9Ortc_MD"
      }
    },
    {
      "cell_type": "markdown",
      "source": [
        "Q2. Unique Elements\n",
        "\n",
        "You are given an array A of N elements. You have to make all elements unique. To do so, in one step you can increase any number by one.\n",
        "\n",
        "Find the minimum number of steps."
      ],
      "metadata": {
        "id": "M7No9XtfdHcg"
      }
    },
    {
      "cell_type": "code",
      "source": [
        "class Solution:\n",
        "    # @param A : list of integers\n",
        "    # @return an integer\n",
        "    def solve(self, A):\n",
        "        n = len(A)\n",
        "        A.sort()\n",
        "        steps = 0\n",
        "        for i in range(1, n):\n",
        "            if A[i] <= A[i-1]:\n",
        "                steps += (A[i-1] - A[i] + 1)\n",
        "                A[i] = A[i-1] + 1\n",
        "        return steps"
      ],
      "metadata": {
        "id": "RA4b4Z3gendx"
      },
      "execution_count": null,
      "outputs": []
    },
    {
      "cell_type": "markdown",
      "source": [
        "Q3. Max Chunks To Make Sorted\n",
        "\n",
        "Given an array of integers A of size N that is a permutation of [0, 1, 2, ..., (N-1)], if we split the array into some number of \"chunks\" (partitions), and individually sort each chunk. After concatenating them in order of splitting, the result equals the sorted array.\n",
        "\n",
        "What is the most number of chunks we could have made?"
      ],
      "metadata": {
        "id": "xbkjjVCQf-_t"
      }
    },
    {
      "cell_type": "code",
      "source": [
        "class Solution:\n",
        "    # @param A : list of integers\n",
        "    # @return an integer\n",
        "    def solve(self, A):\n",
        "        n = len(A)\n",
        "        max_chunks = 0\n",
        "        max_val_seen = -1\n",
        "        for i in range(n):\n",
        "            max_val_seen = max(max_val_seen, A[i])\n",
        "            if max_val_seen == i:\n",
        "                max_chunks += 1\n",
        "        return max_chunks"
      ],
      "metadata": {
        "id": "4j0asCCIf-cB"
      },
      "execution_count": null,
      "outputs": []
    }
  ]
}