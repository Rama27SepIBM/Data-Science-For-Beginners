{
  "nbformat": 4,
  "nbformat_minor": 0,
  "metadata": {
    "colab": {
      "provenance": [],
      "authorship_tag": "ABX9TyPXmEF2PwXogc6aPY+3lDJe",
      "include_colab_link": true
    },
    "kernelspec": {
      "name": "python3",
      "display_name": "Python 3"
    },
    "language_info": {
      "name": "python"
    }
  },
  "cells": [
    {
      "cell_type": "markdown",
      "metadata": {
        "id": "view-in-github",
        "colab_type": "text"
      },
      "source": [
        "<a href=\"https://colab.research.google.com/github/Rama27SepIBM/21DaysOfLeetcode/blob/main/Day_28_Intermediate_DSA_Time_Complexity_1.ipynb\" target=\"_parent\"><img src=\"https://colab.research.google.com/assets/colab-badge.svg\" alt=\"Open In Colab\"/></a>"
      ]
    },
    {
      "cell_type": "markdown",
      "source": [
        "Q1. Find Time Complexity - 1\n",
        "What is the time complexity of the following code snippet\n",
        "\n",
        "for(int i = 1 ; i <= n ; i+=2){\n",
        "\n",
        "print(i);\n",
        "\n",
        "}"
      ],
      "metadata": {
        "id": "rlWE6lbj_Fh_"
      }
    },
    {
      "cell_type": "code",
      "source": [
        "# O(n^3). O(n^2). O(n). O(logn)"
      ],
      "metadata": {
        "id": "3cgopE7o_Mod"
      },
      "execution_count": null,
      "outputs": []
    },
    {
      "cell_type": "markdown",
      "source": [
        "Q2. Find Time Complexity - 2\n",
        "\n",
        "What is the time complexity of the following code snippet\n",
        "\n",
        "void solve(int N, int M){\n",
        "\n",
        "for(int i = 1 ; i <= N ; i++){\n",
        "\n",
        "if(N % i == 0)\n",
        "\n",
        "print(i);\n",
        "\n",
        "}\n",
        "\n",
        "for(int i = 1 ; i <= M ; i++){\n",
        "\n",
        "if(M % i == 0)\n",
        "\n",
        "print(i);\n",
        "\n",
        "}\n",
        "\n",
        "}"
      ],
      "metadata": {
        "id": "LRR9faLl_Y8W"
      }
    },
    {
      "cell_type": "code",
      "source": [
        "#. O(N). O(M). O(N+M). O(NM)"
      ],
      "metadata": {
        "id": "tQIX3myD_km4"
      },
      "execution_count": null,
      "outputs": []
    },
    {
      "cell_type": "markdown",
      "source": [
        "Q3. Find Time Complexity - 3\n",
        "\n",
        "What is the time complexity of the following code snippet\n",
        "\n",
        "int func(int n){\n",
        "\n",
        "int s = 0;\n",
        "\n",
        "for(int i = 1 ; i <= 100 ; i++){\n",
        "\n",
        "s = s + i;\n",
        "\n",
        "}\n",
        "\n",
        "return s;\n",
        "\n",
        "}"
      ],
      "metadata": {
        "id": "JSd7vr0G_tih"
      }
    },
    {
      "cell_type": "code",
      "source": [
        "# O(n). O(n^2). O(s). O(1)"
      ],
      "metadata": {
        "id": "bsq0LVbK_0f1"
      },
      "execution_count": null,
      "outputs": []
    },
    {
      "cell_type": "markdown",
      "source": [
        "Q4. Find Time Complexity - 7\n",
        "\n",
        "What is the time complexity of the following code snippet\n",
        "\n",
        "for(int i = 0 ; i < n ; i++){\n",
        "\n",
        "for(int j = 0 ; j <= i ; j++){\n",
        "\n",
        "print(i+j);\n",
        "\n",
        "}\n",
        "\n",
        "}"
      ],
      "metadata": {
        "id": "E4nT16uk_9GI"
      }
    },
    {
      "cell_type": "code",
      "source": [
        "# O(n^2). O(n). O(nlogn). O(n^3). "
      ],
      "metadata": {
        "id": "OHCqrKXtAD1Z"
      },
      "execution_count": null,
      "outputs": []
    },
    {
      "cell_type": "markdown",
      "source": [
        "Q5. Find Time Complexity - 8\n",
        "\n",
        "What is the time complexity of the following code snippet\n",
        "\n",
        "for(int i = 1 ; i <= n ; i*=2){\n",
        "\n",
        "for(int j = 1 ; j <= n ; j++){\n",
        "\n",
        "print(i + j);\n",
        "\n",
        "}\n",
        "\n",
        "}"
      ],
      "metadata": {
        "id": "LqJONB_9AQOl"
      }
    },
    {
      "cell_type": "code",
      "execution_count": null,
      "metadata": {
        "id": "Edljsx3E--I5"
      },
      "outputs": [],
      "source": [
        "# O(n^2). O(nlogn). O(n) O(1)"
      ]
    },
    {
      "cell_type": "markdown",
      "source": [
        "Q6. Time-Complexity-5\n",
        "\n",
        "\n",
        "What is the time complexity of following code:\n",
        " \n",
        "int a = 0, i = N; \n",
        "while (i > 0) { \n",
        "    a += i; \n",
        "    i /= 2; \n",
        "}"
      ],
      "metadata": {
        "id": "u7PT_OpiAiof"
      }
    },
    {
      "cell_type": "code",
      "source": [
        "# O(N). O(Sqrt(N)) O(N / 2) O(log N)"
      ],
      "metadata": {
        "id": "BLgfLG3LAo5Q"
      },
      "execution_count": null,
      "outputs": []
    },
    {
      "cell_type": "markdown",
      "source": [
        "Q7. Find Time Complexity - 6\n",
        "\n",
        "What is the time complexity of the following code snippet\n",
        "\n",
        "for(int i = 1 ; i <= 100 ; i*=2){\n",
        "\n",
        "for(int j = 1 ; j <= n ; j++){\n",
        "\n",
        "print(i + j);\n",
        "\n",
        "}\n",
        "\n",
        "}"
      ],
      "metadata": {
        "id": "uW19oiQ3A0Eo"
      }
    },
    {
      "cell_type": "code",
      "source": [
        "# O(n^2). O(n). 0(nlogn). O(1)"
      ],
      "metadata": {
        "id": "FW5av_JSA-pv"
      },
      "execution_count": null,
      "outputs": []
    },
    {
      "cell_type": "markdown",
      "source": [
        "Q8. Find Time Complexity - 5\n",
        "\n",
        "What is the time complexity of the following code snippet\n",
        "\n",
        "int func(int n){\n",
        "\n",
        "int s = 0;\n",
        "\n",
        "for(int i = 0 ; i < n ; i = i * 2){\n",
        "\n",
        "s = s + i;\n",
        "\n",
        "}\n",
        "\n",
        "return s;\n",
        "\n",
        "}"
      ],
      "metadata": {
        "id": "nwAzLk2LBIld"
      }
    },
    {
      "cell_type": "code",
      "source": [
        "# O(n). O(n^(1/2)). O(logn). O(∞)"
      ],
      "metadata": {
        "id": "v-y8D7LFBVfj"
      },
      "execution_count": null,
      "outputs": []
    },
    {
      "cell_type": "markdown",
      "source": [
        "Q1. Find Time Complexity - 4\n",
        "\n",
        "What is the time complexity of the following code snippet\n",
        "\n",
        "int func(int n){\n",
        "\n",
        "int s = 0;\n",
        "\n",
        "for(int i = 1 ; i*i*i <= n ; i++){\n",
        "\n",
        "s = s + i;\n",
        "\n",
        "}\n",
        "\n",
        "return s;\n",
        "\n",
        "}"
      ],
      "metadata": {
        "id": "xeNIBNDVBUrV"
      }
    },
    {
      "cell_type": "code",
      "source": [
        "# O(n^(1/4)). O(n^(1/3)). O(n^(1/2)). O(n)"
      ],
      "metadata": {
        "id": "iKcXgTflBqkJ"
      },
      "execution_count": null,
      "outputs": []
    },
    {
      "cell_type": "markdown",
      "source": [
        "Q2. Time Complexity-i\n",
        "\n",
        "\n",
        "What is the complexity of the following code snippet ?\n",
        "\n",
        "C++\n",
        "Java\n",
        "Python\n",
        " ans = 0\n",
        " for i in range(n):\n",
        " ans += i * i\n",
        " return ans"
      ],
      "metadata": {
        "id": "8ZGsX2f9B3RP"
      }
    },
    {
      "cell_type": "code",
      "source": [
        "# O(nlogn)  O(n). O(n^2). O(1). None of the above"
      ],
      "metadata": {
        "id": "2aczWSHBBz5n"
      },
      "execution_count": null,
      "outputs": []
    },
    {
      "cell_type": "markdown",
      "source": [
        "Q3. Find Time Complexity - 9\n",
        "\n",
        "What is the time complexity of the following code snippet\n",
        "\n",
        "for(int i = 1 ; i <= n ; i++){\n",
        "\n",
        "for(int j = 1 ; j <= 3^i ; j++){\n",
        "\n",
        "print(i + j);\n",
        "\n",
        "}\n",
        "\n",
        "}"
      ],
      "metadata": {
        "id": "daE9warAGD1x"
      }
    },
    {
      "cell_type": "code",
      "source": [
        "# O(n^2). O(nlogn). O(2^n). O(3^n)"
      ],
      "metadata": {
        "id": "LGByvVkDGSe8"
      },
      "execution_count": null,
      "outputs": []
    },
    {
      "cell_type": "markdown",
      "source": [
        "Q4. Time-Complexity-8\n",
        "\n",
        "If for an algorithm time complexity is given by O(1) then complexity of it is:"
      ],
      "metadata": {
        "id": "V6TLjMlbGRXd"
      }
    },
    {
      "cell_type": "code",
      "source": [
        "# constant. polynomial. exponential.  none of the mentioned"
      ],
      "metadata": {
        "id": "Mrmg8RTEGjp6"
      },
      "execution_count": null,
      "outputs": []
    },
    {
      "cell_type": "markdown",
      "source": [
        "Q5. Time-Complexity-9\n",
        "\n",
        "f for an algorithm time complexity is given by O(log2n) then complexity will:"
      ],
      "metadata": {
        "id": "Pz5m4VnCGtHh"
      }
    },
    {
      "cell_type": "code",
      "source": [
        "# constant. polynomial. exponential. none of the mentioned "
      ],
      "metadata": {
        "id": "OsC0FMc5G01Z"
      },
      "execution_count": null,
      "outputs": []
    },
    {
      "cell_type": "markdown",
      "source": [
        "Q6. Time-Complexity-10\n",
        "\n",
        "If for an algorithm time complexity is given by O(n) then complexity of it is:"
      ],
      "metadata": {
        "id": "-46J3HkzHKul"
      }
    },
    {
      "cell_type": "code",
      "source": [
        "# constant. linear. exponential. none of the mentioned"
      ],
      "metadata": {
        "id": "qOYAAyaXHOuT"
      },
      "execution_count": null,
      "outputs": []
    },
    {
      "cell_type": "markdown",
      "source": [
        "Q7. Time-Complexity-12\n",
        "\n",
        "If for an algorithm time complexity is given by O((3/2)^n) then complexity will:"
      ],
      "metadata": {
        "id": "cTCj3P7CHbd8"
      }
    },
    {
      "cell_type": "code",
      "source": [
        "# constant. quardratic. exponential. none of the mentioned"
      ],
      "metadata": {
        "id": "s-_b7eBqHX2F"
      },
      "execution_count": null,
      "outputs": []
    },
    {
      "cell_type": "markdown",
      "source": [
        "Day 27 - Intermediate DSA: Introduction to Problem Solv\n",
        "\n",
        "Q1. Count Factors - 2\n",
        "Given an integer A, you need to find the count of it's factors.\n",
        "\n",
        "Factor of a number is the number which divides it perfectly leaving no remainder.\n",
        "\n",
        "Example : 1, 2, 3, 6 are factors of 6\n",
        "\n",
        "\n",
        "Problem Constraints\n",
        "1 <= A <= 109"
      ],
      "metadata": {
        "id": "9VpkPq4eH0DB"
      }
    },
    {
      "cell_type": "code",
      "source": [
        "class Solution:\n",
        "    # @param A : integer\n",
        "    # @return an integer\n",
        "    def solve(self, A):\n",
        "        count=0\n",
        "        for i in range(1,int(math.sqrt(A)+1)):\n",
        "            if i*i==A:\n",
        "                count+=1\n",
        "            elif A%i==0:\n",
        "                count+=2\n",
        "            \n",
        "        return count"
      ],
      "metadata": {
        "id": "GuhUyYKyH-k0"
      },
      "execution_count": null,
      "outputs": []
    },
    {
      "cell_type": "markdown",
      "source": [
        "Q2. IsPrime\n",
        "\n",
        "Given an Integer A. Return 1 if A is prime and return 0 if not.\n",
        "\n",
        "\n",
        "Problem Constraints\n",
        "1 <= A <= 1012"
      ],
      "metadata": {
        "id": "jVIc6sIyIB9n"
      }
    },
    {
      "cell_type": "code",
      "source": [
        "class Solution:\n",
        "    # @param A : long\n",
        "    # @return an integer\n",
        "    def solve(self, A):\n",
        "        count=0\n",
        "        for i in range(1,int(math.sqrt(A)+1)):\n",
        "            if i*i==A:\n",
        "                count+=1\n",
        "            elif A%i==0:\n",
        "                count+=2\n",
        "        if count==2:\n",
        "            return 1\n",
        "        else:\n",
        "            return 0"
      ],
      "metadata": {
        "id": "jDR3vn0sIK5B"
      },
      "execution_count": null,
      "outputs": []
    },
    {
      "cell_type": "markdown",
      "source": [
        "Q3. Square root of a number\n",
        "\n",
        "Given a number A. Return square root of the number if it is perfect square otherwise return -1.\n",
        "\n",
        "Problem Constraints\n",
        "\n",
        "1 <= A <= 108\n",
        "Input Format\n",
        "\n",
        "First and the only argument is an integer A.\n",
        "Output Format\n",
        "\n",
        "Return an integer which is the square root of A if A is perfect square otherwise return -1."
      ],
      "metadata": {
        "id": "k4XtqmxPIO_g"
      }
    },
    {
      "cell_type": "code",
      "source": [
        "lass Solution:\n",
        "    # @param A : integer\n",
        "    # @return an integer\n",
        "    def solve(self, A):\n",
        "        for x in range(1,int(A**.5)+1):\n",
        "            if x * x == A:\n",
        "                return x\n",
        "            elif x * x > A:\n",
        "                break\n",
        "        \n",
        "        return -1"
      ],
      "metadata": {
        "id": "_Ht5EeNLIXzK"
      },
      "execution_count": null,
      "outputs": []
    },
    {
      "cell_type": "markdown",
      "source": [
        "Q4. Find Iterations\n",
        "\n",
        "Find the number of times below code runs where N is a perfect square\n",
        "\n",
        "for i -> 1 to N\n",
        "\n",
        "if(i * i == N)\n",
        "\n",
        "return i"
      ],
      "metadata": {
        "id": "56OJSHuwIcML"
      }
    },
    {
      "cell_type": "code",
      "source": [
        "# N N/2. sqrt(N). logN. "
      ],
      "metadata": {
        "id": "y0BaaINJIlrN"
      },
      "execution_count": null,
      "outputs": []
    },
    {
      "cell_type": "markdown",
      "source": [
        "Q5. Sum of N natural numbers\n",
        "\n",
        "The sum of n natural numbers is :"
      ],
      "metadata": {
        "id": "kgoigZHgIis6"
      }
    },
    {
      "cell_type": "code",
      "source": [
        "# (n*(n+1))/2. (n*(n-1))/2. (n+1)/2. (n*(n+1)*(2*n+1))/6"
      ],
      "metadata": {
        "id": "_oJHT37GIz76"
      },
      "execution_count": null,
      "outputs": []
    },
    {
      "cell_type": "markdown",
      "source": [
        "Q1. Find Perfect Numbers\n",
        "\n",
        "\n",
        "You are given an integer A. You have to tell whether it is a perfect number or not.\n",
        "\n",
        "Perfect number is a positive integer which is equal to the sum of its proper positive divisors.\n",
        "\n",
        "A proper divisor of a natural number is the divisor that is strictly less than the number."
      ],
      "metadata": {
        "id": "DyM9qgKbJWmP"
      }
    },
    {
      "cell_type": "code",
      "source": [
        " class Solution:\n",
        "    # @param A : integer\n",
        "    # @return an integer\n",
        "    def solve(self, A):\n",
        "        sum1=0\n",
        "        for i in range(1,A):\n",
        "            if A%i==0:\n",
        "                sum1+=i\n",
        "        if sum1==A:\n",
        "            return 1\n",
        "        else:\n",
        "            return 0"
      ],
      "metadata": {
        "id": "XLZxjPJJJap7"
      },
      "execution_count": null,
      "outputs": []
    },
    {
      "cell_type": "markdown",
      "source": [
        "Q2. Count of primes\n",
        "\n",
        "You will be given an integer n. You need to return the count of prime numbers less than or equal to n."
      ],
      "metadata": {
        "id": "X7Xw_5h6Jh9-"
      }
    },
    {
      "cell_type": "code",
      "source": [
        "class Solution:\n",
        "    # @param A : integer\n",
        "    # @return an integer\n",
        "    def solve(self, A):\n",
        "        count =0\n",
        "        if A ==1:\n",
        "            return count\n",
        "        else:\n",
        "            for x in range(2,A+1):\n",
        "                for y in range(2,int(x/2)+1):\n",
        "                    if x%y==0:\n",
        "                        break\n",
        "                else:\n",
        "                    count +=1\n",
        "        return count"
      ],
      "metadata": {
        "id": "H4LKHPTMJoDC"
      },
      "execution_count": null,
      "outputs": []
    },
    {
      "cell_type": "markdown",
      "source": [
        "Q3. Make it\n",
        "\n",
        "Given two integers A and B. A represents the count of mangoes and B represent the count of slices of mangoes. Mango can be cut into three slices of mangoes. A glass of mango shake can be formed by two slices of mangoes.\n",
        "\n",
        "Find the maximum number of glasses of mango shakes you can make with A mangoes and B slices of mangoes initially.\n",
        "\n",
        "\n",
        "Input Format\n",
        "\n",
        "The First argument is an integer A.\n",
        "The Second argument is an integer B.\n",
        "Output Format\n",
        "\n",
        "Return the maximum number of glasses of mango shakes you can make.\n",
        "Constraints\n",
        "\n",
        "0 <= A, B <= 10^8"
      ],
      "metadata": {
        "id": "B88lzZjrJtBx"
      }
    },
    {
      "cell_type": "code",
      "source": [
        "class Solution:\n",
        "    # @param A : integer\n",
        "    # @param B : integer\n",
        "    # @return an integer\n",
        "    def solve(self, A, B):\n",
        "        return (3*A+B) //2"
      ],
      "metadata": {
        "id": "ISe5_WOgJ3O9"
      },
      "execution_count": null,
      "outputs": []
    },
    {
      "cell_type": "markdown",
      "source": [
        "Q4. Number of elements in a range\n",
        "\n",
        "How many elements are there between [135, 246] (inclusive of them) ?"
      ],
      "metadata": {
        "id": "v7GXCVx7J60K"
      }
    },
    {
      "cell_type": "code",
      "source": [
        "# 111 112 113 114"
      ],
      "metadata": {
        "id": "l8OJ-UV5KGeZ"
      },
      "execution_count": null,
      "outputs": []
    },
    {
      "cell_type": "markdown",
      "source": [
        "Q5. Divide by 2\n",
        "\n",
        "What is the number of times we need to divide N by 2 till it reaches 1 ?"
      ],
      "metadata": {
        "id": "zA5C0lfvKKk5"
      }
    },
    {
      "cell_type": "code",
      "source": [
        "# ceil(logN). floor(logN). logN. n/2"
      ],
      "metadata": {
        "id": "jjQhc9fAKQtS"
      },
      "execution_count": null,
      "outputs": []
    },
    {
      "cell_type": "markdown",
      "source": [],
      "metadata": {
        "id": "sr1mSiUSKmvE"
      }
    }
  ]
}