{
  "nbformat": 4,
  "nbformat_minor": 0,
  "metadata": {
    "colab": {
      "provenance": [],
      "authorship_tag": "ABX9TyNqHHMYt5f0S/IY7LZe5I0B",
      "include_colab_link": true
    },
    "kernelspec": {
      "name": "python3",
      "display_name": "Python 3"
    },
    "language_info": {
      "name": "python"
    }
  },
  "cells": [
    {
      "cell_type": "markdown",
      "metadata": {
        "id": "view-in-github",
        "colab_type": "text"
      },
      "source": [
        "<a href=\"https://colab.research.google.com/github/Rama27SepIBM/Data-Science-For-Beginners/blob/main/Day_75_DSA_Linked_List_3.ipynb\" target=\"_parent\"><img src=\"https://colab.research.google.com/assets/colab-badge.svg\" alt=\"Open In Colab\"/></a>"
      ]
    },
    {
      "cell_type": "markdown",
      "source": [
        "Q.1 https://github.com/Rama27SepIBM/Data-Science-For-Beginners/blob/main/Day_78_DSA_Contest_3_discussion.ipynb"
      ],
      "metadata": {
        "id": "eu7CPCKHW9sU"
      }
    },
    {
      "cell_type": "markdown",
      "source": [
        "Q.1 Q1. LRU Cache\n",
        "\n",
        "Design and implement a data structure for Least Recently Used (LRU) cache. It should support the following operations: get and set.\n",
        "\n",
        "get(key) - Get the value (will always be positive) of the key if the key exists in the cache, otherwise return -1.\n",
        "set(key, value) - Set or insert the value if the key is not already present. When the cache reaches its capacity, it should invalidate the least recently used item before inserting the new item.\n",
        "The LRUCache will be initialized with an integer corresponding to its capacity. Capacity indicates the maximum number of unique keys it can hold at a time.\n",
        "\n",
        "Definition of \"least recently used\" : An access to an item is defined as a get or a set operation of the item. \"Least recently used\" item is the one with the oldest access time.\n",
        "\n",
        "NOTE: If you are using any global variables, make sure to clear them in the constructor.\n",
        "\n",
        "Example :\n",
        "\n",
        "Input : \n",
        "         capacity = 2\n",
        "         set(1, 10)\n",
        "         set(5, 12)\n",
        "         get(5)        returns 12\n",
        "         get(1)        returns 10\n",
        "         get(10)       returns -1\n",
        "         set(6, 14)    this pushes out key = 5 as LRU is full. \n",
        "         get(5)        returns -1 "
      ],
      "metadata": {
        "id": "_Zdr-7cRdJ7t"
      }
    },
    {
      "cell_type": "code",
      "execution_count": null,
      "metadata": {
        "id": "357GEqICW70Z"
      },
      "outputs": [],
      "source": [
        "class Node:\n",
        "    def __init__(self, key=None, value=None):\n",
        "        self.key = key\n",
        "        self.value = value\n",
        "        self.prev = None\n",
        "        self.next = None\n",
        "\n",
        "class LRUCache:\n",
        "    def __init__(self, capacity: int):\n",
        "        self.capacity = capacity\n",
        "        self.cache = {}\n",
        "        self.head = Node()\n",
        "        self.tail = Node()\n",
        "        self.head.next = self.tail\n",
        "        self.tail.prev = self.head\n",
        "        \n",
        "    # @return an integer\n",
        "    def get(self, key):\n",
        "        if key in self.cache:\n",
        "            node = self.cache[key]\n",
        "            self._remove(node)\n",
        "            self._add(node)\n",
        "            return node.value\n",
        "        else:\n",
        "            return -1\n",
        "\n",
        "    # @param key, an integer\n",
        "    # @param value, an integer\n",
        "    # @return nothing\n",
        "    def set(self, key, value):\n",
        "        if key in self.cache:\n",
        "            node = self.cache[key]\n",
        "            node.value = value\n",
        "            self._remove(node)\n",
        "            self._add(node)\n",
        "        else:\n",
        "            if len(self.cache) == self.capacity:\n",
        "                del self.cache[self.tail.prev.key]\n",
        "                self._remove(self.tail.prev)\n",
        "            node = Node(key, value)\n",
        "            self.cache[key] = node\n",
        "            self._add(node)\n",
        "\n",
        "    def _add(self, node: Node) -> None:\n",
        "        head_next = self.head.next\n",
        "        self.head.next = node\n",
        "        node.prev = self.head\n",
        "        node.next = head_next\n",
        "        head_next.prev = node\n",
        "\n",
        "    def _remove(self, node: Node) -> None:\n",
        "        prev_node = node.prev\n",
        "        next_node = node.next\n",
        "        prev_node.next = next_node\n",
        "        next_node.prev = prev_node"
      ]
    },
    {
      "cell_type": "markdown",
      "source": [
        "Q.2 Q2. Copy List\n",
        "\n",
        "A linked list A is given such that each node contains an additional random pointer which could point to any node in the list or NULL.\n",
        "\n",
        "Return a deep copy of the list."
      ],
      "metadata": {
        "id": "9wXuLRW8dlEN"
      }
    },
    {
      "cell_type": "code",
      "source": [
        "# Definition for singly-linked list with a random pointer.\n",
        "# class RandomListNode:\n",
        "#     def __init__(self, x):\n",
        "#         self.label = x\n",
        "#         self.next = None\n",
        "#         self.random = None\n",
        "\n",
        "class Solution:\n",
        "    # @param head, a RandomListNode\n",
        "    # @return a RandomListNode\n",
        "    def copyRandomList(self, head):\n",
        "        temp = head\n",
        "        nodeMap = {}\n",
        "        while(temp != None):\n",
        "            copyNode = RandomListNode(temp.label)\n",
        "            nodeMap[temp] = copyNode\n",
        "            temp = temp.next\n",
        "\n",
        "        temp = head\n",
        "        while(temp != None):\n",
        "            if(temp.next != None):\n",
        "                nextNode = temp.next\n",
        "                currNode = temp\n",
        "                copyCurrNode = nodeMap[currNode]\n",
        "                copyNextNode = nodeMap[nextNode]\n",
        "                copyCurrNode.next = copyNextNode\n",
        "            if(temp.random != None):\n",
        "                randomNode = temp.random\n",
        "                currNode = temp\n",
        "                copyCurrNode = nodeMap[currNode]\n",
        "                copyRandomNode = nodeMap[randomNode]\n",
        "                copyCurrNode.random = copyRandomNode\n",
        "            temp = temp.next\n",
        "\n",
        "        return nodeMap[head]"
      ],
      "metadata": {
        "id": "hbT_Nld1dvrn"
      },
      "execution_count": null,
      "outputs": []
    },
    {
      "cell_type": "markdown",
      "source": [
        "Q.1 Q1. Flatten a linked list\n",
        "\n",
        "Given a linked list where every node represents a linked list and contains two pointers of its type:\n",
        "\n",
        "Pointer to next node in the main list (right pointer)\n",
        "Pointer to a linked list where this node is head (down pointer). All linked lists are sorted.\n",
        "You are asked to flatten the linked list into a single list. Use down pointer to link nodes of the flattened list. The flattened linked list should also be sorted.\n",
        "\n"
      ],
      "metadata": {
        "id": "nePJklgKd1Jz"
      }
    },
    {
      "cell_type": "code",
      "source": [
        "class ListNode:\n",
        "    def __init__(self,x):\n",
        "        self.val=x\n",
        "        self.right=None\n",
        "        self.down=None\n",
        "\"\"\"\n",
        "def merge(x,y):\n",
        "     if x is None:\n",
        "         return y\n",
        "     if y is None:\n",
        "         return x\n",
        "     if x.val<y.val:\n",
        "        ans=x\n",
        "        ans.down=merge(x.down,y) \n",
        "     else:\n",
        "        ans=y\n",
        "        ans.down=merge(y.down,x)\n",
        "     return ans  \n",
        "        # @param root: ListNode\n",
        "        # @return ListNode\n",
        "def flatten(root):\n",
        "    x=root\n",
        "    if x is None or x.right is None:\n",
        "        return x\n",
        "    return merge(x, flatten(x.right))"
      ],
      "metadata": {
        "id": "S8mOJ2PweAHs"
      },
      "execution_count": null,
      "outputs": []
    }
  ]
}