{
  "nbformat": 4,
  "nbformat_minor": 0,
  "metadata": {
    "colab": {
      "provenance": [],
      "authorship_tag": "ABX9TyNFCDVMUYcyyibaML+D7WO1",
      "include_colab_link": true
    },
    "kernelspec": {
      "name": "python3",
      "display_name": "Python 3"
    },
    "language_info": {
      "name": "python"
    }
  },
  "cells": [
    {
      "cell_type": "markdown",
      "metadata": {
        "id": "view-in-github",
        "colab_type": "text"
      },
      "source": [
        "<a href=\"https://colab.research.google.com/github/Rama27SepIBM/21DaysOfLeetcode/blob/main/Day_34_Intermediate_DSA_Arrays_2D_Matrices.ipynb\" target=\"_parent\"><img src=\"https://colab.research.google.com/assets/colab-badge.svg\" alt=\"Open In Colab\"/></a>"
      ]
    },
    {
      "cell_type": "markdown",
      "source": [
        "Q1. Column Sum\n",
        "\n",
        "You are given a 2D integer matrix A, return a 1D integer array containing column-wise sums of original matrix."
      ],
      "metadata": {
        "id": "Z2A_GxEmg6AW"
      }
    },
    {
      "cell_type": "code",
      "source": [
        "class Solution:\n",
        "    # @param A : list of list of integers\n",
        "    # @return a list of integers\n",
        "    def solve(self, A):\n",
        "        rows = len(A)\n",
        "        cols = len(A[0])\n",
        "        ans = []\n",
        "        for j in range(0,cols):\n",
        "            sumCol = 0\n",
        "            for i in range(0,rows):\n",
        "                sumCol = sumCol + A[i][j]\n",
        "            ans.append(sumCol)    \n",
        "            \n",
        "        return ans"
      ],
      "metadata": {
        "id": "eerBHSXahBx6"
      },
      "execution_count": null,
      "outputs": []
    },
    {
      "cell_type": "markdown",
      "source": [
        "Q2. Row Sum\n",
        "\n",
        "You are given a 2D integer matrix A, return a 1D integer array containing row-wise sums of original matrix."
      ],
      "metadata": {
        "id": "XDRl8fy7hNUp"
      }
    },
    {
      "cell_type": "code",
      "source": [
        "class Solution:\n",
        "    # @param A : list of list of integers\n",
        "    # @return a list of integers\n",
        "    def solve(self, A):\n",
        "        rows= len(A)\n",
        "        cols = len(A[0])\n",
        "        ans = [0] * rows\n",
        "        for i in range(0,rows):\n",
        "            for j in range(0,cols):\n",
        "                ans[i] += A[i][j]\n",
        "        return ans"
      ],
      "metadata": {
        "id": "BQGwpDeXhREJ"
      },
      "execution_count": null,
      "outputs": []
    },
    {
      "cell_type": "markdown",
      "source": [
        "Q3. Main Diagonal Sum\n",
        "\n",
        "You are given a N X N integer matrix. You have to find the sum of all the main diagonal elements of A.\n",
        "\n",
        "Main diagonal of a matrix A is a collection of elements A[i, j] such that i = j."
      ],
      "metadata": {
        "id": "1vUroeumhU-e"
      }
    },
    {
      "cell_type": "code",
      "source": [
        "class Solution:\n",
        "    # @param A : tuple of list of integers\n",
        "    # @return an integer\n",
        "    def solve(self, A):\n",
        "        N= len(A)\n",
        "        sum1 =0\n",
        "        for i in range(0,N):\n",
        "            sum1 +=A[i][i]\n",
        "        return sum1"
      ],
      "metadata": {
        "id": "ve9fnSPlhd9I"
      },
      "execution_count": null,
      "outputs": []
    },
    {
      "cell_type": "markdown",
      "source": [
        "Q4. Minor Diagonal Sum\n",
        "\n",
        "You are given a N X N integer matrix. You have to find the sum of all the minor diagonal elements of A.\n",
        "\n",
        "Minor diagonal of a M X M matrix A is a collection of elements A[i, j] such that i + j = M + 1 (where i, j are 1-based)."
      ],
      "metadata": {
        "id": "G-pZHxqyhhwq"
      }
    },
    {
      "cell_type": "code",
      "source": [
        "class Solution:\n",
        "    # @param A : tuple of list of integers\n",
        "    # @return an integer\n",
        "    def solve(self, A):\n",
        "        n=len(A)\n",
        "        m=len(A[0])\n",
        "        sum=0\n",
        "        for i in range(n):\n",
        "            for j in range(m):\n",
        "                if i+j==m-1:\n",
        "                    sum+=A[i][j]\n",
        "        return sum"
      ],
      "metadata": {
        "id": "lntwX9hzhqy3"
      },
      "execution_count": null,
      "outputs": []
    },
    {
      "cell_type": "markdown",
      "source": [
        "Q5. Anti Diagonals\n",
        "\n",
        "Give a N * N square matrix A, return an array of its anti-diagonals. Look at the example for more details."
      ],
      "metadata": {
        "id": "POZv3RR-hvc-"
      }
    },
    {
      "cell_type": "code",
      "source": [
        "cass Solution:\n",
        "    # @param A : list of list of integers\n",
        "    # @return a list of list of integers\n",
        "    def diagonal(self, A):\n",
        "        p = len(A[0])\n",
        "\t    res = [0]*(2*p-1)\n",
        "\t    for i in range((2*p)-1):\n",
        "\t        res[i] = []\n",
        "\t    for i in range(p):\n",
        "\t        for j in range(p):\n",
        "\t            res[i+j].append(A[i][j])\n",
        "\t    for i in range(2*p-1):\n",
        "\t        while len(res[i]) < p:\n",
        "\t            res[i].append(0)\n",
        "\t    return res"
      ],
      "metadata": {
        "id": "oqKrcorLh158"
      },
      "execution_count": null,
      "outputs": []
    },
    {
      "cell_type": "markdown",
      "source": [
        "Q6. Matrix Transpose\n",
        "\n",
        "You are given a matrix A, you have to return another matrix which is the transpose of A.\n",
        "\n",
        "NOTE: Transpose of a matrix A is defined as - AT[i][j] = A[j][i] ; Where 1 ≤ i ≤ col and 1 ≤ j ≤ row. The tranpose of a matrix switches the element at (i, j)th index to (j, i)th index, and the element at (j, i)th index to (i, j)th index."
      ],
      "metadata": {
        "id": "MInVMCJoh64d"
      }
    },
    {
      "cell_type": "code",
      "source": [
        "class Solution:\n",
        "    # @param A : list of list of integers\n",
        "    # @return a list of list of integers\n",
        "    def solve(self, A):\n",
        "        n=len(A)\n",
        "        m=len(A[0])\n",
        "\n",
        "        B=[[0]*n for x in range (0,m)]\n",
        "        \n",
        "        #for i in range(m)]:\n",
        "        for i in range(n):\n",
        "            for j in range(m):\n",
        "                B[j][i]=A[i][j]\n",
        "        return B"
      ],
      "metadata": {
        "id": "iEF-Y0JViD65"
      },
      "execution_count": null,
      "outputs": []
    },
    {
      "cell_type": "markdown",
      "source": [
        "Q7. Rotate Matrix\n",
        "\n",
        "You are given a n x n 2D matrix A representing an image.\n",
        "\n",
        "Rotate the image by 90 degrees (clockwise).\n",
        "\n",
        "You need to do this in place.\n",
        "\n",
        "Note: If you end up using an additional array, you will only receive partial score."
      ],
      "metadata": {
        "id": "h4EZc_sJiH-1"
      }
    },
    {
      "cell_type": "code",
      "source": [
        "class Solution:\n",
        "    # @param A : list of list of integers\n",
        "    def solve(self, A):\n",
        "        n = len(A)\n",
        "        for i in range(n):\n",
        "            for j in range(i+1,n):\n",
        "                A[i][j], A[j][i] = A[j][i], A[i][j]\n",
        "        for i in range(n//2):\n",
        "            for j in range(n):\n",
        "                    A[j][n-i-1], A[j][i] = A[j][i], A[j][n-i-1]\n",
        "        return A"
      ],
      "metadata": {
        "id": "Kk2ybcHZiPJl"
      },
      "execution_count": null,
      "outputs": []
    },
    {
      "cell_type": "markdown",
      "source": [
        "Q1. Matrix Scalar Product\n",
        "\n",
        "You are given a matrix A and and an integer B, you have to perform scalar multiplication of matrix A with an integer B."
      ],
      "metadata": {
        "id": "BJ594kBNiVBn"
      }
    },
    {
      "cell_type": "code",
      "source": [
        "lass Solution:\n",
        "    # @param A : list of list of integers\n",
        "    # @param B : integer\n",
        "    # @return a list of list of integers\n",
        "    def solve(self, A, B):\n",
        "        for i in range(0,len(A)):\n",
        "            for j in range(0,len(A[i])):\n",
        "                # Multiplying each element by B\n",
        "                A[i][j] *= B\n",
        "        return A"
      ],
      "metadata": {
        "id": "pI7lRdQtiown"
      },
      "execution_count": null,
      "outputs": []
    },
    {
      "cell_type": "markdown",
      "source": [
        "Q2. Are Matrices Same ?\n",
        "\n",
        "You are given two matrices A & B of equal dimensions and you have to check whether two matrices are equal or not.\n",
        "\n",
        "NOTE: Both matrices are equal if A[i][j] == B[i][j] for all i and j in the given range."
      ],
      "metadata": {
        "id": "tS55apCTixoj"
      }
    },
    {
      "cell_type": "code",
      "source": [
        "class Solution:\n",
        "    # @param A : list of list of integers\n",
        "    # @param B : list of list of integers\n",
        "    # @return an integer\n",
        "    def solve(self, A, B):\n",
        "        for i in range(0,len(A)):\n",
        "            for j in range(0,len(A[i])):\n",
        "                if A[i][j] != B[i][j]:\n",
        "                    return 0\n",
        "            \n",
        "\n",
        "        return 1"
      ],
      "metadata": {
        "id": "1Pev8ao9jQSe"
      },
      "execution_count": null,
      "outputs": []
    },
    {
      "cell_type": "markdown",
      "source": [
        "Q3. Add the matrices\n",
        "\n",
        "You are given two matrices A & B of same size, you have to return another matrix which is the sum of A and B."
      ],
      "metadata": {
        "id": "B89_eSJZjT6-"
      }
    },
    {
      "cell_type": "code",
      "source": [
        "lass Solution:\n",
        "    # @param A : list of list of integers\n",
        "    # @param B : list of list of integers\n",
        "    # @return a list of list of integers\n",
        "    def solve(self, A, B):\n",
        "        for i in range(0,len(A)):\n",
        "            for j in range(0,len(A[0])):\n",
        "                A[i][j] = A[i][j] + B[i][j]\n",
        "        return A"
      ],
      "metadata": {
        "id": "G1KoqnOMjcJ3"
      },
      "execution_count": null,
      "outputs": []
    },
    {
      "cell_type": "markdown",
      "source": [
        "Q4. Matrix Subtraction\n",
        "\n",
        "You are given two integer matrices A and B having same size(Both having same number of rows (N) and columns (M). You have to subtract matrix B from A and return the resultant matrix. (i.e. return the matrix A - B).\n",
        "\n",
        "If A and B are two matrices of the same order (same dimensions). Then A - B is a matrix of the same order as A and B and its elements are obtained by doing an element wise subtraction of A from B."
      ],
      "metadata": {
        "id": "woZGB0iljkmF"
      }
    },
    {
      "cell_type": "code",
      "source": [
        "class Solution:\n",
        "    # @param A : list of list of integers\n",
        "    # @param B : list of list of integers\n",
        "    # @return a list of list of integers\n",
        "    def solve(self, A, B):\n",
        "        rows = len(A)\n",
        "        cols =len(A[0])\n",
        "        ans = [0]\n",
        "        for i in range(0,rows):\n",
        "            for j in range(0,cols):\n",
        "                A[i][j]-=B[i][j]\n",
        "\n",
        "        return A"
      ],
      "metadata": {
        "id": "h1ryeHxyjplD"
      },
      "execution_count": null,
      "outputs": []
    },
    {
      "cell_type": "markdown",
      "source": [
        "Q5. Row to Column Zero\n",
        "\n",
        "You are given a 2D integer matrix A, make all the elements in a row or column zero if the A[i][j] = 0. Specifically, make entire ith row and jth column zero."
      ],
      "metadata": {
        "id": "jEV3qnwBjuG-"
      }
    },
    {
      "cell_type": "code",
      "source": [
        "class Solution:\n",
        "    # @param A : list of list of integers\n",
        "    # @return a list of list of integers\n",
        "    def solve(self, A):\n",
        "        n = len(A)\n",
        "        m = len(A[0])\n",
        "        for i in range(0,n):\n",
        "            flag = 0\n",
        "            for j in range(0,m):\n",
        "                if A[i][j] == 0:\n",
        "                    flag = 1\n",
        "            if flag == 1:\n",
        "                for j in range(0,m):\n",
        "                    if A[i][j] != 0:\n",
        "                        A[i][j] = -1\n",
        "        for j in range(0,m):\n",
        "            flag = 0\n",
        "            for i in range(0,n):\n",
        "                if A[i][j] == 0:\n",
        "                    flag = 1\n",
        "            if flag == 1:\n",
        "                for i in range(0,n):\n",
        "                    if A[i][j] != 0:\n",
        "                        A[i][j] = -1\n",
        "        for i in range(0,n):\n",
        "            for j in range(0,m):\n",
        "                if A[i][j] == -1: A[i][j] = 0\n",
        "        return A"
      ],
      "metadata": {
        "id": "tt3WDhZjj0ns"
      },
      "execution_count": null,
      "outputs": []
    },
    {
      "cell_type": "markdown",
      "source": [],
      "metadata": {
        "id": "wIoivELjj5yL"
      }
    },
    {
      "cell_type": "code",
      "execution_count": null,
      "metadata": {
        "id": "xsKxHwrug0ly"
      },
      "outputs": [],
      "source": []
    }
  ]
}