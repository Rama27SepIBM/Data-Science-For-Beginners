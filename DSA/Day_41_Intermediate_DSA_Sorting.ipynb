{
  "nbformat": 4,
  "nbformat_minor": 0,
  "metadata": {
    "colab": {
      "provenance": [],
      "authorship_tag": "ABX9TyME+E1WbyAUkShpBug5GPej",
      "include_colab_link": true
    },
    "kernelspec": {
      "name": "python3",
      "display_name": "Python 3"
    },
    "language_info": {
      "name": "python"
    }
  },
  "cells": [
    {
      "cell_type": "markdown",
      "metadata": {
        "id": "view-in-github",
        "colab_type": "text"
      },
      "source": [
        "<a href=\"https://colab.research.google.com/github/Rama27SepIBM/21DaysOfLeetcode/blob/main/Day_41_Intermediate_DSA_Sorting.ipynb\" target=\"_parent\"><img src=\"https://colab.research.google.com/assets/colab-badge.svg\" alt=\"Open In Colab\"/></a>"
      ]
    },
    {
      "cell_type": "markdown",
      "source": [
        "Q1. Elements Removal\n",
        "\n",
        "Given an integer array A of size N. You can remove any element from the array in one operation.\n",
        "The cost of this operation is the sum of all elements in the array present before this operation.\n",
        "\n",
        "Find the minimum cost to remove all elements from the array."
      ],
      "metadata": {
        "id": "8th466-ztQuZ"
      }
    },
    {
      "cell_type": "code",
      "source": [
        "class Solution:\n",
        "    # @param A : list of integers\n",
        "    # @return an integer\n",
        "    def solve(self, A):\n",
        "        N=len(A)\n",
        "        ans=0\n",
        "        A.sort(reverse=True)\n",
        "        for i in range(N):\n",
        "            ans+=(i+1)*A[i]\n",
        "        return ans"
      ],
      "metadata": {
        "id": "SZijWItYtZxD"
      },
      "execution_count": null,
      "outputs": []
    },
    {
      "cell_type": "markdown",
      "source": [
        "Q2. Noble Integer\n",
        "\n",
        "Given an integer array A, find if an integer p exists in the array such that the number of integers greater than p in the array equals p."
      ],
      "metadata": {
        "id": "G_65ft-ytJcd"
      }
    },
    {
      "cell_type": "code",
      "source": [
        "class Solution:\n",
        "\t# @param A : list of integers\n",
        "\t# @return an integer\n",
        "\tdef solve(self, A):\n",
        "        N = len(A)\n",
        "        A.sort()\n",
        "        for i in range(N-1):\n",
        "            if A[i] != A[i+1]:\n",
        "                if A[i] == N-1-i:\n",
        "                    return 1\n",
        "            else:\n",
        "                continue\n",
        "        if A[N-1]==0:\n",
        "            return 1\n",
        "        return -1"
      ],
      "metadata": {
        "id": "aGBhepjDtnxZ"
      },
      "execution_count": null,
      "outputs": []
    },
    {
      "cell_type": "markdown",
      "source": [
        "Q3. Factors sort\n",
        "\n",
        "You are given an array A of N elements. Sort the given array in increasing order of number of distinct factors of each element, i.e., element having the least number of factors should be the first to be displayed and the number having highest number of factors should be the last one. If 2 elements have same number of factors, then number with less value should come first.\n",
        "\n",
        "Note: You cannot use any extra space"
      ],
      "metadata": {
        "id": "Z934F-ezttJ3"
      }
    },
    {
      "cell_type": "code",
      "source": [
        "import functools\n",
        "def countFactors(num):\n",
        "    count = 0\n",
        "    i = 1\n",
        "    while i * i <= num:\n",
        "        if(num % i == 0):\n",
        "            count += 1\n",
        "            if(i * i != num):\n",
        "                count += 1\n",
        "        i += 1\n",
        "    return count\n",
        "def compare(val1, val2):\n",
        "    count1 = countFactors(val1)\n",
        "    count2 = countFactors(val2) \n",
        "    if count1 == count2:\n",
        "        return val1 - val2\n",
        "    return count1 - count2\n",
        "\n",
        "class Solution:\n",
        "    # @param A : list of integers\n",
        "    # @return a list of integers\n",
        "    def solve(self, A):\n",
        "        A = sorted(A, key = functools.cmp_to_key(compare))\n",
        "        return A"
      ],
      "metadata": {
        "id": "f-45axmRuIME"
      },
      "execution_count": null,
      "outputs": []
    },
    {
      "cell_type": "markdown",
      "source": [
        "Q4. Largest Number\n",
        "\n",
        "Given an array A of non-negative integers, arrange them such that they form the largest number.\n",
        "\n",
        "Note: The result may be very large, so you need to return a string instead of an integer."
      ],
      "metadata": {
        "id": "mXiTNJkOuS2v"
      }
    },
    {
      "cell_type": "code",
      "source": [
        "from fractions import Fraction\n",
        "class Solution:\n",
        "    # @param A : tuple of integers\n",
        "    # @return a strings\n",
        "    def largestNumber(self, A):\n",
        "            \n",
        "        # sorts the array lexicographically\n",
        "        A = sorted(A, key=lambda n: Fraction(n, 10 ** len(str(n)) - 1), reverse = True)\n",
        "        i = 0\n",
        "        while i < len(A) - 1:\n",
        "            if A[i] != 0:\n",
        "                break\n",
        "            else:\n",
        "                i += 1\n",
        "        ret = map(lambda x:str(x), A[i:])\n",
        "        return ''.join(ret)"
      ],
      "metadata": {
        "id": "NbP_XBPBuaUA"
      },
      "execution_count": null,
      "outputs": []
    },
    {
      "cell_type": "markdown",
      "source": [
        "Q5. Time Complexity-ii\n",
        "\n",
        "What is the time complexity of the following code snippet?\n",
        "\n",
        "C++\n",
        "Java\n",
        "Python\n",
        "\n",
        "v = []\n",
        "for i in range(n):\n",
        "    v.append(i)\n",
        "v.sort()\n",
        "a)O(n) b)O(nlogn) c)O(1) d)O(n^2) e)None of the above"
      ],
      "metadata": {
        "id": "oHDXtMCpwFP7"
      }
    },
    {
      "cell_type": "code",
      "execution_count": null,
      "metadata": {
        "id": "4zpfvcjGtFXn"
      },
      "outputs": [],
      "source": [
        "#Your 1st Submission : Option 2 (Correct Answer),"
      ]
    },
    {
      "cell_type": "markdown",
      "source": [
        "Q1. Sort by Color\n",
        "\n",
        "Given an array with N objects colored red, white, or blue, sort them so that objects of the same color are adjacent, with the colors in the order red, white, and blue.\n",
        "\n",
        "We will use the integers 0, 1, and 2 to represent red, white, and blue, respectively.\n",
        "\n",
        "Note: Using the library sort function is not allowed."
      ],
      "metadata": {
        "id": "2QOdd6bKxJlF"
      }
    },
    {
      "cell_type": "code",
      "source": [
        "class Solution:\n",
        "    # @param A : list of integers\n",
        "    # @return a list of integers\n",
        "    def sortColors(self, A):\n",
        "        N=len(A)\n",
        "        count_0=0\n",
        "        count_1=0\n",
        "        count_2=0\n",
        "        B=[]\n",
        "        for i in A:\n",
        "            if i==0:\n",
        "                count_0+=1\n",
        "            elif i==1:\n",
        "                count_1+=1\n",
        "            elif i==2:\n",
        "                count_2+=1\n",
        "        B=[0]*count_0+[1]*count_1+[2]*count_2\n",
        "        return B"
      ],
      "metadata": {
        "id": "E3xt1iOqxWNg"
      },
      "execution_count": null,
      "outputs": []
    },
    {
      "cell_type": "markdown",
      "source": [
        "Q2. Arithmetic Progression?\n",
        "\n",
        "\n",
        "Given an integer array A of size N. Return 1 if the array can be arranged to form an arithmetic progression, otherwise return 0.\n",
        "\n",
        "A sequence of numbers is called an arithmetic progression if the difference between any two consecutive elements is the same."
      ],
      "metadata": {
        "id": "YTeVZPLOxapG"
      }
    },
    {
      "cell_type": "code",
      "source": [
        "class Solution:\n",
        "    # @param A : list of integers\n",
        "    # @return an integer\n",
        "    def solve(self, A):\n",
        "        A.sort()\n",
        "        n=len(A)\n",
        "        c=A[1]-A[0]\n",
        "        for i in range(n-1):\n",
        "            if A[i+1]-A[i]!=c:\n",
        "                return 0\n",
        "        return 1"
      ],
      "metadata": {
        "id": "ycZeT3R4xx0L"
      },
      "execution_count": null,
      "outputs": []
    },
    {
      "cell_type": "markdown",
      "source": [
        "Q3. Tens Digit Sorting\n",
        "\n",
        "Given an array A of N integers. Sort the array in increasing order of the value at the tens place digit of every number.\n",
        "\n",
        "If a number has no tens digit, we can assume value to be 0.\n",
        "If 2 numbers have same tens digit, in that case number with max value will come first\n",
        "Solution should be based on comparator."
      ],
      "metadata": {
        "id": "ek-JYL-vxzkM"
      }
    },
    {
      "cell_type": "code",
      "source": [
        "import functools\n",
        "def compare(val1, val2):\n",
        "    tens_digit1 = (val1 // 10 ) % 10\n",
        "    tens_digit2 = (val2 // 10 ) % 10\n",
        "    if (tens_digit1 == tens_digit2):\n",
        "        return val2 - val1\n",
        "    return tens_digit1 - tens_digit2\n",
        "\n",
        "class Solution:\n",
        "    # @param A : list of integers\n",
        "    # @return a list of integers\n",
        "    def solve(self, A):\n",
        "        A = sorted(A, key = functools.cmp_to_key(compare))\n",
        "        return A"
      ],
      "metadata": {
        "id": "vJx5IVkex-Bz"
      },
      "execution_count": null,
      "outputs": []
    }
  ]
}