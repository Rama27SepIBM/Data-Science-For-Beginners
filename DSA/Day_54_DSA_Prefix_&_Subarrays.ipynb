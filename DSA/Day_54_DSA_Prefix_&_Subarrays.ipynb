{
  "nbformat": 4,
  "nbformat_minor": 0,
  "metadata": {
    "colab": {
      "provenance": [],
      "authorship_tag": "ABX9TyNQoUPMX3nErMsvCcefqzUd",
      "include_colab_link": true
    },
    "kernelspec": {
      "name": "python3",
      "display_name": "Python 3"
    },
    "language_info": {
      "name": "python"
    }
  },
  "cells": [
    {
      "cell_type": "markdown",
      "metadata": {
        "id": "view-in-github",
        "colab_type": "text"
      },
      "source": [
        "<a href=\"https://colab.research.google.com/github/Rama27SepIBM/Data-Science-For-Beginners/blob/main/Day_54_DSA_Prefix_%26_Subarrays.ipynb\" target=\"_parent\"><img src=\"https://colab.research.google.com/assets/colab-badge.svg\" alt=\"Open In Colab\"/></a>"
      ]
    },
    {
      "cell_type": "markdown",
      "source": [
        "Q1. Continuous Sum Query\n",
        "\n",
        "There are A beggars sitting in a row outside a temple. Each beggar initially has an empty pot. When the devotees come to the temple, they donate some amount of coins to these beggars. Each devotee gives a fixed amount of coin(according to their faith and ability) to some K beggars sitting next to each other.\n",
        "\n",
        "Given the amount P donated by each devotee to the beggars ranging from L to R index, where 1 <= L <= R <= A, find out the final amount of money in each beggar's pot at the end of the day, provided they don't fill their pots by any other means.\n",
        "For ith devotee B[i][0] = L, B[i][1] = R, B[i][2] = P, Given by the 2D array B"
      ],
      "metadata": {
        "id": "wnOpFkubTWy9"
      }
    },
    {
      "cell_type": "code",
      "source": [
        "class Solution:\n",
        "    # @param A : integer\n",
        "    # @param B : list of list of integers\n",
        "    # @return a list of integers\n",
        "    def solve(self, A, B):\n",
        "        res = [0]*A\n",
        "        for row in B:\n",
        "                res[row[0]-1] += row[2]\n",
        "                if row[1]<A:\n",
        "                    res[row[1]] -= row[2]\n",
        "        for i in range(1,A):\n",
        "            res[i] += res[i-1]\n",
        "        return res"
      ],
      "metadata": {
        "id": "zmBRLQVzTfRE"
      },
      "execution_count": null,
      "outputs": []
    },
    {
      "cell_type": "markdown",
      "source": [
        "Q2. Prefix maximum\n",
        "\n",
        "Kamal is a software developer and he's working on a new feature for an e-commerce website. The website has a list of prices for different products, and Kamal needs to find the maximum price of all products up to a given index.\n",
        "\n",
        "He has the list of prices in an array A of length N, and he needs to write a program that will return the maximum price occurring in the subarray from 0 to i for every index i. Kamal needs your help to implement this function."
      ],
      "metadata": {
        "id": "ndCnomiNTkuz"
      }
    },
    {
      "cell_type": "code",
      "source": [
        "class Solution:\n",
        "    # @param A : list of integers\n",
        "    # @return a list of integers\n",
        "    def solve(self, A):\n",
        "        N = len(A)\n",
        "        result = [0] * N\n",
        "        result[0] = A[0]\n",
        "        for i in range(1, N):\n",
        "            result[i] = max(A[i], result[i-1])\n",
        "        return result"
      ],
      "metadata": {
        "id": "pPmKQlFyUEVb"
      },
      "execution_count": null,
      "outputs": []
    },
    {
      "cell_type": "markdown",
      "source": [
        "Q3. Suffix maximum\n",
        "\n",
        "Given an array A of length N, For every index i, you need to find the maximum value in subarray from i to N-1."
      ],
      "metadata": {
        "id": "X3H6iUnRUIDV"
      }
    },
    {
      "cell_type": "code",
      "source": [
        "class Solution:\n",
        "    # @param A : list of integers\n",
        "    # @return a list of integers\n",
        "    def solve(self, A):\n",
        "        N = len(A)\n",
        "        result = [0] * N\n",
        "        result[N-1] = A[N-1]\n",
        "        for i in range(N-2, -1, -1):\n",
        "            result[i] = max(A[i], result[i+1])\n",
        "        return result"
      ],
      "metadata": {
        "id": "7pgwWcuCUOhN"
      },
      "execution_count": null,
      "outputs": []
    },
    {
      "cell_type": "markdown",
      "source": [
        "Q4. Rain Water Trapped\n",
        "\n",
        "Given a vector A of non-negative integers representing an elevation map where the width of each bar is 1, compute how much water it is able to trap after raining."
      ],
      "metadata": {
        "id": "dWoTRvDoUUBx"
      }
    },
    {
      "cell_type": "code",
      "source": [
        "class Solution:\n",
        "\t# @param A : tuple of integers\n",
        "\t# @return an integer\n",
        "\tdef trap(self, A):\n",
        "        N = len(A)\n",
        "        left_max = [0] * N\n",
        "        right_max = [0] * N\n",
        "        nums_water = 0\n",
        "\n",
        "        left_max[0] = A[0]\n",
        "        for i in range(1, N):\n",
        "            left_max[i] = max(left_max[i-1], A[i])\n",
        "\n",
        "        right_max[N-1] = A[N-1]\n",
        "        for i in range(N-2, -1, -1):\n",
        "            right_max[i] = max(right_max[i+1], A[i])\n",
        "\n",
        "        for i in range(N):\n",
        "            nums_water += min(left_max[i], right_max[i]) - A[i]\n",
        "\n",
        "        return nums_water"
      ],
      "metadata": {
        "id": "vuryF3CZUbcW"
      },
      "execution_count": null,
      "outputs": []
    },
    {
      "cell_type": "markdown",
      "source": [
        "Q5. Max Sum Contiguous Subarray\n",
        "\n",
        "Find the contiguous non-empty subarray within an array, A of length N, with the largest sum."
      ],
      "metadata": {
        "id": "1Svs-2dDUmJb"
      }
    },
    {
      "cell_type": "code",
      "source": [
        "class Solution:\n",
        "    # @param A : tuple of integers\n",
        "    # @return an integer\n",
        "    def maxSubArray(self, A):\n",
        "        max_ending_here = max_so_far = A[0]\n",
        "        for x in A[1:]:\n",
        "            max_ending_here = max(x, max_ending_here+x)\n",
        "            max_so_far = max(max_so_far, max_ending_here)\n",
        "        return max_so_far"
      ],
      "metadata": {
        "id": "RYj7LjbkUqhB"
      },
      "execution_count": null,
      "outputs": []
    },
    {
      "cell_type": "markdown",
      "source": [
        "Q1. Range Sum - II\n",
        "\n",
        "Given an integer array A of size N. You are asked to perfom Q queries on the given array and return the final array after processing all queries.\n",
        "\n",
        "Each query is of type ( l, r, c), for each query add c in index range l to r.\n",
        "\n",
        "NOTE: Value of each element in the final array will fit in 32 bit signed integer."
      ],
      "metadata": {
        "id": "zlHq3iUBUy1S"
      }
    },
    {
      "cell_type": "code",
      "source": [
        "import sys\n",
        "sys.setrecursionlimit(10**5)\n",
        "class Solution:\n",
        "    # @param A : list of integers\n",
        "    # @param B : list of list of integers\n",
        "    # @return a list of integers\n",
        "    def solve(self, A, B):\n",
        "        N = len(A)\n",
        "        pre = [0] * N\n",
        "        for i in range (len(B)):\n",
        "            l, r, c = B[i]\n",
        "            l-=1\n",
        "            r-=1\n",
        "            pre[l] += c\n",
        "            if(r!= N-1):\n",
        "                pre[r+1] -=c\n",
        "        A[0] += pre[0]\n",
        "        for i in range(1, N):\n",
        "            pre[i] += pre[i-1]\n",
        "            A[i] += pre[i]\n",
        "        return A"
      ],
      "metadata": {
        "id": "p1pq3w9VU4xb"
      },
      "execution_count": null,
      "outputs": []
    },
    {
      "cell_type": "markdown",
      "source": [
        "Q2. Chocolate Distribution\n",
        "\n",
        "Given an array A of N integers where the i-th element represent the number of chocolates in the i-th packet.\n",
        "\n",
        "There are B number of students, the task is to distribute chocolate packets following below conditions:\n",
        "\n",
        "1. Each student gets one packets.\n",
        "2. The difference between the number of chocolates given to any two students is minimum.\n",
        "Return the minimum difference (that can be achieved) between the student who gets minimum number of chocolates and the student who gets maximum number of chocolates.\n",
        "\n",
        "Note: If you can't give each student 1 packet, return 0."
      ],
      "metadata": {
        "id": "LSZSMGlNU_pY"
      }
    },
    {
      "cell_type": "code",
      "execution_count": null,
      "metadata": {
        "id": "zZn1593LTR62"
      },
      "outputs": [],
      "source": [
        "class Solution:\n",
        "    # @param A : list of integers\n",
        "    # @param B : integer\n",
        "    # @return an integer\n",
        "    def solve(self, A, B):\n",
        "        if B==0 or len(A)==0:\n",
        "            return 0\n",
        "        A.sort()\n",
        "        nums_min_diff = float('inf')\n",
        "        for i in range(len(A) - B + 1):\n",
        "            nums_min_diff = min(nums_min_diff, A[i + B - 1] - A[i])\n",
        "        return nums_min_diff"
      ]
    }
  ]
}