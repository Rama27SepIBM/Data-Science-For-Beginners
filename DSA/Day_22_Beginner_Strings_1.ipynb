{
  "nbformat": 4,
  "nbformat_minor": 0,
  "metadata": {
    "colab": {
      "provenance": [],
      "authorship_tag": "ABX9TyO9pf1/6d1XRH8yhT4nAW/B",
      "include_colab_link": true
    },
    "kernelspec": {
      "name": "python3",
      "display_name": "Python 3"
    },
    "language_info": {
      "name": "python"
    }
  },
  "cells": [
    {
      "cell_type": "markdown",
      "metadata": {
        "id": "view-in-github",
        "colab_type": "text"
      },
      "source": [
        "<a href=\"https://colab.research.google.com/github/Rama27SepIBM/21DaysOfLeetcode/blob/main/Day_22_Beginner_Strings_1.ipynb\" target=\"_parent\"><img src=\"https://colab.research.google.com/assets/colab-badge.svg\" alt=\"Open In Colab\"/></a>"
      ]
    },
    {
      "cell_type": "markdown",
      "source": [
        "Q1. Low to High - II\n",
        "\n",
        "You are given lowercase string (S) and you have to return a string that is the uppercase form of S.\n",
        "\n",
        "\n",
        "Problem Constraints\n",
        "1 <= S.size() <= 1000"
      ],
      "metadata": {
        "id": "vO8iM-wmfhyM"
      }
    },
    {
      "cell_type": "code",
      "source": [
        "class Solution:\n",
        "    # @param A : string\n",
        "    # @return a strings\n",
        "    def solve(self, A):\n",
        "        return A.upper()"
      ],
      "metadata": {
        "id": "WIopgF3hfsYI"
      },
      "execution_count": null,
      "outputs": []
    },
    {
      "cell_type": "markdown",
      "source": [
        "Q2. High to Low - II\n",
        "\n",
        "You are given uppercase string (S) and you have to return a string that is the lower case form of S."
      ],
      "metadata": {
        "id": "mwpd1yMFfxM1"
      }
    },
    {
      "cell_type": "code",
      "source": [
        "class Solution:\n",
        "    # @param A : string\n",
        "    # @return a strings\n",
        "    def solve(self, A):\n",
        "        return A.lower()"
      ],
      "metadata": {
        "id": "3mwdTYd6gEZs"
      },
      "execution_count": null,
      "outputs": []
    },
    {
      "cell_type": "markdown",
      "source": [
        "Q3. Vowels vs Consonants - II\n",
        "\n",
        "You are given lowercase string (A) and you have to tell the count of vowels and consonants in it.\n",
        "\n",
        "\n",
        "\n",
        "Problem Constraints\n",
        "1 <= A.size() <= 1000"
      ],
      "metadata": {
        "id": "O69K7x75gHUv"
      }
    },
    {
      "cell_type": "code",
      "source": [
        "class Solution:\n",
        "    # @param A : string\n",
        "    # @return a list of integers\n",
        "    def solve(self, A):\n",
        "        c=0\n",
        "        v=0\n",
        "        for  i in A:\n",
        "            if i in ['A','E','I','O','U',] or i in ['a','e','i','o','u']:\n",
        "                v+=1\n",
        "            else:\n",
        "                c+=1\n",
        "        return [v,c]"
      ],
      "metadata": {
        "id": "pPG_4mabgOhu"
      },
      "execution_count": null,
      "outputs": []
    },
    {
      "cell_type": "markdown",
      "source": [
        "Q4. Reverse the word - II\n",
        "\n",
        "You are given lowercase string (A) and you have to return after reversing that.\n",
        "\n",
        "\n",
        "Problem Constraints\n",
        "1 <= S.size() <= 1000"
      ],
      "metadata": {
        "id": "ot0acTX1gVuf"
      }
    },
    {
      "cell_type": "code",
      "source": [
        "class Solution:\n",
        "    # @param A : string\n",
        "    # @return a strings\n",
        "    def solve(self, A):\n",
        "        return A[: : -1]"
      ],
      "metadata": {
        "id": "ITEiGT7JgfyF"
      },
      "execution_count": null,
      "outputs": []
    },
    {
      "cell_type": "markdown",
      "source": [],
      "metadata": {
        "id": "toaD3nwWgg6k"
      }
    },
    {
      "cell_type": "code",
      "execution_count": null,
      "metadata": {
        "id": "KB-9BDaFfacZ"
      },
      "outputs": [],
      "source": []
    }
  ]
}