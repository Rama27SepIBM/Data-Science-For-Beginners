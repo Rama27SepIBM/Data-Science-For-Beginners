{
  "nbformat": 4,
  "nbformat_minor": 0,
  "metadata": {
    "colab": {
      "provenance": [],
      "authorship_tag": "ABX9TyMrUvXBsK+Zcs/+lzgXmQxk",
      "include_colab_link": true
    },
    "kernelspec": {
      "name": "python3",
      "display_name": "Python 3"
    },
    "language_info": {
      "name": "python"
    }
  },
  "cells": [
    {
      "cell_type": "markdown",
      "metadata": {
        "id": "view-in-github",
        "colab_type": "text"
      },
      "source": [
        "<a href=\"https://colab.research.google.com/github/Rama27SepIBM/21DaysOfLeetcode/blob/main/Day_18_Beginner_Lists_1D_Problem_Solving.ipynb\" target=\"_parent\"><img src=\"https://colab.research.google.com/assets/colab-badge.svg\" alt=\"Open In Colab\"/></a>"
      ]
    },
    {
      "cell_type": "markdown",
      "source": [
        "Q1. Insert that\n",
        "\n",
        "Write a program to input N numbers array, a number X and a number Y from user and insert an element Y in it at specified position X. X is based on 1-based indexing.\n",
        "\n",
        "Note: When an element is inserted at position X, all elements that were already present at position >= X, gets shifted to one position right, not replaced.\n",
        "\n",
        "Problem Constraints\n",
        "\n",
        "1 <= N <= 100\n",
        "\n",
        "1 <= A[i] <= 1000\n",
        "\n",
        "1 <= X <= N\n",
        "\n",
        "1 <= Y <= 1000\n",
        "\n",
        "Input Format\n",
        "\n",
        "First line is N which represents number of elements.\n",
        "\n",
        "Second line contains N space separated integers.\n",
        "\n",
        "Third line is X position where Y has to be inserted.\n",
        "\n",
        "Fourth line is Y which is the value to be inserted.\n",
        "\n",
        "Output Format\n",
        "\n",
        "N+1 space separated integers of the input array after inserting the element at required position.\n",
        "\n",
        "Example Input\n",
        "\n",
        "Input 1:\n",
        "\n",
        "5\n",
        "\n",
        "2 3 1 4 2\n",
        "\n",
        "3\n",
        "\n",
        "5"
      ],
      "metadata": {
        "id": "HfRmYPclvs2N"
      }
    },
    {
      "cell_type": "code",
      "source": [
        "def main():\n",
        "    # YOUR CODE GOES HERE\n",
        "    n = int(input())\n",
        "    N = input().split()\n",
        "    X = int(input())\n",
        "    Y = int(input())\n",
        "    A = list(map(int, N))\n",
        "    A.insert(X-1,Y)\n",
        "    for i in A:\n",
        "        print(i,end=\" \")\n",
        "    # Please take input and print output to standard input/output (stdin/stdout)\n",
        "    # E.g. 'input()/raw_input()' for input & 'print' for output\n",
        "\n",
        "    return 0\n",
        "\n",
        "if __name__ == '__main__':\n",
        "    main()"
      ],
      "metadata": {
        "id": "J-ssxixzwCSu"
      },
      "execution_count": null,
      "outputs": []
    },
    {
      "cell_type": "markdown",
      "source": [
        "Q2. Remove that\n",
        "\n",
        "Write a program to input N numbers array from user and an integer X and print the array by deleting element at specified position X.\n",
        "\n",
        "Problem Constraints\n",
        "\n",
        "1 <= N <= 100\n",
        "\n",
        "1 <= A[i] <= 1000\n",
        "\n",
        "1 <= X <= N\n",
        "\n",
        "Input Format\n",
        "\n",
        "First line is N which means number of elements.\n",
        "\n",
        "Second line contains N space separated integers.\n",
        "\n",
        "Third line is X position which has to be deleted.\n",
        "Output Format\n",
        "\n",
        "N-1 space separated integers of the input array after deleting the element at required position.\n",
        "Example Input\n",
        "\n",
        "5\n",
        "2 3 1 4 2\n",
        "3\n",
        "Example Output\n",
        "\n",
        "2 3 4 2\n",
        "Example Explanation\n",
        "\n",
        "Clearly after removing A[3] = 1, remaining array is 2 3 4 2."
      ],
      "metadata": {
        "id": "fT6kNaE0wHCu"
      }
    },
    {
      "cell_type": "code",
      "source": [
        "def main():\n",
        "    # YOUR CODE GOES HERE\n",
        "    n = int(input())\n",
        "    a = input().split()\n",
        "    X = int(input())\n",
        "    N = list(map(int,a))\n",
        "    N.pop(X-1)\n",
        "    for i in N:\n",
        "        print(i,end=\" \")\n",
        "    # Please take input and print output to standard input/output (stdin/stdout)\n",
        "    # E.g. 'input()/raw_input()' for input & 'print' for output\n",
        "\n",
        "    return 0\n",
        "\n",
        "if __name__ == '__main__':\n",
        "    main()"
      ],
      "metadata": {
        "id": "b0i0betbwPMJ"
      },
      "execution_count": null,
      "outputs": []
    },
    {
      "cell_type": "markdown",
      "source": [
        "Q4. Linear Search - Multiple Occurences\n",
        "\n",
        "Given an array A and an integer B, find the number of occurrences of B in A."
      ],
      "metadata": {
        "id": "heNytdsBwTjC"
      }
    },
    {
      "cell_type": "code",
      "source": [
        "class Solution:\n",
        "    # @param A : list of integers\n",
        "    # @param B : integer\n",
        "    # @return an integer\n",
        "    def solve(self, A, B):\n",
        "\n",
        "        return A.count(B)"
      ],
      "metadata": {
        "id": "MQfZKx3OwlDn"
      },
      "execution_count": null,
      "outputs": []
    },
    {
      "cell_type": "markdown",
      "source": [
        "Q5. Search Element\n",
        "\n",
        "You are given an integer T (number of test cases). You are given array A and an integer B for each test case. You have to tell whether B is present in array A or not."
      ],
      "metadata": {
        "id": "P2xHYNY-woRo"
      }
    },
    {
      "cell_type": "code",
      "source": [
        "def main():\n",
        "    # YOUR CODE GOES HERE\n",
        "    T = int(input())\n",
        "    while T>0:\n",
        "        T-=1\n",
        "        n = int(input())\n",
        "        a = input().split()\n",
        "        A = list(map(int,a))\n",
        "        B = int(input())\n",
        "        if B in A:\n",
        "            print(1)\n",
        "        else:\n",
        "            print(0)\n",
        "    # Please take input and print output to standard input/output (stdin/stdout)\n",
        "    # E.g. 'input()/raw_input()' for input & 'print' for output\n",
        "\n",
        "    return 0\n",
        "\n",
        "if __name__ == '__main__':\n",
        "    main()"
      ],
      "metadata": {
        "id": "IneaX2VTwuVv"
      },
      "execution_count": null,
      "outputs": []
    },
    {
      "cell_type": "markdown",
      "source": [
        "Q1. Product of elements\n",
        "\n",
        "Write a program that returns the product of all elements present in the array.\n",
        "Constraints:\n",
        "\n",
        "1 <= |A| <= 100\n",
        "1 <= A <= 100\n",
        "Note: It is guaranteed that the resultant product will be <= 1015\n",
        "Input Format:\n",
        "\n",
        "An integer array A as the function argument.\n",
        "Output Format:\n",
        "\n",
        "Product of elements in integer format\n",
        "Sample Input:\n",
        "\n",
        "A = [7, 9, 2, 51]\n",
        "Sample Output:\n",
        "\n",
        "6426\n",
        "Sample explanation:\n",
        "\n",
        "The product of all the elements is 7 * 9 * 2 * 51 = 6426 is returned."
      ],
      "metadata": {
        "id": "79O19PISwzEk"
      }
    },
    {
      "cell_type": "code",
      "source": [
        "def product(lst):\n",
        "    ''' input:lst-List of elements in integer format\n",
        "         output:Return the product as result.'''\n",
        "    \n",
        "    result = 1\n",
        "    # YOUR CODE GOES HERE\n",
        "    for i in lst:\n",
        "        result*=i\n",
        "    \n",
        "    return result"
      ],
      "metadata": {
        "id": "G2tdT9gTxN2U"
      },
      "execution_count": null,
      "outputs": []
    },
    {
      "cell_type": "markdown",
      "source": [
        "Q2. Max and Min of an Array\n",
        "\n",
        "Take input an array A of size N and write a program to print maximum and minimum elements of the input. The only line of the input would contain a single integer N that represents the length of the array followed by the N elements of the input array A."
      ],
      "metadata": {
        "id": "0VZcfWtVxROd"
      }
    },
    {
      "cell_type": "code",
      "source": [
        "def main():\n",
        "    # YOUR CODE GOES HERE\n",
        "    N = input().split()\n",
        "    N.pop(0)\n",
        "    lst = list(map(int,N))\n",
        "    print(max(lst),end=\" \")\n",
        "    print(min(lst))\n",
        "    # Please take input and print output to standard input/output (stdin/stdout)\n",
        "    # E.g. 'input()/raw_input()' for input & 'print' for output\n",
        "\n",
        "    return 0\n",
        "\n",
        "if __name__ == '__main__':\n",
        "    main()"
      ],
      "metadata": {
        "id": "0f0E7vTnxZSV"
      },
      "execution_count": null,
      "outputs": []
    },
    {
      "cell_type": "markdown",
      "source": [
        "Q3. Right Shift an Array\n",
        "\n",
        "Write a program that reads an integer array A from input and modifies the array by shifting each element to the right by one position and by shifting the last element to the first position. Return the modified array.\n",
        "\n",
        "Problem Constraints\n",
        "\n",
        "1 <= N <= 105 1 <= A[i] <= 109\n",
        "Input Format\n",
        "\n",
        "The first line of the input is the size of the array N. The second line of the input is N integers of the array separated by space.\n",
        "Output Format\n",
        "\n",
        "Print a single line that is the elements of the modified array separated by space.\n",
        "Example Input\n",
        "\n",
        "5\n",
        "1 2 3 4 5"
      ],
      "metadata": {
        "id": "iD0Wu1ZSxcD9"
      }
    },
    {
      "cell_type": "code",
      "source": [
        "def main():\n",
        "    # YOUR CODE GOES HERE\n",
        "    N = int(input())\n",
        "    a = input().split()\n",
        "    A = list(map(int,a))\n",
        "    A.insert(0, A[-1])\n",
        "    A.pop(-1)\n",
        "    for i in A:\n",
        "        print(i, end=\" \")\n",
        "    \n",
        "    # Please take input and print output to standard input/output (stdin/stdout)\n",
        "    # E.g. 'input()/raw_input()' for input & 'print' for output\n",
        "\n",
        "    return 0\n",
        "\n",
        "if __name__ == '__main__':\n",
        "    main()"
      ],
      "metadata": {
        "id": "Q1opSkF2xjv5"
      },
      "execution_count": null,
      "outputs": []
    },
    {
      "cell_type": "markdown",
      "source": [
        "Q4. Shopping list items\n",
        "\n",
        "Write a program that will keep track of items for a shopping list. The program should keep asking for new items as input until “end” is entered, print the full shopping list at the end.\n",
        "\n",
        "Input Format:\n",
        "\n",
        "Input is taken from the user for different elements until end is input.\n",
        "Output Format:\n",
        "\n",
        "The list of all elements of the shopping list"
      ],
      "metadata": {
        "id": "uWa9ZU7UxmiC"
      }
    },
    {
      "cell_type": "code",
      "source": [
        "def shopping_list():\n",
        "    shoplist=[]\n",
        "    ''' input:take items as inputs (strings) from the user\n",
        "      output:Print the shopping list.'''\n",
        "    # YOUR CODE GOES HERE\n",
        "    items=\"\"\n",
        "    while items != \"end\":\n",
        "        items = input()\n",
        "        shoplist.append(items)\n",
        "    shoplist.pop(-1)\n",
        "\n",
        "  \n",
        "    print(shoplist)\n",
        "  \n",
        "    '''Calling the function'''\n",
        "\n",
        "shopping_list() "
      ],
      "metadata": {
        "id": "CsB-G7qoxtl3"
      },
      "execution_count": null,
      "outputs": []
    },
    {
      "cell_type": "markdown",
      "source": [
        "Q5. Print in Reverse\n",
        "\n",
        "Write a program to print the input array A of size N in reverse order where you have to take integer N and further N elements as input from user.\n",
        "\n",
        "\n",
        "Problem Constraints\n",
        "\n",
        "1 <= N <= 1000"
      ],
      "metadata": {
        "id": "_zGOHHUxxy3X"
      }
    },
    {
      "cell_type": "code",
      "source": [
        "def main():\n",
        "    # YOUR CODE GOES HERE\n",
        "    N = input().split()\n",
        "    N.pop(0)\n",
        "    a = list(map(int, N))\n",
        "    A =N[: : -1]\n",
        "\n",
        "\n",
        "    #for i in a:\n",
        "        #A.insert(0, i)\n",
        "    for i in A:\n",
        "        print(i, end=\" \")\n",
        "    # Please take input and print output to standard input/output (stdin/stdout)\n",
        "    # E.g. 'input()/raw_input()' for input & 'print' for output\n",
        "\n",
        "    return 0\n",
        "\n",
        "if __name__ == '__main__':\n",
        "    main()"
      ],
      "metadata": {
        "id": "2UNHr25jzjHY"
      },
      "execution_count": null,
      "outputs": []
    },
    {
      "cell_type": "markdown",
      "source": [
        "Q6. Swap elements function\n",
        "\n",
        "Choose the options to complete the function swap() to swap the first and the last elements in a list?\n",
        "\n",
        "Input: n_list=[12,41,29,32,7]\n",
        "\n",
        "def  swap(n_list):\n",
        "\n",
        "       __________________\n",
        "\n",
        "       return n_list\n",
        "\n",
        "swap(n_list)\n",
        "Output: [7,41,29,32,12]"
      ],
      "metadata": {
        "id": "PuxLcgm8znMr"
      }
    },
    {
      "cell_type": "code",
      "source": [
        "# n_list[0], n_list[-1] = n_list[-1], n_list[0]\n",
        "# n_list[0], n_list[-1] = n_list[0], n_list[-1]\n",
        "# n_list[-1], n_list[0] = n_list[0], n_list[-1]\n",
        "# n_list[-1], n_list[0] = n_list[-1], n_list[0]"
      ],
      "metadata": {
        "id": "c04rold6zwbx"
      },
      "execution_count": null,
      "outputs": []
    },
    {
      "cell_type": "markdown",
      "source": [
        "Q7. Types of languages\n",
        "\n",
        "The list languages contains the names of different kinds of programming languages. Choose the suitable options that can be used to remove the element 'Java' from the given list.\n",
        "\n",
        "languages=['C' , 'C++' ,'R', 'Python' , 'Java', 'Scala']"
      ],
      "metadata": {
        "id": "3rOKR_YNz-zO"
      }
    },
    {
      "cell_type": "code",
      "source": [
        "# languages.pop(4) languages.remove(‘Java’) del languages[‘Java’] del languages[-2]"
      ],
      "metadata": {
        "id": "aFpadXdH0I4P"
      },
      "execution_count": null,
      "outputs": []
    },
    {
      "cell_type": "code",
      "execution_count": null,
      "metadata": {
        "id": "EgEJxEF-vqzP"
      },
      "outputs": [],
      "source": []
    }
  ]
}