{
  "nbformat": 4,
  "nbformat_minor": 0,
  "metadata": {
    "colab": {
      "provenance": [],
      "authorship_tag": "ABX9TyNg8+Ff89ckxqUlppV11ceW",
      "include_colab_link": true
    },
    "kernelspec": {
      "name": "python3",
      "display_name": "Python 3"
    },
    "language_info": {
      "name": "python"
    }
  },
  "cells": [
    {
      "cell_type": "markdown",
      "metadata": {
        "id": "view-in-github",
        "colab_type": "text"
      },
      "source": [
        "<a href=\"https://colab.research.google.com/github/Rama27SepIBM/21DaysOfLeetcode/blob/main/Day_21_Beginner_Lists_2D_Problem_Solving.ipynb\" target=\"_parent\"><img src=\"https://colab.research.google.com/assets/colab-badge.svg\" alt=\"Open In Colab\"/></a>"
      ]
    },
    {
      "cell_type": "markdown",
      "source": [
        "Q1. Add the matrices\n",
        "\n",
        "You are given two matrices A & B of same size, you have to return another matrix which is the sum of A and B.\n"
      ],
      "metadata": {
        "id": "DTtAj31DhPDs"
      }
    },
    {
      "cell_type": "code",
      "source": [
        "class Solution:\n",
        "    # @param A : list of list of integers\n",
        "    # @param B : list of list of integers\n",
        "    # @return a list of list of integers\n",
        "    def solve(self, A, B):\n",
        "        n = len(A)\n",
        "        m = len(A[0])\n",
        "        result_matrix = [[0]*m for i in range(n)]\n",
        "       \n",
        "        for i in range (n):\n",
        "            for j in range(m):\n",
        "                result_matrix[i][j]=A[i][j]+B[i][j]\n",
        "        return result_matrix"
      ],
      "metadata": {
        "id": "6px_2JbohbOD"
      },
      "execution_count": null,
      "outputs": []
    },
    {
      "cell_type": "markdown",
      "source": [
        "Q2. Matrix Subtraction\n",
        "\n",
        "You are given two integer matrices A and B having same size(Both having same number of rows (N) and columns (M). You have to subtract matrix B from A and return the resultant matrix. (i.e. return the matrix A - B).\n",
        "\n",
        "If A and B are two matrices of the same order (same dimensions). Then A - B is a matrix of the same order as A and B and its elements are obtained by doing an element wise subtraction of A from B.\n",
        "\n",
        "\n",
        "Problem Constraints\n",
        "\n",
        "1 <= N, M <= 103\n",
        "\n"
      ],
      "metadata": {
        "id": "LSRq3PZQhfEj"
      }
    },
    {
      "cell_type": "code",
      "source": [
        "class Solution:\n",
        "    # @param A : list of list of integers\n",
        "    # @param B : list of list of integers\n",
        "    # @return a list of list of integers\n",
        "    def solve(self, A, B):\n",
        "        n = len(A)\n",
        "        m = len(A[0])\n",
        "        result_matrix = [[0]*m for i in range(n)]\n",
        "       \n",
        "        for i in range (n):\n",
        "            for j in range(m):\n",
        "                result_matrix[i][j]=A[i][j]-B[i][j]\n",
        "        return result_matrix"
      ],
      "metadata": {
        "id": "34thpZ7thnWA"
      },
      "execution_count": null,
      "outputs": []
    },
    {
      "cell_type": "markdown",
      "source": [
        "Q3. Matrix Transpose\n",
        "\n",
        "You are given a matrix A, you have to return another matrix which is the transpose of A.\n",
        "\n",
        "NOTE: Transpose of a matrix A is defined as - AT[i][j] = A[j][i] ; Where 1 ≤ i ≤ col and 1 ≤ j ≤ row. The tranpose of a matrix switches the element at (i, j)th index to (j, i)th index, and the element at (j, i)th index to (i, j)th index.\n",
        "\n",
        "\n",
        "Problem Constraints\n",
        "\n",
        "1 <= A.size() <= 1000"
      ],
      "metadata": {
        "id": "gdYn2MVghqP2"
      }
    },
    {
      "cell_type": "code",
      "source": [
        "class Solution:\n",
        "    # @param A : list of list of integers\n",
        "    # @return a list of list of integers\n",
        "    def solve(self, A):\n",
        "        n = len(A)\n",
        "        m = len(A[0])\n",
        "        A_T = [[0]*n for i in range(m)]\n",
        "        for i in range(n):\n",
        "            for j in range(m):\n",
        "                A_T[j][i] = A[i][j]\n",
        "        return A_T"
      ],
      "metadata": {
        "id": "X99-qUuShxXv"
      },
      "execution_count": null,
      "outputs": []
    },
    {
      "cell_type": "markdown",
      "source": [
        "Q4. Is It Identity Matrix?\n",
        "\n",
        "You are given a N X N square integer matrix A. You have to tell whether A is an identity matrix or not.\n",
        "\n",
        "Identity matrix is a special square matrix whose main diagonal elements are equal to 1 and all other elements are 0.\n",
        "\n",
        "\n",
        "Problem Constraints\n",
        "\n",
        "2 <= N <= 103\n",
        "\n",
        "A[i][j] equals 0 or 1."
      ],
      "metadata": {
        "id": "hoLi2J2_h1pt"
      }
    },
    {
      "cell_type": "code",
      "source": [
        "class Solution:\n",
        "    # @param A : tuple of list of integers\n",
        "    # @return an integer\n",
        "    def solve(self, A):\n",
        "        n,m = len(A),len(A[0])\n",
        "\n",
        "        for i in range(n):\n",
        "            for j in range(m):\n",
        "                if i == j and A[i][j] != 1:\n",
        "                    return 0\n",
        "                if i != j and A[i][j] != 0:\n",
        "                    return 0\n",
        "                \n",
        "        return 1"
      ],
      "metadata": {
        "id": "oufUaKffh9Va"
      },
      "execution_count": null,
      "outputs": []
    },
    {
      "cell_type": "markdown",
      "source": [],
      "metadata": {
        "id": "MVRXq1LZiCYk"
      }
    },
    {
      "cell_type": "code",
      "execution_count": null,
      "metadata": {
        "id": "baFgniKthJz6"
      },
      "outputs": [],
      "source": []
    }
  ]
}