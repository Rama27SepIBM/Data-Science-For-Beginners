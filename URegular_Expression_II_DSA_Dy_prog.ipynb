{
  "nbformat": 4,
  "nbformat_minor": 0,
  "metadata": {
    "colab": {
      "provenance": [],
      "authorship_tag": "ABX9TyNJ0BrMuIkuwggDTSWdInHt",
      "include_colab_link": true
    },
    "kernelspec": {
      "name": "python3",
      "display_name": "Python 3"
    },
    "language_info": {
      "name": "python"
    }
  },
  "cells": [
    {
      "cell_type": "markdown",
      "metadata": {
        "id": "view-in-github",
        "colab_type": "text"
      },
      "source": [
        "<a href=\"https://colab.research.google.com/github/Rama27SepIBM/Data-Science-For-Beginners/blob/main/URegular_Expression_II_DSA_Dy_prog.ipynb\" target=\"_parent\"><img src=\"https://colab.research.google.com/assets/colab-badge.svg\" alt=\"Open In Colab\"/></a>"
      ]
    },
    {
      "cell_type": "markdown",
      "source": [
        "Day 101 - DSA: DP 4\n",
        "\n",
        "Implement wildcard pattern matching with support for ' ? ' and ' * ' for strings A and B.\n",
        "\n",
        "' . ' : Matches any single character.\n",
        "' * ' : Matches zero or more of the preceding element.\n",
        "The matching should cover the entire input string (not partial)."
      ],
      "metadata": {
        "id": "v5F9t7JhzjQ8"
      }
    },
    {
      "cell_type": "code",
      "execution_count": null,
      "metadata": {
        "id": "IogcWZLzzgnw"
      },
      "outputs": [],
      "source": [
        "class Solution:\n",
        "    # @param A : string\n",
        "    # @param B : string\n",
        "    # @return an integer\n",
        "    def isMatch(self, A, B):\n",
        "        len_A = len(A)\n",
        "        len_B = len(B)\n",
        "\n",
        "        dp = [[0] * (len_B + 1) for _ in range(len_A + 1)]\n",
        "\n",
        "        dp[0][0] = 1\n",
        "\n",
        "        for j in range(1, len_B + 1):\n",
        "            if B[j - 1] == '?':\n",
        "                dp[0][j] = dp[0][j - 1]\n",
        "            elif B[j - 1] == '*':\n",
        "                dp[0][j] = dp[0][j - 2]\n",
        "\n",
        "        for i in range(1, len_A + 1):\n",
        "            for j in range(1, len_B + 1):\n",
        "                if B[j - 1] == '?' or A[i - 1] == B[j - 1] or B[j - 1] == '.':\n",
        "                    dp[i][j] = dp[i - 1][j - 1]\n",
        "                elif B[j - 1] == '*':\n",
        "                    dp[i][j] = dp[i][j - 2]  # zero characters\n",
        "                    if B[j - 2] == '.' or B[j - 2] == A[i - 1]:\n",
        "                        dp[i][j] |= dp[i - 1][j]  # one or more characters\n",
        "\n",
        "        return dp[len_A][len_B]\n"
      ]
    },
    {
      "cell_type": "code",
      "source": [
        "from collections import deque\n",
        "\n",
        "class Node:\n",
        "    def __init__(self, label):\n",
        "        self.label = label\n",
        "        self.neighbors = []\n",
        "\n",
        "def cloneGraph(node):\n",
        "    if not node:\n",
        "        return None\n",
        "    \n",
        "    # Create a dictionary to map original nodes to their clones\n",
        "    clone_map = {}\n",
        "    \n",
        "    # Perform a BFS traversal of the original graph\n",
        "    queue = deque([node])\n",
        "    clone_map[node] = Node(node.label)\n",
        "    \n",
        "    while queue:\n",
        "        current = queue.popleft()\n",
        "        \n",
        "        # Clone the current node and its neighbors\n",
        "        clone = clone_map[current]\n",
        "        for neighbor in current.neighbors:\n",
        "            if neighbor not in clone_map:\n",
        "                clone_map[neighbor] = Node(neighbor.label)\n",
        "                queue.append(neighbor)\n",
        "            clone.neighbors.append(clone_map[neighbor])\n",
        "    \n",
        "    # Return the clone of the given node\n",
        "    return clone_map[node]"
      ],
      "metadata": {
        "id": "YQlomld92ujF"
      },
      "execution_count": null,
      "outputs": []
    }
  ]
}