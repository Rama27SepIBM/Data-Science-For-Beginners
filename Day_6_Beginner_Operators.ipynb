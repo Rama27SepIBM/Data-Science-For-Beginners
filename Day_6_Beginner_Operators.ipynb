{
  "nbformat": 4,
  "nbformat_minor": 0,
  "metadata": {
    "colab": {
      "provenance": [],
      "authorship_tag": "ABX9TyNMkvb7+gNEFmJv4D+rMU3z",
      "include_colab_link": true
    },
    "kernelspec": {
      "name": "python3",
      "display_name": "Python 3"
    },
    "language_info": {
      "name": "python"
    }
  },
  "cells": [
    {
      "cell_type": "markdown",
      "metadata": {
        "id": "view-in-github",
        "colab_type": "text"
      },
      "source": [
        "<a href=\"https://colab.research.google.com/github/Rama27SepIBM/Data-Science-For-Beginners/blob/main/Day_6_Beginner_Operators.ipynb\" target=\"_parent\"><img src=\"https://colab.research.google.com/assets/colab-badge.svg\" alt=\"Open In Colab\"/></a>"
      ]
    },
    {
      "cell_type": "markdown",
      "source": [
        "Q1. Print the result of expression\n",
        "\n",
        "Print the result of the following expression:\n",
        "\n",
        "(3 + 4) // 2 + 6"
      ],
      "metadata": {
        "id": "m3swk0CpOp2D"
      }
    },
    {
      "cell_type": "code",
      "source": [
        "x=(3+4)//2+6\n",
        "print(x)"
      ],
      "metadata": {
        "id": "jYkN99icOy0D"
      },
      "execution_count": null,
      "outputs": []
    },
    {
      "cell_type": "markdown",
      "source": [
        "Q2. Set the values\n",
        "\n",
        "Set the value of variable a, b and c such that the following condition evaluates to true:\n",
        "\n",
        "a = -1 # change this\n",
        "b = -1 # change this\n",
        "c = -1 # change this\n",
        "\n",
        "# DO NOT CHANGE THIS\n",
        "x = a < b + c\n",
        "\n",
        "print(x) # this should be True\n",
        "Note: You need to write the code from scratch in the code editor."
      ],
      "metadata": {
        "id": "7b115qXDOzwB"
      }
    },
    {
      "cell_type": "code",
      "source": [
        "a = 1 # __ change this\n",
        "b = 2 # __ change this\n",
        "c = 1 # __ change this\n",
        "\n",
        "# DO NOT CHANGE THIS\n",
        "x = a < b + c\n",
        "\n",
        "print(x)\n",
        " # this should be True"
      ],
      "metadata": {
        "id": "U-4JDjEtO7jO"
      },
      "execution_count": null,
      "outputs": []
    },
    {
      "cell_type": "markdown",
      "source": [
        "Q3. String Concatenation Python\n",
        "\n",
        "What is the result of the following expression in Python?\n",
        "print(\"54\" + \"23\")"
      ],
      "metadata": {
        "id": "hDjAnW3qO-0V"
      }
    },
    {
      "cell_type": "code",
      "source": [
        "#.  77.   5423.   54.  23"
      ],
      "metadata": {
        "id": "DG0JEc0PPE8r"
      },
      "execution_count": null,
      "outputs": []
    },
    {
      "cell_type": "markdown",
      "source": [
        "Q4. True = 1?\n",
        "\n",
        "\n",
        "What is the result of the following expression in Python?\n",
        "\n",
        "print(True == 1)"
      ],
      "metadata": {
        "id": "4ZHiDmZtPOtt"
      }
    },
    {
      "cell_type": "code",
      "source": [
        "#. True.  False.  Error"
      ],
      "metadata": {
        "id": "u3iyGBe4PdEP"
      },
      "execution_count": null,
      "outputs": []
    },
    {
      "cell_type": "markdown",
      "source": [
        "Q5. '1' == 1?\n",
        "\n",
        "What is the result of the following expression in Python?\n",
        "\n",
        "print(\"1\" == 1)"
      ],
      "metadata": {
        "id": "5sCmykqrPrDW"
      }
    },
    {
      "cell_type": "code",
      "source": [
        "# True.   False. Error"
      ],
      "metadata": {
        "id": "RUEYganzP5Bg"
      },
      "execution_count": null,
      "outputs": []
    },
    {
      "cell_type": "markdown",
      "source": [
        "Q6. Python Division\n",
        "\n",
        "What is the output for the following statements?\n",
        "\n",
        "x = 55 / 11\n",
        "print(x)"
      ],
      "metadata": {
        "id": "4XbRyhPxP_x3"
      }
    },
    {
      "cell_type": "code",
      "source": [
        "# 5.     6.0     5.0"
      ],
      "metadata": {
        "id": "_Umbq37ZSoHl"
      },
      "execution_count": null,
      "outputs": []
    },
    {
      "cell_type": "markdown",
      "source": [
        "Q1. Number of bills\n",
        "\n",
        "Given total bills amount and amount of a single bill. Print number of bills.\n",
        "\n",
        "Note : The total amount is equally splitted in all bills. The number of bills should be an integer value.\n",
        "\n",
        "Input Format\n",
        "\n",
        "The first line contains a real number N denoting the total budget.\n",
        "The second line contains an integer M denoting the value of a single bill.\n",
        "Output Format\n",
        "\n",
        "Print in a single line denoting the total number of bills that can fit in the total budget.\n",
        "Problem Constraints\n",
        "\n",
        "1 <= N <= 10000\n",
        "1 <= M <= 100\n",
        "Example Input\n",
        "\n",
        "Input:-\n",
        "126.3\n",
        "5\n",
        "Example Output\n",
        "\n",
        "Output:-\n",
        "25\n",
        "Note: The problem constraints mean that when we test your code, the test cases used in the backend can have input values only within those constraints. You need not implement them in your code. You need to make sure your code will work for all such input values!"
      ],
      "metadata": {
        "id": "xBDCryGCSyIp"
      }
    },
    {
      "cell_type": "code",
      "source": [
        "# total bills\n",
        "n=float(input())\n",
        "# vvalue of 1 bills\n",
        "m=float(input())\n",
        "r=int(n//m)\n",
        "print(r)"
      ],
      "metadata": {
        "id": "H_X_qDiYUxfO"
      },
      "execution_count": null,
      "outputs": []
    },
    {
      "cell_type": "markdown",
      "source": [
        "Q2. Evaluate the Expression\n",
        "\n",
        "What is the output of the following code?\n",
        "\n",
        "\n",
        "x = 50 * 2 + (60 - 20) / 4\n",
        "print(x)"
      ],
      "metadata": {
        "id": "jhN726aDU04s"
      }
    },
    {
      "cell_type": "code",
      "source": [
        "#.  100.  600.   110.  120"
      ],
      "metadata": {
        "id": "xCk69aNcVEP9"
      },
      "execution_count": null,
      "outputs": []
    },
    {
      "cell_type": "markdown",
      "source": [
        "Q3. Evaluate Boolean Expression\n",
        "\n",
        "What is the value of result at the end of the following code?\n",
        "\n",
        "x = 20\n",
        "y = 5\n",
        "result = (x + True) / (4 - y * False)"
      ],
      "metadata": {
        "id": "ib7TLV8MVMk2"
      }
    },
    {
      "cell_type": "code",
      "source": [
        "#. Error.  False.  5.  5.25.   5.2"
      ],
      "metadata": {
        "id": "nm10PfW1thOX"
      },
      "execution_count": null,
      "outputs": []
    },
    {
      "cell_type": "markdown",
      "source": [],
      "metadata": {
        "id": "MWT08rsjt49Y"
      }
    },
    {
      "cell_type": "code",
      "execution_count": null,
      "metadata": {
        "id": "9D6Pn3iiOlNz"
      },
      "outputs": [],
      "source": []
    }
  ]
}