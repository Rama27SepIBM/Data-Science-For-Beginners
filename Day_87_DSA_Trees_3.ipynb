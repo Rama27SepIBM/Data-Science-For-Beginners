{
  "nbformat": 4,
  "nbformat_minor": 0,
  "metadata": {
    "colab": {
      "provenance": [],
      "authorship_tag": "ABX9TyP5e90j12cU9AEdO6+6Ami8",
      "include_colab_link": true
    },
    "kernelspec": {
      "name": "python3",
      "display_name": "Python 3"
    },
    "language_info": {
      "name": "python"
    }
  },
  "cells": [
    {
      "cell_type": "markdown",
      "metadata": {
        "id": "view-in-github",
        "colab_type": "text"
      },
      "source": [
        "<a href=\"https://colab.research.google.com/github/Rama27SepIBM/Data-Science-For-Beginners/blob/main/Day_87_DSA_Trees_3.ipynb\" target=\"_parent\"><img src=\"https://colab.research.google.com/assets/colab-badge.svg\" alt=\"Open In Colab\"/></a>"
      ]
    },
    {
      "cell_type": "markdown",
      "source": [
        "Q1. Search in BST\n",
        "\n",
        "Given a Binary Search Tree A. Check whether there exists a node with value B in the BST.\n",
        "\n",
        "\n",
        "Problem Constraints\n",
        "1 <= Number of nodes in binary tree <= 105\n",
        "\n",
        "Input Format\n",
        "First argument is a root node of the binary tree, A.\n",
        "\n",
        "Second argument is an integer B."
      ],
      "metadata": {
        "id": "Dxt31A5c0EJm"
      }
    },
    {
      "cell_type": "code",
      "source": [
        "# Definition for a  binary tree node\n",
        "# class TreeNode:\n",
        "#    def __init__(self, x):\n",
        "#        self.val = x\n",
        "#        self.left = None\n",
        "#        self.right = None\n",
        "\n",
        "class Solution:\n",
        "    # @param A : root node of tree\n",
        "    # @param B : integer\n",
        "    # @return an integer\n",
        "    def solve(self, A, B):\n",
        "        if A is None:\n",
        "            return 0\n",
        "        \n",
        "        if A.val == B:\n",
        "            return 1\n",
        "        if A.val < B:\n",
        "            return self.solve(A.right, B)\n",
        "        else:\n",
        "            return self.solve(A.left, B)"
      ],
      "metadata": {
        "id": "u6Ir1Dan0XZW"
      },
      "execution_count": null,
      "outputs": []
    },
    {
      "cell_type": "markdown",
      "source": [
        "Q2. Valid Binary Search Tree\n",
        "\n",
        "You are given a binary tree represented by root A.\n",
        "\n",
        "Assume a BST is defined as follows:\n",
        "\n",
        "1) The left subtree of a node contains only nodes with keys less than the node's key.\n",
        "\n",
        "2) The right subtree of a node contains only nodes with keys greater than the node's key.\n",
        "\n",
        "3) Both the left and right subtrees must also be binary search trees.\n",
        "Problem Constraints\n",
        "1 <= Number of nodes in binary tree <= 105\n",
        "\n",
        "Input Format\n",
        "First and only argument is head of the binary tree A."
      ],
      "metadata": {
        "id": "Ja1ASlzS0cJd"
      }
    },
    {
      "cell_type": "code",
      "source": [
        "# Definition for a  binary tree node\n",
        "# class TreeNode:\n",
        "#\tdef __init__(self, x):\n",
        "#\t\tself.val = x\n",
        "#\t\tself.left = None\n",
        "#\t\tself.right = None\n",
        "\n",
        "class Solution:\n",
        "\t# @param A : root node of tree\n",
        "\t# @return an integer\n",
        "\tdef isValidBST(self, A):\n",
        "        def helper(node, lower=float('-inf'), upper=float('inf')):\n",
        "            if node is None:\n",
        "                return 1\n",
        "            val = node.val\n",
        "            if val <= lower or val >= upper:\n",
        "                return 0\n",
        "            if not helper(node.left, lower, val):\n",
        "                return 0\n",
        "            if not helper(node.right, val, upper):\n",
        "                return 0\n",
        "            return 1\n",
        "        return helper(A)"
      ],
      "metadata": {
        "id": "tLz2pHzZ07l9"
      },
      "execution_count": null,
      "outputs": []
    },
    {
      "cell_type": "markdown",
      "source": [
        "Q3. Sorted Array To Balanced BST\n",
        "\n",
        "Given an array where elements are sorted in ascending order, convert it to a height Balanced Binary Search Tree (BBST).\n",
        "\n",
        "Balanced tree : a height-balanced binary tree is defined as a binary tree in which the depth of the two subtrees of every node never differ by more than 1."
      ],
      "metadata": {
        "id": "EGP9Eq8t0_wM"
      }
    },
    {
      "cell_type": "code",
      "source": [
        "# Definition for a  binary tree node\n",
        "# class TreeNode:\n",
        "#     def __init__(self, x):\n",
        "#         self.val = x\n",
        "#         self.left = None\n",
        "#         self.right = None\n",
        "\n",
        "class Solution:\n",
        "    # @param A : tuple of integers\n",
        "    # @return the root node in the tree\n",
        "    def sortedArrayToBST(self, A):\n",
        "        if not A:\n",
        "            return None\n",
        "        mid = len(A) // 2\n",
        "        root = TreeNode(A[mid])\n",
        "\n",
        "        root.left = self.sortedArrayToBST(A[:mid])\n",
        "        root.right = self.sortedArrayToBST(A[mid+1:])\n",
        "\n",
        "        return root"
      ],
      "metadata": {
        "id": "Pc9DlPZq1IMz"
      },
      "execution_count": null,
      "outputs": []
    },
    {
      "cell_type": "code",
      "execution_count": null,
      "metadata": {
        "id": "8aXkOUllzuNn"
      },
      "outputs": [],
      "source": []
    },
    {
      "cell_type": "markdown",
      "source": [
        "Q4. Recover Binary Search Tree\n",
        "\n",
        "Two elements of a binary search tree (BST), represented by root A are swapped by mistake. Tell us the 2 values swapping which the tree will be restored.\n",
        "\n",
        "A solution using O(n) space is pretty straightforward. Could you devise a constant space solution?\n",
        "\n",
        "Note: The 2 values must be returned sorted in ascending order"
      ],
      "metadata": {
        "id": "wTM6N7-z1PCN"
      }
    },
    {
      "cell_type": "code",
      "source": [
        "# Definition for a  binary tree node\n",
        "# class TreeNode:\n",
        "#\tdef __init__(self, x):\n",
        "#\t\tself.val = x\n",
        "#\t\tself.left = None\n",
        "#\t\tself.right = None\n",
        "\n",
        "class Solution:\n",
        "\t# @param A : root node of tree\n",
        "\t# @return a list of integers\n",
        "\tdef recoverTree(self, A):\n",
        "        def inorderTraversal(node):\n",
        "            nonlocal prev, first, second\n",
        "            if node is None:\n",
        "                return\n",
        "            inorderTraversal(node.left)\n",
        "            if prev is not None and prev.val > node.val:\n",
        "                if first is None:\n",
        "                    first = prev\n",
        "                second = node\n",
        "            prev = node\n",
        "            inorderTraversal(node.right)\n",
        "        prev = first = second = None\n",
        "        inorderTraversal(A)\n",
        "\n",
        "        return [second.val,first.val]"
      ],
      "metadata": {
        "id": "GAMF_K4_1W_o"
      },
      "execution_count": null,
      "outputs": []
    },
    {
      "cell_type": "markdown",
      "source": [
        "Q1. Check for BST with One Child\n",
        "\n",
        "Given preorder traversal of a binary tree, check if it is possible that it is also a preorder traversal of a Binary Search Tree (BST), where each internal node (non-leaf nodes) have exactly one child.\n",
        "\n",
        "Problem Constraints\n",
        "\n",
        "1 <= number of nodes <= 100000"
      ],
      "metadata": {
        "id": "udSvDEop1cfx"
      }
    },
    {
      "cell_type": "code",
      "source": [
        "class Solution:\n",
        "    # @param A : list of integers\n",
        "    # @return a strings\n",
        "    def solve(self, A):\n",
        "        stack = []\n",
        "        root = float('-inf')\n",
        "        n = len(A)\n",
        "        if n <= 2:\n",
        "            return \"YES\"\n",
        "        mn = min(A[n-1],A[n-2])\n",
        "        mx =max(A[n-1],A[n-2])\n",
        "        for i in range(n-3,-1,-1):\n",
        "            if A[i] > mn and A[i] < mx:\n",
        "                return \"NO\"\n",
        "            mn = min(A[i],mn)\n",
        "            mx = max(A[i],mx)\n",
        "        #for value in A:\n",
        "            #if value < root:\n",
        "                #return \"NO\"\n",
        "            #while stack and stack[-1] < value:\n",
        "                #root = stack.pop()\n",
        "            #stack.append(value)\n",
        "        return \"YES\""
      ],
      "metadata": {
        "id": "HMVUMH6W1paq"
      },
      "execution_count": null,
      "outputs": []
    },
    {
      "cell_type": "markdown",
      "source": [
        "Q2. BST nodes in a range\n",
        "\n",
        "Given a binary search tree of integers. You are given a range B and C.\n",
        "\n",
        "Return the count of the number of nodes that lie in the given range.\n",
        "\n",
        "Problem Constraints\n",
        "1 <= Number of nodes in binary tree <= 100000\n",
        "\n",
        "Input Format\n",
        "First argument is a root node of the binary tree, A.\n",
        "Second argument is an integer B.\n",
        "Third argument is an integer C"
      ],
      "metadata": {
        "id": "GQJmPg1u1qQd"
      }
    },
    {
      "cell_type": "code",
      "source": [
        "class Solution:\n",
        "    # @param A : root node of tree\n",
        "    # @param B : integer\n",
        "    # @param C : integer\n",
        "    # @return an integer\n",
        "    def solve(self, A, B, C):\n",
        "        if A is None :\n",
        "            return 0\n",
        "        if A.val < B:\n",
        "            return self.solve(A.right, B, C)\n",
        "        elif A.val > C:\n",
        "            return self.solve(A.left, B, C)\n",
        "        else:\n",
        "            return 1 + self.solve(A.left, B, C) + self.solve(A.right, B, C)"
      ],
      "metadata": {
        "id": "fATzuRCT15U3"
      },
      "execution_count": null,
      "outputs": []
    },
    {
      "cell_type": "markdown",
      "source": [
        "Q3. Two Sum BST\n",
        "\n",
        "Given a binary search tree A, where each node contains a positive integer, and an integer B, you have to find whether or not there exist two different nodes X and Y such that X.value + Y.value = B.\n",
        "\n",
        "Return 1 to denote that two such nodes exist. Return 0, otherwise.\n",
        "\n",
        "Problem Constraints\n",
        "1 <= size of tree <= 100000\n",
        "\n",
        "Input Format\n",
        "First argument is the head of the tree A.\n",
        "Second argument is the integer B."
      ],
      "metadata": {
        "id": "iFit9TMG18j_"
      }
    },
    {
      "cell_type": "code",
      "source": [
        "# Definition for a  binary tree node\n",
        "# class TreeNode:\n",
        "#\tdef __init__(self, x):\n",
        "#\t\tself.val = x\n",
        "#\t\tself.left = None\n",
        "#\t\tself.right = None\n",
        "import sys\n",
        "sys.setrecursionlimit(10**6)\n",
        "class Solution:\n",
        "\t# @param A : root node of tree\n",
        "\t# @param B : integer\n",
        "\t# @return an integer\n",
        "\tdef t2Sum(self, A, B):\n",
        "        if A is None:\n",
        "            return 0\n",
        "        stack1 = []\n",
        "        stack2 = []\n",
        "        curr1 = A\n",
        "        curr2 = A\n",
        "        while True:\n",
        "            while curr1 is not None:\n",
        "                stack1.append(curr1)\n",
        "                curr1 = curr1.left\n",
        "            while curr2 is not None:\n",
        "                stack2.append(curr2)\n",
        "                curr2 = curr2.right\n",
        "            if not stack1 or not stack2:\n",
        "                break\n",
        "            node1 = stack1[-1]\n",
        "            node2 = stack2[-1]\n",
        "            if node1==node2:\n",
        "                return 0\n",
        "\n",
        "            if node1.val + node2.val == B and node1 != node2:\n",
        "                return 1\n",
        "            if node1.val + node2.val < B:\n",
        "                stack1.pop()\n",
        "                curr1 = node1.right\n",
        "            elif node1.val + node2.val > B:\n",
        "                stack2.pop()\n",
        "                curr2 = node2.left\n",
        "                \n",
        "        return 0"
      ],
      "metadata": {
        "id": "JnVdJzUB2LNE"
      },
      "execution_count": null,
      "outputs": []
    },
    {
      "cell_type": "markdown",
      "source": [
        "Q4. Kth Smallest Element In BST\n",
        "\n",
        "Given a binary search tree represented by root A, write a function to find the Bth smallest element in the tree.\n",
        "\n",
        "Problem Constraints\n",
        "1 <= Number of nodes in binary tree <= 100000\n",
        "Input Format\n",
        "First and only argument is head of the binary tree A."
      ],
      "metadata": {
        "id": "Z-Fw1Ci62QAX"
      }
    },
    {
      "cell_type": "code",
      "source": [
        "# Definition for a  binary tree node\n",
        "# class TreeNode:\n",
        "#\tdef __init__(self, x):\n",
        "#\t\tself.val = x\n",
        "#\t\tself.left = None\n",
        "#\t\tself.right = None\n",
        "\n",
        "class Solution:\n",
        "\tdef kthsmallest(self, A, B):\n",
        "        stack = []\n",
        "        curr = A\n",
        "        count = 0\n",
        "        while True:\n",
        "            if curr is not None:\n",
        "                stack.append(curr)\n",
        "                curr = curr.left\n",
        "            elif(stack):\n",
        "                curr = stack.pop()\n",
        "                count += 1\n",
        "                if count==B:\n",
        "                    return curr.val\n",
        "                curr = curr.right\n",
        "            else:\n",
        "                break\n",
        "        return -1"
      ],
      "metadata": {
        "id": "2rdzRADu2mHT"
      },
      "execution_count": null,
      "outputs": []
    },
    {
      "cell_type": "markdown",
      "source": [],
      "metadata": {
        "id": "Yns8t-_22rIp"
      }
    }
  ]
}