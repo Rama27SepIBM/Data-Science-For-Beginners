{
  "nbformat": 4,
  "nbformat_minor": 0,
  "metadata": {
    "colab": {
      "provenance": [],
      "authorship_tag": "ABX9TyMX+iuXJbdzHS/hgvp/IpEJ",
      "include_colab_link": true
    },
    "kernelspec": {
      "name": "python3",
      "display_name": "Python 3"
    },
    "language_info": {
      "name": "python"
    }
  },
  "cells": [
    {
      "cell_type": "markdown",
      "metadata": {
        "id": "view-in-github",
        "colab_type": "text"
      },
      "source": [
        "<a href=\"https://colab.research.google.com/github/Rama27SepIBM/Data-Science-For-Beginners/blob/main/contest_day86.ipynb\" target=\"_parent\"><img src=\"https://colab.research.google.com/assets/colab-badge.svg\" alt=\"Open In Colab\"/></a>"
      ]
    },
    {
      "cell_type": "code",
      "execution_count": 1,
      "metadata": {
        "id": "jtDiwlNHvznh"
      },
      "outputs": [],
      "source": [
        "def max_product(arr):\n",
        "    ans = 0\n",
        "    mod = 10**9 + 7\n",
        "\n",
        "    for i in range(len(arr)):\n",
        "        left =  greater_elem_right_index(i, arr)\n",
        "        right = greater_elem_left_index(i, arr)\n",
        "        ans = max(ans,  left*right)\n",
        "\n",
        "    return ans%mod\n",
        "\n",
        "def greater_elem_left_index(N, arr):\n",
        "    stack = []\n",
        "    left = [0] * len(arr)\n",
        "    for i in range(N):\n",
        "        while stack and arr[stack[-1]] <= arr[N]:\n",
        "            stack.pop()\n",
        "\n",
        "        if stack:\n",
        "            left[i] = stack[-1]\n",
        "\n",
        "        stack.push(i)\n",
        "    return left\n",
        "\n",
        "def greater_elem_right_index(N, arr):\n",
        "    stack = []\n",
        "    right = [0] * len(arr)\n",
        "    for i in range(N-1,0,-1):\n",
        "        while stack and arr[stack[-1]] <= arr[N]:\n",
        "            stack.pop()\n",
        "\n",
        "        if stack:\n",
        "            right[i] = stack[-1]\n",
        "\n",
        "        stack.push(i)\n",
        "    return right"
      ]
    }
  ]
}