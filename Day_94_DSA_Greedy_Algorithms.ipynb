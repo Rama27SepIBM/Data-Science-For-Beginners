{
  "nbformat": 4,
  "nbformat_minor": 0,
  "metadata": {
    "colab": {
      "provenance": [],
      "authorship_tag": "ABX9TyOPSfBMm+R9hg34TGFmwECL",
      "include_colab_link": true
    },
    "kernelspec": {
      "name": "python3",
      "display_name": "Python 3"
    },
    "language_info": {
      "name": "python"
    }
  },
  "cells": [
    {
      "cell_type": "markdown",
      "metadata": {
        "id": "view-in-github",
        "colab_type": "text"
      },
      "source": [
        "<a href=\"https://colab.research.google.com/github/Rama27SepIBM/Data-Science-For-Beginners/blob/main/Day_94_DSA_Greedy_Algorithms.ipynb\" target=\"_parent\"><img src=\"https://colab.research.google.com/assets/colab-badge.svg\" alt=\"Open In Colab\"/></a>"
      ]
    },
    {
      "cell_type": "markdown",
      "source": [
        "Q2. The ship company\n",
        "\n",
        "The local ship renting service has a special rate plan:\n",
        "\n",
        "It is up to a passenger to choose a ship.\n",
        "If the chosen ship has X (X > 0) vacant places at the given moment, then the ticket for such a ship costs X.\n",
        "The passengers buy tickets in turn, the first person in the queue goes first, then the second one, and so on up to A-th person.\n",
        "\n",
        "You need to tell the maximum and the minimum money that the ship company can earn if all A passengers buy tickets."
      ],
      "metadata": {
        "id": "dmKopsXSEgpa"
      }
    },
    {
      "cell_type": "markdown",
      "source": [
        "explanation:\n",
        "The approach used in this code is to maintain two priority queues, one for the minimum value and another for the maximum value. The code first initializes these two priority queues using the input array C. The priority queues are implemented using a heap data structure from the heapq module in Python.\n",
        "The two priority queues are used to store the current minimum and maximum number of passengers on any bus. The code then iterates over the priority queue of the maximum value until it reaches the number of buses A or there are no more passengers left to distribute. During each iteration, it pops the maximum value from the priority queue, adds it to the maximum answer, and decrements its value by 1 before pushing it back into the priority queue. This process ensures that the maximum number of passengers on any bus is minimized.\n",
        "Similarly, the code iterates over the priority queue of the minimum value until it reaches the number of buses A or there are no more passengers left to distribute. During each iteration, it pops the minimum value from the priority queue, adds it to the minimum answer, and decrements its value by 1 before pushing it back into the priority queue. This process ensures that the minimum number of passengers on any bus is maximized.\n",
        "Finally, the code returns the maximum and minimum answer as a list."
      ],
      "metadata": {
        "id": "PEwxqS5TE6xn"
      }
    },
    {
      "cell_type": "code",
      "execution_count": null,
      "metadata": {
        "id": "agE6BgHwEaTy"
      },
      "outputs": [],
      "source": [
        "import heapq\n",
        "\n",
        "class Solution:\n",
        "    # @param A : integer\n",
        "    # @param B : integer\n",
        "    # @param C : list of integers\n",
        "    # @return a list of integers\n",
        "    def solve(self, A, B, C):\n",
        "        minheap = []\n",
        "        maxheap = []\n",
        "\n",
        "    # make 2 priority queues for minimum pop and maximum pop\n",
        "        heapq.heapify(minheap)\n",
        "        heapq.heapify(maxheap)\n",
        "\n",
        "        for i in range(len(C)):\n",
        "            heapq.heappush(minheap, C[i])\n",
        "            heapq.heappush(maxheap, -C[i])\n",
        "    # Store maximum and minimum answer\n",
        "        max_ans = 0\n",
        "        min_ans = 0\n",
        "\n",
        "        i = 0\n",
        "\n",
        "        while(len(maxheap) != 0 and i < A):\n",
        "            i += 1\n",
        "            val = - heapq.heappop(maxheap)          # take the maximum till now\n",
        "\n",
        "            if(val > 1):\n",
        "                # decrement the available vacancy for passenger by 1 and again push it into priority queue\n",
        "                heapq.heappush(maxheap, -val + 1)\n",
        "            max_ans += val\n",
        "\n",
        "        i = 0\n",
        "\n",
        "        while(len(minheap) != 0 and i < A):\n",
        "            i += 1\n",
        "            # take the minimum till now\n",
        "            val = heapq.heappop(minheap)\n",
        "\n",
        "            if(val > 1):\n",
        "                # decrement the available vacancy for passenger by 1 and again push it into priority queue\n",
        "                heapq.heappush(minheap, val - 1)\n",
        "\n",
        "            min_ans += val\n",
        "\n",
        "        ans = [max_ans, min_ans]\n",
        "\n",
        "        return ans"
      ]
    }
  ]
}