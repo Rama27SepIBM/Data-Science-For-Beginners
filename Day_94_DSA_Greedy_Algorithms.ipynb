{
  "nbformat": 4,
  "nbformat_minor": 0,
  "metadata": {
    "colab": {
      "provenance": [],
      "authorship_tag": "ABX9TyM28Kq7gBIjhDsC1BMT/NSo",
      "include_colab_link": true
    },
    "kernelspec": {
      "name": "python3",
      "display_name": "Python 3"
    },
    "language_info": {
      "name": "python"
    }
  },
  "cells": [
    {
      "cell_type": "markdown",
      "metadata": {
        "id": "view-in-github",
        "colab_type": "text"
      },
      "source": [
        "<a href=\"https://colab.research.google.com/github/Rama27SepIBM/Data-Science-For-Beginners/blob/main/Day_94_DSA_Greedy_Algorithms.ipynb\" target=\"_parent\"><img src=\"https://colab.research.google.com/assets/colab-badge.svg\" alt=\"Open In Colab\"/></a>"
      ]
    },
    {
      "cell_type": "markdown",
      "source": [
        "Q1. Fractional Knapsack\n",
        "\n",
        "Given two integer arrays A and B of size N each which represent values and weights associated with N items respectively.\n",
        "\n",
        "Also given an integer C which represents knapsack capacity.\n",
        "\n",
        "Find out the maximum total value that we can fit in the knapsack. If the maximum total value is ans, then return ⌊ans × 100⌋ , i.e., floor of (ans × 100).\n",
        "\n",
        "NOTE:\n",
        "\n",
        "You can break an item for maximizing the total value of the knapsack"
      ],
      "metadata": {
        "id": "lzQzlT-GGrXa"
      }
    },
    {
      "cell_type": "code",
      "execution_count": null,
      "metadata": {
        "id": "Va-gJuoZGq4C"
      },
      "outputs": [],
      "source": [
        "class Solution:\n",
        "    # @param A : list of integers\n",
        "    # @param B : list of integers\n",
        "    # @param C : integer\n",
        "    # @return an integer\n",
        "    def solve(self, A, B, C):\n",
        "        n = len(A)\n",
        "        vp = []\n",
        "        for i in range(n):\n",
        "            temp = A[i] / B[i]\n",
        "            vp.append((temp, i))\n",
        "        vp.sort()\n",
        "        ans = 0;\n",
        "        for i in range(n - 1, -1, -1):\n",
        "            if(C == 0):\n",
        "                break\n",
        "            idx = vp[i][1]\n",
        "            wt = min(C, B[idx])\n",
        "            C -= wt\n",
        "            ans += vp[i][0] * wt\n",
        "        ans *= 1000\n",
        "        return (int)(ans / 10)\n"
      ]
    },
    {
      "cell_type": "markdown",
      "source": [
        "Q2. Activity Selection\n",
        "\n",
        "Given two integer arrays A and B of size N.\n",
        "\n",
        "There are N activities where A[i] denotes the start time of the ith activity and B[i] denotes the finish time of the ith activity.\n",
        "\n",
        "Your task is to select the maximum number of activities that can be performed by a single person, assuming that a person can only work on a single activity at a time.\n",
        "\n",
        "\n",
        "Input Format\n",
        "\n",
        "The first argument given is the integer array A.\n",
        "The second argument given is the integer array B."
      ],
      "metadata": {
        "id": "lSyFngJuHpyW"
      }
    },
    {
      "cell_type": "code",
      "source": [
        "class Solution:\n",
        "    # @param A : list of integers\n",
        "    # @param B : list of integers\n",
        "    # @return an integer\n",
        "    def solve(self, A, B):\n",
        "        n = len(A)\n",
        "        activities = list(zip(A, B, range(n)))\n",
        "        activities.sort(key=lambda x: x[1])\n",
        "        selected = []\n",
        "        prev_finish = -1\n",
        "        for start, finish, idx in activities:\n",
        "            if start >= prev_finish:\n",
        "                selected.append(idx)\n",
        "                prev_finish = finish\n",
        "        return len(selected)"
      ],
      "metadata": {
        "id": "09Bjt2GeHzom"
      },
      "execution_count": null,
      "outputs": []
    },
    {
      "cell_type": "markdown",
      "source": [
        "Q3. Weighted Job Scheduling\n",
        "\n",
        "Given N jobs where every job is represented by following three elements of it.\n",
        "\n",
        "Start Time\n",
        "Finish Time\n",
        "Profit Associated\n",
        "Find and return the maximum profit subset of jobs such that no two jobs in the subset overlap.\n",
        "\n",
        "Input Format:\n",
        "\n",
        "The first and the only line of input contains a 2d array, A, of N x 3 integers:\n",
        "    A[i][0] : Start Time\n",
        "    A[i][1] : Finish Time\n",
        "    A[i][2] : Profit\n"
      ],
      "metadata": {
        "id": "aQ8QpR2SH3k1"
      }
    },
    {
      "cell_type": "code",
      "source": [
        "from heapq import heappush, heappop\n",
        "from sys import maxsize\n",
        "from typing import List\n",
        "class Solution:\n",
        "    # @param A : list of list of integers\n",
        "    # @return an integer\n",
        "    def solve(self, A):\n",
        "        def jobScheduling(startTime: List[int], endTime: List[int], profit: List[int]) -> int:\n",
        "            jobs = list(zip(startTime, endTime, profit))\n",
        "            jobs.sort()\n",
        "            jobs.append((maxsize, 0, 0))\n",
        "            maxProfit, h = 0, []\n",
        "            for s, e, p in jobs:\n",
        "                while h and h[0][0] <= s:\n",
        "                    maxProfit = max(maxProfit, heappop(h)[1])\n",
        "                heappush(h, (e, maxProfit + p))\n",
        "            return maxProfit\n",
        "        startTime = [job[0] for job in A]\n",
        "        endTime = [job[1] for job in A]\n",
        "        profit = [job[2] for job in A]\n",
        "        return jobScheduling(startTime, endTime, profit)"
      ],
      "metadata": {
        "id": "RNTwfsllIAiw"
      },
      "execution_count": null,
      "outputs": []
    },
    {
      "cell_type": "markdown",
      "source": [
        "Q4. Distribute candies\n",
        "\n",
        "Akash wants to distribute candies on his birthday. There are A people and he has two types of candies. B candies of the first type and C candies of the second type.\n",
        "\n",
        "He wants to distribute candies in such a way that no person has candies of both types and each person has at least one candy.\n",
        "Let X denotes the minimum candies among all people after distribution of candies.\n",
        "Find the maximum X."
      ],
      "metadata": {
        "id": "urK0Vn4ZIF5M"
      }
    },
    {
      "cell_type": "code",
      "source": [
        "class Solution:\n",
        "    # @param A : integer\n",
        "    # @param B : integer\n",
        "    # @param C : integer\n",
        "    # @return an integer\n",
        "    def solve(self, A, B, C):\n",
        "        ans=float(\"-inf\")\n",
        "        for i in range(1,A):\n",
        "             X=min(B//i,C//(A-i))\n",
        "             ans=max(ans,X)\n",
        "        return ans"
      ],
      "metadata": {
        "id": "k_RqO11EIPLx"
      },
      "execution_count": null,
      "outputs": []
    },
    {
      "cell_type": "markdown",
      "source": [
        "Q1. Seats\n",
        "\n",
        "Problem Description\n",
        "There is a row of seats represented by string A. Assume that it contains N seats adjacent to each other.\n",
        "There is a group of people who are already seated in that row randomly. i.e. some are sitting together & some are scattered.\n",
        "\n",
        "An occupied seat is marked with a character 'x' and an unoccupied seat is marked with a dot ('.')\n",
        "\n",
        "Now your target is to make the whole group sit together i.e. next to each other, without having any vacant seat between them in such a way that the total number of hops or jumps to move them should be minimum.\n",
        "\n",
        "In one jump a person can move to the adjacent seat (if available).\n",
        "\n",
        "NOTE: 1. Return your answer modulo 107 + 3."
      ],
      "metadata": {
        "id": "XP8p-IqEISf8"
      }
    },
    {
      "cell_type": "code",
      "source": [
        "class Solution:\n",
        "\t# @param A : string\n",
        "\t# @return an integer\n",
        "\tdef seats(self, A):\n",
        "        people = []\n",
        "        for i in range(len(A)):\n",
        "            if A[i] == \"x\":\n",
        "                people.append(i)\n",
        "        mid = len(people)//2\n",
        "        count = 0\n",
        "        for i in range(len(people)):\n",
        "            origin = people[i]\n",
        "            dest = people[mid] - (mid-i)\n",
        "            count = (count + abs(dest - origin))%10000003\n",
        "        return count "
      ],
      "metadata": {
        "id": "1Fx5sXIcIbNW"
      },
      "execution_count": null,
      "outputs": []
    },
    {
      "cell_type": "markdown",
      "source": [
        "Q2. The ship company\n",
        "\n",
        "Problem Description\n",
        "The local ship renting service has a special rate plan:\n",
        "\n",
        "It is up to a passenger to choose a ship.\n",
        "If the chosen ship has X (X > 0) vacant places at the given moment, then the ticket for such a ship costs X.\n",
        "The passengers buy tickets in turn, the first person in the queue goes first, then the second one, and so on up to A-th person.\n",
        "\n",
        "You need to tell the maximum and the minimum money that the ship company can earn if all A passengers buy tickets.\n",
        "\n",
        "\n",
        "\n",
        "Problem Constraints\n",
        "1 ≤ A ≤ 3000\n",
        "1 ≤ B ≤ 1000\n",
        "1 ≤ C[i] ≤ 1000\n",
        "It is guaranteed that there are at least A empty seats in total."
      ],
      "metadata": {
        "id": "6KbRYj7FIej-"
      }
    },
    {
      "cell_type": "code",
      "source": [
        "import heapq\n",
        "\n",
        "class Solution:\n",
        "    # @param A : integer\n",
        "    # @param B : integer\n",
        "    # @param C : list of integers\n",
        "    # @return a list of integers\n",
        "    def solve(self, A, B, C):\n",
        "        minheap = []\n",
        "        maxheap = []\n",
        "\n",
        "    # make 2 priority queues for minimum pop and maximum pop\n",
        "        heapq.heapify(minheap)\n",
        "        heapq.heapify(maxheap)\n",
        "\n",
        "        for i in range(len(C)):\n",
        "            heapq.heappush(minheap, C[i])\n",
        "            heapq.heappush(maxheap, -C[i])\n",
        "    # Store maximum and minimum answer\n",
        "        max_ans = 0\n",
        "        min_ans = 0\n",
        "\n",
        "        i = 0\n",
        "\n",
        "        while(len(maxheap) != 0 and i < A):\n",
        "            i += 1\n",
        "            val = - heapq.heappop(maxheap)          # take the maximum till now\n",
        "\n",
        "            if(val > 1):\n",
        "                # decrement the available vacancy for passenger by 1 and again push it into priority queue\n",
        "                heapq.heappush(maxheap, -val + 1)\n",
        "            max_ans += val\n",
        "\n",
        "        i = 0\n",
        "\n",
        "        while(len(minheap) != 0 and i < A):\n",
        "            i += 1\n",
        "            # take the minimum till now\n",
        "            val = heapq.heappop(minheap)\n",
        "\n",
        "            if(val > 1):\n",
        "                # decrement the available vacancy for passenger by 1 and again push it into priority queue\n",
        "                heapq.heappush(minheap, val - 1)\n",
        "\n",
        "            min_ans += val\n",
        "\n",
        "        ans = [max_ans, min_ans]\n",
        "\n",
        "        return ans"
      ],
      "metadata": {
        "id": "Q6BrK2XkImvn"
      },
      "execution_count": null,
      "outputs": []
    },
    {
      "cell_type": "markdown",
      "source": [
        "Q3. Another Coin Problem\n",
        "\n",
        "The monetary system in DarkLand is really simple and systematic. The locals-only use coins. The coins come in different values. The values used are:\n",
        "\n",
        " 1, 5, 25, 125, 625, 3125, 15625, ...\n",
        "Formally, for each K >= 0 there are coins worth 5K.\n",
        "\n",
        "Given an integer A denoting the cost of an item, find and return the smallest number of coins necessary to pay exactly the cost of the item (assuming you have a sufficient supply of coins of each of the types you will need).\n",
        "\n",
        "\n",
        "\n",
        "Problem Constraints\n",
        "1 <= A <= 2×109"
      ],
      "metadata": {
        "id": "ESt8P2rPJLX1"
      }
    },
    {
      "cell_type": "code",
      "source": [
        "class Solution:\n",
        "    # @param A : integer\n",
        "    # @return an integer\n",
        "    def solve(self, A):\n",
        "        coins = [1, 5, 25, 125, 625, 3125, 15625, 78125, 390625, 1953125, 9765625, 48828125, 244140625, 1220703125]\n",
        "        count = 0\n",
        "        for i in range(len(coins) - 1, -1, -1):\n",
        "            while A >= coins[i]:\n",
        "                count += A // coins[i]\n",
        "                A %= coins[i]\n",
        "        return count"
      ],
      "metadata": {
        "id": "MFiuSv31JU5L"
      },
      "execution_count": null,
      "outputs": []
    },
    {
      "cell_type": "markdown",
      "source": [],
      "metadata": {
        "id": "5pnE5hu4JYkf"
      }
    }
  ]
}