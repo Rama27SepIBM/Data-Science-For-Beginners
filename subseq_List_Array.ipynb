{
  "nbformat": 4,
  "nbformat_minor": 0,
  "metadata": {
    "colab": {
      "provenance": [],
      "authorship_tag": "ABX9TyNKs5vYgzjBJ22HrtuLdkp+",
      "include_colab_link": true
    },
    "kernelspec": {
      "name": "python3",
      "display_name": "Python 3"
    },
    "language_info": {
      "name": "python"
    }
  },
  "cells": [
    {
      "cell_type": "markdown",
      "metadata": {
        "id": "view-in-github",
        "colab_type": "text"
      },
      "source": [
        "<a href=\"https://colab.research.google.com/github/Rama27SepIBM/Data-Science-For-Beginners/blob/main/subseq_List_Array.ipynb\" target=\"_parent\"><img src=\"https://colab.research.google.com/assets/colab-badge.svg\" alt=\"Open In Colab\"/></a>"
      ]
    },
    {
      "cell_type": "markdown",
      "source": [
        "write a python code for Given a set of distinct integers A, return all possible subsets.\n",
        "\n",
        "NOTE:\n",
        "\n",
        "Elements in a subset must be in non-descending order. The solution set must not contain duplicate subsets.\n",
        "\n",
        "Also, the subsets should be sorted in ascending(\n",
        "\n",
        "lexicographic order.\n",
        "\n",
        "The list is not necessarily sorted\n",
        "Problem Constraints\n",
        "1 <= |A| <= 16\n",
        "Input Format\n",
        "First and only argument of input contains a single integer array A.\n",
        "\n",
        "\n",
        "\n",
        "Output Format\n",
        "Return a vector of vectors denoting the answer\n",
        "Example Input\n",
        "Input 1:\n",
        "\n",
        "A = [1]\n",
        "Input 2:\n",
        "\n",
        "A = [1, 2, 3]\n",
        "\n",
        "\n",
        "Example Output\n",
        "Output 1:\n",
        "\n",
        "[\n",
        "    []\n",
        "    [1]\n",
        "]\n",
        "Output 2:\n",
        "\n",
        "[\n",
        " []\n",
        " [1]\n",
        " [1, 2]\n",
        " [1, 2, 3]\n",
        " [1, 3]\n",
        " [2]\n",
        " [2, 3]\n",
        " [3]\n",
        "]\n",
        "\n",
        "\n",
        "\n",
        "\n",
        "\n",
        "\n",
        "\n",
        "\n",
        "\n"
      ],
      "metadata": {
        "id": "O3cBnuylmSZ-"
      }
    },
    {
      "cell_type": "code",
      "execution_count": 1,
      "metadata": {
        "id": "WMpPN6fJbL2X"
      },
      "outputs": [],
      "source": [
        "def subsets(nums):\n",
        "  nums.sort()\n",
        "  result = [[]]\n",
        "  for num in nums:\n",
        "    result += [subset + [num] for subset in result]\n",
        "  return result"
      ]
    },
    {
      "cell_type": "code",
      "source": [
        "def subsets(nums):\n",
        "  nums.sort()\n",
        "  result = [[]]\n",
        "  for num in nums:\n",
        "    result += [subset + [num] for subset in result if subset + [num] not in result]\n",
        "  return result"
      ],
      "metadata": {
        "id": "fhQuvRpfl7gO"
      },
      "execution_count": null,
      "outputs": []
    }
  ]
}