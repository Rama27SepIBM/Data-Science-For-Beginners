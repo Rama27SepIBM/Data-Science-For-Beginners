{
  "nbformat": 4,
  "nbformat_minor": 0,
  "metadata": {
    "colab": {
      "provenance": [],
      "authorship_tag": "ABX9TyNe4RtBR3Z+7YyQOYywrtNP",
      "include_colab_link": true
    },
    "kernelspec": {
      "name": "python3",
      "display_name": "Python 3"
    },
    "language_info": {
      "name": "python"
    }
  },
  "cells": [
    {
      "cell_type": "markdown",
      "metadata": {
        "id": "view-in-github",
        "colab_type": "text"
      },
      "source": [
        "<a href=\"https://colab.research.google.com/github/Rama27SepIBM/Data-Science-For-Beginners/blob/main/DSA_82_Stacks_DeQueues.ipynb\" target=\"_parent\"><img src=\"https://colab.research.google.com/assets/colab-badge.svg\" alt=\"Open In Colab\"/></a>"
      ]
    },
    {
      "cell_type": "markdown",
      "source": [
        "**Q1**. First non-repeating character\n",
        "\n",
        "Given a string A denoting a stream of lowercase alphabets, you have to make a new string B.\n",
        "B is formed such that we have to find the first non-repeating character each time a character is inserted to the stream and append it at the end to B. If no non-repeating character is found, append '#' at the end of B."
      ],
      "metadata": {
        "id": "pao-OwDYw2lR"
      }
    },
    {
      "cell_type": "code",
      "execution_count": null,
      "metadata": {
        "id": "8gRo29OIwsTa"
      },
      "outputs": [],
      "source": [
        "from collections import deque, defaultdict\n",
        "class Solution:\n",
        "# @param A : string\n",
        "# @return a strings\n",
        "    def solve(self, A):\n",
        "        B = \"\"\n",
        "        char_freq = defaultdict(int)\n",
        "        queue = deque()\n",
        "\n",
        "        for char in A:\n",
        "            char_freq[char] += 1\n",
        "            queue.append(char)\n",
        "\n",
        "            while queue and char_freq[queue[0]] > 1:\n",
        "                queue.popleft()\n",
        "            if queue:\n",
        "                B += queue[0]\n",
        "            else:\n",
        "                B += queue[0] if queue else \"#\"\n",
        "        return B"
      ]
    },
    {
      "cell_type": "markdown",
      "source": [],
      "metadata": {
        "id": "sdmAkHCjwznc"
      }
    }
  ]
}