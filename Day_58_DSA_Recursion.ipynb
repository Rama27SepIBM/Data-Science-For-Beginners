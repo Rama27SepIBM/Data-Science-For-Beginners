{
  "nbformat": 4,
  "nbformat_minor": 0,
  "metadata": {
    "colab": {
      "provenance": [],
      "authorship_tag": "ABX9TyPQYXb880EPzkl7jdVAKW6E",
      "include_colab_link": true
    },
    "kernelspec": {
      "name": "python3",
      "display_name": "Python 3"
    },
    "language_info": {
      "name": "python"
    }
  },
  "cells": [
    {
      "cell_type": "markdown",
      "metadata": {
        "id": "view-in-github",
        "colab_type": "text"
      },
      "source": [
        "<a href=\"https://colab.research.google.com/github/Rama27SepIBM/Data-Science-For-Beginners/blob/main/Day_58_DSA_Recursion.ipynb\" target=\"_parent\"><img src=\"https://colab.research.google.com/assets/colab-badge.svg\" alt=\"Open In Colab\"/></a>"
      ]
    },
    {
      "cell_type": "markdown",
      "source": [
        "Q1. Tower of Hanoi\n",
        "\n",
        "In the classic problem of the Towers of Hanoi, you have 3 towers numbered from 1 to 3 (left to right) and A disks numbered from 1 to A (top to bottom) of different sizes which can slide onto any tower.\n",
        "The puzzle starts with disks sorted in ascending order of size from top to bottom (i.e., each disk sits on top of an even larger one).\n",
        "You have the following constraints:\n",
        "Only one disk can be moved at a time.\n",
        "A disk is slid off the top of one tower onto another tower.\n",
        "A disk cannot be placed on top of a smaller disk.\n",
        "You have to find the solution to the Tower of Hanoi problem.\n",
        "You have to return a 2D array of dimensions M x 3, where M is the minimum number of moves needed to solve the problem.\n",
        "In each row, there should be 3 integers (disk, start, end), where:\n",
        "\n",
        "disk - number of disk being moved\n",
        "start - number of the tower from which the disk is being moved\n",
        "stop - number of the tower to which the disk is being moved"
      ],
      "metadata": {
        "id": "EPEo0xbnOIuT"
      }
    },
    {
      "cell_type": "code",
      "execution_count": null,
      "metadata": {
        "id": "RwEYyv4eOFQ8"
      },
      "outputs": [],
      "source": [
        "import sys\n",
        "sys.setrecursionlimit(10**6)\n",
        "\n",
        "class Solution:\n",
        "    def towerOfHanoi(self, A):\n",
        "        result = []\n",
        "        def TOH(n, source, temp, destination):\n",
        "            if n == 0:\n",
        "                return\n",
        "            TOH(n-1, source, destination, temp) \n",
        "            current = [n, source, destination]  \n",
        "            result.append(current)\n",
        "\n",
        "            TOH(n-1, temp, source, destination) \n",
        "        TOH(A, 1, 2, 3)\n",
        "        return result"
      ]
    },
    {
      "cell_type": "markdown",
      "source": [],
      "metadata": {
        "id": "wVUccxFEOwjF"
      }
    }
  ]
}