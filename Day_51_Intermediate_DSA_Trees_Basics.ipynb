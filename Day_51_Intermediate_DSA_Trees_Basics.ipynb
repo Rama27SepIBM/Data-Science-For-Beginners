{
  "nbformat": 4,
  "nbformat_minor": 0,
  "metadata": {
    "colab": {
      "provenance": [],
      "authorship_tag": "ABX9TyMD5yyCGEra89OUfx4phD0q",
      "include_colab_link": true
    },
    "kernelspec": {
      "name": "python3",
      "display_name": "Python 3"
    },
    "language_info": {
      "name": "python"
    }
  },
  "cells": [
    {
      "cell_type": "markdown",
      "metadata": {
        "id": "view-in-github",
        "colab_type": "text"
      },
      "source": [
        "<a href=\"https://colab.research.google.com/github/Rama27SepIBM/Data-Science-For-Beginners/blob/main/Day_51_Intermediate_DSA_Trees_Basics.ipynb\" target=\"_parent\"><img src=\"https://colab.research.google.com/assets/colab-badge.svg\" alt=\"Open In Colab\"/></a>"
      ]
    },
    {
      "cell_type": "markdown",
      "source": [
        "Q1. Inorder Traversal\n",
        "\n",
        "Given a binary tree, return the inorder traversal of its nodes' values.\n",
        "\n",
        "NOTE: Using recursion is not allowed.\n",
        "\n",
        "\n",
        "\n",
        "Problem Constraints\n",
        "1 <= number of nodes <= 105"
      ],
      "metadata": {
        "id": "ZDQuB2w8aBlr"
      }
    },
    {
      "cell_type": "code",
      "source": [
        "# Definition for a  binary tree node\n",
        "# class TreeNode:\n",
        "#\tdef __init__(self, x):\n",
        "#\t\tself.val = x\n",
        "#\t\tself.left = None\n",
        "#\t\tself.right = None\n",
        "import sys\n",
        "sys.setrecursionlimit(10**5)\n",
        "class Solution:\n",
        "\t# @param A : root node of tree\n",
        "\t# @return a list of integers\n",
        "\tdef inorderTraversal(self, A):\n",
        "        lst = []\n",
        "        self.inorderTraversalRec(A,lst)\n",
        "        return lst\n",
        "    def inorderTraversalRec(self,A,lst):\n",
        "        if A == None:\n",
        "            return\n",
        "        self.inorderTraversalRec(A.left,lst)\n",
        "        lst.append(A.val)\n",
        "        self.inorderTraversalRec(A.right,lst)"
      ],
      "metadata": {
        "id": "g39PrHpOaJax"
      },
      "execution_count": null,
      "outputs": []
    },
    {
      "cell_type": "markdown",
      "source": [
        "Q2. Preorder Traversal\n",
        "\n",
        "Given a binary tree, return the preorder traversal of its nodes values.\n",
        "\n",
        "NOTE: Using recursion is not allowed."
      ],
      "metadata": {
        "id": "VEW38z92aNrj"
      }
    },
    {
      "cell_type": "code",
      "source": [
        "# Definition for a  binary tree node\n",
        "# class TreeNode:\n",
        "#\tdef __init__(self, x):\n",
        "#\t\tself.val = x\n",
        "#\t\tself.left = None\n",
        "#\t\tself.right = None\n",
        "import sys\n",
        "sys.setrecursionlimit(10**5)\n",
        "class Solution:\n",
        "\t# @param A : root node of tree\n",
        "\t# @return a list of integers\n",
        "\tdef preorderTraversal(self, A):\n",
        "        result = []\n",
        "        def preorderA(A):\n",
        "            if A is None:\n",
        "                return\n",
        "            result.append(A.val)\n",
        "            preorderA(A.left)\n",
        "            preorderA(A.right)\n",
        "            #result.append(A.val)\n",
        "        preorderA(A)\n",
        "        return result"
      ],
      "metadata": {
        "id": "szEombxUaUWc"
      },
      "execution_count": null,
      "outputs": []
    },
    {
      "cell_type": "markdown",
      "source": [
        "Q3. Postorder Traversal\n",
        "\n",
        "Given a binary tree, return the Postorder traversal of its nodes values.\n",
        "\n",
        "NOTE: Using recursion is not allowed."
      ],
      "metadata": {
        "id": "HFwXw6iXaYbg"
      }
    },
    {
      "cell_type": "code",
      "source": [
        "# Definition for a  binary tree node\n",
        "# class TreeNode:\n",
        "#\tdef __init__(self, x):\n",
        "#\t\tself.val = x\n",
        "#\t\tself.left = None\n",
        "#\t\tself.right = None\n",
        "class Solution:\n",
        "\t# @param A : root node of tree\n",
        "\t# @return a list of integers\n",
        "\tdef postorderTraversal(self, A):\n",
        "        result = []\n",
        "        def postorderA(A):\n",
        "            if A is None:\n",
        "                return\n",
        "            postorderA(A.left)\n",
        "            postorderA(A.right)\n",
        "            result.append(A.val)\n",
        "        postorderA(A)\n",
        "        return result"
      ],
      "metadata": {
        "id": "D4j7uVz4afjk"
      },
      "execution_count": null,
      "outputs": []
    },
    {
      "cell_type": "markdown",
      "source": [
        "Q4. Tree Height\n",
        "\n",
        "You are given the root node of a binary tree A. You have to find the height of the given tree.\n",
        "\n",
        "A binary tree's height is the number of nodes along the longest path from the root node down to the farthest leaf node."
      ],
      "metadata": {
        "id": "Xb-SWWMpak5g"
      }
    },
    {
      "cell_type": "code",
      "source": [
        "# Definition for a  binary tree node\n",
        "# class TreeNode:\n",
        "#    def __init__(self, x):\n",
        "#        self.val = x\n",
        "#        self.left = None\n",
        "#        self.right = None\n",
        "import sys\n",
        "sys.setrecursionlimit(200000)\n",
        "class Solution:\n",
        "    # @param A : root node of tree\n",
        "    # @return an integer\n",
        "    # def solve(self, A):\n",
        "    #     return self.countNodes(A)\n",
        "\n",
        "    # def countNodes(self, root):\n",
        "    #     if not root:\n",
        "    #         return 0\n",
        "    #     return 1 + max(self.countNodes(root.left), self.countNodes(root.right))\n",
        "    def solve(self, root):\n",
        "        if  root is None :\n",
        "            return 0 # because height of leaf is 0. But if we return 0 it will give us 1\n",
        "        else:\n",
        "            ls = self.solve(root.left)\n",
        "            rs = self.solve(root.right)\n",
        "            return max(ls, rs) + 1"
      ],
      "metadata": {
        "id": "ehugrqJnas7u"
      },
      "execution_count": null,
      "outputs": []
    },
    {
      "cell_type": "markdown",
      "source": [
        "Q5. Nodes Count\n",
        "\n",
        "You are given the root node of a binary tree A. You have to find the number of nodes in this tree."
      ],
      "metadata": {
        "id": "fNVrKbJsa5yH"
      }
    },
    {
      "cell_type": "code",
      "source": [
        "# Definition for a  binary tree node\n",
        "# class TreeNode:\n",
        "#    def __init__(self, x):\n",
        "#        self.val = x\n",
        "#        self.left = None\n",
        "#        self.right = None\n",
        "#import sys\n",
        "#sys.setrecursionlimit(10**6)\n",
        "class Solution:\n",
        "    # @param A : root node of tree\n",
        "    # @return an integer\n",
        "    # def solve(self, A):\n",
        "    #     # def __init__(self, val):\n",
        "    #     #     self.val = val\n",
        "    #     #     self.left = None\n",
        "    #     #     self.right = None\n",
        "    #     return self.countNodes(A)\n",
        "\n",
        "    # def countNodes(self, root):\n",
        "    #     if not root:\n",
        "    #         return 0\n",
        "    #     return 1 + self.countNodes(root.left) + self.countNodes(root.right)\n",
        "    def solve(self, root):\n",
        "        stack = []\n",
        "        curr = root\n",
        "        count = 0\n",
        "\n",
        "        while stack or curr:\n",
        "            if curr:\n",
        "                stack.append(curr)\n",
        "                count += 1\n",
        "                curr = curr.left\n",
        "            else:\n",
        "                temp = stack.pop()\n",
        "                curr = temp.right\n",
        "        return count\n",
        "\n",
        "    # Example usage\n",
        "#     root = Node(1)\n",
        "# root.left = Node(2)\n",
        "# root.right = Node(3)\n",
        "# root.left.left = Node(4)\n",
        "# root.left.right = Node(5)\n",
        "# print(countNodes(root)) # Output: 5"
      ],
      "metadata": {
        "id": "l2YFk3yUbAwJ"
      },
      "execution_count": null,
      "outputs": []
    },
    {
      "cell_type": "markdown",
      "source": [
        "Q6. Sum of nodes of a Binary Tree\n",
        "\n",
        "Given the root of a binary tree A. Return the sum of all the nodes of the binary tree."
      ],
      "metadata": {
        "id": "c8hXqPJDbI_B"
      }
    },
    {
      "cell_type": "code",
      "source": [
        "# Definition for a  binary tree node\n",
        "# class TreeNode:\n",
        "#    def __init__(self, x):\n",
        "#        self.val = x\n",
        "#        self.left = None\n",
        "#        self.right = None\n",
        "\n",
        "class Solution:\n",
        "    # @param A : root node of tree\n",
        "    # @return an integer\n",
        "    _sum = 0\n",
        "    def solve(self, A):\n",
        "        return self.DLR(A)\n",
        "\n",
        "    def DLR(self, root):\n",
        "        if root is None:\n",
        "            return\n",
        "        self._sum += root.val\n",
        "        self.DLR(root.left)\n",
        "        self.DLR(root.right)\n",
        "        return self._sum"
      ],
      "metadata": {
        "id": "2ao19nfPbQhX"
      },
      "execution_count": null,
      "outputs": []
    },
    {
      "cell_type": "markdown",
      "source": [
        "Q1. Counting the Nodes\n",
        "\n",
        "Given the root of a tree A with each node having a certain value, find the count of nodes with more value than all its ancestor."
      ],
      "metadata": {
        "id": "uXJEHJ8NbXhu"
      }
    },
    {
      "cell_type": "code",
      "source": [
        "# Definition for a  binary tree node\n",
        "# class TreeNode:\n",
        "#    def __init__(self, x):\n",
        "#        self.val = x\n",
        "#        self.left = None\n",
        "#        self.right = None\n",
        "\n",
        "class Solution:\n",
        "    # @param A : root node of tree\n",
        "    # @return an integer\n",
        "    def solve(self, A):\n",
        "        self.c = 0\n",
        "        def dfs(node, max_val):\n",
        "            if not node:\n",
        "                return 0\n",
        "            if node.val > max_val:\n",
        "                self.c += 1\n",
        "            max_val = max(node.val, max_val)\n",
        "            dfs(node.left, max_val)\n",
        "            dfs(node.right, max_val)\n",
        "        dfs(A,-float('inf'))\n",
        "        return self.c"
      ],
      "metadata": {
        "id": "t5ja-dFSbe34"
      },
      "execution_count": null,
      "outputs": []
    },
    {
      "cell_type": "markdown",
      "source": [
        "Q2. Sum of Left Leaves\n",
        "\n",
        "Given a binary tree, find and return the sum of node value of all left leaves in it."
      ],
      "metadata": {
        "id": "aSaszxTJbjvX"
      }
    },
    {
      "cell_type": "code",
      "execution_count": null,
      "metadata": {
        "id": "rwEVsqymZ9rY"
      },
      "outputs": [],
      "source": [
        "# Definition for a  binary tree node\n",
        "# class TreeNode:\n",
        "#    def __init__(self, x):\n",
        "#        self.val = x\n",
        "#        self.left = None\n",
        "#        self.right = None\n",
        "\n",
        "class Solution:\n",
        "    # @param A : root node of tree\n",
        "    # @return an integer\n",
        "    def solve(self, A):\n",
        "        return self.sumLeftNodes(A, False)\n",
        "    def sumLeftNodes(self, root, isLeft):\n",
        "        if root is None:\n",
        "            return 0\n",
        "        if root.left is None and root.right is None:\n",
        "            return root.val if isLeft else 0\n",
        "        return self.sumLeftNodes(root.left, True) + self.sumLeftNodes(root.right, False)\n",
        "            \n"
      ]
    }
  ]
}