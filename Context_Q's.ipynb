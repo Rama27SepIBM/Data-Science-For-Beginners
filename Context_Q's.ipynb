{
  "nbformat": 4,
  "nbformat_minor": 0,
  "metadata": {
    "colab": {
      "provenance": [],
      "authorship_tag": "ABX9TyNQkvcIcgNIKkA0ooFyArKG",
      "include_colab_link": true
    },
    "kernelspec": {
      "name": "python3",
      "display_name": "Python 3"
    },
    "language_info": {
      "name": "python"
    }
  },
  "cells": [
    {
      "cell_type": "markdown",
      "metadata": {
        "id": "view-in-github",
        "colab_type": "text"
      },
      "source": [
        "<a href=\"https://colab.research.google.com/github/Rama27SepIBM/Data-Science-For-Beginners/blob/main/Context_Q's.ipynb\" target=\"_parent\"><img src=\"https://colab.research.google.com/assets/colab-badge.svg\" alt=\"Open In Colab\"/></a>"
      ]
    },
    {
      "cell_type": "code",
      "execution_count": null,
      "metadata": {
        "id": "IefzzMAPLT0D"
      },
      "outputs": [],
      "source": [
        "Problem Description\n",
        "\n",
        "You are given an array A containing integers. The special product of w\n",
        "\n",
        "LeftSpecialValue: For an index, it is defined as the A\n",
        "\n",
        "LeftSpecialValue is the maximum value of\n",
        "\n",
        "RightSpecialValue: For an index is defined as the index\n",
        "\n",
        "RightSpecialValue is the minimum\n",
        "\n",
        "Find the maximum special product of a\n"
      ]
    },
    {
      "cell_type": "code",
      "source": [
        "class Solution:\n",
        "\t# @param A : list of integers\n",
        "\t# @return an integer\n",
        "\tdef maxSpecialProduct(self, A):\n",
        "\t    n = len(A)\n",
        "\t    left_special_value = [0] * n\n",
        "\t    right_special_value = [0] * n\n",
        "\t    stack = []\n",
        "\t    for i in range(n):\n",
        "\t        while stack and A[i] >= A[stack]-1]]:\n",
        "\t            stack.pop()\n",
        "\t        if stack:\n",
        "\t            left_special_value[i] = stack[-1]\n",
        "\t       stack.append(i)\n",
        "\t       stack = []\n",
        "\t       for i in range(n, -1, -1,-1):\n",
        "\t           while stack and A[i]  >= A[stack] -1]:\n",
        "\t               stack.pop()\n",
        "\t           if stack:\n",
        "\t               right_special_value[j] = stack[-1]\n",
        "\t           stack.append(i)\n",
        "\t       max_special_product = 0\n",
        "\t       for i in range(n):\n",
        "\t           max_special_product = max(max_special_product,left_special_value[i]* right_special_value[i])\n",
        "\t       return max_special_product % 10 ** 9+7\n",
        "\t           \n"
      ],
      "metadata": {
        "id": "5IhSbVKGZj59"
      },
      "execution_count": null,
      "outputs": []
    },
    {
      "cell_type": "markdown",
      "source": [
        "Question\n",
        "\n",
        "Problem Description\n",
        "\n",
        "Aman likes Identical Binary Trees. He bought two Binary Trees denoted by root node A and B.\n",
        "\n",
        "Q 2\n",
        "\n",
        "He wants to make both the Trees Identical but he is only allowed to do operation on Binary Tree A.\n",
        "\n",
        "⚫ In each operation, you can swap the left pointer and right pointer of any node."
      ],
      "metadata": {
        "id": "GgISgzXfaxNJ"
      }
    },
    {
      "cell_type": "code",
      "source": [
        "# Definition for a  binary tree node\n",
        "# class TreeNode:\n",
        "#    def __init__(self, x):\n",
        "#        self.val = x\n",
        "#        self.left = None\n",
        "#        self.right = None\n",
        "\n",
        "class Solution:\n",
        "    # @param A : root node of tree\n",
        "    # @param B : root node of tree\n",
        "    # @return an integer\n",
        "    def solve(self, A, B):\n",
        "        if A is None and B is none:\n",
        "            return True\n",
        "        if A is None or B is None:\n",
        "            return False\n",
        "        return A.val == B.val and are_identical_trees(A.left,B.left) and are_identical_trees(A.right,B.right)\n",
        "    def count_max_operations(a,b):\n",
        "        if are_identical_trees(a,b):\n",
        "            return 0\n",
        "        if a is None:\n",
        "            return -1\n",
        "        left_count = count_max_operation(a.left,b)\n",
        "        right_count = count_max_operation(a.right,b)\n",
        "        if left_count == -1 and right_count == -1:\n",
        "            return -1\n",
        "        if left_count == -1:\n",
        "            return right_count\n",
        "        if right_count == -1:\n",
        "            return left_count\n",
        "        return max(left_count,right_count)"
      ],
      "metadata": {
        "id": "I3X23SZmeZKR"
      },
      "execution_count": null,
      "outputs": []
    },
    {
      "cell_type": "markdown",
      "source": [
        "Question\n",
        "\n",
        "Problem Description\n",
        "\n",
        "There are N poles, and the height of the poles is given by an integer array A.\n",
        "\n",
        "Q\n",
        "\n",
        "You have to connect two poles such that all the poles between them have a height smaller than the minimum height of the two poles. Find the total number of pairs of such poles.\n"
      ],
      "metadata": {
        "id": "nIA_ZbyLhNci"
      }
    },
    {
      "cell_type": "code",
      "source": [
        "class Solution:\n",
        "    # @param A : list of integers\n",
        "    # @return an integer\n",
        "    def solve(self, A):\n",
        "        n = len(A)\n",
        "        if n <2:\n",
        "            return 0\n",
        "        count = 0\n",
        "        min_height = float('inf')\n",
        "        for i in range(n):\n",
        "            if A[i] < min_height:\n",
        "                min_height = A[i]\n",
        "            else:\n",
        "                count +=1\n",
        "        return count\n"
      ],
      "metadata": {
        "id": "glMY6UQ-sA_2"
      },
      "execution_count": null,
      "outputs": []
    }
  ]
}