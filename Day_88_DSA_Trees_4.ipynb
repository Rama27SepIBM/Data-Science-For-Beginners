{
  "nbformat": 4,
  "nbformat_minor": 0,
  "metadata": {
    "colab": {
      "provenance": [],
      "authorship_tag": "ABX9TyNQ4ABju8GaPcpHYxe23kan",
      "include_colab_link": true
    },
    "kernelspec": {
      "name": "python3",
      "display_name": "Python 3"
    },
    "language_info": {
      "name": "python"
    }
  },
  "cells": [
    {
      "cell_type": "markdown",
      "metadata": {
        "id": "view-in-github",
        "colab_type": "text"
      },
      "source": [
        "<a href=\"https://colab.research.google.com/github/Rama27SepIBM/Data-Science-For-Beginners/blob/main/Day_88_DSA_Trees_4.ipynb\" target=\"_parent\"><img src=\"https://colab.research.google.com/assets/colab-badge.svg\" alt=\"Open In Colab\"/></a>"
      ]
    },
    {
      "cell_type": "markdown",
      "source": [
        "Q1. Least Common Ancestor\n",
        "Find the lowest common ancestor in an unordered binary tree A, given two values, B and C, in the tree.\n",
        "\n",
        "Lowest common ancestor: the lowest common ancestor (LCA) of two nodes and w in a tree or directed acyclic graph (DAG) is the lowest (i.e., deepest) node that has both v and w as descendants."
      ],
      "metadata": {
        "id": "12JKNf38g-EY"
      }
    },
    {
      "cell_type": "code",
      "source": [
        "# Definition for a  binary tree node\n",
        "# class TreeNode:\n",
        "#\tdef __init__(self, x):\n",
        "#\t\tself.val = x\n",
        "#\t\tself.left = None\n",
        "#\t\tself.right = None\n",
        "def search(A, x):\n",
        "    # If A is empty, return an empty list\n",
        "    if not A:\n",
        "        return []\n",
        "    if A.val == x: # If A's value equals x, return a list with A's value as the only element\n",
        "        return [A.val]\n",
        "    left_path = search(A.left, x)\n",
        "    if left_path:\n",
        "        return [A.val] + left_path\n",
        "    right_path = search(A.right, x)\n",
        "    if right_path:\n",
        "        return [A.val] + right_path\n",
        "class Solution:\n",
        "\t# @param A : root node of tree\n",
        "\t# @param B : integer\n",
        "\t# @param C : integer\n",
        "\t# @return an integer\n",
        "\tdef lca(self, A, B, C):\n",
        "        pathB = search(A, B)\n",
        "        pathC = search(A, C)\n",
        "        if not pathB or not pathC:\n",
        "            return -1\n",
        "        i = 0\n",
        "        # print(pathB)\n",
        "        # print(pathC)\n",
        "        ans=-1\n",
        "        while i < len(pathB) and i < len(pathC) and pathB[i] == pathC[i]:\n",
        "            if pathB[i] == pathC[i]:\n",
        "                ans=pathB[i]\n",
        "            else:\n",
        "                return -1\n",
        "            i += 1\n",
        "        \n",
        "        return ans\n",
        "        #if not A or A == B or A == C:\n",
        "        \n",
        "         #   return A\n",
        "        \n",
        "        #left = self.lca(A.left, B, C)\n",
        "        #right = self.lca(A.right, B, C)\n",
        "\n",
        "        #if left and right:\n",
        "            #return A\n",
        "        #elif left:\n",
        "            #return left\n",
        "        #else:\n",
        "           # return right\n"
      ],
      "metadata": {
        "id": "seRV9QHzhEgK"
      },
      "execution_count": null,
      "outputs": []
    },
    {
      "cell_type": "markdown",
      "source": [
        "Q2. Next Pointer Binary Tree\n",
        "\n",
        "Given a binary tree,\n",
        "\n",
        "Populate each next pointer to point to its next right node. If there is no next right node, the next pointer should be set to NULL.\n",
        "\n",
        "Initially, all next pointers are set to NULL.\n",
        "\n",
        "Assume perfect binary tree."
      ],
      "metadata": {
        "id": "bz4EmUqTgxbz"
      }
    },
    {
      "cell_type": "code",
      "source": [
        "# Definition for a  binary tree node\n",
        "# class TreeLinkNode:\n",
        "#     def __init__(self, x):\n",
        "#         self.val = x\n",
        "#         self.left = None\n",
        "#         self.right = None\n",
        "#         self.next = None\n",
        "\n",
        "class Solution:\n",
        "    # @param root, a tree node\n",
        "    # @return nothing\n",
        "    def connect(self, root):\n",
        "        if not root:\n",
        "            return\n",
        "        if root.left:\n",
        "            root.left.next = root.right\n",
        "        if root.right:\n",
        "            if root.next:\n",
        "                root.right.next = root.next.left\n",
        "            else:\n",
        "                root.right.next = None\n",
        "        self.connect(root.left)\n",
        "        self.connect(root.right)"
      ],
      "metadata": {
        "id": "jCBzT1fag6mK"
      },
      "execution_count": null,
      "outputs": []
    },
    {
      "cell_type": "markdown",
      "source": [
        "Q1. Sum binary tree or not\n",
        "\n",
        "Given a binary tree. Check whether the given tree is a Sum-binary Tree or not.\n",
        "\n",
        "Sum-binary Tree is a Binary Tree where the value of a every node is equal to sum of the nodes present in its left subtree and right subtree.\n",
        "\n",
        "An empty tree is Sum-binary Tree and sum of an empty tree can be considered as 0. A leaf node is also considered as SumTree.\n",
        "\n",
        "Return 1 if it sum-binary tree else return 0."
      ],
      "metadata": {
        "id": "vgSwpILNgNR_"
      }
    },
    {
      "cell_type": "code",
      "source": [
        "# Definition for a  binary tree node\n",
        "# class TreeNode:\n",
        "#    def __init__(self, x):\n",
        "#        self.val = x\n",
        "#        self.left = None\n",
        "#        self.right = None\n",
        "def sum_node_values(A):\n",
        "        if A is None:\n",
        "            return 0\n",
        "        return A.val + sum_node_values(A.left) + sum_node_values(A.right)\n",
        "class Solution:\n",
        "    # @param A : root node of tree\n",
        "    # @return an integer\n",
        "    def solve(self, A):\n",
        "        if not A:\n",
        "            return 1\n",
        "        if not A.left and not A.right:\n",
        "            return 1\n",
        "        left_sum = sum_node_values(A.left)\n",
        "        right_sum = sum_node_values(A.right)\n",
        "        if (A.val == left_sum + right_sum and self.solve(A.left) and self.solve(A.right)):\n",
        "            return 1\n",
        "        return 0"
      ],
      "metadata": {
        "id": "R4ZuTAVNgWLy"
      },
      "execution_count": null,
      "outputs": []
    },
    {
      "cell_type": "markdown",
      "source": [
        "Q 2.Q2. Equal Tree Partition\n",
        "\n",
        "Given a binary tree A. Check whether it is possible to partition the tree to two trees which have equal sum of values after removing exactly one edge on the original tree."
      ],
      "metadata": {
        "id": "3jdWKPNsgDQD"
      }
    },
    {
      "cell_type": "code",
      "source": [
        "# Definition for a  binary tree node\n",
        "# class TreeNode:\n",
        "#    def __init__(self, x):\n",
        "#        self.val = x\n",
        "#        self.left = None\n",
        "#        self.right = None\n",
        "import sys\n",
        "sys.setrecursionlimit(10**7)\n",
        "def get_sum(node, sums):\n",
        "        if not node:\n",
        "            return 0\n",
        "        left_sum = get_sum(node.left, sums)\n",
        "        right_sum = get_sum(node.right, sums)\n",
        "\n",
        "        sum_val = node.val + left_sum + right_sum\n",
        "        sums.append(sum_val)\n",
        "\n",
        "        return sum_val\n",
        "class Solution:\n",
        "    # @param A : root node of tree\n",
        "    # @return an integer\n",
        "    def solve(self, A):\n",
        "        if not A:\n",
        "            return 0\n",
        "        sums = []\n",
        "        total_sum = get_sum(A, sums)\n",
        "        if total_sum % 2 != 0:\n",
        "            return 0\n",
        "        half_sum = total_sum // 2\n",
        "        for i in range(len(sums)):\n",
        "            if sums[i] == half_sum:\n",
        "                return 1\n",
        "        return 0"
      ],
      "metadata": {
        "id": "oGvF6vvYf7Ny"
      },
      "execution_count": null,
      "outputs": []
    },
    {
      "cell_type": "markdown",
      "source": [
        "Q.3. Q3. LCA in BST\n",
        "\n",
        "Given a Binary Search Tree A. Also given are two nodes B and C. Find the lowest common ancestor of the two nodes.\n",
        "\n",
        "Note 1 :- It is guaranteed that the nodes B and C exist.\n",
        "\n",
        "Note 2 :- The LCA of B and C in A is the shared ancestor of B and C that is located farthest from the root."
      ],
      "metadata": {
        "id": "1ZMwzNZzfl_e"
      }
    },
    {
      "cell_type": "code",
      "execution_count": null,
      "metadata": {
        "id": "0RbaoR6MfinE"
      },
      "outputs": [],
      "source": [
        "# Definition for a  binary tree node\n",
        "# class TreeNode:\n",
        "#    def __init__(self, x):\n",
        "#        self.val = x\n",
        "#        self.left = None\n",
        "#        self.right = None\n",
        "\n",
        "class Solution:\n",
        "    # @param A : root node of tree\n",
        "    # @param B : integer\n",
        "    # @param C : integer\n",
        "    # @return an integer\n",
        "    def solve(self, A, B, C):\n",
        "        if not A:\n",
        "            return -1\n",
        "\n",
        "        #if A.val == B or A.val == C:\n",
        "           # return A.val\n",
        "        #leftSubtreeLCA = self.solve(A.left, B, C)\n",
        "        #rightSubtreeLCA = self.solve(A.right, B, C)\n",
        "\n",
        "        #if leftSubtreeLCA != -1 and rightSubtreeLCA != -1:\n",
        "             #return A.val\n",
        "\n",
        "        #return leftSubtreeLCA if leftSubtreeLCA != -1 else rightSubtreeLCA\n",
        "        \n",
        "        \n",
        "        if A.val > B and A.val > C:\n",
        "           return self.solve(A.left, B, C)\n",
        "        elif A.val < B and A.val < C:\n",
        "           return self.solve(A.right, B, C)\n",
        "        else:\n",
        "            return A.val"
      ]
    },
    {
      "cell_type": "markdown",
      "source": [
        "Q4. Distance between Nodes of BST\n",
        "\n",
        "Given a binary search tree.\n",
        "Return the distance between two nodes with given two keys B and C. It may be assumed that both keys exist in BST.\n",
        "\n",
        "NOTE: Distance between two nodes is number of edges between them."
      ],
      "metadata": {
        "id": "QzbF6xiMglKz"
      }
    },
    {
      "cell_type": "code",
      "source": [
        "# Definition for a  binary tree node\n",
        "# class TreeNode:\n",
        "#    def __init__(self, x):\n",
        "#        self.val = x\n",
        "#        self.left = None\n",
        "#        self.right = None\n",
        "def findDistance(root, x):\n",
        "    if not root:\n",
        "        return 0\n",
        "    if (root.val == x):\n",
        "        return 0\n",
        "    elif (root.val > x):\n",
        "        return 1 + findDistance(root.left, x)\n",
        "    return 1 + findDistance(root.right, x)\n",
        "def lca( A, B, C):\n",
        "        if not A:\n",
        "            return None\n",
        "        if A.val == B or A.val == C:\n",
        "            return A\n",
        "        leftDistance =lca(A.left, B,C)\n",
        "        rightDistance = lca(A.right,B,C)\n",
        "        if leftDistance!=None and rightDistance!=None:\n",
        "            return A\n",
        "        if leftDistance != None:\n",
        "            return leftDistance\n",
        "        if rightDistance != None:\n",
        "            return rightDistance \n",
        "        return None \n",
        "\n",
        "class Solution:\n",
        "    # @param A : root node of tree\n",
        "    # @param B : integer\n",
        "    # @param C : integer\n",
        "    # @return an integer\n",
        "    def solve(self, A, B, C):\n",
        "        lc = lca(A, B, C)\n",
        "       \n",
        "\n",
        "        distanceFromLCAtoB = findDistance(lc, B)\n",
        "        distanceFromLCAtoC = findDistance(lc, C)\n",
        "        return distanceFromLCAtoB + distanceFromLCAtoC"
      ],
      "metadata": {
        "id": "HVNk5CbTgrHb"
      },
      "execution_count": null,
      "outputs": []
    }
  ]
}