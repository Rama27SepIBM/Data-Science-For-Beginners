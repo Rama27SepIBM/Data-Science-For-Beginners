{
  "nbformat": 4,
  "nbformat_minor": 0,
  "metadata": {
    "colab": {
      "provenance": [],
      "authorship_tag": "ABX9TyOw4Po18rxsQce31yLkLFB3",
      "include_colab_link": true
    },
    "kernelspec": {
      "name": "python3",
      "display_name": "Python 3"
    },
    "language_info": {
      "name": "python"
    }
  },
  "cells": [
    {
      "cell_type": "markdown",
      "metadata": {
        "id": "view-in-github",
        "colab_type": "text"
      },
      "source": [
        "<a href=\"https://colab.research.google.com/github/Rama27SepIBM/Data-Science-For-Beginners/blob/main/Day_5_Beginner_Data_Types.ipynb\" target=\"_parent\"><img src=\"https://colab.research.google.com/assets/colab-badge.svg\" alt=\"Open In Colab\"/></a>"
      ]
    },
    {
      "cell_type": "markdown",
      "source": [
        "Q1. Hello Name\n",
        "\n",
        "Given a name A as input. Print \"Hello A\", where A is the name in input.\n",
        "\n",
        "\n",
        "Problem Constraints\n",
        "\n",
        "1 <= len(A) <= 15\n",
        "Characters in A are in lowercase English Alphabets."
      ],
      "metadata": {
        "id": "x_BCSu4puRVk"
      }
    },
    {
      "cell_type": "code",
      "source": [
        "a= input()\n",
        "print(\"Hello\", a)"
      ],
      "metadata": {
        "id": "mkUZQNQVubkM"
      },
      "execution_count": null,
      "outputs": []
    },
    {
      "cell_type": "markdown",
      "source": [
        "Q2. Print A B C D E\n",
        "\n",
        "Print the first five letters of the English alphabet i.e. A, B, C, D and E.\n",
        "\n",
        "\n",
        "Output Format\n",
        "Print the characters in separate lines."
      ],
      "metadata": {
        "id": "TbgRjtYtueMw"
      }
    },
    {
      "cell_type": "code",
      "source": [
        "print(\"A\")\n",
        "print(\"B\")\n",
        "print(\"C\")\n",
        "print(\"D\")\n",
        "print(\"E\")"
      ],
      "metadata": {
        "id": "4KRrZiv7ukn8"
      },
      "execution_count": null,
      "outputs": []
    },
    {
      "cell_type": "markdown",
      "source": [
        "Q3. Concatenate Two Numbers\n",
        "\n",
        "Given two numbers A and B. Concatenate the two numbers and print it.\n",
        "\n",
        "\n",
        "Problem Constraints\n",
        "1 <= A, B <= 104\n",
        "\n",
        "\n",
        "Input Format\n",
        "There are two input lines\n",
        "The first line has a single integer A.\n",
        "The second line has a single integer B."
      ],
      "metadata": {
        "id": "FHcJcZzyunju"
      }
    },
    {
      "cell_type": "code",
      "source": [
        "a=input()\n",
        "b=input()\n",
        "print(a+b)"
      ],
      "metadata": {
        "id": "r7rfVo0WuwpG"
      },
      "execution_count": null,
      "outputs": []
    },
    {
      "cell_type": "markdown",
      "source": [
        "Q4. A says Hi to B\n",
        "\n",
        "Given two names A and B as input, print \"A says Hi to B\" (Without quotations), where A and B are the names in input.\n",
        "\n",
        "\n",
        "Problem Constraints\n",
        "\n",
        "1 <= len(A), len(B) <= 15\n",
        "Characters in A and B are in lowercase English Alphabets."
      ],
      "metadata": {
        "id": "mHYEJ3bguzAk"
      }
    },
    {
      "cell_type": "code",
      "source": [
        "a=input()\n",
        "b=input()\n",
        "print(a, \"says Hi to\", b)"
      ],
      "metadata": {
        "id": "0b8Vrly5u6HZ"
      },
      "execution_count": null,
      "outputs": []
    },
    {
      "cell_type": "markdown",
      "source": [
        "Q1. Remaining Bake Time\n",
        "\n",
        "You're going to write some code to help you cook a gorgeous lasagna from your favorite cookbook. According to your cookbook, the Lasagna should be in the oven for 40 minutes. Given the time (in minutes), the lasagna has been in the oven, find how many more minutes the lasagna still needs to bake for.\n",
        "\n",
        "\n",
        "Problem Constraints\n",
        "0 <= N <= 40\n",
        "The only first line contains the integer N, denoting the actual time (in minutes) the lasagna has been in the oven for.\n",
        "\n",
        "\n",
        "Output Format\n",
        "Print in a single line how many minutes the lasagna needs to bake."
      ],
      "metadata": {
        "id": "szK-M29Su85b"
      }
    },
    {
      "cell_type": "code",
      "source": [
        "a=int(40)\n",
        "b=int(input())\n",
        "result=a-b\n",
        "print(result)\n"
      ],
      "metadata": {
        "id": "OiQcgaGVvH5d"
      },
      "execution_count": null,
      "outputs": []
    },
    {
      "cell_type": "markdown",
      "source": [
        "Q2. Preparation Time\n",
        "\n",
        "You'll write some code to help you cook a gorgeous lasagna from your favorite cookbook. Now, you also want to add a few layers to the lasagna. Assume **each layer takes 2 minutes** to prepare. Given the number of layers you want to add to the lasagna, find how many minutes you would spend making them.\n",
        "\n",
        "\n",
        "Input Format\n",
        "The only first line contains the integer N denoting the number of layers."
      ],
      "metadata": {
        "id": "UVX3LzPTvLn1"
      }
    },
    {
      "cell_type": "code",
      "source": [
        "a=int(input())\n",
        "print(a*2)"
      ],
      "metadata": {
        "id": "IQhv_dqgvbZd"
      },
      "execution_count": null,
      "outputs": []
    },
    {
      "cell_type": "markdown",
      "source": [
        "Q3. Total Elapsed Cooking Time\n",
        "\n",
        "You wrote some code to help you cook a gorgeous lasagna from your favorite cookbook. Now, you want to find the total number of minutes you've been cooking for the sum of your preparation time and the time the lasagna has already spent baking in the oven. The preparation time of one layer is 2 minutes. Given the number of layers added to the lasagna and the number of minutes the lasagna has been baking in the oven, find the total elapsed cooking time (prep + bake) in minutes.\n",
        "Input Format\n",
        "There are 2 lines in the input.\n",
        "The first line contains the integer N denoting the number of layers.\n",
        "The second line contains the integer M denoting the time the lasagna has already spent baking in the oven."
      ],
      "metadata": {
        "id": "NXZmPxu4veQ9"
      }
    },
    {
      "cell_type": "code",
      "source": [
        "a=int(input())\n",
        "total_time=int(input())\n",
        "print(a*2+total_time)"
      ],
      "metadata": {
        "id": "umLg-BebvsSB"
      },
      "execution_count": null,
      "outputs": []
    },
    {
      "cell_type": "markdown",
      "source": [
        "Q4. Getting Started - 2\n",
        "\n",
        "Your friend Rahul plans to visit exotic countries all around the world. Sadly, Rahul's math skills aren't good enough. Given the amount of money Rahul has before the currency exchange and the amount of money that is spent from his savings, print the amount of money that remains in his savings.\n",
        "Input Format\n",
        "\n",
        "The first line contains an integer N denoting the total savings, the amount of money before exchange.\n",
        "The second line contains an integer M denoting the exchanging amount, denoting the amount of money that is spent from the savings."
      ],
      "metadata": {
        "id": "ugNglfixvu7A"
      }
    },
    {
      "cell_type": "code",
      "source": [
        "#Amt of money before exchange\n",
        "n = int(input())\n",
        "\n",
        "#AMt of money spent\n",
        "m = int(input())\n",
        "\n",
        "\n",
        "#money left\n",
        "ml = n - m\n",
        "\n",
        "print(ml)"
      ],
      "metadata": {
        "id": "TGB-Hi6cv4IX"
      },
      "execution_count": null,
      "outputs": []
    },
    {
      "cell_type": "markdown",
      "source": [
        "Q5. Total Bills Value\n",
        "\n",
        "Given the value of a single bill and the number of bills you received, print the total value of the bills.\n",
        "\n",
        "Note: The value of all the bills are same\n",
        "\n",
        "\n",
        "Problem Constraints\n",
        "1 <= N <= 100\n",
        "\n",
        "The first line of the input is an integer N denoting the value of a single bill.\n",
        "The second line of the input is an integer M denoting the number of bills."
      ],
      "metadata": {
        "id": "6mWiJbrzv7S7"
      }
    },
    {
      "cell_type": "code",
      "source": [
        "# a value single bill\n",
        "a=int(input())\n",
        "# no of bills received\n",
        "b=int(input())\n",
        "#total value of bills\n",
        "\n",
        "tl = a * b\n",
        "\n",
        "print (tl)"
      ],
      "metadata": {
        "id": "jwTEH1ZuwG36"
      },
      "execution_count": null,
      "outputs": []
    },
    {
      "cell_type": "markdown",
      "source": [
        "Q1. Remaining Bake Time\n",
        "\n",
        "You're going to write some code to help you cook a gorgeous lasagna from your favorite cookbook. According to your cookbook, the Lasagna should be in the oven for 40 minutes. Given the time (in minutes), the lasagna has been in the oven, find how many more minutes the lasagna still needs to bake for.\n",
        "\n",
        "Problem Constraints\n",
        "0 <= N <= 40\n",
        "\n",
        "Input Format\n",
        "The only first line contains the integer N, denoting the actual time (in minutes) the lasagna has been in the oven for."
      ],
      "metadata": {
        "id": "Gm1fAd4LwJbV"
      }
    },
    {
      "cell_type": "code",
      "source": [
        "a=int(40)\n",
        "b=int(input())\n",
        "result=a-b\n",
        "print(result)"
      ],
      "metadata": {
        "id": "zMLllsOVwVQl"
      },
      "execution_count": null,
      "outputs": []
    },
    {
      "cell_type": "markdown",
      "source": [
        "Q2. Preparation Time\n",
        "\n",
        "You'll write some code to help you cook a gorgeous lasagna from your favorite cookbook. Now, you also want to add a few layers to the lasagna. Assume **each layer takes 2 minutes** to prepare. Given the number of layers you want to add to the lasagna, find how many minutes you would spend making them.\n",
        "\n",
        "Input Format\n",
        "\n",
        "The only first line contains the integer N denoting the number of layers."
      ],
      "metadata": {
        "id": "tB5yzN3twYPG"
      }
    },
    {
      "cell_type": "code",
      "source": [
        "a=int(input())\n",
        "print(a*2)"
      ],
      "metadata": {
        "id": "c9hc2csfwiNR"
      },
      "execution_count": null,
      "outputs": []
    },
    {
      "cell_type": "markdown",
      "source": [
        "Q3. Total Elapsed Cooking Time\n",
        "\n",
        "You wrote some code to help you cook a gorgeous lasagna from your favorite cookbook. Now, you want to find the total number of minutes you've been cooking for the sum of your preparation time and the time the lasagna has already spent baking in the oven. The preparation time of one layer is 2 minutes. Given the number of layers added to the lasagna and the number of minutes the lasagna has been baking in the oven, find the total elapsed cooking time (prep + bake) in minutes.\n",
        "Problem Constraints\n",
        "1 <= N <= 20\n",
        "Input Format\n",
        "There are 2 lines in the input.\n",
        "The first line contains the integer N denoting the number of layers.\n",
        "The second line contains the integer M denoting the time the lasagna has already spent baking in the oven."
      ],
      "metadata": {
        "id": "pqkTW0zvwjYT"
      }
    },
    {
      "cell_type": "code",
      "source": [
        "a=int(input())\n",
        "total_time=int(input())\n",
        "print(a*2+total_time)"
      ],
      "metadata": {
        "id": "yNaNCy25wvpj"
      },
      "execution_count": null,
      "outputs": []
    },
    {
      "cell_type": "markdown",
      "source": [
        "Q4. Getting Started - 2\n",
        "\n",
        "Your friend Rahul plans to visit exotic countries all around the world. Sadly, Rahul's math skills aren't good enough. Given the amount of money Rahul has before the currency exchange and the amount of money that is spent from his savings, print the amount of money that remains in his savings.\n",
        "Input Format\n",
        "\n",
        "The first line contains an integer N denoting the total savings, the amount of money before exchange.\n",
        "The second line contains an integer M denoting the exchanging amount, denoting the amount of money that is spent from the savings."
      ],
      "metadata": {
        "id": "UT65UPeawymt"
      }
    },
    {
      "cell_type": "code",
      "source": [
        "#Amt of money before exchange\n",
        "n = int(input())\n",
        "\n",
        "#AMt of money spent\n",
        "m = int(input())\n",
        "\n",
        "\n",
        "#money left\n",
        "ml = n - m\n",
        "\n",
        "print(ml)"
      ],
      "metadata": {
        "id": "UDj9SNRrw6Qf"
      },
      "execution_count": null,
      "outputs": []
    },
    {
      "cell_type": "markdown",
      "source": [
        "Q5. Total Bills Value\n",
        "\n",
        "Given the value of a single bill and the number of bills you received, print the total value of the bills.\n",
        "\n",
        "Note: The value of all the bills are same\n",
        "\n",
        "\n",
        "Problem Constraints\n",
        "1 <= N <= 100\n",
        "\n",
        "The first line of the input is an integer N denoting the value of a single bill.\n",
        "The second line of the input is an integer M denoting the number of bills."
      ],
      "metadata": {
        "id": "Gofz9yAiw9Cv"
      }
    },
    {
      "cell_type": "code",
      "source": [
        "# a value single bill\n",
        "a=int(input())\n",
        "# no of bills received\n",
        "b=int(input())\n",
        "#total value of bills\n",
        "\n",
        "tl = a * b\n",
        "\n",
        "print (tl)"
      ],
      "metadata": {
        "id": "8ZOyjD7TxFfU"
      },
      "execution_count": null,
      "outputs": []
    },
    {
      "cell_type": "markdown",
      "source": [
        "Q1. Remaining Bake Time\n",
        "\n",
        "You're going to write some code to help you cook a gorgeous lasagna from your favorite cookbook. According to your cookbook, the Lasagna should be in the oven for 40 minutes. Given the time (in minutes), the lasagna has been in the oven, find how many more minutes the lasagna still needs to bake for.\n",
        "\n",
        "\n",
        "Problem Constraints\n",
        "0 <= N <= 40\n",
        "\n",
        "Input Format\n",
        "The only first line contains the integer N, denoting the actual time (in minutes) the lasagna has been in the oven for."
      ],
      "metadata": {
        "id": "KKnl7chBxH6M"
      }
    },
    {
      "cell_type": "code",
      "source": [
        "a=int(40)\n",
        "b=int(input())\n",
        "result=a-b\n",
        "print(result)"
      ],
      "metadata": {
        "id": "uFf02y5fxSZL"
      },
      "execution_count": null,
      "outputs": []
    },
    {
      "cell_type": "markdown",
      "source": [
        "Q2. Preparation Time\n",
        "\n",
        "You'll write some code to help you cook a gorgeous lasagna from your favorite cookbook. Now, you also want to add a few layers to the lasagna. Assume **each layer takes 2 minutes** to prepare. Given the number of layers you want to add to the lasagna, find how many minutes you would spend making them.\n",
        "\n",
        "\n",
        "Input Format\n",
        "The only first line contains the integer N denoting the number of layers.\n"
      ],
      "metadata": {
        "id": "fzUx9O6AxU5J"
      }
    },
    {
      "cell_type": "code",
      "source": [
        "a=int(input())\n",
        "print(a*2)"
      ],
      "metadata": {
        "id": "Ntrt5nlcxeKn"
      },
      "execution_count": null,
      "outputs": []
    },
    {
      "cell_type": "markdown",
      "source": [
        "Q3. Total Elapsed Cooking Time\n",
        "\n",
        "You wrote some code to help you cook a gorgeous lasagna from your favorite cookbook. Now, you want to find the total number of minutes you've been cooking for the sum of your preparation time and the time the lasagna has already spent baking in the oven. The preparation time of one layer is 2 minutes. Given the number of layers added to the lasagna and the number of minutes the lasagna has been baking in the oven, find the total elapsed cooking time (prep + bake) in minutes.\n",
        "\n",
        "Problem Constraints\n",
        "1 <= N <= 20\n",
        "Input Format\n",
        "There are 2 lines in the input.\n",
        "The first line contains the integer N denoting the number of layers.\n",
        "The second line contains the integer M denoting the time the lasagna has already spent baking in the oven."
      ],
      "metadata": {
        "id": "sqHxRsRLxfBI"
      }
    },
    {
      "cell_type": "code",
      "source": [
        "a=int(input())\n",
        "total_time=int(input())\n",
        "print(a*2+total_time)"
      ],
      "metadata": {
        "id": "skh3_5uQxts3"
      },
      "execution_count": null,
      "outputs": []
    },
    {
      "cell_type": "markdown",
      "source": [
        "Q4. Getting Started - 2\n",
        "\n",
        "\n",
        "Your friend Rahul plans to visit exotic countries all around the world. Sadly, Rahul's math skills aren't good enough. Given the amount of money Rahul has before the currency exchange and the amount of money that is spent from his savings, print the amount of money that remains in his savings.\n",
        "Input Format\n",
        "\n",
        "The first line contains an integer N denoting the total savings, the amount of money before exchange.\n",
        "The second line contains an integer M denoting the exchanging amount, denoting the amount of money that is spent from the savings."
      ],
      "metadata": {
        "id": "Ylkdz1bvxwsZ"
      }
    },
    {
      "cell_type": "code",
      "source": [
        "#Amt of money before exchange\n",
        "n = int(input())\n",
        "\n",
        "#AMt of money spent\n",
        "m = int(input())\n",
        "\n",
        "\n",
        "#money left\n",
        "ml = n - m\n",
        "\n",
        "print(ml)"
      ],
      "metadata": {
        "id": "r0Kd1TT4x5DI"
      },
      "execution_count": null,
      "outputs": []
    },
    {
      "cell_type": "markdown",
      "source": [
        "Q5. Total Bills Value\n",
        "\n",
        "Given the value of a single bill and the number of bills you received, print the total value of the bills.\n",
        "\n",
        "Note: The value of all the bills are same\n",
        "\n",
        "\n",
        "Problem Constraints\n",
        "1 <= N <= 100\n",
        "Input Format\n",
        "The first line of the input is an integer N denoting the value of a single bill.\n",
        "The second line of the input is an integer M denoting the number of bills."
      ],
      "metadata": {
        "id": "Y8_2zqcux7sw"
      }
    },
    {
      "cell_type": "code",
      "source": [
        "# a value single bill\n",
        "a=int(input())\n",
        "# no of bills received\n",
        "b=int(input())\n",
        "#total value of bills\n",
        "\n",
        "tl = a * b\n",
        "\n",
        "print (tl)"
      ],
      "metadata": {
        "id": "CzV3TgK9yEPd"
      },
      "execution_count": null,
      "outputs": []
    },
    {
      "cell_type": "markdown",
      "source": [],
      "metadata": {
        "id": "hzj4-NnhyG5b"
      }
    },
    {
      "cell_type": "code",
      "execution_count": null,
      "metadata": {
        "id": "Bel7rLFFuL0m"
      },
      "outputs": [],
      "source": []
    }
  ]
}