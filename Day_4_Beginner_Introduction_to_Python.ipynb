{
  "nbformat": 4,
  "nbformat_minor": 0,
  "metadata": {
    "colab": {
      "provenance": [],
      "authorship_tag": "ABX9TyN5HTR2M6CfK87BLMVIN2Y9",
      "include_colab_link": true
    },
    "kernelspec": {
      "name": "python3",
      "display_name": "Python 3"
    },
    "language_info": {
      "name": "python"
    }
  },
  "cells": [
    {
      "cell_type": "markdown",
      "metadata": {
        "id": "view-in-github",
        "colab_type": "text"
      },
      "source": [
        "<a href=\"https://colab.research.google.com/github/Rama27SepIBM/Data-Science-For-Beginners/blob/main/Day_4_Beginner_Introduction_to_Python.ipynb\" target=\"_parent\"><img src=\"https://colab.research.google.com/assets/colab-badge.svg\" alt=\"Open In Colab\"/></a>"
      ]
    },
    {
      "cell_type": "markdown",
      "source": [
        "Q1. Hello World ! - 2\n",
        "\n",
        "\n",
        "Problem Description\n",
        "Print the text\n",
        "\n",
        "Hello\n",
        "World !"
      ],
      "metadata": {
        "id": "A_rQCclOyXEA"
      }
    },
    {
      "cell_type": "code",
      "source": [
        "def main():\n",
        "    # YOUR CODE GOES HERE\n",
        "    # Please take input and print output to standard input/output (stdin/stdout)\n",
        "    # E.g. 'input()/raw_input()' for input & 'print' for output\n",
        "\n",
        "    return 0\n",
        "\n",
        "if __name__ == '__main__':\n",
        "    main()"
      ],
      "metadata": {
        "id": "y1Rmy0pSylf8"
      },
      "execution_count": null,
      "outputs": []
    },
    {
      "cell_type": "markdown",
      "source": [
        "Q2. Getting Started - 1\n",
        "\n",
        "Problem Description\n",
        "Print the following text in the output:\n",
        "\n",
        "Hello\n",
        "\n",
        "World !\n",
        "Note: There is a empty line you need print between Hello and World !"
      ],
      "metadata": {
        "id": "BTsLmkB-yoa4"
      }
    },
    {
      "cell_type": "code",
      "source": [
        "print(\"Hello\")\n",
        "print(\"\")\n",
        "print(\"World !\")"
      ],
      "metadata": {
        "id": "q8aQPsZ5yvNz"
      },
      "execution_count": null,
      "outputs": []
    },
    {
      "cell_type": "markdown",
      "source": [
        "Q3. Hello World ! - 4\n",
        "Problem Description\n",
        "Print the following text:\n",
        "\n",
        "Hello 40\n",
        "50 World !"
      ],
      "metadata": {
        "id": "9RfLZmGCyxpr"
      }
    },
    {
      "cell_type": "code",
      "source": [
        "print(\"Hello 40\")\n",
        "print(\"50 World !\")"
      ],
      "metadata": {
        "id": "oe4KsrT7y40I"
      },
      "execution_count": null,
      "outputs": []
    },
    {
      "cell_type": "markdown",
      "source": [
        "Q4. Hello World !\n",
        "\n",
        "Print \"Hello World !\" in the output.\n",
        "\n",
        "Output Format\n",
        "Print in a single line \"Hello World !\""
      ],
      "metadata": {
        "id": "PBmGOH36y7Jw"
      }
    },
    {
      "cell_type": "code",
      "source": [
        "print(\"Hello World !\")"
      ],
      "metadata": {
        "id": "5EDgqFI6zCwh"
      },
      "execution_count": null,
      "outputs": []
    },
    {
      "cell_type": "markdown",
      "source": [
        "Q1. Odd numbers\n",
        "\n",
        "Problem Description\n",
        "Print first 5 odd numbers i.e. 1, 3, 5, 7, 9.\n",
        "\n",
        "Output Format\n",
        "Print first five odd numbers separated by space."
      ],
      "metadata": {
        "id": "9B3xNVmxzFru"
      }
    },
    {
      "cell_type": "code",
      "source": [
        "print(1,3,5,7,9)"
      ],
      "metadata": {
        "id": "d28ojmiGzM0R"
      },
      "execution_count": null,
      "outputs": []
    },
    {
      "cell_type": "markdown",
      "source": [
        "Q2. Simple Maths\n",
        "\n",
        "Problem Description\n",
        "Perform the following operations on 6 and 3 and print their respective outputs in different lines.\n",
        "1. Addition\n",
        "2. Subtraction\n",
        "3. Multiplication\n",
        "4. Division"
      ],
      "metadata": {
        "id": "qzaqFMiczPDb"
      }
    },
    {
      "cell_type": "code",
      "source": [
        "print(6+3)\n",
        "print(6-3)\n",
        "print(6*3)\n",
        "print(6//3)"
      ],
      "metadata": {
        "id": "UHlyjF5nzX_N"
      },
      "execution_count": null,
      "outputs": []
    },
    {
      "cell_type": "markdown",
      "source": [
        "Q3. Even Numbers\n",
        "\n",
        "Print first 5 even numbers i.e. 0, 2, 4, 6, 8.\n",
        "\n",
        "Output Format\n",
        "Print first five even numbers separated by space."
      ],
      "metadata": {
        "id": "qrZFNlXlzYvP"
      }
    },
    {
      "cell_type": "code",
      "source": [
        "print(0,2,4,6,8)"
      ],
      "metadata": {
        "id": "8u2CmwXCzfvt"
      },
      "execution_count": null,
      "outputs": []
    },
    {
      "cell_type": "markdown",
      "source": [],
      "metadata": {
        "id": "FRZmIgrwzi4w"
      }
    },
    {
      "cell_type": "code",
      "execution_count": null,
      "metadata": {
        "id": "V03dlX2tyQx1"
      },
      "outputs": [],
      "source": []
    }
  ]
}